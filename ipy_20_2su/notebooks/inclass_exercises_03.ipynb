{
 "cells": [
  {
   "cell_type": "markdown",
   "metadata": {},
   "source": [
    "# In-Class Exercises, Session 3"
   ]
  },
  {
   "cell_type": "markdown",
   "metadata": {},
   "source": [
    "PLEASE REFER to pythonreference.com for syntax to follow in coding these Exercises"
   ]
  },
  {
   "cell_type": "markdown",
   "metadata": {},
   "source": [
    " "
   ]
  },
  {
   "cell_type": "markdown",
   "metadata": {},
   "source": [
    "NOTE THAT the data files read from these exercises is located in the \"parent\" directory.  Thus any filename in these exercises should be preceded with <B>../</B>.  (If you create a script in the same directory as the data file, this would not be necessary.)"
   ]
  },
  {
   "cell_type": "markdown",
   "metadata": {},
   "source": [
    " "
   ]
  },
  {
   "cell_type": "markdown",
   "metadata": {},
   "source": [
    "LISTS"
   ]
  },
  {
   "cell_type": "markdown",
   "metadata": {},
   "source": [
    "<B>3.1:  <B><U>List operations</U>.</B>  Perform the noted operations on list 'x'"
   ]
  },
  {
   "cell_type": "code",
   "execution_count": null,
   "metadata": {},
   "outputs": [],
   "source": [
    "x = ['hello', 'there', 'Python', 'friends']\n",
    "\n",
    "\n",
    "# print the type of the list (use type())\n",
    "\n",
    "\n",
    "\n",
    "# access and print the first item of the list (use list subscript)\n",
    "\n",
    "\n",
    "\n",
    "# access and print the last item of the list (use negative subscript)\n",
    "\n",
    "\n",
    "\n",
    "# show the length of the list (use len())\n",
    "\n",
    "\n",
    "print()\n",
    "\n",
    "# loop through and print each individual item in the list (use 'for')\n",
    "\n",
    "\n"
   ]
  },
  {
   "cell_type": "markdown",
   "metadata": {},
   "source": [
    " "
   ]
  },
  {
   "cell_type": "markdown",
   "metadata": {},
   "source": [
    "FILES"
   ]
  },
  {
   "cell_type": "markdown",
   "metadata": {},
   "source": [
    "<B>3.2:  <B><U>File operations</U>.</B>  Perform the below operations:"
   ]
  },
  {
   "cell_type": "code",
   "execution_count": null,
   "metadata": {},
   "outputs": [],
   "source": [
    "filename = '../pyku.txt'\n",
    "\n",
    "\n",
    "\n",
    "# open file 'pyku.txt' and assign to variable 'fh' (use open())\n",
    "\n",
    "\n",
    "\n",
    "# print the type of variable 'fh'\n",
    "\n",
    "\n",
    "print()\n",
    "\n",
    "# iterate over the variable 'fh' with 'for' and print each line in the file\n",
    "\n"
   ]
  },
  {
   "cell_type": "markdown",
   "metadata": {},
   "source": [
    " "
   ]
  },
  {
   "cell_type": "markdown",
   "metadata": {},
   "source": [
    "STRINGS"
   ]
  },
  {
   "cell_type": "markdown",
   "metadata": {},
   "source": [
    "<B>3.3:  <B><U>String operations</U>.</B>  Perform the noted operations on strings 'sentence' and 'csv\\_line':"
   ]
  },
  {
   "cell_type": "code",
   "execution_count": null,
   "metadata": {},
   "outputs": [],
   "source": [
    "sentence = 'Hello  there   treasured  Python friends'\n",
    "csv_line = 'California,31,39.51,3200'\n",
    "\n",
    "\n",
    "# use len() to determine the length of 'sentence'\n",
    "\n",
    "\n",
    "\n",
    "# split 'sentence' into a list of 5 words\n",
    "\n",
    "\n",
    "\n",
    "# split 'csv_line' into a list of 4 fields\n",
    "\n",
    "\n",
    "\n",
    "# slice first 5 characters of 'csv_line'\n",
    "\n",
    "\n"
   ]
  },
  {
   "cell_type": "markdown",
   "metadata": {},
   "source": [
    " "
   ]
  },
  {
   "cell_type": "markdown",
   "metadata": {},
   "source": [
    "SUMMARY ALGORITHM; BUILDING FROM FILE"
   ]
  },
  {
   "cell_type": "markdown",
   "metadata": {},
   "source": [
    "<B>3.4:  <B><U>List iteration and summary</U>.</B>  Use 'for' to loop through list 'xval' and count the number of iterations, then extend it to also sum up the values."
   ]
  },
  {
   "cell_type": "code",
   "execution_count": null,
   "metadata": {},
   "outputs": [],
   "source": [
    "val = [3.9, 0.3, 2.1, 0.03]\n",
    "\n"
   ]
  },
  {
   "cell_type": "markdown",
   "metadata": {},
   "source": [
    " "
   ]
  },
  {
   "cell_type": "markdown",
   "metadata": {},
   "source": [
    "<B>3.5:  <B><U>File line counting using a loop</U>.</B>  Use 'for' to loop through file 'revenue.txt' and count the number of iterations, then perform the operations noted below."
   ]
  },
  {
   "cell_type": "code",
   "execution_count": null,
   "metadata": {},
   "outputs": [],
   "source": [
    "filename = '../revenue.txt'\n",
    "fh = open(filename)\n",
    "\n",
    "\n",
    "\n",
    "# loop through file line-by-liine\n",
    "\n",
    "    # count each iteration\n",
    "\n",
    "    # split each line on a comma\n",
    "\n",
    "    # subscript float value from split list\n",
    "\n",
    "    # convert float value (a string) to float\n",
    "\n",
    "    # sum up float values\n"
   ]
  },
  {
   "cell_type": "markdown",
   "metadata": {},
   "source": [
    " "
   ]
  }
 ],
 "metadata": {},
 "nbformat": 4,
 "nbformat_minor": 4
}
