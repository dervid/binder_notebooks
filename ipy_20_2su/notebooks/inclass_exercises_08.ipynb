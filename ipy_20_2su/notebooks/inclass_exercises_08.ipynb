{
 "cells": [
  {
   "cell_type": "markdown",
   "metadata": {},
   "source": [
    "# In-Class Exercises, Session 8"
   ]
  },
  {
   "cell_type": "markdown",
   "metadata": {},
   "source": [
    "PLEASE REFER to pythonreference.com for syntax to follow in coding these Exercises"
   ]
  },
  {
   "cell_type": "markdown",
   "metadata": {},
   "source": [
    " "
   ]
  },
  {
   "cell_type": "markdown",
   "metadata": {},
   "source": [
    "REVIEW:  FUNCTION ARGUMENTS AND RETURN VALUES"
   ]
  },
  {
   "cell_type": "markdown",
   "metadata": {},
   "source": [
    "<B>8.1:  <B><U>Write a function that takes two arguments and returns one value</U>.</B>  Define function 'add\\_and\\_print' that takes two arguments for int values, adds them together and returns the sum.  <U>Note</U>:  you must not use 'a', 'b', 'x' or 'y' inside the function  "
   ]
  },
  {
   "cell_type": "code",
   "execution_count": null,
   "metadata": {},
   "outputs": [],
   "source": [
    "# your function definition here\n",
    "\n",
    "a = 5\n",
    "b = 10\n",
    "val1 = add_and_print(a, b)\n",
    "print(val1)                     # 15\n",
    "\n",
    "x = 10\n",
    "y = 100\n",
    "val2 = add_and_print(x, y)\n",
    "print(val2)                     # 110"
   ]
  },
  {
   "cell_type": "markdown",
   "metadata": {},
   "source": [
    " "
   ]
  },
  {
   "cell_type": "markdown",
   "metadata": {},
   "source": [
    "<B>8.2:  <B><U>Write a function with one argument and one return value</U>.</B>    Define function 'get\\_half' that takes one argument, divides the value by two, and returns the halved value.  <U>Note</U>:  you must not use 'a' or 'b' inside the function, and you must not print inside the function -- value must be returned.  "
   ]
  },
  {
   "cell_type": "code",
   "execution_count": null,
   "metadata": {},
   "outputs": [],
   "source": [
    "# your function code here\n",
    "\n",
    "a = 5\n",
    "x = get_half(a)\n",
    "print(x)           # 2.5\n",
    "\n",
    "b = 100\n",
    "y = get_half(b)\n",
    "print(y)           # 50"
   ]
  },
  {
   "cell_type": "markdown",
   "metadata": {},
   "source": [
    " "
   ]
  },
  {
   "cell_type": "markdown",
   "metadata": {},
   "source": [
    "<B>8.3:  <B><U>Write a function with one argument and two return values</U>.</B>  Define function 'double\\_and\\_halve' that takes one numeric argument, and returns the value doubled as well as halved.  <U>Note</U>:  you must not use 'a' or 'b' inside the function, and you must not print inside the function - values must be returned"
   ]
  },
  {
   "cell_type": "code",
   "execution_count": null,
   "metadata": {},
   "outputs": [],
   "source": [
    "# your function def here\n",
    "\n",
    "a = 50\n",
    "\n",
    "d, h = double_and_halve(a)\n",
    "\n",
    "print(d)                # 100\n",
    "print(h)                # 25"
   ]
  },
  {
   "cell_type": "markdown",
   "metadata": {},
   "source": [
    " "
   ]
  },
  {
   "cell_type": "markdown",
   "metadata": {},
   "source": [
    "<B>8.4:  <B><U>Write a function with two arguments and one return value</U>.</B>  Define function 'get\\_sum' that takes two numeric arguments and returns the values summed.  <U>Note</U>:  you must not use 'x' or 'y' inside the function, and you must not print inside the function - value must be returned."
   ]
  },
  {
   "cell_type": "code",
   "execution_count": null,
   "metadata": {},
   "outputs": [],
   "source": [
    "# your function def here\n",
    "\n",
    "x = 50\n",
    "y = 25\n",
    "\n",
    "z = get_sum(x, y)\n",
    "print(z)           # 75"
   ]
  },
  {
   "cell_type": "markdown",
   "metadata": {},
   "source": [
    " "
   ]
  },
  {
   "cell_type": "markdown",
   "metadata": {},
   "source": [
    "FILE INSPECTIONS"
   ]
  },
  {
   "cell_type": "markdown",
   "metadata": {},
   "source": [
    "<B>8.5:  <B><U>List a directory</U>.</B>  Loop through the <B>challenge\\_exercises/</B> directory list, printing each item.  Use <B>os.listdir()</B>.  "
   ]
  },
  {
   "cell_type": "code",
   "execution_count": null,
   "metadata": {},
   "outputs": [],
   "source": [
    "this_dir = '../challenge_exercises'\n"
   ]
  },
  {
   "cell_type": "markdown",
   "metadata": {},
   "source": [
    " "
   ]
  },
  {
   "cell_type": "markdown",
   "metadata": {},
   "source": [
    "<B>8.6:  <B><U>Build a filepath</U>.</B>  Given the below directory name and filename, build a complete filepath.  Use <B>os.path.join()</B>"
   ]
  },
  {
   "cell_type": "code",
   "execution_count": null,
   "metadata": {},
   "outputs": [],
   "source": [
    "dirname = '../challenge_exercises/'\n",
    "\n",
    "filename = 'challenge_1.1.py'\n"
   ]
  },
  {
   "cell_type": "markdown",
   "metadata": {},
   "source": [
    "Note that on Windows computers, <B>os.path.join()</B> will insert a backslash instead of a forward slash.  This completed path is still valid."
   ]
  },
  {
   "cell_type": "markdown",
   "metadata": {},
   "source": [
    " "
   ]
  },
  {
   "cell_type": "markdown",
   "metadata": {},
   "source": [
    "<B>8.7:  <B><U>Check to see if an entry is a file</U>.</B>  Given the below filename, confirm that the entry is a file.  Use <B>os.path.isfile()</B>.  "
   ]
  },
  {
   "cell_type": "code",
   "execution_count": null,
   "metadata": {},
   "outputs": [],
   "source": [
    "fname = '../pyku.txt'\n"
   ]
  },
  {
   "cell_type": "markdown",
   "metadata": {},
   "source": [
    " "
   ]
  },
  {
   "cell_type": "markdown",
   "metadata": {},
   "source": [
    "<B>8.8:  <B><U>Check to see if an entry is a directory</U>.</B>  Given the below directory name, confirm the entry is a directory.  Use <B>os.path.isdir()</B>.  "
   ]
  },
  {
   "cell_type": "code",
   "execution_count": null,
   "metadata": {},
   "outputs": [],
   "source": [
    "dirname = '../shakespeare'\n"
   ]
  },
  {
   "cell_type": "markdown",
   "metadata": {},
   "source": [
    " "
   ]
  },
  {
   "cell_type": "markdown",
   "metadata": {},
   "source": [
    "<B>8.9:  <B><U>Get the size of a file</U>.</B>  Given the below filepath, check the size of the file.  Use <B>os.path.getsize()</B>.  "
   ]
  },
  {
   "cell_type": "code",
   "execution_count": null,
   "metadata": {},
   "outputs": [],
   "source": [
    "fname = '../pyku.txt'\n"
   ]
  },
  {
   "cell_type": "markdown",
   "metadata": {},
   "source": [
    " "
   ]
  },
  {
   "cell_type": "markdown",
   "metadata": {},
   "source": [
    "<B>8.10:  <B>(command line only) <U>Read from sys.argv</U>.</B>  Running the below code from the command line, print the value of <B>sys.argv</B>.  Then, run the code again with the following 3 \"words\" on the same line when executing the script:  <B>greetings</B> <B>filesystem</B> <B>arguments</B>.  "
   ]
  },
  {
   "cell_type": "code",
   "execution_count": null,
   "metadata": {},
   "outputs": [],
   "source": [
    "import sys\n",
    "\n"
   ]
  },
  {
   "cell_type": "markdown",
   "metadata": {},
   "source": [
    " "
   ]
  },
  {
   "cell_type": "markdown",
   "metadata": {},
   "source": [
    "WRITING TO FILES"
   ]
  },
  {
   "cell_type": "markdown",
   "metadata": {},
   "source": [
    "<B>8.11:  <B><U>Write to a file</U>.</B>  Open a file for writing (using a new filename) and write some text to it.  After running the program/cell, open the file and look at it to see it has been written to (make sure to call <B>.close()</B> on the file or you may not see the written text.)"
   ]
  },
  {
   "cell_type": "code",
   "execution_count": null,
   "metadata": {},
   "outputs": [],
   "source": []
  },
  {
   "cell_type": "markdown",
   "metadata": {},
   "source": [
    " "
   ]
  },
  {
   "cell_type": "markdown",
   "metadata": {},
   "source": [
    "<B>8.12:  <B><U>Write lines to a file, including newlines</U>.</B>  Open a file for writing (using a new filename) and write 3 lines to it (they can be as simple as 'line1', 'line2' and 'line3'.  Add the newline character to each line.  After running the program/cell, open the file and look at it to see it has been written to (make sure to call <B>.close()</B> on the file or you may not see the written text.)"
   ]
  },
  {
   "cell_type": "code",
   "execution_count": null,
   "metadata": {},
   "outputs": [],
   "source": []
  },
  {
   "cell_type": "markdown",
   "metadata": {},
   "source": [
    " "
   ]
  },
  {
   "cell_type": "markdown",
   "metadata": {},
   "source": [
    "<B>8.13:  <B><U>Append to an existing file</U>.</B>   Open the file you created previously for appending and write one or more additional lines to it.  Again, add the newline character to each line.  After running the program/cell, open the file and look at it to see it has been written to (make sure to call <B>.close()</B> on the file or you may not see the written text.)"
   ]
  },
  {
   "cell_type": "code",
   "execution_count": null,
   "metadata": {},
   "outputs": [],
   "source": []
  },
  {
   "cell_type": "markdown",
   "metadata": {},
   "source": [
    " "
   ]
  },
  {
   "cell_type": "markdown",
   "metadata": {},
   "source": [
    "TRAPPING EXCEPTIONS:  TRY/EXCEPT"
   ]
  },
  {
   "cell_type": "markdown",
   "metadata": {},
   "source": [
    "<B>8.14:  <B><U>Trap a \"bad index\" error</U>.</B>   The below code takes user input and converts to int, then attempts to read the list item at that index value.  A correct index (0-4) should allow you to print the value at that index.  An incorrect index (5+) should raise an exception.  Once you have observed this, use a 'try/except' statement to trap the exception and instead print 'no value at that index'.  Make sure to put your 'try' block around just one line of code."
   ]
  },
  {
   "cell_type": "code",
   "execution_count": null,
   "metadata": {},
   "outputs": [],
   "source": [
    "x = ['a', 'b', 'c', 'd']\n",
    "\n",
    "uidx = int(input('please enter an index:  '))\n",
    "\n",
    "print(x[uidx])\n"
   ]
  },
  {
   "cell_type": "markdown",
   "metadata": {},
   "source": [
    " "
   ]
  },
  {
   "cell_type": "markdown",
   "metadata": {},
   "source": [
    "<B>8.15:  <B><U>Trap a \"missing file\" error</U>.</B>   The below code attempts to open a file specified by the user's input.  An existing filename should allow the program to show the length of the file in bytes.  A non-existent filename should raise an exception.  Once you have observed this, use a 'try/except' statement to trap the exception and instead print 'file does not exist'.  Make sure to put your 'try' block around just one line.  "
   ]
  },
  {
   "cell_type": "code",
   "execution_count": null,
   "metadata": {},
   "outputs": [],
   "source": [
    "# existing filename:  ../pyku.txt\n",
    "\n",
    "import os\n",
    "\n",
    "uifn = input(\"please enter a filename and I'll tell you the file's size in bytes: \")\n",
    "\n",
    "uifpath = os.path.join('..', uifn)\n",
    "\n",
    "print(f\"this file's length is {os.path.getsize(uifpath)}\")\n"
   ]
  },
  {
   "cell_type": "markdown",
   "metadata": {},
   "source": [
    " "
   ]
  },
  {
   "cell_type": "markdown",
   "metadata": {},
   "source": [
    "<B>8.16:  <B><U>Trap a \"bad directory\" error</U>.</B>   The below code attempts to list a directory specified by the user's input.  An existing directory should allow the program to loop through the items in that directory.  A non-existent diredtory should raise an exception.  Once you have observed this, use a 'try/except' statement to trap the exception and instead print 'directory not found'.  Make sure to put your 'try' block around just one line.  "
   ]
  },
  {
   "cell_type": "code",
   "execution_count": null,
   "metadata": {},
   "outputs": [],
   "source": [
    "# existing directory name:  ../shakespeare\n",
    "\n",
    "import os\n",
    "\n",
    "uidn = input(\"please enter a directory name and I'll list its contents: \")\n",
    "\n",
    "uidpath = os.path.join('..', uidn)\n",
    "\n",
    "items = os.listdir(uidpath)\n",
    "\n",
    "for item in items:\n",
    "    print(item)\n"
   ]
  },
  {
   "cell_type": "markdown",
   "metadata": {},
   "source": [
    " "
   ]
  },
  {
   "cell_type": "markdown",
   "metadata": {},
   "source": [
    "<B>8.17:  <B>Command line only:  <U>Identify error type and trap exception for missing command line argument</U>.</B>  Suppose that the user has provided arguments at the command line resulting in <B>sys.argv</B> having the list values as shown.  "
   ]
  },
  {
   "cell_type": "markdown",
   "metadata": {},
   "source": [
    "The program currently reads and prints the 1st command line argument ('5').  Now remove the '5' from the list (simulating what would happen if the user didn't type anything at the command line) and see what exception results.  Then use a <B>try/except</B> to trap the error if it occurs.\n"
   ]
  },
  {
   "cell_type": "code",
   "execution_count": null,
   "metadata": {},
   "outputs": [],
   "source": [
    "import sys\n",
    "\n",
    "arg = sys.argv[1]\n",
    "\n",
    "print('argument is {arg}')"
   ]
  },
  {
   "cell_type": "markdown",
   "metadata": {},
   "source": [
    " "
   ]
  }
 ],
 "metadata": {},
 "nbformat": 4,
 "nbformat_minor": 4
}
