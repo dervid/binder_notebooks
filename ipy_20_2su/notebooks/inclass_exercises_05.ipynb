{
 "cells": [
  {
   "cell_type": "markdown",
   "metadata": {},
   "source": [
    "# In-Class Exercises, Session 5"
   ]
  },
  {
   "cell_type": "markdown",
   "metadata": {},
   "source": [
    "PLEASE REFER to pythonreference.com for syntax to follow in coding these Exercises"
   ]
  },
  {
   "cell_type": "markdown",
   "metadata": {},
   "source": [
    " "
   ]
  },
  {
   "cell_type": "markdown",
   "metadata": {},
   "source": [
    "DICTIONARIES:  INITIALIZING, ADDING/READING PAIRS, CHECKING FOR MEMBERSHIP"
   ]
  },
  {
   "cell_type": "markdown",
   "metadata": {},
   "source": [
    "<B>5.1:  <B><U>Initialize a dict and perform basic operations</U></B>.  The dict should have string keys and numeric (<i>float</i> or <i>int</i>) values - you can choose whatever values you please.  "
   ]
  },
  {
   "cell_type": "code",
   "execution_count": null,
   "metadata": {},
   "outputs": [],
   "source": [
    "# initialize the dict\n",
    "\n",
    "\n",
    "\n",
    "# add a key/value pair (use dict subscript with key and value)\n",
    "\n",
    "\n",
    "\n",
    "# add a duplicate key with a new value\n",
    "\n",
    "\n",
    "\n",
    "# print the dict and print its type\n",
    "\n",
    "\n",
    "\n",
    "# access a single value in the dict (use dict subscript with key)\n",
    "\n",
    "\n",
    "\n"
   ]
  },
  {
   "cell_type": "markdown",
   "metadata": {},
   "source": [
    " "
   ]
  },
  {
   "cell_type": "markdown",
   "metadata": {},
   "source": [
    "DICTIONARIES:  LOOPING THROUGH"
   ]
  },
  {
   "cell_type": "markdown",
   "metadata": {},
   "source": [
    "<B>5.2:  <B><U>Loop through dict keys, then modify the loop to print keys as well as values</U>.</B>"
   ]
  },
  {
   "cell_type": "code",
   "execution_count": null,
   "metadata": {},
   "outputs": [],
   "source": [
    "pdist = { 'Mercury': 57.9,\n",
    "          'Venus': 108.2,\n",
    "          'Earth': 149.6,\n",
    "          'Mars': 227.9}\n",
    "\n",
    "\n",
    "# loop through the dict keys\n",
    "\n",
    "\n",
    "    # print the key and the value for that key\n"
   ]
  },
  {
   "cell_type": "markdown",
   "metadata": {},
   "source": [
    " "
   ]
  },
  {
   "cell_type": "markdown",
   "metadata": {},
   "source": [
    "DICTIONARIES:  SORTING KEYS"
   ]
  },
  {
   "cell_type": "markdown",
   "metadata": {},
   "source": [
    "<B>5.3:  <B><U>Sort dict keys</U>.</B>  Sort the keys in this dict.  Print the list of sorted keys.  Then loop through and print sorted keys and values.  "
   ]
  },
  {
   "cell_type": "code",
   "execution_count": null,
   "metadata": {},
   "outputs": [],
   "source": [
    "uscitypop = { 'New York': 8.4,\n",
    "              'Los Angeles': 4.0,\n",
    "              'Chicago': 2.7,\n",
    "              'Houston': 2.3}\n",
    "\n",
    "\n",
    "# sort the dict keys\n",
    "\n",
    "\n",
    "\n",
    "# loop through the sorted keys\n",
    "\n",
    "\n",
    "\n",
    "    # print each sorted key and the value for that key in the dict\n",
    "\n",
    "\n"
   ]
  },
  {
   "cell_type": "markdown",
   "metadata": {},
   "source": [
    " "
   ]
  },
  {
   "cell_type": "markdown",
   "metadata": {},
   "source": [
    "DICTIONARIES:  BUILDING FROM FILE"
   ]
  },
  {
   "cell_type": "markdown",
   "metadata": {},
   "source": [
    "<B>5.4:  <B><U>Build a \"lookup\" dict from row values in a CSV file</U>.</B>  Looping through <I>revenue.txt</I>, build a dict with the company name as string key and the revenue number as float value.  "
   ]
  },
  {
   "cell_type": "code",
   "execution_count": null,
   "metadata": {},
   "outputs": [],
   "source": [
    "corevcount = {}\n",
    "\n",
    "fh = open('../revenue.txt')\n",
    "\n",
    "for line in fh:\n",
    "    company, state, rev = line.split(',')     # multi-target assignment\n"
   ]
  },
  {
   "cell_type": "markdown",
   "metadata": {},
   "source": [
    "<B>Multi-target assignment</B> allows us to assign multiple values from a list at one time.  The above code depends on each line having 3 items; otherwise the variables on the left would not match the number of items from the <B>split()</B> on the right."
   ]
  },
  {
   "cell_type": "markdown",
   "metadata": {},
   "source": [
    " "
   ]
  },
  {
   "cell_type": "markdown",
   "metadata": {},
   "source": [
    "<B>5.5:  <B><U>Build a \"counting\" dict from a file</U>.</B>  Again looping through <I>revenue.txt</I>, build a dict that counts how many states are in the 2nd column."
   ]
  },
  {
   "cell_type": "code",
   "execution_count": null,
   "metadata": {},
   "outputs": [],
   "source": [
    "corevsum = {}\n",
    "\n",
    "fh = open('../revenue.txt')\n",
    "\n",
    "for line in fh:\n",
    "    company, state, rev = line.split(',')     # multi-target assignment\n"
   ]
  },
  {
   "cell_type": "markdown",
   "metadata": {},
   "source": [
    " "
   ]
  },
  {
   "cell_type": "markdown",
   "metadata": {},
   "source": [
    "DICTIONARIES:  KEYS, VALUES, ITEMS"
   ]
  },
  {
   "cell_type": "markdown",
   "metadata": {},
   "source": [
    "<B>5.6:  <B><U>Show keys, values and items in a dict</U>.</B>  Use the so-named dict methods to retrieve keys, values and items from the dict."
   ]
  },
  {
   "cell_type": "code",
   "execution_count": null,
   "metadata": {},
   "outputs": [],
   "source": [
    "tvshows = { 'The Twilight Zone': 1959,\n",
    "            'Star Trek': 1966,\n",
    "            'I Love Lucy': 1951,\n",
    "            'Lost': 2004 }\n",
    "\n",
    "\n",
    "# print list of keys (use list() with dict, or list with .keys())\n",
    "\n",
    "\n",
    "# print list of values (use list with .values())\n",
    "\n",
    "\n",
    "# print list of items (use list with .items())\n",
    "\n"
   ]
  },
  {
   "cell_type": "markdown",
   "metadata": {},
   "source": [
    " "
   ]
  }
 ],
 "metadata": {},
 "nbformat": 4,
 "nbformat_minor": 4
}
