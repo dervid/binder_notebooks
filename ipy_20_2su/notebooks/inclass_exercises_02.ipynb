{
 "cells": [
  {
   "cell_type": "markdown",
   "metadata": {},
   "source": [
    "# In-Class Exercises, Session 2"
   ]
  },
  {
   "cell_type": "markdown",
   "metadata": {},
   "source": [
    "PLEASE REFER to pythonreference.com for syntax to follow in coding these Exercises"
   ]
  },
  {
   "cell_type": "markdown",
   "metadata": {},
   "source": [
    " "
   ]
  },
  {
   "cell_type": "markdown",
   "metadata": {},
   "source": [
    "IF/ELIF/ELSE"
   ]
  },
  {
   "cell_type": "markdown",
   "metadata": {},
   "source": [
    "<B>2.1:  <B><U>Use 'if' and 'if not' with comparison operators</U></B> to perform the noted comparisons.  "
   ]
  },
  {
   "cell_type": "code",
   "execution_count": null,
   "metadata": {},
   "outputs": [],
   "source": [
    "# if aa is greater than bb, print 'ok1'\n",
    "aa = 50\n",
    "bb = 35\n",
    "\n",
    "\n",
    "# if vara is equal to varb, print 'ok2' (use '==')\n",
    "vara = 50\n",
    "varb = 50.0\n",
    "\n",
    "\n",
    "# if mya is greater than or equal to thisx, print 'ok3' (use '>=')\n",
    "mya = 5\n",
    "thisx = 4.9\n",
    "\n",
    "\n",
    "# if var_x is the same string value as var_y, print 'ok4' (use '==')\n",
    "var_x = 'hello'\n",
    "var_y = 'hello'\n",
    "\n",
    "\n",
    "# if the value of variable 'this' is NOT equal to variable 'that', print 'ok4'\n",
    "# do this two ways, without using 'else' (use '!=' and '==' with not')\n",
    "this = 5.0\n",
    "that = 5.01\n"
   ]
  },
  {
   "cell_type": "markdown",
   "metadata": {},
   "source": [
    " "
   ]
  },
  {
   "cell_type": "markdown",
   "metadata": {},
   "source": [
    "<B>2.2:  <B><U>Use 'if' with 'else'</U>.</B>  If 'a' is greater than or equal to 'b', print 'greater than or equal to'.  Otherwise (without an additional test) print 'lesser than'.  Change the values to show both parts of the if/else are working correctly.  "
   ]
  },
  {
   "cell_type": "code",
   "execution_count": null,
   "metadata": {},
   "outputs": [],
   "source": [
    "a = 5\n",
    "b = 3\n"
   ]
  },
  {
   "cell_type": "markdown",
   "metadata": {},
   "source": [
    " "
   ]
  },
  {
   "cell_type": "markdown",
   "metadata": {},
   "source": [
    "<B>2.3:  <B><U>Use 'if' with 'elif' and 'else'</U>.</B>  If variable 'myaa' is greater than variable 'mybb', print 'greater'; otherwise if 'myaa' is less than 'mybb', print 'lesser', otherwise, print 'equal'.  Again, change the values to prove that all 3 conditions are correctly handled.  "
   ]
  },
  {
   "cell_type": "code",
   "execution_count": null,
   "metadata": {},
   "outputs": [],
   "source": [
    "myaa = 20\n",
    "mybb = 10\n"
   ]
  },
  {
   "cell_type": "markdown",
   "metadata": {},
   "source": [
    " "
   ]
  },
  {
   "cell_type": "markdown",
   "metadata": {},
   "source": [
    "AND, OR, NOT"
   ]
  },
  {
   "cell_type": "markdown",
   "metadata": {},
   "source": [
    "<B>2.4:  <B><U>Use 'or', 'and' and 'not'</U></B> to perform the noted comparisons."
   ]
  },
  {
   "cell_type": "code",
   "execution_count": null,
   "metadata": {},
   "outputs": [],
   "source": [
    "vara = 5\n",
    "myb = -5\n",
    "\n",
    "# single statement:  if variable 'vara' is greater than 0\n",
    "# and also greater than 'myb', print 'ok1'\n",
    "\n",
    "\n",
    "# single statement:  if variable 'vara' is greater than 0\n",
    "# or 'myb' is greater than 0, print 'ok2'\n",
    "\n",
    "\n",
    "# single statement:  if variable 'vara' is less than 0\n",
    "# or 'myb' is not greater than 0, print 'ok3'\n",
    "\n"
   ]
  },
  {
   "cell_type": "markdown",
   "metadata": {},
   "source": [
    " "
   ]
  },
  {
   "cell_type": "markdown",
   "metadata": {},
   "source": [
    "<B>2.5:  <B><U>Use 'or' to test a variable for multiple values</U>.</B>  In a single statement, if user's input is equal to \"q\" or \"quit\", print \"quitting...\"; otherwise, print \"NOT quitting\".  "
   ]
  },
  {
   "cell_type": "code",
   "execution_count": null,
   "metadata": {},
   "outputs": [],
   "source": [
    "aa = input('\"q\" or \"quit\" to quit:  ')\n",
    "\n"
   ]
  },
  {
   "cell_type": "markdown",
   "metadata": {},
   "source": [
    " "
   ]
  },
  {
   "cell_type": "markdown",
   "metadata": {},
   "source": [
    "<B>2.6:  <B><U>Use 'not' to negate a test</U>.</B>  Use the <B>.isdigit()</B> method to see if user's input is not all digits.  If it is not all digits, print \"I need a number\".  "
   ]
  },
  {
   "cell_type": "code",
   "execution_count": null,
   "metadata": {},
   "outputs": [],
   "source": [
    "num = input('please enter a number:  ')\n"
   ]
  },
  {
   "cell_type": "markdown",
   "metadata": {},
   "source": [
    " "
   ]
  },
  {
   "cell_type": "markdown",
   "metadata": {},
   "source": [
    "WHILE"
   ]
  },
  {
   "cell_type": "markdown",
   "metadata": {},
   "source": [
    "<B>2.7:  <B><U>While loops</U>.  Use 2 separate 'while' loops to perform the following operations.  (Note if you can't get out of a loop, in PyCharm use Ctrl-C; in notebook, restart the kernel.)"
   ]
  },
  {
   "cell_type": "code",
   "execution_count": null,
   "metadata": {},
   "outputs": [],
   "source": [
    "# increment 'num' until it reaches the value of 'threshold'\n",
    "\n",
    "num = 0\n",
    "threshold = 5\n",
    "\n",
    "# your while loop here\n",
    "\n",
    "\n",
    "\n",
    "# continue looping until input is equal to 'yes'\n",
    "ui = ''\n",
    "\n",
    "while  # your test here\n",
    "\n",
    "    ui = input(\"please say yes, otherwise I'll ask again:\" )\n",
    "\n"
   ]
  },
  {
   "cell_type": "markdown",
   "metadata": {},
   "source": [
    " "
   ]
  },
  {
   "cell_type": "markdown",
   "metadata": {},
   "source": [
    "BREAK AND CONTINUE"
   ]
  },
  {
   "cell_type": "markdown",
   "metadata": {},
   "source": [
    "<B>2.8:  <B><U>Use 'break' to break out of a loop if a condition is True</U>.</B>  The below loop will loop indefinitely, asking the user for input (try it, then use Cltr-C or restart the kernel to get out of the loop).  Add a statement to test if equal to 'q', break out of the loop (otherwise, loop should take us back to input again).  "
   ]
  },
  {
   "cell_type": "code",
   "execution_count": null,
   "metadata": {},
   "outputs": [],
   "source": [
    "while True:\n",
    "\n",
    "    ui = input('please enter \"q\" to quit:  ')\n",
    "\n",
    "\n",
    "print('done')"
   ]
  },
  {
   "cell_type": "markdown",
   "metadata": {},
   "source": [
    " "
   ]
  },
  {
   "cell_type": "markdown",
   "metadata": {},
   "source": [
    "<B>2.9:  <B><U>Use 'continue' to keep iterating</U>.</B>  Run this code first.  Then if value of 'count' is < 3, use 'continue' to keep iterating without printing.    You should see only '4' and '5' printed.  "
   ]
  },
  {
   "cell_type": "code",
   "execution_count": null,
   "metadata": {},
   "outputs": [],
   "source": [
    "maxval = 4\n",
    "count = 0\n",
    "\n",
    "while count < maxval:\n",
    "\n",
    "    # your code here:  loop back if count < 3\n",
    "    print(count)\n"
   ]
  },
  {
   "cell_type": "markdown",
   "metadata": {},
   "source": [
    " "
   ]
  },
  {
   "cell_type": "markdown",
   "metadata": {},
   "source": [
    "'TRANSFORMING' STRING METHODS"
   ]
  },
  {
   "cell_type": "markdown",
   "metadata": {},
   "source": [
    "<B>2.10:  <B><U>Use string methods that transform a string</U></B> with the following operations:"
   ]
  },
  {
   "cell_type": "code",
   "execution_count": null,
   "metadata": {},
   "outputs": [],
   "source": [
    "# lowercase and print this string (use .lower())\n",
    "xx = 'HELLO'\n",
    "\n",
    "\n",
    "# uppercase and print this string (use .upper())\n",
    "zz = 'what?'\n",
    "\n",
    "\n",
    "# replace 'this' with 'that' in the sentence,\n",
    "# then print the replaced string (use .replace())\n",
    "sentence = \"I am not going to try this.\"\n",
    "\n"
   ]
  },
  {
   "cell_type": "markdown",
   "metadata": {},
   "source": [
    " "
   ]
  },
  {
   "cell_type": "markdown",
   "metadata": {},
   "source": [
    "'INSPECTNG' STRING METHODS"
   ]
  },
  {
   "cell_type": "markdown",
   "metadata": {},
   "source": [
    "<B>2.11:  <B><U>Use string methods that evaluate a string</U></B> with the following operations:"
   ]
  },
  {
   "cell_type": "code",
   "execution_count": null,
   "metadata": {},
   "outputs": [],
   "source": [
    "# if string variable 'varstr' is all digits, print \"all digits\" (use .isdigit())\n",
    "varstr = '555'\n",
    "\n",
    "\n",
    "\n",
    "# if string variable 'varstr2' is not all digits, print \"not all digits\"\n",
    "varstr2 = '555a'\n",
    "\n",
    "\n",
    "\n",
    "# if the string 'filename' starts with a \".\" (period), print \"hidden\"\n",
    "# (incidentally, this signifies a \"hidden\" file on your computer's filesystem)\n",
    "# (use .startswith())\n",
    "filename = '.hidden'\n",
    "\n",
    "\n",
    "\n",
    "# if the string 'filename2' ends with '.txt' (a text file), print \"text file\"  (use .endswith())\n",
    "filename2 = 'myfile.txt'\n",
    "\n",
    "\n"
   ]
  },
  {
   "cell_type": "markdown",
   "metadata": {},
   "source": [
    " "
   ]
  },
  {
   "cell_type": "markdown",
   "metadata": {},
   "source": [
    "'F' STRINGS"
   ]
  },
  {
   "cell_type": "markdown",
   "metadata": {},
   "source": [
    "<B>2.12:  <B><U>Use an f'' string</U></B> to perform the following operations:"
   ]
  },
  {
   "cell_type": "code",
   "execution_count": null,
   "metadata": {},
   "outputs": [],
   "source": [
    "# insert numbers into a string:  in one statement without concatenation,\n",
    "# print '7 days a week, 365 days a year'\n",
    "\n",
    "year = 365\n",
    "week = 7\n",
    "\n",
    "\n",
    "\n",
    "# insert a string variable into another string:\n",
    "# without concatenation, print \"my name is Python\"\n",
    "\n",
    "name = 'Python'\n",
    "\n",
    "\n",
    "\n",
    "# call a function inside a string:  in one statement,\n",
    "# without using the literal '5', and without concatenation,\n",
    "# print the string and also its length.\n",
    "# the output should be \"The string is \"aeiou\" and its length is 5\"\n",
    "\n",
    "x = 'aeiou'\n",
    "\n",
    "\n"
   ]
  },
  {
   "cell_type": "markdown",
   "metadata": {},
   "source": [
    " "
   ]
  }
 ],
 "metadata": {},
 "nbformat": 4,
 "nbformat_minor": 4
}
