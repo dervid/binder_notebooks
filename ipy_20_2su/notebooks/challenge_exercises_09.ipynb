{
 "cells": [
  {
   "cell_type": "markdown",
   "metadata": {},
   "source": [
    "# Challenge Exercises, Session 9"
   ]
  },
  {
   "cell_type": "markdown",
   "metadata": {},
   "source": [
    "<B>9.1:  Write a function addme() that takes two arguments, adds them together and returns the two arguments added / concatenated.  Call it thusly:"
   ]
  },
  {
   "cell_type": "code",
   "execution_count": null,
   "metadata": {},
   "outputs": [],
   "source": [
    "# your code here\n",
    "\n",
    "x = addme(4, 5)\n",
    "print x\n",
    "\n",
    "y = addme('hey', 'you')\n",
    "print y"
   ]
  },
  {
   "cell_type": "markdown",
   "metadata": {},
   "source": [
    "<U>Expected Output</U>:  "
   ]
  },
  {
   "cell_type": "markdown",
   "metadata": {},
   "source": [
    "<pre style=\"margin: 0; padding=0\"><DIV style=\"font-family: Courier; border: 1px solid #dbdbdb; padding: 7px\">9\n",
    "heyyou</DIV></pre>"
   ]
  },
  {
   "cell_type": "markdown",
   "metadata": {},
   "source": [
    " "
   ]
  },
  {
   "cell_type": "markdown",
   "metadata": {},
   "source": [
    "<B>9.2:  Create a module file named yourname.py where yourname is your first name.  "
   ]
  },
  {
   "cell_type": "markdown",
   "metadata": {},
   "source": [
    "Create a def hello: function (that prints hello, world!) inside the yourname.py module.\n",
    "\n",
    "Now in the same directory where you saved the module, create a python script.  In the script have an <B>import greet</B> statement, and then call the function through the module: <B>greet.hello()</B>\n",
    "\n",
    "Save the file and then run it.\n"
   ]
  },
  {
   "cell_type": "code",
   "execution_count": null,
   "metadata": {},
   "outputs": [],
   "source": [
    "import yourname\n",
    "\n",
    "yourname.hello()           # hello, world!"
   ]
  },
  {
   "cell_type": "markdown",
   "metadata": {},
   "source": [
    " "
   ]
  },
  {
   "cell_type": "markdown",
   "metadata": {},
   "source": [
    "<B>9.3:  Modify the above function to include an optional argument.  If name=[something], print hello, [something]! instead of hello, world!  But if the name= parameter is not passed, revert to saying hello, world!"
   ]
  },
  {
   "cell_type": "markdown",
   "metadata": {},
   "source": [
    "So your def hello function code will be modified to accept the name=text argument (i.e., def hello(name=False)), and then test to see if text has a value -- if it is True (i.e., if name: is True).  If it is True, print it after 'hello, '.  If it doesn't, print 'hello, world!'\n"
   ]
  },
  {
   "cell_type": "code",
   "execution_count": null,
   "metadata": {},
   "outputs": [],
   "source": [
    "import yourname\n",
    "\n",
    "yourname.hello()                # hello, world!\n",
    "yourname.hello(name='Python')   # hello, Python!"
   ]
  },
  {
   "cell_type": "markdown",
   "metadata": {},
   "source": [
    " "
   ]
  },
  {
   "cell_type": "markdown",
   "metadata": {},
   "source": [
    "<B>9.4:  Create a function getlines(filename) that takes a filename, opens the file for that filename, copies the lines of the file (i.e.from the file method <B>.readlines()</B>) to a list variable, and then returns the list.  In the calling code, call the function with a known filename, and assign ∑the return value of the call to a variable.  Loop through the variable (of course it is a list) and print out each line in the file.  "
   ]
  },
  {
   "cell_type": "code",
   "execution_count": null,
   "metadata": {},
   "outputs": [],
   "source": [
    "# your code here\n",
    "\n",
    "lines = getlines('student_db.txt')\n",
    "\n",
    "for line in lines:\n",
    "  print line             # prints each line in file"
   ]
  },
  {
   "cell_type": "markdown",
   "metadata": {},
   "source": [
    " "
   ]
  }
 ],
 "metadata": {},
 "nbformat": 4,
 "nbformat_minor": 4
}
