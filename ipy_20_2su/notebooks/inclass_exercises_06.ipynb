{
 "cells": [
  {
   "cell_type": "markdown",
   "metadata": {},
   "source": [
    "# In-Class Exercises, Session 6"
   ]
  },
  {
   "cell_type": "markdown",
   "metadata": {},
   "source": [
    "PLEASE NOTE that most of these exercises can also be found in the \"challenge\" exercises."
   ]
  },
  {
   "cell_type": "markdown",
   "metadata": {},
   "source": [
    " "
   ]
  },
  {
   "cell_type": "markdown",
   "metadata": {},
   "source": [
    "PLEASE REFER to pythonreference.com for syntax to follow in coding these Exercises"
   ]
  },
  {
   "cell_type": "markdown",
   "metadata": {},
   "source": [
    " "
   ]
  },
  {
   "cell_type": "markdown",
   "metadata": {},
   "source": [
    "REVIEW:  SUBSCRIPTING A LIST OR DICT"
   ]
  },
  {
   "cell_type": "markdown",
   "metadata": {},
   "source": [
    "<B>6.1:  <B><U>List item access</U>.</B>  Print the 1st item in the list, then print the 2nd item.  (Use list subscript.)"
   ]
  },
  {
   "cell_type": "code",
   "execution_count": null,
   "metadata": {},
   "outputs": [],
   "source": [
    "x = [1, 2, 3, 4]\n"
   ]
  },
  {
   "cell_type": "markdown",
   "metadata": {},
   "source": [
    " "
   ]
  },
  {
   "cell_type": "markdown",
   "metadata": {},
   "source": [
    "<B>6.2:  <B><U>List item access from end (negative subscript)</U>.</B>  Use a negative list subscript to print the last item in the list.  "
   ]
  },
  {
   "cell_type": "code",
   "execution_count": null,
   "metadata": {},
   "outputs": [],
   "source": [
    "x = [1, 2, 3, 4]\n"
   ]
  },
  {
   "cell_type": "markdown",
   "metadata": {},
   "source": [
    " "
   ]
  },
  {
   "cell_type": "markdown",
   "metadata": {},
   "source": [
    "<B>6.3:  <B><U>Dict item access</U>.</B>  Print the value <b>5.4</b> in this dict, then print the value <B>1.2</B>.  Use dict subscript.    "
   ]
  },
  {
   "cell_type": "code",
   "execution_count": null,
   "metadata": {},
   "outputs": [],
   "source": [
    "ccitypop = { 'Toronto': 5.4,\n",
    "             'Montreal': 3.5,\n",
    "             'Vancouver': 2.2,\n",
    "             'Calgary': 1.2}\n"
   ]
  },
  {
   "cell_type": "markdown",
   "metadata": {},
   "source": [
    " "
   ]
  },
  {
   "cell_type": "markdown",
   "metadata": {},
   "source": [
    "REVIEW:  LOOPING THROUGH A LIST OR DICT"
   ]
  },
  {
   "cell_type": "markdown",
   "metadata": {},
   "source": [
    "<B>6.4:  <B><U>Loop through a list</U>.</B>  Loop through each item in the list.  Use 'for'.  "
   ]
  },
  {
   "cell_type": "code",
   "execution_count": null,
   "metadata": {},
   "outputs": [],
   "source": [
    "x = ['a', 'c', 'b', 'd']\n"
   ]
  },
  {
   "cell_type": "markdown",
   "metadata": {},
   "source": [
    " "
   ]
  },
  {
   "cell_type": "markdown",
   "metadata": {},
   "source": [
    "<B>6.5:  <B><U>Loop through dict keys</U>.</B>  Loop through each key in the dict.  Use 'for'.  "
   ]
  },
  {
   "cell_type": "code",
   "execution_count": null,
   "metadata": {},
   "outputs": [],
   "source": [
    "uscitypop = { 'New York': 8.4,\n",
    "              'Los Angeles': 4.0,\n",
    "              'Chicago': 2.7,\n",
    "              'Houston': 2.3}\n"
   ]
  },
  {
   "cell_type": "markdown",
   "metadata": {},
   "source": [
    " "
   ]
  },
  {
   "cell_type": "markdown",
   "metadata": {},
   "source": [
    "<B>6.6:  <B><U>Loop through dict keys and print values</U>.</B>  Loop through each key and print each key and value in the dict.  Use 'for' with a dict subscript.  "
   ]
  },
  {
   "cell_type": "code",
   "execution_count": null,
   "metadata": {},
   "outputs": [],
   "source": [
    "tvshows = { 'The Twilight Zone': 1959,\n",
    "            'Star Trek': 1966,\n",
    "            'I Love Lucy': 1951,\n",
    "            'Lost': 2004 }\n"
   ]
  },
  {
   "cell_type": "markdown",
   "metadata": {},
   "source": [
    " "
   ]
  },
  {
   "cell_type": "markdown",
   "metadata": {},
   "source": [
    "MULTIDIMENSIONAL STRUCTURES:  ACCESSING AN ITEM"
   ]
  },
  {
   "cell_type": "markdown",
   "metadata": {},
   "source": [
    "<B>6.7:  <B><U>Item access:  list of lists</U>.</B>  Print the value 'beta', and also print the value 'Fantastic'.  Use a double subscript.  "
   ]
  },
  {
   "cell_type": "code",
   "execution_count": null,
   "metadata": {},
   "outputs": [],
   "source": [
    "mylist = [\n",
    "  [ 'a', 'b', 'c', 'd' ],\n",
    "  [ 1, 2, 3, 4 ],\n",
    "  [ 'alpha', 'beta', 'gamma', 'delta' ],\n",
    "  [ 'Torchy', 'Thing', 'Girl', 'Fantastic' ]\n",
    "]\n"
   ]
  },
  {
   "cell_type": "markdown",
   "metadata": {},
   "source": [
    " "
   ]
  },
  {
   "cell_type": "markdown",
   "metadata": {},
   "source": [
    "<B>6.8:  <B><U>Item access:  list of dicts</U>.</B>  Print the value 'KY', and also the value 'Gamma Husbandry'.  Use a double subscript.  "
   ]
  },
  {
   "cell_type": "code",
   "execution_count": null,
   "metadata": {},
   "outputs": [],
   "source": [
    "lod = [\n",
    "   {\n",
    "      'name': 'Apex Pharma',\n",
    "      'city': 'Louisville',\n",
    "      'state': 'KY',\n",
    "   },\n",
    "   {\n",
    "      'name': 'Beta IT',\n",
    "      'city': 'New York',\n",
    "      'state': 'NY',\n",
    "   },\n",
    "   {\n",
    "      'name': 'Gamma Husbandry',\n",
    "      'city': 'Lancaster',\n",
    "      'state': 'PA',\n",
    "   },\n",
    "]\n"
   ]
  },
  {
   "cell_type": "markdown",
   "metadata": {},
   "source": [
    " "
   ]
  },
  {
   "cell_type": "markdown",
   "metadata": {},
   "source": [
    "<B>6.9:  <B><U>Item access:  dict of lists</U>.</B>   Access the value 300, then sum up the values in the list associated with 'b'.  Use a subscript.  "
   ]
  },
  {
   "cell_type": "code",
   "execution_count": null,
   "metadata": {},
   "outputs": [],
   "source": [
    "dol = { 'a': [1, 2, 3],\n",
    "        'b': [10, 20, 30],\n",
    "        'c': [100, 200, 300] }\n"
   ]
  },
  {
   "cell_type": "markdown",
   "metadata": {},
   "source": [
    " "
   ]
  },
  {
   "cell_type": "markdown",
   "metadata": {},
   "source": [
    "<B>6.10:  <B><U>Item access:  dict of dicts</U>.</B>  Access and print the name 'Ally' and then the name 'Smith'.  Use a double subscript.  "
   ]
  },
  {
   "cell_type": "code",
   "execution_count": null,
   "metadata": {},
   "outputs": [],
   "source": [
    "dod = {\n",
    "\n",
    "    'ak23':  { 'fname': 'Ally',\n",
    "               'lname': 'Kane' },\n",
    "\n",
    "    'bb98':  { 'fname': 'Bernie',\n",
    "               'lname': 'Bain' },\n",
    "\n",
    "    'js7':   { 'fname': 'Josie',\n",
    "               'lname': 'Smith' },\n",
    "\n",
    "}\n"
   ]
  },
  {
   "cell_type": "markdown",
   "metadata": {},
   "source": [
    " "
   ]
  },
  {
   "cell_type": "markdown",
   "metadata": {},
   "source": [
    "MULTIDIMENSIONAL STRUCTURES:  LOOPING THROUGH"
   ]
  },
  {
   "cell_type": "markdown",
   "metadata": {},
   "source": [
    "<B>6.11:  <B><U>Looping through:  list of lists</U>.</B>  Loop through and print each item in 'mylist'.  Then modify the loop so that instead of printing each list, print the first item in each list ('a', 1 ,'alpha', 'Torchy').  Use 'for' with a list subscript.  "
   ]
  },
  {
   "cell_type": "code",
   "execution_count": null,
   "metadata": {},
   "outputs": [],
   "source": [
    "mylist = [\n",
    "\n",
    "    [ 'a', 'b', 'c', 'd' ],\n",
    "    [ 1, 2, 3, 4 ],\n",
    "    [ 'alpha', 'beta', 'gamma', 'delta' ],\n",
    "    [ 'Torchy', 'Thing', 'Girl', 'Fantastic' ]\n",
    "\n",
    "]\n"
   ]
  },
  {
   "cell_type": "markdown",
   "metadata": {},
   "source": [
    " "
   ]
  },
  {
   "cell_type": "markdown",
   "metadata": {},
   "source": [
    "<B>6.12:  <B><U>Looping through:  list of dicts</U>.</B>  Loop through each item in the list and print it (each item is a dict).  Then instead of printing each dict, print the city value for each dict (Louisville, New York, Lancaster).  Use 'for' with a dict subscript.  "
   ]
  },
  {
   "cell_type": "code",
   "execution_count": null,
   "metadata": {},
   "outputs": [],
   "source": [
    "lod = [\n",
    "   {\n",
    "      'name': 'Apex Pharma',\n",
    "      'city': 'Louisville',\n",
    "      'state': 'KY',\n",
    "   },\n",
    "   {\n",
    "      'name': 'Beta IT',\n",
    "      'city': 'New York',\n",
    "      'state': 'NY',\n",
    "   },\n",
    "   {\n",
    "      'name': 'Gamma Husbandry',\n",
    "      'city': 'Lancaster',\n",
    "      'state': 'PA',\n",
    "   },\n",
    "]\n"
   ]
  },
  {
   "cell_type": "markdown",
   "metadata": {},
   "source": [
    " "
   ]
  },
  {
   "cell_type": "markdown",
   "metadata": {},
   "source": [
    "<B>6.13:  <B><U>Looping through:  dict of lists</U>.</B>  Loop through each key in the dict and print the key and associated value (a list).  Then instead of printing each list, print the sum of each list.  Use 'for' with dict subscript.  "
   ]
  },
  {
   "cell_type": "code",
   "execution_count": null,
   "metadata": {},
   "outputs": [],
   "source": [
    "dol = { 'a': [1, 2, 3],\n",
    "        'b': [10, 20, 30],\n",
    "        'c': [100, 200, 300] }\n"
   ]
  },
  {
   "cell_type": "markdown",
   "metadata": {},
   "source": [
    " "
   ]
  },
  {
   "cell_type": "markdown",
   "metadata": {},
   "source": [
    "<B>6.14:  <B><U>Looping through:  dict of dicts</U>.</B>  Loop through each key in the dict and print the key and associated value (a dict).  Then instead of printing each dict, print the key and 'lname' value for each key.  Use 'for' with a dict subscript, but make sure to confirm the type of each item in your loop.  "
   ]
  },
  {
   "cell_type": "code",
   "execution_count": null,
   "metadata": {},
   "outputs": [],
   "source": [
    "dod = {\n",
    "\n",
    "    'ak23':  { 'fname': 'Ally',\n",
    "               'lname': 'Kane' },\n",
    "\n",
    "    'bb98':  { 'fname': 'Bernie',\n",
    "               'lname': 'Bain' },\n",
    "\n",
    "    'js7':   { 'fname': 'Josie',\n",
    "               'lname': 'Smith' },\n",
    "\n",
    "}\n",
    "\n"
   ]
  },
  {
   "cell_type": "markdown",
   "metadata": {},
   "source": [
    " "
   ]
  },
  {
   "cell_type": "markdown",
   "metadata": {},
   "source": [
    "MULTIDIMENSIONAL STRUCTURES:  BUILDING FROM FILE"
   ]
  },
  {
   "cell_type": "markdown",
   "metadata": {},
   "source": [
    "<B>6.15:  <B><U>Review:  build a list from file</U>.</B>  Opening and reading <B>revenue.txt</B>, build a list of float values from the file."
   ]
  },
  {
   "cell_type": "code",
   "execution_count": null,
   "metadata": {},
   "outputs": [],
   "source": [
    "fh = open('../revenue.txt')\n",
    "\n",
    "for line in fh:\n",
    "    line = line.rstrip()\n",
    "    name, state, fval = line.split(',')\n",
    "    fval = float(fval)\n"
   ]
  },
  {
   "cell_type": "markdown",
   "metadata": {},
   "source": [
    " "
   ]
  },
  {
   "cell_type": "markdown",
   "metadata": {},
   "source": [
    "<B>6.16:  <B><U>Review:  build a dict from file</U>.</B>  Opening and reading <B>revenue.txt</B>, build a dict of user ids (the first value on the line) paired with revenue values (the last value on the line))"
   ]
  },
  {
   "cell_type": "code",
   "execution_count": null,
   "metadata": {},
   "outputs": [],
   "source": [
    "fh = open('../revenue.txt')\n",
    "\n",
    "for line in fh:\n",
    "    line = line.rstrip()\n",
    "    name, state, fval = line.split(',')\n",
    "    fval = float(fval)\n"
   ]
  },
  {
   "cell_type": "markdown",
   "metadata": {},
   "source": [
    " "
   ]
  },
  {
   "cell_type": "markdown",
   "metadata": {},
   "source": [
    "<B>6.17:  <B><U>Build a list of lists</U>.</B>  Opening and reading <B>revenue.txt</B>, build a list of lists where each item in the \"outer\" list is a row, and each row is an \"inner\" list of values split from the line.  "
   ]
  },
  {
   "cell_type": "code",
   "execution_count": null,
   "metadata": {},
   "outputs": [],
   "source": [
    "fh = open('../revenue.txt')\n",
    "\n",
    "for line in fh:\n",
    "    line = line.rstrip()\n",
    "    name, state, fval = line.split(',')\n",
    "    fval = float(fval)\n"
   ]
  },
  {
   "cell_type": "markdown",
   "metadata": {},
   "source": [
    " "
   ]
  },
  {
   "cell_type": "markdown",
   "metadata": {},
   "source": [
    "<B>6.18:  <B><U>Build a list of dicts</U>.</B>  Opening and reading <B>revenue.txt</B>, build a list of dicts where each list item in the \"outer\" list is a dict, and each \"inner\" dict represents a row from the file (with keys 'name', 'state' and 'revenue').  "
   ]
  },
  {
   "cell_type": "code",
   "execution_count": null,
   "metadata": {},
   "outputs": [],
   "source": [
    "fh = open('../revenue.txt')\n",
    "\n",
    "for line in fh:\n",
    "    line = line.rstrip()\n",
    "    name, state, fval = line.split(',')\n",
    "    fval = float(fval)\n"
   ]
  },
  {
   "cell_type": "markdown",
   "metadata": {},
   "source": [
    " "
   ]
  },
  {
   "cell_type": "markdown",
   "metadata": {},
   "source": [
    "<B>6.19:  <B><U>Build a dict of dicts</U>.</B>  Opening and reading <B>revenue.txt</B>, build a dict of dicts where each \"outer\" dict key is the name from the line, and each value is another dict.  The \"inner\" dict should have the remaining values from the row, with keys 'state' and 'revenue').  "
   ]
  },
  {
   "cell_type": "code",
   "execution_count": null,
   "metadata": {},
   "outputs": [],
   "source": [
    "fh = open('../revenue.txt')\n",
    "\n",
    "for line in fh:\n",
    "    line = line.rstrip()\n",
    "    name, state, fval = line.split(',')\n",
    "    fval = float(fval)\n"
   ]
  },
  {
   "cell_type": "markdown",
   "metadata": {},
   "source": [
    " "
   ]
  },
  {
   "cell_type": "markdown",
   "metadata": {},
   "source": [
    "<B>6.20:  <B><U>Build a dict of lists</U>.</B>  Opening and reading <B>revenue.txt</B>, build a dict of lists where each \"outer\" dict key is a state, and each value is a list of revenue values found on the same line as that state.  "
   ]
  },
  {
   "cell_type": "code",
   "execution_count": null,
   "metadata": {},
   "outputs": [],
   "source": [
    "fh = open('../revenue.txt')\n",
    "\n",
    "for line in fh:\n",
    "    line = line.rstrip()\n",
    "    name, state, fval = line.split(',')\n",
    "    fval = float(fval)\n"
   ]
  },
  {
   "cell_type": "markdown",
   "metadata": {},
   "source": [
    " "
   ]
  }
 ],
 "metadata": {},
 "nbformat": 4,
 "nbformat_minor": 4
}
