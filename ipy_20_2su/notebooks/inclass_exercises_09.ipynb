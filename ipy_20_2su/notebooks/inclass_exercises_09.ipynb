{
 "cells": [
  {
   "cell_type": "markdown",
   "metadata": {},
   "source": [
    "# In-Class Exercises, Session 9"
   ]
  },
  {
   "cell_type": "markdown",
   "metadata": {},
   "source": [
    "PLEASE REFER to pythonreference.com for syntax to follow in coding these Exercises"
   ]
  },
  {
   "cell_type": "markdown",
   "metadata": {},
   "source": [
    " "
   ]
  },
  {
   "cell_type": "markdown",
   "metadata": {},
   "source": [
    "FUNCTIONS:  REVIEW"
   ]
  },
  {
   "cell_type": "markdown",
   "metadata": {},
   "source": [
    "<B>9.1:  <B><U>Write a function that takes an argument and returns a value</U>.</B>  Function <B>doubleit()</B> takes one argument and returns its argument value doubled.  "
   ]
  },
  {
   "cell_type": "code",
   "execution_count": null,
   "metadata": {},
   "outputs": [],
   "source": [
    "# your def here\n",
    "# you must not print inside the function\n",
    "# you must not take input() inside the function\n",
    "# you must not use 'y' inside the function\n",
    "\n",
    "\n",
    "\n",
    "y = 5\n",
    "\n",
    "dy = doubleit(y)     # calling 'doubleit()', expecting one return value\n",
    "print(dy)            # 10\n"
   ]
  },
  {
   "cell_type": "markdown",
   "metadata": {},
   "source": [
    " "
   ]
  },
  {
   "cell_type": "markdown",
   "metadata": {},
   "source": [
    "<B>9.2:  <B><U>Write another function that takes an argument and returns a value</U>.</B>  Write a function <B>get\\_greeting()</B> that takes one string argument and a string greeting the name.  "
   ]
  },
  {
   "cell_type": "code",
   "execution_count": null,
   "metadata": {},
   "outputs": [],
   "source": [
    "# your def here\n",
    "# you must not print inside the function\n",
    "# you must not take input() inside the function\n",
    "# you must not use 'x' or 'y' inside the function\n",
    "\n",
    "\n",
    "\n",
    "\n",
    "x = 'World'\n",
    "y = 'Guido'\n",
    "\n",
    "\n",
    "# here, call get_greeting() with 'x' as argument\n",
    "# make sure to expect a return value\n",
    "# the return value should be 'Hello, World!'\n",
    "\n",
    "\n",
    "# here, call get_greeting() with 'y' as argument\n",
    "# make sure to expect a return value\n",
    "# the return value should be 'Hello, Guido!'\n",
    "\n"
   ]
  },
  {
   "cell_type": "markdown",
   "metadata": {},
   "source": [
    " "
   ]
  },
  {
   "cell_type": "markdown",
   "metadata": {},
   "source": [
    "<B>9.3:  <B><U>Write a function that takes two arguments and returns one value</U>.</B>  Define function <B>multiplyem()</B> that takes two numbers, multiplies them together, and returns the product.  "
   ]
  },
  {
   "cell_type": "code",
   "execution_count": null,
   "metadata": {},
   "outputs": [],
   "source": [
    "# your def here\n",
    "# you must not print inside the function\n",
    "# you must not take input() inside the function\n",
    "# you must not use 'a' or 'b' inside the function\n",
    "\n",
    "\n",
    "a = 5\n",
    "b = 10\n",
    "\n",
    "\n",
    "\n",
    "# here, call multiplyem() with 'a' and 'b' as arguments\n",
    "# make sure to expect a return value\n",
    "# the return value should be 50\n"
   ]
  },
  {
   "cell_type": "markdown",
   "metadata": {},
   "source": [
    " "
   ]
  },
  {
   "cell_type": "markdown",
   "metadata": {},
   "source": [
    "<B>9.4:  <B><U>Write a function that takes one argument and returns two values</U>.</B>  Function <B>mul\\_and\\_div</B> takes an int argument and returns the value doubled and the value halved (/2)"
   ]
  },
  {
   "cell_type": "code",
   "execution_count": null,
   "metadata": {},
   "outputs": [],
   "source": [
    "# your def here\n",
    "# you must not print inside the function\n",
    "# you must not take input() inside the function\n",
    "# you must not use 'a' inside the function\n",
    "\n",
    "\n",
    "\n",
    "a = 5\n",
    "\n",
    "d, h = mul_and_div(a)\n",
    "\n",
    "print(d)       # 10\n",
    "print(h)       # 2.5"
   ]
  },
  {
   "cell_type": "markdown",
   "metadata": {},
   "source": [
    " "
   ]
  },
  {
   "cell_type": "markdown",
   "metadata": {},
   "source": [
    "MULTI-TARGET ASSIGNMENT"
   ]
  },
  {
   "cell_type": "markdown",
   "metadata": {},
   "source": [
    "<B>9.5:  <B><U>Explore multi-target assignment errors</U>.</B>  Try removing a variable from either the left or right side of the =.  What happens?  "
   ]
  },
  {
   "cell_type": "code",
   "execution_count": null,
   "metadata": {},
   "outputs": [],
   "source": [
    "a = 5\n",
    "b = 10\n",
    "c = 15\n",
    "\n",
    "x, y, z = a, b, c"
   ]
  },
  {
   "cell_type": "markdown",
   "metadata": {},
   "source": [
    " "
   ]
  },
  {
   "cell_type": "markdown",
   "metadata": {},
   "source": [
    "FUNCTIONS:  VARIABLE SCOPES"
   ]
  },
  {
   "cell_type": "markdown",
   "metadata": {},
   "source": [
    "<B>9.6:  <B><U>Explore function scoping</U>.</B>  Call this function, then attempt to print <B>lvar</B> after calling the function.  Is <B>lvar</B> available outside the function?  "
   ]
  },
  {
   "cell_type": "code",
   "execution_count": null,
   "metadata": {},
   "outputs": [],
   "source": [
    "def do(arg):\n",
    "    lvar = arg * 2\n",
    "    return lvar\n",
    "\n",
    "\n",
    "a = do(5)\n",
    "print(a)"
   ]
  },
  {
   "cell_type": "markdown",
   "metadata": {},
   "source": [
    " "
   ]
  },
  {
   "cell_type": "markdown",
   "metadata": {},
   "source": [
    "<B>9.7:  <B><U>Explore global variables inside functions</U>.</B>  Replace <B>2</B> with <B>gvar</B> inside the function, then call the function.  Is <B>gvar</B> available inside the function?  "
   ]
  },
  {
   "cell_type": "code",
   "execution_count": null,
   "metadata": {},
   "outputs": [],
   "source": [
    "gvar = 2\n",
    "\n",
    "def do(arg):\n",
    "    lvar = arg * 2\n",
    "    return lvar\n",
    "\n",
    "\n",
    "a = do(5)\n",
    "print(a)"
   ]
  },
  {
   "cell_type": "markdown",
   "metadata": {},
   "source": [
    " "
   ]
  },
  {
   "cell_type": "markdown",
   "metadata": {},
   "source": [
    "<B>9.8:  <B><U>Use a global constant inside a function</U>.</B>  Open the file inside the function using the variable FILENAME without passing it to the function.  "
   ]
  },
  {
   "cell_type": "code",
   "execution_count": null,
   "metadata": {},
   "outputs": [],
   "source": [
    "FILENAME = '../FF_tiny.txt'\n",
    "\n",
    "def get_ids():\n",
    "    \"\"\" your code here \"\"\"\n",
    "\n",
    "get_ids()"
   ]
  },
  {
   "cell_type": "markdown",
   "metadata": {},
   "source": [
    " "
   ]
  },
  {
   "cell_type": "markdown",
   "metadata": {},
   "source": [
    "EXCEPTIONS:  TRY/EXCEPT"
   ]
  },
  {
   "cell_type": "markdown",
   "metadata": {},
   "source": [
    "<B>9.9:  <B><U>Identify error type and trap exception for bad value</U>.</B>  Find out what exception results from the call to <B>int()</B> if the user doesn't type a number.  Then use a <B>try/except</B> to trap the error if it occurs.  "
   ]
  },
  {
   "cell_type": "code",
   "execution_count": null,
   "metadata": {},
   "outputs": [],
   "source": [
    "ui = input('please enter a number: ')\n",
    "\n",
    "x = int(ui)\n",
    "print(f'{x} doubled is {x * 2}')"
   ]
  },
  {
   "cell_type": "markdown",
   "metadata": {},
   "source": [
    " "
   ]
  },
  {
   "cell_type": "markdown",
   "metadata": {},
   "source": [
    "<B>9.10:  <B><U>Identify error type and trap exception for bad filename</U>.</B>  Find out what exception results from the <B>open()</B> function call if the user doesn't provide a valid filename.  Then use a <B>try/except</B> to trap the error if it occurs.  "
   ]
  },
  {
   "cell_type": "code",
   "execution_count": null,
   "metadata": {},
   "outputs": [],
   "source": [
    "uname = input('please enter a valid filename: ')"
   ]
  },
  {
   "cell_type": "markdown",
   "metadata": {},
   "source": [
    " "
   ]
  },
  {
   "cell_type": "markdown",
   "metadata": {},
   "source": [
    "REVIEW:  RAISE STATEMENT"
   ]
  },
  {
   "cell_type": "markdown",
   "metadata": {},
   "source": [
    "<B>9.11:  <B><U>Raise an exception</U>.</B>  Test to see if the user's input matches one of the values in the <B>valid\\_choices</B> list (use <B>if uchoice not in valid\\_choices</B>).  If not, raise a <B>ValueError</B> exception.  "
   ]
  },
  {
   "cell_type": "code",
   "execution_count": null,
   "metadata": {},
   "outputs": [],
   "source": [
    "valid_choices = ['run', 'stop', 'rewind']\n",
    "\n",
    "uchoice = input('please enter an action (\"run\", \"stop\", \"rewind\"): ')\n",
    "\n",
    "if uchoice not in valid_choices:\n",
    "    # your code here"
   ]
  },
  {
   "cell_type": "markdown",
   "metadata": {},
   "source": [
    " "
   ]
  },
  {
   "cell_type": "markdown",
   "metadata": {},
   "source": [
    "<B>9.12:  <B><U>Detect object type and raise TypeError</U>.</B>  Use the <B>isinstance()</B> function to see if the argument to this function is an integer.  If it isn't, raise your own <B>TypeError</B> exception.  "
   ]
  },
  {
   "cell_type": "code",
   "execution_count": null,
   "metadata": {},
   "outputs": [],
   "source": [
    "def doubleit(arg):\n",
    "    if not isinstance(arg, int):\n",
    "        # your code here\n",
    "    return arg * 2\n",
    "\n",
    "x = doubleit('5')\n"
   ]
  },
  {
   "cell_type": "markdown",
   "metadata": {},
   "source": [
    " "
   ]
  },
  {
   "cell_type": "markdown",
   "metadata": {},
   "source": [
    "MODULES"
   ]
  },
  {
   "cell_type": "markdown",
   "metadata": {},
   "source": [
    "<B>9.13:  <B><U>Import a module and use its variables</U>.</B>  Import module 'mymod' (located in the 'lib' directory) and print one of its variables.  "
   ]
  },
  {
   "cell_type": "code",
   "execution_count": null,
   "metadata": {},
   "outputs": [],
   "source": [
    "import sys\n",
    "\n",
    "sys.path.append('../lib')    # temporary - puts mymod.py's directory\n",
    "                             #             in your import path\n"
   ]
  },
  {
   "cell_type": "markdown",
   "metadata": {},
   "source": [
    " "
   ]
  },
  {
   "cell_type": "markdown",
   "metadata": {},
   "source": [
    "<B>9.14:  <B><U>Import a module as a different name and use its variables</U>.</B>  Perform the same as above but import the module as 'mm'.  Again, print one of the varibles from mymod.py.  "
   ]
  },
  {
   "cell_type": "code",
   "execution_count": null,
   "metadata": {},
   "outputs": [],
   "source": [
    "import sys\n",
    "\n",
    "sys.path.append('../lib')    # temporary - puts mymod.py's directory\n",
    "                             #             in your import path\n"
   ]
  },
  {
   "cell_type": "markdown",
   "metadata": {},
   "source": [
    " "
   ]
  },
  {
   "cell_type": "markdown",
   "metadata": {},
   "source": [
    "<B>9.15:  <B><U>Import a variable from a module into the program's namespace</U>.</B>  "
   ]
  },
  {
   "cell_type": "markdown",
   "metadata": {},
   "source": [
    "Perform the same as above but import a variable from 'mymod.py' directly into this program's namespace.  You should be able to print this variable without prepending the name with <B>mymod</B> or <B>mm</B>.  Again, print one of the varibles.\n"
   ]
  },
  {
   "cell_type": "code",
   "execution_count": null,
   "metadata": {},
   "outputs": [],
   "source": [
    "import sys\n",
    "\n",
    "sys.path.append('../lib')    # temporary - puts mymod.py's diretory\n",
    "                             #             in your import path\n"
   ]
  },
  {
   "cell_type": "markdown",
   "metadata": {},
   "source": [
    " "
   ]
  }
 ],
 "metadata": {},
 "nbformat": 4,
 "nbformat_minor": 4
}
