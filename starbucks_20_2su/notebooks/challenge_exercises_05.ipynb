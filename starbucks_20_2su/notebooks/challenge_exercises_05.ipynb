{
 "cells": [
  {
   "cell_type": "markdown",
   "metadata": {},
   "source": [
    "# Challenge Exercises, Pandas Part 1"
   ]
  },
  {
   "cell_type": "markdown",
   "metadata": {},
   "source": [
    "<U>Notes if you are using Jupyter Notebook</U>:  to call <B>exit()</B> from a notebook, please use <B>sys.exit()</B> (requires <B>import sys</B>); if a strange error occurs, it may be because Jupyter retains variables from all executed cells.  To reset the notebook, click 'Restart Kernel' (the circular arrow) -- this will not undo any changes made.\n",
    "\n",
    "<B>Also note</B> that files are located in the parent directory.  This means that you must prepend <B>../</B> to each filename to find it."
   ]
  },
  {
   "cell_type": "markdown",
   "metadata": {},
   "source": [
    " "
   ]
  },
  {
   "cell_type": "markdown",
   "metadata": {},
   "source": [
    "IMPORTING PANDAS AND NUMPY"
   ]
  },
  {
   "cell_type": "markdown",
   "metadata": {},
   "source": [
    "<B>5.1:  Import pandas and numpy.  Check the .\\_\\_version\\_\\_ attribute of the pandas module.  "
   ]
  },
  {
   "cell_type": "markdown",
   "metadata": {},
   "source": [
    "NOTE:  It's recommended to use Jupyter Notebooks for these exercises, mostly because it displays DataFrames clearly.  In the next Session we'll be using a charting library, and Notebook will be required.\n"
   ]
  },
  {
   "cell_type": "code",
   "execution_count": null,
   "metadata": {},
   "outputs": [],
   "source": []
  },
  {
   "cell_type": "markdown",
   "metadata": {},
   "source": [
    " "
   ]
  },
  {
   "cell_type": "markdown",
   "metadata": {},
   "source": [
    "INITIALIZING A DATAFRAME"
   ]
  },
  {
   "cell_type": "markdown",
   "metadata": {},
   "source": [
    "<B>5.2:  Create an empty DataFrame by calling <B>DataFrame()</B>.  Check the type of the resulting object.  "
   ]
  },
  {
   "cell_type": "code",
   "execution_count": null,
   "metadata": {},
   "outputs": [],
   "source": [
    "import pandas as pd\n",
    "\n"
   ]
  },
  {
   "cell_type": "markdown",
   "metadata": {},
   "source": [
    " "
   ]
  },
  {
   "cell_type": "markdown",
   "metadata": {},
   "source": [
    "<B>5.3:  Use this dict of lists to build a DataFrame.  Add a keyword argument <B>index=[]</B> to the call to DataFrame() to populate the list with row labels <B>'x', 'y'</B> and <B>'z'</B>.  Print the DataFrame.  "
   ]
  },
  {
   "cell_type": "code",
   "execution_count": null,
   "metadata": {},
   "outputs": [],
   "source": [
    "import pandas as pd\n",
    "\n",
    "dol = {  'a': [1, 2, 3],\n",
    "         'b': [2.9, 3.5, 4.9],\n",
    "         'c': ['yourstr', 'mystr', 'theirstr']  }"
   ]
  },
  {
   "cell_type": "markdown",
   "metadata": {},
   "source": [
    " "
   ]
  },
  {
   "cell_type": "markdown",
   "metadata": {},
   "source": [
    "<B>5.4:  Use dir() to explore the attributes of the pandas module and a DataFrame; use help() to see the help text on pd.read\\_csv()"
   ]
  },
  {
   "cell_type": "code",
   "execution_count": null,
   "metadata": {},
   "outputs": [],
   "source": [
    "import pandas as pd\n",
    "\n",
    "dol = {  'a': [1, 2, 3],\n",
    "         'b': [2.9, 3.5, 4.9],\n",
    "         'c': ['yourstr', 'mystr', 'theirstr']  }\n",
    "\n",
    "df = pd.DataFrame(dol, index=['x', 'y', 'z'])"
   ]
  },
  {
   "cell_type": "markdown",
   "metadata": {},
   "source": [
    " "
   ]
  },
  {
   "cell_type": "markdown",
   "metadata": {},
   "source": [
    "QUICK APPRAISAL OF DATAFRAME"
   ]
  },
  {
   "cell_type": "markdown",
   "metadata": {},
   "source": [
    "<B>5.5:  Use <B>len()</B> with the DataFrame and <B>len()</B> with <B>.columns</B> to see how many rows and columns are in the DataFrame.  "
   ]
  },
  {
   "cell_type": "code",
   "execution_count": null,
   "metadata": {},
   "outputs": [],
   "source": [
    "import pandas as pd\n",
    "\n",
    "dol = {  'a': [1, 2, 3, 4],\n",
    "         'b': [2.9, 3.5, 4.9, 5.3],\n",
    "         'c': ['yourstr', 'mystr', 'theirstr', 'ourstr']  }\n",
    "\n",
    "df = pd.DataFrame(dol, index=['x', 'y', 'z'])"
   ]
  },
  {
   "cell_type": "markdown",
   "metadata": {},
   "source": [
    " "
   ]
  },
  {
   "cell_type": "markdown",
   "metadata": {},
   "source": [
    "<B>5.6:  Use <B>.columns</B> and <B>.index</B> attributes to see the names of column and row labels in the DataFrame."
   ]
  },
  {
   "cell_type": "code",
   "execution_count": null,
   "metadata": {},
   "outputs": [],
   "source": [
    "import pandas as pd\n",
    "\n",
    "dol = {  'a': [1, 2, 3],\n",
    "         'b': [2.9, 3.5, 4.9],\n",
    "         'c': ['yourstr', 'mystr', 'theirstr']  }\n",
    "\n",
    "df = pd.DataFrame(dol, index=['x', 'y', 'z'])"
   ]
  },
  {
   "cell_type": "markdown",
   "metadata": {},
   "source": [
    " "
   ]
  },
  {
   "cell_type": "markdown",
   "metadata": {},
   "source": [
    "<B>5.7:  Use the .head() and .tail() methods to examine the DataFrame rows at the top and bottom of this DataFrame.  "
   ]
  },
  {
   "cell_type": "code",
   "execution_count": null,
   "metadata": {},
   "outputs": [],
   "source": [
    "import pandas as pd\n",
    "\n",
    "df = pd.read_csv('../FF_abbreviated.txt')\n",
    "\n"
   ]
  },
  {
   "cell_type": "markdown",
   "metadata": {},
   "source": [
    " "
   ]
  },
  {
   "cell_type": "markdown",
   "metadata": {},
   "source": [
    "<B>5.8:  Use simple numeric slicing to see the 50th through 53rd rows from this large DataFrame.  "
   ]
  },
  {
   "cell_type": "code",
   "execution_count": null,
   "metadata": {},
   "outputs": [],
   "source": [
    "import pandas as pd\n",
    "\n",
    "df = pd.read_csv('../F-F_Research_Data_Factors_daily.txt', sep='\\s+',\n",
    "                 header=3, skipfooter=2, engine='python')\n",
    "\n"
   ]
  },
  {
   "cell_type": "markdown",
   "metadata": {},
   "source": [
    " "
   ]
  },
  {
   "cell_type": "markdown",
   "metadata": {},
   "source": [
    "<B>5.9:  Use the <B>.dtypes</B> attribute to see what types pandas has assigned to each column.  "
   ]
  },
  {
   "cell_type": "code",
   "execution_count": null,
   "metadata": {},
   "outputs": [],
   "source": [
    "import pandas as pd\n",
    "\n",
    "dol = {  'a': [1, 2, 3],\n",
    "         'b': [2.9, 3.5, 4.9],\n",
    "         'c': ['yourstr', 'mystr', 'theirstr']  }\n",
    "\n",
    "df = pd.DataFrame(dol, index=['x', 'y', 'z'])"
   ]
  },
  {
   "cell_type": "markdown",
   "metadata": {},
   "source": [
    " "
   ]
  },
  {
   "cell_type": "markdown",
   "metadata": {},
   "source": [
    "<B>5.10:  Use the <B>.describe()</B> method to see statistics on your DataFrame's data."
   ]
  },
  {
   "cell_type": "code",
   "execution_count": null,
   "metadata": {},
   "outputs": [],
   "source": [
    "import pandas as pd\n",
    "\n",
    "dol = {  'a': [1, 2, 3],\n",
    "         'b': [2.9, 3.5, 4.9],\n",
    "         'c': ['yourstr', 'mystr', 'theirstr']  }\n",
    "\n",
    "df = pd.DataFrame(dol, index=['x', 'y', 'z'])"
   ]
  },
  {
   "cell_type": "markdown",
   "metadata": {},
   "source": [
    " "
   ]
  },
  {
   "cell_type": "markdown",
   "metadata": {},
   "source": [
    "DATAFRAME BASIC ELEMENTS:  Series, Index, columns"
   ]
  },
  {
   "cell_type": "markdown",
   "metadata": {},
   "source": [
    " "
   ]
  },
  {
   "cell_type": "markdown",
   "metadata": {},
   "source": [
    "<B>5.11:  Explore the .index and .columns attributes of a DataFrame.  Print the resulting objects.  "
   ]
  },
  {
   "cell_type": "code",
   "execution_count": null,
   "metadata": {},
   "outputs": [],
   "source": [
    "import pandas as pd\n",
    "\n",
    "dol = {  'a': [1, 2, 3],\n",
    "         'b': [2.9, 3.5, 4.9],\n",
    "         'c': ['yourstr', 'mystr', 'theirstr']  }\n",
    "\n",
    "df = pd.DataFrame(dol, index=['x', 'y', 'z'])\n"
   ]
  },
  {
   "cell_type": "markdown",
   "metadata": {},
   "source": [
    " "
   ]
  },
  {
   "cell_type": "markdown",
   "metadata": {},
   "source": [
    "<B>5.12:  View the 'a' column using subscript syntax (df['a']), and the same column using attribute syntax (df.a).  Print the type of this object.  "
   ]
  },
  {
   "cell_type": "code",
   "execution_count": null,
   "metadata": {},
   "outputs": [],
   "source": [
    "import pandas as pd\n",
    "\n",
    "dol = {  'a': [1, 2, 3],\n",
    "         'b': [2.9, 3.5, 4.9],\n",
    "         'c': ['yourstr', 'mystr', 'theirstr']  }\n",
    "\n",
    "df = pd.DataFrame(dol, index=['x', 'y', 'z'])\n"
   ]
  },
  {
   "cell_type": "markdown",
   "metadata": {},
   "source": [
    " "
   ]
  },
  {
   "cell_type": "markdown",
   "metadata": {},
   "source": [
    "<B>5.13:  View the 'y' row using .loc[] and do the same with .iloc[] indexing.  Print the type of this object.  "
   ]
  },
  {
   "cell_type": "code",
   "execution_count": null,
   "metadata": {},
   "outputs": [],
   "source": [
    "import pandas as pd\n",
    "\n",
    "dol = {  'a': [1, 2, 3],\n",
    "         'b': [2.9, 3.5, 4.9],\n",
    "         'c': ['yourstr', 'mystr', 'theirstr']  }\n",
    "\n",
    "df = pd.DataFrame(dol, index=['x', 'y', 'z'])\n"
   ]
  },
  {
   "cell_type": "markdown",
   "metadata": {},
   "source": [
    " "
   ]
  },
  {
   "cell_type": "markdown",
   "metadata": {},
   "source": [
    "MANIPULATING THE INDEX"
   ]
  },
  {
   "cell_type": "markdown",
   "metadata": {},
   "source": [
    "<B>5.14:  Print the .index and .columns attributes on this DataFrame"
   ]
  },
  {
   "cell_type": "code",
   "execution_count": null,
   "metadata": {},
   "outputs": [],
   "source": [
    "import pandas as pd\n",
    "\n",
    "df = pd.DataFrame({ 'a': [1, 2, 3],\n",
    "                    'b': [2.9, 3.5, 4.9],\n",
    "                    'c': ['yourstr', 'mystr', 'theirstr']  },\n",
    "                    index=['r1', 'r2', 'r3'])\n"
   ]
  },
  {
   "cell_type": "markdown",
   "metadata": {},
   "source": [
    " "
   ]
  },
  {
   "cell_type": "markdown",
   "metadata": {},
   "source": [
    "<B>5.15:  Using <B>.rename()</B>, rename column label 'a' to 'A' and row label 'r1' to 'R1'.  (<B>.rename()</B> returns the new, modified DataFrame)"
   ]
  },
  {
   "cell_type": "code",
   "execution_count": null,
   "metadata": {},
   "outputs": [],
   "source": [
    "import pandas as pd\n",
    "\n",
    "dol = {  'a': [1, 2, 3],\n",
    "         'b': [2.9, 3.5, 4.9],\n",
    "         'c': ['yourstr', 'mystr', 'theirstr']  }\n",
    "\n",
    "df = pd.DataFrame(dol, index=['r1', 'r2', 'r3'])\n"
   ]
  },
  {
   "cell_type": "markdown",
   "metadata": {},
   "source": [
    " "
   ]
  },
  {
   "cell_type": "markdown",
   "metadata": {},
   "source": [
    "<B>5.16:  Reorder the index on the DataFrame to 'r2', 'r1', 'r3' using .reindex().  (This method also returns the new, modified DataFrame.)"
   ]
  },
  {
   "cell_type": "code",
   "execution_count": null,
   "metadata": {},
   "outputs": [],
   "source": [
    "import pandas as pd\n",
    "\n",
    "df = pd.DataFrame({ 'a': [1, 2, 3],\n",
    "                    'b': [2.9, 3.5, 4.9],\n",
    "                    'c': ['yourstr', 'mystr', 'theirstr']  },\n",
    "                    index=['r1', 'r2', 'r3'])\n"
   ]
  },
  {
   "cell_type": "markdown",
   "metadata": {},
   "source": [
    " "
   ]
  },
  {
   "cell_type": "markdown",
   "metadata": {},
   "source": [
    "<B>5.17:  Reorder the columns on the DataFrame to 'b', 'a', 'c' using .reindex().  (Hint:  use <B>axis=1</B> to reorder columns.)"
   ]
  },
  {
   "cell_type": "code",
   "execution_count": null,
   "metadata": {},
   "outputs": [],
   "source": [
    "import pandas as pd\n",
    "\n",
    "df = pd.DataFrame({ 'a': [1, 2, 3],\n",
    "                    'b': [2.9, 3.5, 4.9],\n",
    "                    'c': ['yourstr', 'mystr', 'theirstr']  },\n",
    "                    index=['r1', 'r2', 'r3'])\n"
   ]
  },
  {
   "cell_type": "markdown",
   "metadata": {},
   "source": [
    " "
   ]
  },
  {
   "cell_type": "markdown",
   "metadata": {},
   "source": [
    "<B>5.18:  Use <B>.set\\_index()</B> to set the <B>a</B> column for the student DataFrame as the index for the DataFrame.   (This method returns the new, modified DataFrame.)"
   ]
  },
  {
   "cell_type": "code",
   "execution_count": null,
   "metadata": {},
   "outputs": [],
   "source": [
    "import pandas as pd\n",
    "\n",
    "df = pd.DataFrame({ 'a': [1, 2, 3],\n",
    "                    'b': [2.9, 3.5, 4.9],\n",
    "                    'c': ['yourstr', 'mystr', 'theirstr']  },\n",
    "                    index=['r1', 'r2', 'r3'])\n"
   ]
  },
  {
   "cell_type": "markdown",
   "metadata": {},
   "source": [
    " "
   ]
  },
  {
   "cell_type": "markdown",
   "metadata": {},
   "source": [
    "<B>5.19:  First, view the below DataFrame.  Note the <B>index\\_col='id'</b> parameter set the index to the <B>'id'</B> column.  Next, use <B>.reset\\_index()</B> to reset the index to the default (integers), while moving the index to a new column.  Lastly, add the <B>drop=True</B> parameter argument to drop the index entirely, and note that the old index has been dropped.  "
   ]
  },
  {
   "cell_type": "code",
   "execution_count": null,
   "metadata": {},
   "outputs": [],
   "source": [
    "import pandas as pd\n",
    "\n",
    "df = pd.read_csv('../student_db_names.csv', index_col='id')\n"
   ]
  },
  {
   "cell_type": "markdown",
   "metadata": {},
   "source": [
    " "
   ]
  },
  {
   "cell_type": "markdown",
   "metadata": {},
   "source": [
    "DATAFRAME READ FROM DATA SOURCE"
   ]
  },
  {
   "cell_type": "markdown",
   "metadata": {},
   "source": [
    "<B>5.20:  Read and then view a DataFrame from <B>student\\_db\\_names.csv</B> (Use <B>../</B> in front of the name to specify the parent directory.)"
   ]
  },
  {
   "cell_type": "code",
   "execution_count": null,
   "metadata": {},
   "outputs": [],
   "source": [
    "import pandas as pd\n",
    "\n"
   ]
  },
  {
   "cell_type": "markdown",
   "metadata": {},
   "source": [
    " "
   ]
  },
  {
   "cell_type": "markdown",
   "metadata": {},
   "source": [
    "<B>5.21:  Reading the same <B>student\\_db\\_names.csv</B> file, use the <B>index\\_col=</B> parameter argument to set the id column for the student DataFrame as the index."
   ]
  },
  {
   "cell_type": "code",
   "execution_count": null,
   "metadata": {},
   "outputs": [],
   "source": [
    "import pandas as pd\n",
    "\n",
    "df = pd.read_csv('../student_db_names.csv')\n"
   ]
  },
  {
   "cell_type": "markdown",
   "metadata": {},
   "source": [
    " "
   ]
  },
  {
   "cell_type": "markdown",
   "metadata": {},
   "source": [
    "<B>5.22:  Use <B>pd.read\\_csv()</B> to read a DataFrame from <B>FF\\_abbreviated.txt</B>.  Note that the separator is whitespace -- separator (<B>sep=</b> argument) must be '\\s+' (a regex for \"one or more spaces\").  After creating the DataFrame, use the <B>.columns</B> attribute to set column labels:  <B>date</B>, <B>Mkt-RF</B>, <B>SMB</B>, <B>HML</B>, <B>RF</B>.  "
   ]
  },
  {
   "cell_type": "code",
   "execution_count": null,
   "metadata": {},
   "outputs": [],
   "source": [
    "import pandas as pd\n"
   ]
  },
  {
   "cell_type": "markdown",
   "metadata": {},
   "source": [
    " "
   ]
  },
  {
   "cell_type": "markdown",
   "metadata": {},
   "source": [
    "<B>5.23:  Now use <B>read\\_csv()</b> to read <B>F-F\\_Research\\_Data\\_Factors\\_daily.txt</B>, using the <B>skiprows=</B> and <B>skipfooter=</B> arguments to omit the 4 header lines and 2 footer lines.  (Note that using these latter arguments require you also add <B>enginer='python'</B> to suppress a warning.)"
   ]
  },
  {
   "cell_type": "code",
   "execution_count": null,
   "metadata": {},
   "outputs": [],
   "source": [
    "import pandas as pd\n"
   ]
  },
  {
   "cell_type": "markdown",
   "metadata": {},
   "source": [
    "Note that skipping 4 lines asks pandas to start reading on the 5th line, where the table headers are -- these are automatically set as the headers for the table.  The date is set as the index."
   ]
  },
  {
   "cell_type": "markdown",
   "metadata": {},
   "source": [
    " "
   ]
  },
  {
   "cell_type": "markdown",
   "metadata": {},
   "source": [
    "<B>5.24:  When <B>read\\_csv()</b> reads <B>F-F\\_Research\\_Data\\_Factors\\_daily.txt</B>, it notes that the 1st column of 10-digit dates are all digits, so it automatically makes it the index and converts the column to integer.  Use the <B>index=False</B> parameter argument to <B>.read\\_csv()</B> to force a standard index."
   ]
  },
  {
   "cell_type": "code",
   "execution_count": null,
   "metadata": {},
   "outputs": [],
   "source": [
    "import pandas as pd\n",
    "\n",
    "df = pd.read_csv('../F-F_Research_Data_Factors_daily.txt', sep='\\s+',\n",
    "                    header=3, skipfooter=2, engine='python')\n"
   ]
  },
  {
   "cell_type": "markdown",
   "metadata": {},
   "source": [
    " "
   ]
  },
  {
   "cell_type": "markdown",
   "metadata": {},
   "source": [
    "<B>5.25:  Read a DataFrame from <B>ip\\_routes.json</B>.  First, use subscripts to arrive at the dataset you want (the dict paired with the key 'routes' -- the full path to this data is <B>['result'][0]['vrfs']['default']['routes']</B>).  Then, dump this dict to a string using <B>json.dumps()</B>.  Finally, pass the string to <B>pd.read\\_json()</B> with the correct <B>orient</B> parameter to tell <B>.read\\_json()</B> how the data is organized.  "
   ]
  },
  {
   "cell_type": "code",
   "execution_count": null,
   "metadata": {},
   "outputs": [],
   "source": [
    "import pandas as pd\n",
    "import json\n",
    "\n",
    "obj = json.load(open('../ip_routes.json'))\n",
    "text = json.dumps()"
   ]
  },
  {
   "cell_type": "markdown",
   "metadata": {},
   "source": [
    " "
   ]
  },
  {
   "cell_type": "markdown",
   "metadata": {},
   "source": [
    "<B>5.26:  Read a DataFrame from <B>sqlite\\_sample.db</B> using a database connection and the below query.  "
   ]
  },
  {
   "cell_type": "code",
   "execution_count": null,
   "metadata": {},
   "outputs": [],
   "source": [
    "import pandas as pd\n",
    "import sqlite3\n",
    "\n",
    "conn = sqlite3.connect('../sqlite_sample.db')\n",
    "\n",
    "query = 'SELECT * FROM planets'"
   ]
  },
  {
   "cell_type": "markdown",
   "metadata": {},
   "source": [
    " "
   ]
  },
  {
   "cell_type": "markdown",
   "metadata": {},
   "source": [
    "<B>5.27:  Open the <B>weather\\_newyork.html</B> page in a browser, and use your mouse pointer to select and copy just the first 5 rows of the data, excluding the headers.  Use <B>pd.read\\_clipboard()</B> to read the copied data into a DataFrame.  "
   ]
  },
  {
   "cell_type": "code",
   "execution_count": null,
   "metadata": {},
   "outputs": [],
   "source": [
    "import pandas as pd\n"
   ]
  },
  {
   "cell_type": "markdown",
   "metadata": {},
   "source": [
    " "
   ]
  },
  {
   "cell_type": "markdown",
   "metadata": {},
   "source": [
    "DATAFRAME SUBSCRIPTING and SLICING"
   ]
  },
  {
   "cell_type": "markdown",
   "metadata": {},
   "source": [
    " "
   ]
  },
  {
   "cell_type": "markdown",
   "metadata": {},
   "source": [
    "<B>5.28:  Subscript the <B>'HML'</B> column of the DataFrame using subscript syntax (you may also try attribute syntax, i.e. <B>df.HML</B>.)  If you need to see the other column headings, use <B>df.columns</B> or <B>df.head()</B>"
   ]
  },
  {
   "cell_type": "code",
   "execution_count": null,
   "metadata": {},
   "outputs": [],
   "source": [
    "import pandas as pd\n",
    "\n",
    "df = pd.read_csv('../F-F_Research_Data_Factors_daily.txt', sep='\\s+',\n",
    "                  skiprows=4, skipfooter=2, engine='python')\n",
    "\n"
   ]
  },
  {
   "cell_type": "markdown",
   "metadata": {},
   "source": [
    " "
   ]
  },
  {
   "cell_type": "markdown",
   "metadata": {},
   "source": [
    "<B>5.29:  Subscript the <B>19260701</B> row of the DataFrame using <B>.loc[]</B>. If you need to see the other row labels, use <B>df.index</B> or <B>df.head()</B>  (Note that the index values have been read as integers, not strings, so your index must be an integer.)"
   ]
  },
  {
   "cell_type": "code",
   "execution_count": null,
   "metadata": {},
   "outputs": [],
   "source": [
    "import pandas as pd\n",
    "\n",
    "df = pd.read_csv('../F-F_Research_Data_Factors_daily.txt', sep='\\s+',\n",
    "                    header=3, skipfooter=2, engine='python')\n",
    "\n"
   ]
  },
  {
   "cell_type": "markdown",
   "metadata": {},
   "source": [
    " "
   ]
  },
  {
   "cell_type": "markdown",
   "metadata": {},
   "source": [
    "<B>5.30:  Slice the 'Mkt-RF' and 'SMB' columns of the FF DataFrame using subscript syntax with a list of column names.  "
   ]
  },
  {
   "cell_type": "code",
   "execution_count": null,
   "metadata": {},
   "outputs": [],
   "source": [
    "import pandas as pd\n",
    "\n",
    "df = pd.read_csv('../F-F_Research_Data_Factors_daily.txt', sep='\\s+',\n",
    "                    header=3, skipfooter=2, engine='python')\n"
   ]
  },
  {
   "cell_type": "markdown",
   "metadata": {},
   "source": [
    "This type of slicing is done for read-only purposes (use .loc[] if you intend to write to the slice)."
   ]
  },
  {
   "cell_type": "markdown",
   "metadata": {},
   "source": [
    " "
   ]
  },
  {
   "cell_type": "markdown",
   "metadata": {},
   "source": [
    "<B>5.31:  Slice the first 3 rows of the FF DataFrame using standard slice syntax with integers (i.e., <B>0:3</B>.  "
   ]
  },
  {
   "cell_type": "code",
   "execution_count": null,
   "metadata": {},
   "outputs": [],
   "source": [
    "import pandas as pd\n",
    "\n",
    "df = pd.read_csv('../F-F_Research_Data_Factors_daily.txt', sep='\\s+',\n",
    "                    header=3, skipfooter=2, engine='python')\n"
   ]
  },
  {
   "cell_type": "markdown",
   "metadata": {},
   "source": [
    "This type of slicing is done for read-only purposes (use .loc[] if you intend to write to the slice)."
   ]
  },
  {
   "cell_type": "markdown",
   "metadata": {},
   "source": [
    " "
   ]
  },
  {
   "cell_type": "markdown",
   "metadata": {},
   "source": [
    "<B>5.32:  Use .loc[] indexing with a list to select the first 3 rows (19270701, 19270702 and 19270703) of the DataFrame.  (Note that these have been read into the DataFrame as integers.)  Do this first by passing a list of the 3 index values, then by passing a slice starting with <B>19270701</B> and ending with <B>19270703</B>.  "
   ]
  },
  {
   "cell_type": "code",
   "execution_count": null,
   "metadata": {},
   "outputs": [],
   "source": [
    "import pandas as pd\n",
    "\n",
    "df = pd.read_csv('../F-F_Research_Data_Factors_daily.txt', sep='\\s+',\n",
    "                    header=3, skipfooter=2, engine='python')\n"
   ]
  },
  {
   "cell_type": "markdown",
   "metadata": {},
   "source": [
    " "
   ]
  },
  {
   "cell_type": "markdown",
   "metadata": {},
   "source": [
    "<B>5.33:  Use .loc[] indexing to select the <B>Mkt-RF</B> and <B>SMB</B> columns of the DataFrame.  Indicate \"all rows\" by using the empty slice <B>:</B> in the rows position.  Use <B>.head()</B> on the resulting DataFrame slice to see its first rows.  "
   ]
  },
  {
   "cell_type": "code",
   "execution_count": null,
   "metadata": {},
   "outputs": [],
   "source": [
    "import pandas as pd\n",
    "\n",
    "df = pd.read_csv('../F-F_Research_Data_Factors_daily.txt', sep='\\s+',\n",
    "                    header=3, skipfooter=2, engine='python')\n"
   ]
  },
  {
   "cell_type": "markdown",
   "metadata": {},
   "source": [
    " "
   ]
  },
  {
   "cell_type": "markdown",
   "metadata": {},
   "source": [
    "<B>5.34:  Use <B>.loc[]</B> indexing to select a 2-dimensional slice of the first 3 rows (use a range between <B>19270701</B> and <B>19270705</B>) and <B>SMB</B> and <B>HML</B> columns of the DataFrame.  "
   ]
  },
  {
   "cell_type": "code",
   "execution_count": null,
   "metadata": {},
   "outputs": [],
   "source": [
    "import pandas as pd\n",
    "\n",
    "df = pd.read_csv('../F-F_Research_Data_Factors_daily.txt', sep='\\s+',\n",
    "                    header=3, skipfooter=2, engine='python')\n"
   ]
  },
  {
   "cell_type": "markdown",
   "metadata": {},
   "source": [
    " "
   ]
  },
  {
   "cell_type": "markdown",
   "metadata": {},
   "source": [
    "<B>5.35:  Use <B>.iloc[]</B> indexing to select the 1st 5 rows and 1st 2 columns of the DataFrame.  "
   ]
  },
  {
   "cell_type": "code",
   "execution_count": null,
   "metadata": {},
   "outputs": [],
   "source": [
    "import pandas as pd\n",
    "\n",
    "df = pd.read_csv('../F-F_Research_Data_Factors_daily.txt', sep='\\s+',\n",
    "                    header=3, skipfooter=2, engine='python')\n"
   ]
  },
  {
   "cell_type": "markdown",
   "metadata": {},
   "source": [
    " "
   ]
  },
  {
   "cell_type": "markdown",
   "metadata": {},
   "source": [
    "SLICING WITH MASK"
   ]
  },
  {
   "cell_type": "markdown",
   "metadata": {},
   "source": [
    "<B>5.36:  Use a mask (boolean test) in a subscript to select only those rows in the FF DataFrame that have a Mkt-RF value > 0.  Use <B>.head()</B> on the resulting DataFrame slice to see its first rows.  "
   ]
  },
  {
   "cell_type": "code",
   "execution_count": null,
   "metadata": {},
   "outputs": [],
   "source": [
    "import pandas as pd\n",
    "\n",
    "df = pd.read_csv('../F-F_Research_Data_Factors_daily.txt', sep='\\s+',\n",
    "                    header=3, skipfooter=2, engine='python')\n"
   ]
  },
  {
   "cell_type": "markdown",
   "metadata": {},
   "source": [
    "This type of slicing is done for read-only purposes (use .loc[] if you intend to write to the slice)."
   ]
  },
  {
   "cell_type": "markdown",
   "metadata": {},
   "source": [
    " "
   ]
  },
  {
   "cell_type": "markdown",
   "metadata": {},
   "source": [
    "<B>5.37:  Use .loc[] indexing with a mask (boolean test) to select only those rows with a 0.0 value in the Mkt-RF column.  Use <B>.head()</B> on the resulting DataFrame slice to see its first rows.  "
   ]
  },
  {
   "cell_type": "code",
   "execution_count": null,
   "metadata": {},
   "outputs": [],
   "source": [
    "import pandas as pd\n",
    "\n",
    "df = pd.read_csv('../F-F_Research_Data_Factors_daily.txt', sep='\\s+',\n",
    "                    header=3, skipfooter=2, engine='python')\n"
   ]
  },
  {
   "cell_type": "markdown",
   "metadata": {},
   "source": [
    " "
   ]
  },
  {
   "cell_type": "markdown",
   "metadata": {},
   "source": [
    "SORTING"
   ]
  },
  {
   "cell_type": "markdown",
   "metadata": {},
   "source": [
    "<B>5.38:  Use <B>.sort\\_index()</B> to sort the DataFrame by index."
   ]
  },
  {
   "cell_type": "markdown",
   "metadata": {},
   "source": [
    "<pre style=\"margin: 0; padding=0\"><DIV style=\"font-family: Courier; border: 1px solid #dbdbdb; padding: 7px\">import pandas as pd\n",
    "\n",
    "df = pd.DataFrame({ 'g': [7, 5, 1],\n",
    "                    'x': [2.9, 3.5, 4.9],\n",
    "                    'b': ['yourstr', 'mystr', 'theirstr']  },\n",
    "                    index=['r9', 'r5', 'r1'])\n",
    "</DIV></pre>"
   ]
  },
  {
   "cell_type": "markdown",
   "metadata": {},
   "source": [
    " "
   ]
  },
  {
   "cell_type": "markdown",
   "metadata": {},
   "source": [
    "<B>5.39:  Use <B>.sort\\_values()</B> to sort the DataFrame by the 'x' value.  Use <B>ascending=False</B> to reverse the sort.  "
   ]
  },
  {
   "cell_type": "markdown",
   "metadata": {},
   "source": [
    "<pre style=\"margin: 0; padding=0\"><DIV style=\"font-family: Courier; border: 1px solid #dbdbdb; padding: 7px\">import pandas as pd\n",
    "\n",
    "df = pd.DataFrame({ 'g': [7, 5, 1],\n",
    "                    'x': [2.9, 3.5, 4.9],\n",
    "                    'b': ['yourstr', 'mystr', 'theirstr']  },\n",
    "                    index=['r9', 'r5', 'r1'])\n",
    "</DIV></pre>"
   ]
  },
  {
   "cell_type": "markdown",
   "metadata": {},
   "source": [
    " "
   ]
  },
  {
   "cell_type": "markdown",
   "metadata": {},
   "source": [
    "<B>5.40:  Use <B>axis=1</B> to <B>.sort\\_index()</B> to sort the DataFrame by its columns.  "
   ]
  },
  {
   "cell_type": "markdown",
   "metadata": {},
   "source": [
    "<pre style=\"margin: 0; padding=0\"><DIV style=\"font-family: Courier; border: 1px solid #dbdbdb; padding: 7px\">import pandas as pd\n",
    "\n",
    "df = pd.DataFrame({ 'g': [7, 5, 1],\n",
    "                    'x': [2.9, 3.5, 4.9],\n",
    "                    'b': ['yourstr', 'mystr', 'theirstr']  },\n",
    "                    index=['r9', 'r5', 'r1'])\n",
    "</DIV></pre>"
   ]
  },
  {
   "cell_type": "markdown",
   "metadata": {},
   "source": [
    " "
   ]
  },
  {
   "cell_type": "markdown",
   "metadata": {},
   "source": [
    "CONCATENATING / APPENDING"
   ]
  },
  {
   "cell_type": "markdown",
   "metadata": {},
   "source": [
    "<B>5.41:  First view, then concatenate the two DataFrames vertically.  "
   ]
  },
  {
   "cell_type": "code",
   "execution_count": null,
   "metadata": {},
   "outputs": [],
   "source": [
    "import pandas as pd\n",
    "\n",
    "df = pd.DataFrame({ 'a': [1, 2, 3],\n",
    "                    'b': [2.9, 3.5, 4.9],\n",
    "                    'c': ['yourstr', 'mystr', 'theirstr']  },\n",
    "                    index=['r1', 'r2', 'r3'])\n",
    "\n",
    "df2 = pd.DataFrame({ 'a': [4, 5, 6],\n",
    "                     'b': [7.8, 8.2, 9.1],\n",
    "                     'c': ['thingy', 'thatty', 'flunky']  },\n",
    "                     index=['r1', 'r2', 'r3'])\n",
    "\n",
    "\n"
   ]
  },
  {
   "cell_type": "markdown",
   "metadata": {},
   "source": [
    "Note that the indices are repeated - this can be changed using index manipulation (<B>.rename()</B>, <B>.reindex()</B>, <B>.set\\_index()</B>."
   ]
  },
  {
   "cell_type": "markdown",
   "metadata": {},
   "source": [
    " "
   ]
  },
  {
   "cell_type": "markdown",
   "metadata": {},
   "source": [
    "<B>5.42:  First view, then concatenate the two DataFrames horizontally.  "
   ]
  },
  {
   "cell_type": "code",
   "execution_count": null,
   "metadata": {},
   "outputs": [],
   "source": [
    "import pandas as pd\n",
    "\n",
    "df = pd.DataFrame({ 'a': [1, 2, 3],\n",
    "                    'b': [2.9, 3.5, 4.9],\n",
    "                    'c': ['yourstr', 'mystr', 'theirstr']  },\n",
    "                    index=['r1', 'r2', 'r3'])\n",
    "\n",
    "df2 = pd.DataFrame({ 'd': ['xylo', 'yellow', 'zello'],\n",
    "                     'e': [0, 0, 0],\n",
    "                     'f': [1.1, 1.1, 1.2]  },\n",
    "                     index=['r1', 'r2', 'r3'])\n"
   ]
  },
  {
   "cell_type": "markdown",
   "metadata": {},
   "source": [
    " "
   ]
  },
  {
   "cell_type": "markdown",
   "metadata": {},
   "source": [
    "VECTORIZED OPERATIONS"
   ]
  },
  {
   "cell_type": "markdown",
   "metadata": {},
   "source": [
    "<B>5.43:  Add a new column 'd', set to 0."
   ]
  },
  {
   "cell_type": "code",
   "execution_count": null,
   "metadata": {},
   "outputs": [],
   "source": [
    "import pandas as pd\n",
    "\n",
    "df = pd.DataFrame({ 'a': [1, 2, 3],\n",
    "                    'b': [2.9, 3.5, 4.9],\n",
    "                    'c': ['yourstr', 'mystr', 'theirstr']  },\n",
    "                    index=['r1', 'r2', 'r3'])"
   ]
  },
  {
   "cell_type": "markdown",
   "metadata": {},
   "source": [
    " "
   ]
  },
  {
   "cell_type": "markdown",
   "metadata": {},
   "source": [
    "<B>5.44:  Add a new column 'd', set to the value of column 'b' * 2"
   ]
  },
  {
   "cell_type": "code",
   "execution_count": null,
   "metadata": {},
   "outputs": [],
   "source": [
    "import pandas as pd\n",
    "\n",
    "df = pd.DataFrame({ 'a': [1, 2, 3],\n",
    "                    'b': [2.9, 3.5, 4.9],\n",
    "                    'c': ['yourstr', 'mystr', 'theirstr']  },\n",
    "                    index=['r1', 'r2', 'r3'])"
   ]
  },
  {
   "cell_type": "markdown",
   "metadata": {},
   "source": [
    " "
   ]
  },
  {
   "cell_type": "markdown",
   "metadata": {},
   "source": [
    "<B>5.45:  Add a new column 'd', set to the sum of <B>a + b</B>."
   ]
  },
  {
   "cell_type": "code",
   "execution_count": null,
   "metadata": {},
   "outputs": [],
   "source": [
    "import pandas as pd\n",
    "\n",
    "df = pd.DataFrame({ 'a': [1, 2, 3],\n",
    "                    'b': [2.9, 3.5, 4.9],\n",
    "                    'c': ['yourstr', 'mystr', 'theirstr']  },\n",
    "                    index=['r1', 'r2', 'r3'])"
   ]
  },
  {
   "cell_type": "markdown",
   "metadata": {},
   "source": [
    " "
   ]
  },
  {
   "cell_type": "markdown",
   "metadata": {},
   "source": [
    "<B>5.46:  Read <B>weather\\_newyork.csv</B> into a DataFrame.  Use <B>.reindex()</B> to select just the EST, Max TemperatureF and Min TemperatureF columns (with all rows).  Use <B>.rename()</B> to rename these columns as <B>'date', 'max\\_temp' and 'min\\_temp'</B>.  Now add an additional column 'diff\\_temp' showing the difference between max and min.  Sort the DataFrame by this value, highest to lowest."
   ]
  },
  {
   "cell_type": "code",
   "execution_count": null,
   "metadata": {},
   "outputs": [],
   "source": [
    "import pandas as pd\n",
    "\n",
    "df = pd.read_csv('../weather_newyork.csv')\n",
    "\n",
    "dfs = df.reindex(['EST', 'Max TemperatureF', 'Min TemperatureF'], axis=1)\n",
    "\n",
    "dfs = dfs.rename(columns={ 'EST': 'date',\n",
    "                            'Max TemperatureF': 'max_temp',\n",
    "                            'Min TemperatureF': 'min_temp' })\n"
   ]
  },
  {
   "cell_type": "markdown",
   "metadata": {},
   "source": [
    " "
   ]
  },
  {
   "cell_type": "markdown",
   "metadata": {},
   "source": [
    "Please unzip the baby\\_names.zip file into a folder called 'baby\\_names'.  (For Windows users, please make sure to 'Extract All' so you can see a folder named 'baby\\_names' in your data folder -- otherwise, you may only be looking at a 'view' of an unzipped folder)"
   ]
  },
  {
   "cell_type": "markdown",
   "metadata": {},
   "source": [
    " "
   ]
  },
  {
   "cell_type": "markdown",
   "metadata": {},
   "source": [
    "<B>5.47:  Use <B>pd.read\\_csv()</B> to read <B>baby\\_names/yob2018.txt</B> and  <B>baby\\_names/yob2017.txt</B> into DataFrames (use <B>header=</B> to pass a list of column names <B>'name', 'gender' and 'count'</B>).  Add a year column to each DataFrame to indicate the year for that DataFrame.  Then concatenate vertically into one DataFrame.  Use <B>.head()</B> and <B>.tail()</B> to see the start and end.  "
   ]
  },
  {
   "cell_type": "code",
   "execution_count": null,
   "metadata": {},
   "outputs": [],
   "source": []
  },
  {
   "cell_type": "markdown",
   "metadata": {},
   "source": [
    " "
   ]
  },
  {
   "cell_type": "markdown",
   "metadata": {},
   "source": [
    "MERGE / JOIN"
   ]
  },
  {
   "cell_type": "markdown",
   "metadata": {},
   "source": [
    "<B>5.48:  View the two below DataFrames.  Then use <B>pd.merge()</B> to join the <B>student\\_db\\_grades.csv</B> and <B>student\\_db\\_names.csv</B> files into a single DataFrame, joining on the id (use <B>on='id'</B>).  Compare \"how='outer'\" (19 rows, including missing data at the end) to \"how='inner'\" (only 15 rows, with ids common to both tables) to effect an outer join.   "
   ]
  },
  {
   "cell_type": "code",
   "execution_count": null,
   "metadata": {},
   "outputs": [],
   "source": [
    "import pandas as pd\n",
    "\n",
    "sgrades = pd.read_csv('../student_db_grades.csv', sep=':')\n",
    "snames = pd.read_csv('../student_db_names.csv')\n"
   ]
  },
  {
   "cell_type": "markdown",
   "metadata": {},
   "source": [
    " "
   ]
  },
  {
   "cell_type": "markdown",
   "metadata": {},
   "source": [
    "<B>5.49:  Reading the same files but setting the 'id' column to the indexes of each DataFrame, use <B>df.join()</B> (the same operation as <B>pd.merge()</B>) to perform the above joins.  "
   ]
  },
  {
   "cell_type": "code",
   "execution_count": null,
   "metadata": {},
   "outputs": [],
   "source": [
    "import pandas as pd\n",
    "\n",
    "sgrades = pd.read_csv('../student_db_grades.csv', sep=':', index_col='id')\n",
    "snames = pd.read_csv('../student_db_names.csv', index_col='id')\n"
   ]
  },
  {
   "cell_type": "markdown",
   "metadata": {},
   "source": [
    " "
   ]
  },
  {
   "cell_type": "markdown",
   "metadata": {},
   "source": [
    "WORKING WITH MISSING DATA"
   ]
  },
  {
   "cell_type": "markdown",
   "metadata": {},
   "source": [
    "<B>5.50:  Using the joined student tables, check to see if any null values can be found in the 'course' column.  "
   ]
  },
  {
   "cell_type": "code",
   "execution_count": null,
   "metadata": {},
   "outputs": [],
   "source": [
    "import pandas as pd\n",
    "\n",
    "sgrades = pd.read_csv('../student_db_grades.csv', sep=':')\n",
    "snames = pd.read_csv('../student_db_names.csv')\n",
    "\n",
    "sj = sgrades.join(snames)\n",
    "\n"
   ]
  },
  {
   "cell_type": "markdown",
   "metadata": {},
   "source": [
    " "
   ]
  },
  {
   "cell_type": "markdown",
   "metadata": {},
   "source": [
    "<B>5.51:  Open <B>df0.csv</B> and fill empty cells in just the 'a' column with 0.  "
   ]
  },
  {
   "cell_type": "code",
   "execution_count": null,
   "metadata": {},
   "outputs": [],
   "source": [
    "import pandas as pd\n",
    "\n",
    "df = pd.read_csv('../df0.csv', index_col=0)"
   ]
  },
  {
   "cell_type": "markdown",
   "metadata": {},
   "source": [
    " "
   ]
  },
  {
   "cell_type": "markdown",
   "metadata": {},
   "source": [
    "AGGREGATIONS WITH groupby()"
   ]
  },
  {
   "cell_type": "markdown",
   "metadata": {},
   "source": [
    " "
   ]
  },
  {
   "cell_type": "markdown",
   "metadata": {},
   "source": [
    "<B>5.52:  Group the count of students by state.  Subscript to just show the <B>'id'</B> column.  Sort by value, descending (<B>ascending=False</B>)"
   ]
  },
  {
   "cell_type": "code",
   "execution_count": null,
   "metadata": {},
   "outputs": [],
   "source": [
    "import pandas as pd\n",
    "\n",
    "df = pd.read_csv('../student_db_names.csv')"
   ]
  },
  {
   "cell_type": "markdown",
   "metadata": {},
   "source": [
    " "
   ]
  },
  {
   "cell_type": "markdown",
   "metadata": {},
   "source": [
    "<B>5.53:  Review the below <B>baby names</B> concatenated DataFrame, then group the baby names by gender, then sort the resulting dataframe by this value, descending.  "
   ]
  },
  {
   "cell_type": "code",
   "execution_count": null,
   "metadata": {},
   "outputs": [],
   "source": [
    "import pandas as pd\n",
    "\n",
    "df18 = pd.read_csv('../baby_names/yob2018.txt',\n",
    "                   names=['name', 'gender', 'count'])\n",
    "df18['year'] = '2018'\n",
    "\n",
    "df17 = pd.read_csv('../baby_names/yob2017.txt',\n",
    "                   names=['name', 'gender', 'count'])\n",
    "df17['year'] = '2017'\n",
    "\n",
    "df = pd.concat([df18, df17])"
   ]
  },
  {
   "cell_type": "markdown",
   "metadata": {},
   "source": [
    " "
   ]
  }
 ],
 "metadata": {},
 "nbformat": 4,
 "nbformat_minor": 4
}
