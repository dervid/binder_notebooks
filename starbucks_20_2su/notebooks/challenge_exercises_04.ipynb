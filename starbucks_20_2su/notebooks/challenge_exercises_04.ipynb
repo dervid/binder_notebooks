{
 "cells": [
  {
   "cell_type": "markdown",
   "metadata": {},
   "source": [
    "# Challenge Exercises, Classes and Data Model"
   ]
  },
  {
   "cell_type": "markdown",
   "metadata": {},
   "source": [
    "<U>Notes if you are using Jupyter Notebook</U>:  to call <B>exit()</B> from a notebook, please use <B>sys.exit()</B> (requires <B>import sys</B>); if a strange error occurs, it may be because Jupyter retains variables from all executed cells.  To reset the notebook, click 'Restart Kernel' (the circular arrow) -- this will not undo any changes made."
   ]
  },
  {
   "cell_type": "markdown",
   "metadata": {},
   "source": [
    " "
   ]
  },
  {
   "cell_type": "markdown",
   "metadata": {},
   "source": [
    "<B>4.1:  Create a class called <B>ThisClass</B>, with one method, <B>report(self)</B>.  Inside this method, the instance/object (which is labeled self) should call the special id() function to report its own reference id, i.e. print id(self).  Create three instances using the constructor (for example, a = ThisClass()) and then call the report() method on each of them.  "
   ]
  },
  {
   "cell_type": "markdown",
   "metadata": {},
   "source": [
    "Lastly, print id() on each of your objects in the calling code, for example print id(a).  Note that the id numbers are the same as those found when calling report().\n"
   ]
  },
  {
   "cell_type": "code",
   "execution_count": null,
   "metadata": {},
   "outputs": [],
   "source": [
    "# your class here\n",
    "\n",
    "a = ThisClass()\n",
    "b = ThisClass()\n",
    "c = ThisClass()\n",
    "\n",
    "a.report()          # 4299790736  [your ids will of\n",
    "                    #              course differ]\n",
    "b.report()          # 4299790544\n",
    "c.report()          # 4299790800\n",
    "print               # [blank line]\n",
    "\n",
    "print id(a)         # 4299790736   (same as a.report() above)\n",
    "print id(b)         # 4299790544   (same as b.report() above)\n",
    "print id(c)         # 4299790800   (same as c.report() above)"
   ]
  },
  {
   "cell_type": "markdown",
   "metadata": {},
   "source": [
    " "
   ]
  },
  {
   "cell_type": "markdown",
   "metadata": {},
   "source": [
    "<B>4.2:  Create a class, TimeStamp(object):  that can store the current timestamp in an instance attribute.  "
   ]
  },
  {
   "cell_type": "markdown",
   "metadata": {},
   "source": [
    "set\\_time(self): will set the timestamp.  It can do this by setting the attribute in self this way (you will need to import datetime at the top of your script containing class TimeStamp):\n"
   ]
  },
  {
   "cell_type": "markdown",
   "metadata": {},
   "source": [
    "<pre style=\"margin: 0; padding=0\"><DIV style=\"font-family: Courier; border: 1px solid #dbdbdb; padding: 7px\">self.t = str(datetime.datetime.now())</DIV></pre>"
   ]
  },
  {
   "cell_type": "markdown",
   "metadata": {},
   "source": [
    "where t is the attribute label (you could call it whatever you prefer).  (Of course, you'll also need to import datetime at the top of your module.)\n",
    "\n",
    "get\\_time(self):  this returns the timestamp.  It simply returns the object attribute time, i.e. return self.t.\n",
    "\n",
    "Expected calls and output (your timestamp will be different of course, but note when the object time is repeated and when it is different):\n"
   ]
  },
  {
   "cell_type": "code",
   "execution_count": null,
   "metadata": {},
   "outputs": [],
   "source": [
    "# your class here\n",
    "\n",
    "var1 = TimeStamp()\n",
    "var2 = TimeStamp()\n",
    "var1.set_time()\n",
    "var2.set_time()\n",
    "print var1.get_time()    # 2013-04-07 15:19:31.762220\n",
    "print var2.get_time()    # 2013-04-07 15:19:31.956881\n",
    "print                    # [blank line]\n",
    "var1.set_time()          # change timestamp for var1\n",
    "print var1.get_time()    # 2013-04-07 15:19:31.956941\n",
    "                         # (diff from var1 above)\n",
    "print var2.get_time()    # 2013-04-07 15:19:31.956881\n",
    "                         # (same as var2 above)"
   ]
  },
  {
   "cell_type": "markdown",
   "metadata": {},
   "source": [
    " "
   ]
  },
  {
   "cell_type": "markdown",
   "metadata": {},
   "source": [
    "<B>4.3:  Copy the previous code, and this time replace the set\\_time() method with the constructor, \\_\\_init\\_\\_(self), which does the same work - sets the attribute to the current timestamp.  Now the method has only an \\_\\_init\\_\\_(self) method and a get\\_time(self) method which returns the timestamp.  "
   ]
  },
  {
   "cell_type": "code",
   "execution_count": null,
   "metadata": {},
   "outputs": [],
   "source": [
    "# your class here\n",
    "\n",
    "var1 = TimeStamp()\n",
    "var2 = TimeStamp()\n",
    "print var1.get_time()    # 2013-04-07 15:19:31.762220\n",
    "print var2.get_time()    # 2013-04-07 15:19:31.956881\n",
    "print\n",
    "print var1.get_time()    # 2013-04-07 15:19:31.762220\n",
    "                         # (same as previous var1)\n",
    "print var2.get_time()    # 2013-04-07 15:19:31.956881\n",
    "                         # (same as previous var2)"
   ]
  },
  {
   "cell_type": "markdown",
   "metadata": {},
   "source": [
    " "
   ]
  },
  {
   "cell_type": "markdown",
   "metadata": {},
   "source": [
    "CLASS INHERITANCE"
   ]
  },
  {
   "cell_type": "markdown",
   "metadata": {},
   "source": [
    "<B>4.4:  <U>Create a \"child\" class <B>Num</B> that inherits from Value</U> (you can put the '<B>pass</B>' statement (no quotes) in <B>class Num</B> for now, which means the definition is empty).  Construct a new <B>Num</B> object.  Once an inheritance relationship is established, a child object can call methods defined in the parent.  Construct a new <B>Num</B> object and call <B>getval()</B> from  that object."
   ]
  },
  {
   "cell_type": "code",
   "execution_count": null,
   "metadata": {},
   "outputs": [],
   "source": [
    "class Value:\n",
    "    def __init__(self, val):\n",
    "        self.aaa = val\n",
    "\n",
    "    def getval(self):\n",
    "        return self.aaa"
   ]
  },
  {
   "cell_type": "markdown",
   "metadata": {},
   "source": [
    " "
   ]
  },
  {
   "cell_type": "markdown",
   "metadata": {},
   "source": [
    "<B>4.5:  <U>Add an <B>\\_\\_init\\_\\_()</B> to <B>Num</B> that takes an argument and requires that it be an integer or float.</U>  "
   ]
  },
  {
   "cell_type": "markdown",
   "metadata": {},
   "source": [
    "Use the type-checking function <B>isinstance()</B>.  If the argument is not an integer, use <B>raise</B> to indicate a <B>TypeError</B> exception.\n"
   ]
  },
  {
   "cell_type": "code",
   "execution_count": null,
   "metadata": {},
   "outputs": [],
   "source": [
    "class Value:\n",
    "    def __init__(self, val):\n",
    "        self.aaa = val\n",
    "\n",
    "    def getval(self):\n",
    "        return self.aaa\n",
    "\n",
    "class Num(Value):\n",
    "    pass\n",
    "\n",
    "mynum = Num('10')        # TypeError:  must be an int"
   ]
  },
  {
   "cell_type": "markdown",
   "metadata": {},
   "source": [
    " "
   ]
  },
  {
   "cell_type": "markdown",
   "metadata": {},
   "source": [
    "<B>4.6:  <U>Examine the <B>Num</B> object with <B>dir()</B> and the <B>.\\_\\_dict\\_\\_()</B> attribute.</U>  "
   ]
  },
  {
   "cell_type": "code",
   "execution_count": null,
   "metadata": {},
   "outputs": [],
   "source": [
    "class Value:\n",
    "    def __init__(self, val):\n",
    "        self.aaa = val\n",
    "\n",
    "    def getval(self):\n",
    "        return self.aaa\n",
    "\n",
    "class Num(Value):\n",
    "    def __init__(self, val)::\n",
    "        if not isinstance(val, int):\n",
    "            raise TypeError('must be an int')\n",
    "\n",
    "mynum = Num('10')        # TypeError:  must be an int"
   ]
  },
  {
   "cell_type": "markdown",
   "metadata": {},
   "source": [
    " "
   ]
  },
  {
   "cell_type": "markdown",
   "metadata": {},
   "source": [
    "CLASS VARIABLES / ATTRIBUTES"
   ]
  },
  {
   "cell_type": "markdown",
   "metadata": {},
   "source": [
    "<B>4.7:  Access the <B>.aaa</b> and <B>.cval</B> attributes through each object.  Then access them through the class.  "
   ]
  },
  {
   "cell_type": "code",
   "execution_count": null,
   "metadata": {},
   "outputs": [],
   "source": [
    "class Value:\n",
    "\n",
    "    cval = 100\n",
    "\n",
    "    def __init__(self, val):\n",
    "        self.aaa = val\n",
    "\n",
    "    def getval(self):\n",
    "        return self.aaa\n",
    "\n",
    "\n",
    "x = Value(5)\n",
    "\n",
    "y = Value(10)"
   ]
  },
  {
   "cell_type": "markdown",
   "metadata": {},
   "source": [
    " "
   ]
  },
  {
   "cell_type": "markdown",
   "metadata": {},
   "source": [
    "OBJECT REVIEW AND INSPECTION"
   ]
  },
  {
   "cell_type": "markdown",
   "metadata": {},
   "source": [
    "<B>4.8:  <U>Inspect each object with <B>dir()</B>.</U>  Compare to the <B>.\\_\\_dict\\_\\_</B> attribute of the object.  "
   ]
  },
  {
   "cell_type": "code",
   "execution_count": null,
   "metadata": {},
   "outputs": [],
   "source": [
    "class Value:\n",
    "\n",
    "    cval = 100\n",
    "\n",
    "    def __init__(self, val):\n",
    "        self.aaa = val\n",
    "\n",
    "    def getval(self):\n",
    "        return self.aaa\n",
    "\n",
    "\n",
    "x = Value(5)"
   ]
  },
  {
   "cell_type": "markdown",
   "metadata": {},
   "source": [
    " "
   ]
  },
  {
   "cell_type": "markdown",
   "metadata": {},
   "source": [
    "<B>4.9:  <U>Inspect a string object with <B>dir()</B></U>.  "
   ]
  },
  {
   "cell_type": "code",
   "execution_count": null,
   "metadata": {},
   "outputs": [],
   "source": [
    "x = 'hello fellow well met'"
   ]
  },
  {
   "cell_type": "markdown",
   "metadata": {},
   "source": [
    " "
   ]
  },
  {
   "cell_type": "markdown",
   "metadata": {},
   "source": [
    "ATTRIBUTE SETTING"
   ]
  },
  {
   "cell_type": "markdown",
   "metadata": {},
   "source": [
    "<B>4.10:  <U>Set an attribute in an object using <B>setattr()</B></U>.  "
   ]
  },
  {
   "cell_type": "code",
   "execution_count": null,
   "metadata": {},
   "outputs": [],
   "source": [
    "class Value:\n",
    "\n",
    "    cval = 100\n",
    "\n",
    "    def __init__(self, val):\n",
    "        self.aaa = val\n",
    "\n",
    "    def getval(self):\n",
    "        return self.aaa\n",
    "\n",
    "\n",
    "x = Value(5)"
   ]
  },
  {
   "cell_type": "markdown",
   "metadata": {},
   "source": [
    " "
   ]
  },
  {
   "cell_type": "markdown",
   "metadata": {},
   "source": [
    "<B>4.11:  <U>Get an attribute value using <B>getattr()</B></U>.  "
   ]
  },
  {
   "cell_type": "code",
   "execution_count": null,
   "metadata": {},
   "outputs": [],
   "source": [
    "class Value:\n",
    "\n",
    "    cval = 100\n",
    "\n",
    "    def __init__(self, val):\n",
    "        self.aaa = val\n",
    "\n",
    "    def getval(self):\n",
    "        return self.aaa\n",
    "\n",
    "\n",
    "x = Value(5)"
   ]
  },
  {
   "cell_type": "markdown",
   "metadata": {},
   "source": [
    " "
   ]
  },
  {
   "cell_type": "markdown",
   "metadata": {},
   "source": [
    "<B>4.12:  <U>Check for the presence of an attribute using <B>hasattr()</B></U>.  "
   ]
  },
  {
   "cell_type": "code",
   "execution_count": null,
   "metadata": {},
   "outputs": [],
   "source": [
    "class Value:\n",
    "\n",
    "    cval = 100\n",
    "\n",
    "    def __init__(self, val):\n",
    "        self.aaa = val\n",
    "\n",
    "    def getval(self):\n",
    "        return self.aaa\n",
    "\n",
    "\n",
    "x = Value(5)\n"
   ]
  },
  {
   "cell_type": "markdown",
   "metadata": {},
   "source": [
    " "
   ]
  },
  {
   "cell_type": "markdown",
   "metadata": {},
   "source": [
    "<B>4.13:  <U>Remove an attribute key/value pair with <B>delattr()</B></U>.  "
   ]
  },
  {
   "cell_type": "code",
   "execution_count": null,
   "metadata": {},
   "outputs": [],
   "source": [
    "class Value:\n",
    "\n",
    "    cval = 100\n",
    "\n",
    "    def __init__(self, val):\n",
    "        self.aaa = val\n",
    "\n",
    "    def getval(self):\n",
    "        return self.aaa\n",
    "\n",
    "\n",
    "x = Value(5)\n"
   ]
  },
  {
   "cell_type": "markdown",
   "metadata": {},
   "source": [
    " "
   ]
  },
  {
   "cell_type": "markdown",
   "metadata": {},
   "source": [
    "<B>4.14:  <U>Use the <B>.\\_\\_dict\\_\\_</B> attribute as a dictionary</U>.  Set a key/value pair and read the value using an attribute.  "
   ]
  },
  {
   "cell_type": "code",
   "execution_count": null,
   "metadata": {},
   "outputs": [],
   "source": [
    "class Value:\n",
    "\n",
    "    cval = 100\n",
    "\n",
    "    def __init__(self, val):\n",
    "        self.aaa = val\n",
    "\n",
    "    def getval(self):\n",
    "        return self.aaa\n",
    "\n",
    "\n",
    "x = Value(5)\n"
   ]
  },
  {
   "cell_type": "markdown",
   "metadata": {},
   "source": [
    " "
   ]
  },
  {
   "cell_type": "markdown",
   "metadata": {},
   "source": [
    "<B>4.15:  <U>Examine the \"object\" class</U>.  Use the <B>dir()</B> function to examine the attributes found in the <B>object</b> class.  "
   ]
  },
  {
   "cell_type": "code",
   "execution_count": null,
   "metadata": {},
   "outputs": [],
   "source": []
  },
  {
   "cell_type": "markdown",
   "metadata": {},
   "source": [
    "Note that among the attributes is <B>\\_\\_str\\_\\_()</B> which is used to create a string representation of any object.\n",
    "\n",
    "Because every class inherits from <B>object</B>, printing the object will always return a string representation of that object."
   ]
  },
  {
   "cell_type": "markdown",
   "metadata": {},
   "source": [
    " "
   ]
  },
  {
   "cell_type": "markdown",
   "metadata": {},
   "source": [
    "\"MAGIC\" METHODS"
   ]
  },
  {
   "cell_type": "markdown",
   "metadata": {},
   "source": [
    "<B>4.16:  <u>Allow a class to \"print\" itself</u>.  Define a <B>\\_\\_str\\_\\_(self)</B> method that returns a string.  Now print the object.  "
   ]
  },
  {
   "cell_type": "code",
   "execution_count": null,
   "metadata": {},
   "outputs": [],
   "source": [
    "class Value:\n",
    "    def __init__(self, val):\n",
    "        self.aaa = val\n",
    "\n",
    "    def getval(self):\n",
    "        return self.aaa\n",
    "\n",
    "mynum = Value('10')\n",
    "\n"
   ]
  },
  {
   "cell_type": "markdown",
   "metadata": {},
   "source": [
    " "
   ]
  },
  {
   "cell_type": "markdown",
   "metadata": {},
   "source": [
    "<B>4.17:  <u>Allow an object to respond to subscripting</u>.  Define a <B>\\_\\_setitem\\_\\_(self)</B> method that takes two arguments (besides <B>self</B>) and prints the two arguments.  Now attempt to subscript the object.  "
   ]
  },
  {
   "cell_type": "code",
   "execution_count": null,
   "metadata": {},
   "outputs": [],
   "source": [
    "class Value:\n",
    "    def __init__(self, val):\n",
    "        self.aaa = val\n",
    "\n",
    "    def getval(self):\n",
    "        return self.aaa\n",
    "\n",
    "mynum = Value('10')\n",
    "\n",
    "mynum['a'] = 55\n",
    "\n"
   ]
  },
  {
   "cell_type": "markdown",
   "metadata": {},
   "source": [
    " "
   ]
  },
  {
   "cell_type": "markdown",
   "metadata": {},
   "source": [
    "<B>4.18:  <u>Replace <B>getval()</B> with <B>\\_\\_getitem\\_\\_()</B></u>.  The method should take one argument (besides <B>self</B>) and return the <B>.aaa</B> attribute.  Now attempt to subscript the object.  "
   ]
  },
  {
   "cell_type": "code",
   "execution_count": null,
   "metadata": {},
   "outputs": [],
   "source": [
    "class Value:\n",
    "    def __init__(self, val):\n",
    "        self.aaa = val\n",
    "\n",
    "    def getval(self):\n",
    "        return self.aaa\n",
    "\n",
    "mynum = Value('10')\n",
    "\n",
    "val = mynum.getval()      # 10\n",
    "\n",
    "# uncomment after adding __getitem__\n",
    "# val = mynum['whaeva']      # 10"
   ]
  },
  {
   "cell_type": "markdown",
   "metadata": {},
   "source": [
    " "
   ]
  },
  {
   "cell_type": "markdown",
   "metadata": {},
   "source": [
    "INHERITING FROM BUILTINS"
   ]
  },
  {
   "cell_type": "markdown",
   "metadata": {},
   "source": [
    "<B>4.19:  <u>Make <B>IntList</B> inherit from <B>list</B> and then treat it like a list</u>."
   ]
  },
  {
   "cell_type": "code",
   "execution_count": null,
   "metadata": {},
   "outputs": [],
   "source": [
    "class IntList:\n",
    "    pass           # means an empty block\n",
    "\n",
    "x = IntList()\n",
    "\n",
    "# uncomment once we are inheriting from list.\n",
    "#x.append(5)\n",
    "#x.append(3)\n",
    "#print(x)"
   ]
  },
  {
   "cell_type": "markdown",
   "metadata": {},
   "source": [
    " "
   ]
  },
  {
   "cell_type": "markdown",
   "metadata": {},
   "source": [
    "<B>4.20:  <u>Add an <B>append()</B> method to <B>IntList</B> to specialize the method.  Inside the method, only print a message; don't try to perform the append.  "
   ]
  },
  {
   "cell_type": "code",
   "execution_count": null,
   "metadata": {},
   "outputs": [],
   "source": [
    "class IntList(list):\n",
    "    pass\n",
    "\n",
    "x = IntList()\n",
    "\n",
    "x.append(5)       # now appending 5!\n",
    "x.append(3)       # now appending 3!\n",
    "\n",
    "print(x)          # []"
   ]
  },
  {
   "cell_type": "markdown",
   "metadata": {},
   "source": [
    " "
   ]
  },
  {
   "cell_type": "markdown",
   "metadata": {},
   "source": [
    "<B>4.21:  <U>Call <B>list.append()</B> from within the inheriting class</U>.  From inside the <B>IntList</B> <B>.append()</B> method, call the <B>append()</B> method on the object by calling it on the parent class.  (Don't call it on <B>self</B> or you will set up an endless loop.)"
   ]
  },
  {
   "cell_type": "code",
   "execution_count": null,
   "metadata": {},
   "outputs": [],
   "source": [
    "class IntList(list):\n",
    "    def append(self, item):\n",
    "        print(f'now appending {5}!')\n",
    "\n",
    "x = IntList()\n",
    "\n",
    "x.append(5)       # now appending 5!\n",
    "x.append(3)       # now appending 3!\n",
    "\n",
    "print(x)          # []"
   ]
  },
  {
   "cell_type": "markdown",
   "metadata": {},
   "source": [
    " "
   ]
  }
 ],
 "metadata": {},
 "nbformat": 4,
 "nbformat_minor": 4
}
