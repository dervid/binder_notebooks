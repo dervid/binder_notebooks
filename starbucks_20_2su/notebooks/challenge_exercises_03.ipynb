{
 "cells": [
  {
   "cell_type": "markdown",
   "metadata": {},
   "source": [
    "# Challenge Exercises:  Functions, Modules"
   ]
  },
  {
   "cell_type": "markdown",
   "metadata": {},
   "source": [
    "<B>3.1:  Write a function callme() that prints \"function called\" every time you call it.  Call the function with the following code:"
   ]
  },
  {
   "cell_type": "markdown",
   "metadata": {},
   "source": [
    "<U>Expected Output</U>:  "
   ]
  },
  {
   "cell_type": "markdown",
   "metadata": {},
   "source": [
    "<pre style=\"margin: 0; padding=0\"><DIV style=\"font-family: Courier; border: 1px solid #dbdbdb; padding: 7px\">function called...\n",
    "function called...\n",
    "function called...</DIV></pre>"
   ]
  },
  {
   "cell_type": "code",
   "execution_count": null,
   "metadata": {},
   "outputs": [],
   "source": [
    "# your code here\n",
    "\n",
    "callme()\n",
    "callme()\n",
    "callme()"
   ]
  },
  {
   "cell_type": "markdown",
   "metadata": {},
   "source": [
    " "
   ]
  },
  {
   "cell_type": "markdown",
   "metadata": {},
   "source": [
    "<B>3.2:  Write a function printupper() that takes one argument, a string, and prints that string uppercased.  Call it with the following code:"
   ]
  },
  {
   "cell_type": "code",
   "execution_count": null,
   "metadata": {},
   "outputs": [],
   "source": [
    "# your code here\n",
    "\n",
    "printupper('hello')\n",
    "printupper('my you are loud')\n",
    "printupper('I am not loud.  You are.')"
   ]
  },
  {
   "cell_type": "markdown",
   "metadata": {},
   "source": [
    "<U>Expected Output</U>:  "
   ]
  },
  {
   "cell_type": "markdown",
   "metadata": {},
   "source": [
    "<pre style=\"margin: 0; padding=0\"><DIV style=\"font-family: Courier; border: 1px solid #dbdbdb; padding: 7px\">HELLO\n",
    "MY YOU ARE LOUD\n",
    "I AM NOT LOUD.  YOU ARE.</DIV></pre>"
   ]
  },
  {
   "cell_type": "markdown",
   "metadata": {},
   "source": [
    " "
   ]
  },
  {
   "cell_type": "markdown",
   "metadata": {},
   "source": [
    "<B>3.3:  Write a function addme() that takes two arguments, adds them together and returns the two arguments added / concatenated.  Call it thusly:"
   ]
  },
  {
   "cell_type": "code",
   "execution_count": null,
   "metadata": {},
   "outputs": [],
   "source": [
    "# your code here\n",
    "\n",
    "x = addme(4, 5)\n",
    "print x\n",
    "\n",
    "y = addme('hey', 'you')\n",
    "print y"
   ]
  },
  {
   "cell_type": "markdown",
   "metadata": {},
   "source": [
    "<U>Expected Output</U>:  "
   ]
  },
  {
   "cell_type": "markdown",
   "metadata": {},
   "source": [
    "<pre style=\"margin: 0; padding=0\"><DIV style=\"font-family: Courier; border: 1px solid #dbdbdb; padding: 7px\">9\n",
    "heyyou</DIV></pre>"
   ]
  },
  {
   "cell_type": "markdown",
   "metadata": {},
   "source": [
    " "
   ]
  },
  {
   "cell_type": "markdown",
   "metadata": {},
   "source": [
    "<B>3.4:  Write a function multiply() that takes one positional argument (an expected integer value) and one keyword argument (an optional multiplier called <B>mul=</B>).  Make the default for <B>mul=</B> the value <B>1</B>.  Call as shown."
   ]
  },
  {
   "cell_type": "code",
   "execution_count": null,
   "metadata": {},
   "outputs": [],
   "source": [
    "# your code here\n",
    "\n",
    "\n",
    "x = multiply(5, mul=3)\n",
    "print(x)                  # 15\n",
    "\n",
    "y = multiply(5)\n",
    "print(y)                  # 10"
   ]
  },
  {
   "cell_type": "markdown",
   "metadata": {},
   "source": [
    " "
   ]
  },
  {
   "cell_type": "markdown",
   "metadata": {},
   "source": [
    "<B>3.5:  Write a function greet() with one positional argument (a first name) and one keyword argment (an optional last name).  Make the default for <B>last=</B> the value <B>None</B>.  Call as shown.  "
   ]
  },
  {
   "cell_type": "code",
   "execution_count": null,
   "metadata": {},
   "outputs": [],
   "source": [
    "# your code here\n",
    "\n",
    "\n",
    "x = greet('Joe')\n",
    "print(x)                 # Hi, Joe!\n",
    "\n",
    "y = greet('Joe', last='Wilson')\n",
    "print(y)                 # Hi, Joe Wilson!"
   ]
  },
  {
   "cell_type": "markdown",
   "metadata": {},
   "source": [
    " "
   ]
  },
  {
   "cell_type": "markdown",
   "metadata": {},
   "source": [
    "TRAPPING AND RAISING EXCEPTIONS"
   ]
  },
  {
   "cell_type": "markdown",
   "metadata": {},
   "source": [
    "<B>3.6:  (Review) <u>Trap the exception</u>.  First, run the script to see what exception is raised.  Then, use a <B>try/except</B> statement to trap the error.  In the <B>except</B> block, set <B>xi</B> to <B>1</b>.  "
   ]
  },
  {
   "cell_type": "code",
   "execution_count": null,
   "metadata": {},
   "outputs": [],
   "source": [
    "x = input('please enter an integer: ')\n",
    "\n",
    "xi = int(x)\n",
    "\n",
    "print(f'{xi} * 2 = {xi * 2}')"
   ]
  },
  {
   "cell_type": "markdown",
   "metadata": {},
   "source": [
    "<B>PLEASE DO NOT USE except: BY ITSELF!</B>  This works, but we must always specify the exception we are expecting.\n",
    "\n",
    "To test, run the program once with \"correct\" input (i.e., numbers only) and then run it again with \"bad\" input (i.e., letters) to trigger the exception."
   ]
  },
  {
   "cell_type": "markdown",
   "metadata": {},
   "source": [
    " "
   ]
  },
  {
   "cell_type": "markdown",
   "metadata": {},
   "source": [
    "<B>3.7:  (Review) <u>Trap the exception</u>.  Again, determine the exception type that will occur if the user types in a key that doesn't exist in the dict.  Then use the <B>try/except</B> to trap the exception (PLEASE DO NOT USE except: BY ITSELF).  If the exception is raised, assign None to <B>val</B>.    "
   ]
  },
  {
   "cell_type": "code",
   "execution_count": null,
   "metadata": {},
   "outputs": [],
   "source": [
    "keydict = {'a': 1, 'b': 2, 'c': 3}\n",
    "\n",
    "x = input('please enter a key for this dict: ')\n",
    "\n",
    "val = keydict[x]\n",
    "\n",
    "print(f'the value for {x} is {val}.'')"
   ]
  },
  {
   "cell_type": "markdown",
   "metadata": {},
   "source": [
    " "
   ]
  },
  {
   "cell_type": "markdown",
   "metadata": {},
   "source": [
    "<B>3.8:  <u>Trap the exception, then <B>raise</B> a new one</u>.  Inside the <B>except</B> block, raise another <B>KeyError</B>, or any existing exception that you choose.  "
   ]
  },
  {
   "cell_type": "code",
   "execution_count": null,
   "metadata": {},
   "outputs": [],
   "source": [
    "keydict = {'a': 1, 'b': 2, 'c': 3}\n",
    "\n",
    "x = input('please enter a key for this dict: ')\n",
    "\n",
    "try:\n",
    "    val = keydict[x]\n",
    "except KeyError:\n",
    "    print('uh-oh')   # replace this code\n",
    "\n",
    "print(f'the value for {x} is {val}.')"
   ]
  },
  {
   "cell_type": "markdown",
   "metadata": {},
   "source": [
    " "
   ]
  },
  {
   "cell_type": "markdown",
   "metadata": {},
   "source": [
    "<B>3.9:  <u>Without any reason, raise a <B>ValueError</B> exception</u>.  Choose your favorite exception!  You don't have one?  Then <B>raise ZeroDivisionError</b>.  "
   ]
  },
  {
   "cell_type": "code",
   "execution_count": null,
   "metadata": {},
   "outputs": [],
   "source": [
    "# your code here"
   ]
  },
  {
   "cell_type": "markdown",
   "metadata": {},
   "source": [
    " "
   ]
  },
  {
   "cell_type": "markdown",
   "metadata": {},
   "source": [
    "REFERENCES"
   ]
  },
  {
   "cell_type": "markdown",
   "metadata": {},
   "source": [
    "<B>3.10:  One list or two?  How can we test?  "
   ]
  },
  {
   "cell_type": "code",
   "execution_count": null,
   "metadata": {},
   "outputs": [],
   "source": [
    "x = ['a', 'b', 'c']\n",
    "\n",
    "y = x"
   ]
  },
  {
   "cell_type": "markdown",
   "metadata": {},
   "source": [
    " "
   ]
  },
  {
   "cell_type": "markdown",
   "metadata": {},
   "source": [
    "<B>3.11:  Two lists or three?  Is the list in the last item of y a duplicate list?  How can we test?  "
   ]
  },
  {
   "cell_type": "code",
   "execution_count": null,
   "metadata": {},
   "outputs": [],
   "source": [
    "x = ['a', 'b', 'c']\n",
    "\n",
    "y = [1, 2, 3, x]"
   ]
  },
  {
   "cell_type": "markdown",
   "metadata": {},
   "source": [
    " "
   ]
  },
  {
   "cell_type": "markdown",
   "metadata": {},
   "source": [
    "REFERENCES PASSED TO FUNCTIONS"
   ]
  },
  {
   "cell_type": "markdown",
   "metadata": {},
   "source": [
    "<B>3.12:  One list or two?  Is the list in <B>appendme()</B> a new list?  How can we test?  "
   ]
  },
  {
   "cell_type": "code",
   "execution_count": null,
   "metadata": {},
   "outputs": [],
   "source": [
    "def appendme(arg):\n",
    "    arg.append('d')\n",
    "\n",
    "x = ['a', 'b', 'c']\n",
    "\n",
    "appendme(x)\n"
   ]
  },
  {
   "cell_type": "markdown",
   "metadata": {},
   "source": [
    " "
   ]
  },
  {
   "cell_type": "markdown",
   "metadata": {},
   "source": [
    "<B>3.13:  <B>greet()</B> has been assigned to <B>y</B>.  Call the function through variable <B>y</B>."
   ]
  },
  {
   "cell_type": "code",
   "execution_count": null,
   "metadata": {},
   "outputs": [],
   "source": [
    "def greet():\n",
    "    print('hello, world')\n",
    "\n",
    "y = greet"
   ]
  },
  {
   "cell_type": "markdown",
   "metadata": {},
   "source": [
    " "
   ]
  },
  {
   "cell_type": "markdown",
   "metadata": {},
   "source": [
    "<B>3.14:  Call <B>callit(), passing <B>greet</B> as argument, then inside <B>callit()</B>, call the function through the argument (do not call <B>greet()</B>)."
   ]
  },
  {
   "cell_type": "code",
   "execution_count": null,
   "metadata": {},
   "outputs": [],
   "source": [
    "def callit(func):\n",
    "    # your code here\n",
    "\n",
    "def greet():\n",
    "    print('hello, world!')\n",
    "\n",
    "\n",
    "# your code also here"
   ]
  },
  {
   "cell_type": "markdown",
   "metadata": {},
   "source": [
    " "
   ]
  },
  {
   "cell_type": "markdown",
   "metadata": {},
   "source": [
    "HIGHER ORDER FUNCTIONS"
   ]
  },
  {
   "cell_type": "markdown",
   "metadata": {},
   "source": [
    "<B>3.15:  map() and filter() functions:  call below functions to see result.  Play with return value of functions to see altered result.  "
   ]
  },
  {
   "cell_type": "code",
   "execution_count": null,
   "metadata": {},
   "outputs": [],
   "source": [
    "def doubleit(arg):\n",
    "    return arg * 2\n",
    "\n",
    "def is_positive(arg):\n",
    "    if arg > 0:\n",
    "        return True\n",
    "    else:\n",
    "        return False\n",
    "\n",
    "proclist = [-3, -2, -1, 0, 1, 2, 3]\n",
    "\n",
    "transformed_list = map(doubleit, proclist)\n",
    "\n",
    "filtered_list = filter(is_positive, proclist)\n",
    "\n",
    "print('* mapped list *')\n",
    "print(transformed_list)\n",
    "\n",
    "print()\n",
    "\n",
    "print('* filtered list *')\n",
    "print(filtered_list)"
   ]
  },
  {
   "cell_type": "markdown",
   "metadata": {},
   "source": [
    " "
   ]
  },
  {
   "cell_type": "markdown",
   "metadata": {},
   "source": [
    "<B>3.16:  <B>greet</B> has been assigned to <B>callit</B>.  Call <B>greet</B> inside the function."
   ]
  },
  {
   "cell_type": "code",
   "execution_count": null,
   "metadata": {},
   "outputs": [],
   "source": [
    "def callit(arg):\n",
    "    # your code here\n",
    "\n",
    "def greet():\n",
    "    print('hello, world')\n",
    "\n",
    "callit(greet)"
   ]
  },
  {
   "cell_type": "markdown",
   "metadata": {},
   "source": [
    " "
   ]
  },
  {
   "cell_type": "markdown",
   "metadata": {},
   "source": [
    "<B>3.17:  <B>greet</B> has been returned from <B>returnit</B>.  Call <B>greet</B> outside the function."
   ]
  },
  {
   "cell_type": "code",
   "execution_count": null,
   "metadata": {},
   "outputs": [],
   "source": [
    "def returnit():\n",
    "    def greet():\n",
    "        print('hello, world')\n",
    "    return greet\n",
    "\n",
    "x = returnit()"
   ]
  },
  {
   "cell_type": "markdown",
   "metadata": {},
   "source": [
    " "
   ]
  },
  {
   "cell_type": "markdown",
   "metadata": {},
   "source": [
    "<B>3.18:  Demo:  a \"decorator\" function -- a function that both takes a function as argument and returns a function as return value.  Use the prior concepts to understand what is happening here.  "
   ]
  },
  {
   "cell_type": "code",
   "execution_count": null,
   "metadata": {},
   "outputs": [],
   "source": [
    "def my_decorator(some_function):\n",
    "\n",
    "    def wrapper():\n",
    "        print(\"Something is happening before some_function() is called.\")\n",
    "\n",
    "        some_function()\n",
    "\n",
    "        print(\"Something is happening after some_function() is called.\")\n",
    "    return wrapper\n",
    "\n",
    "\n",
    "def this_function():\n",
    "    print(\"Wheee!\")\n",
    "\n",
    "\n",
    "# now the same name points to a replacement function\n",
    "this_function = my_decorator(this_function)\n",
    "\n",
    "# calling the replacement function\n",
    "this_function()\n"
   ]
  },
  {
   "cell_type": "markdown",
   "metadata": {},
   "source": [
    " "
   ]
  },
  {
   "cell_type": "markdown",
   "metadata": {},
   "source": [
    "<B>3.19:  Same function as last time -- this time use @ (\"pie syntax\") to produce a \"true\" Python decorator.  Place the decorator just above the function def for <B>this\\_function</B>, and remove the call to <B>my\\_decorator()</B>.  "
   ]
  },
  {
   "cell_type": "code",
   "execution_count": null,
   "metadata": {},
   "outputs": [],
   "source": [
    "def my_decorator(some_function):\n",
    "\n",
    "    def wrapper():\n",
    "        print(\"Something is happening before some_function() is called.\")\n",
    "\n",
    "        some_function()\n",
    "\n",
    "        print(\"Something is happening after some_function() is called.\")\n",
    "    return wrapper\n",
    "\n",
    "\n",
    "def this_function():\n",
    "    print(\"Wheee!\")\n",
    "\n",
    "\n",
    "# now the same name points to a replacement function\n",
    "this_function = my_decorator(this_function)\n",
    "\n",
    "# calling the replacement function\n",
    "this_function()\n"
   ]
  },
  {
   "cell_type": "markdown",
   "metadata": {},
   "source": [
    " "
   ]
  },
  {
   "cell_type": "markdown",
   "metadata": {},
   "source": [
    "<B>3.20:  Understanding *args and **kwargs:  the below function has 2 positional arguments and 2 keyword arguments, and prints the arguments inside the function.  Call the function as shown, and see the the arguments printed.  Now replace the arguments in the signature with <B>*args</B> and <B>**kwargs</B> and print the variables <B>args</B> and <B>kwargs</B> inside the function. "
   ]
  },
  {
   "cell_type": "code",
   "execution_count": null,
   "metadata": {},
   "outputs": [],
   "source": [
    "def printargs(w, x, y=0, z=None):\n",
    "\n",
    "    print(w, x, y, z)\n",
    "\n",
    "\n",
    "printargs(5, 10, y=100, z='Hello!')"
   ]
  },
  {
   "cell_type": "markdown",
   "metadata": {},
   "source": [
    " "
   ]
  },
  {
   "cell_type": "markdown",
   "metadata": {},
   "source": [
    "<B>3.21:  Same decorator function as last time -- <B>this\\_function()</B> has been defined to take two positional arguments and two keyword arguments, printing these arguments inside <B>this\\_function()</B>).  Inside <B>wrapper()</B>, we accept these arguments and pass them to <B>some\\_function()</B> (which is <B>this\\_function()</B>.  Run this program to see that it works.  Now replace the positional arguments with <B>*args</B> and the keyword arguments with <B>**kwargs</B> and see that it works in the same way.  "
   ]
  },
  {
   "cell_type": "code",
   "execution_count": null,
   "metadata": {},
   "outputs": [],
   "source": [
    "def my_decorator(some_function):\n",
    "\n",
    "    def wrapper(a, b, x=None, y=None):\n",
    "        print(\"Something is happening before some_function() is called.\")\n",
    "\n",
    "        some_function(a, b, x=x, y=y)\n",
    "\n",
    "        print(\"Something is happening after some_function() is called.\")\n",
    "    return wrapper\n",
    "\n",
    "\n",
    "@my_decorator\n",
    "def this_function(a, b, x=None,  y=None):\n",
    "    print(f\"Wheee!  {a}, {b}, {x}, {y}\")\n",
    "\n",
    "\n",
    "# calling the replacement function\n",
    "this_function(5, 10, x=99, y='hey!')"
   ]
  },
  {
   "cell_type": "markdown",
   "metadata": {},
   "source": [
    " "
   ]
  }
 ],
 "metadata": {},
 "nbformat": 4,
 "nbformat_minor": 4
}
