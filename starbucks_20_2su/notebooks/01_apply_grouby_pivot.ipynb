{
 "cells": [
  {
   "cell_type": "markdown",
   "metadata": {},
   "source": [
    "# DataFrame and Series .apply(), DataFrame.groupby() and pandas.pivot_table()"
   ]
  },
  {
   "cell_type": "markdown",
   "metadata": {},
   "source": [
    "<U>Notes if you are using Jupyter Notebook</U>:  to call <B>exit()</B> from a notebook, please use <B>sys.exit()</B> (requires <B>import sys</B>); if a strange error occurs, it may be because Jupyter retains variables from all executed cells.  To reset the notebook's variables, click 'Restart Kernel' (the circular arrow) -- this will not undo any text changes.  "
   ]
  },
  {
   "cell_type": "code",
   "execution_count": 4,
   "metadata": {},
   "outputs": [],
   "source": [
    "import pandas as pd\n",
    "import numpy as np"
   ]
  },
  {
   "cell_type": "markdown",
   "metadata": {},
   "source": [
    "### Series and DataFrame dtypes()"
   ]
  },
  {
   "cell_type": "markdown",
   "metadata": {},
   "source": [
    "#### check the DataFrame .dtypes and Series .dtype attributes"
   ]
  },
  {
   "cell_type": "code",
   "execution_count": null,
   "metadata": {},
   "outputs": [],
   "source": [
    "dol = {  'a': [1, 2, 3],\n",
    "         'b': [2.9, 3.5, 4.9],\n",
    "         'c': ['yourstr', 'mystr', 'theirstr']  }\n",
    "\n",
    "df = pd.DataFrame(dol, index=['w', 'x', 'y'])"
   ]
  },
  {
   "cell_type": "markdown",
   "metadata": {},
   "source": [
    "#### use Series .astype() to change the 'a' column to np.float64, and 'b' column to str; check dtypes"
   ]
  },
  {
   "cell_type": "code",
   "execution_count": null,
   "metadata": {},
   "outputs": [],
   "source": []
  },
  {
   "cell_type": "markdown",
   "metadata": {},
   "source": [
    "#### use Series .astype() to change the 'b' column to numeric, with the np.to_numeric function"
   ]
  },
  {
   "cell_type": "code",
   "execution_count": null,
   "metadata": {},
   "outputs": [],
   "source": []
  },
  {
   "cell_type": "markdown",
   "metadata": {},
   "source": [
    "###  apply() with a Series column:  apply a function to each item in a column"
   ]
  },
  {
   "cell_type": "code",
   "execution_count": null,
   "metadata": {},
   "outputs": [],
   "source": [
    "dol = {  'a': [1, 2, 3],\n",
    "         'b': [2.9, 3.5, 4.9],\n",
    "         'c': ['yourstr', 'mystr', 'theirstr']  }\n",
    "\n",
    "df = pd.DataFrame(dol, index=['w', 'x', 'y'])"
   ]
  },
  {
   "cell_type": "code",
   "execution_count": null,
   "metadata": {},
   "outputs": [],
   "source": [
    "def centify(arg):\n",
    "    return arg * 100\n",
    "\n",
    "# apply double() to each item in df.a\n",
    "df['d'] = df.a.apply(centify)\n",
    "\n",
    "\n",
    "# apply lambda to each item in df.loc['y']\n",
    "df.loc['z'] = df.loc['y'].apply(lambda x:  str(x) + ' hey!')\n",
    "df"
   ]
  },
  {
   "cell_type": "code",
   "execution_count": null,
   "metadata": {},
   "outputs": [],
   "source": [
    "# apply a realtime currency conversion\n",
    "df = pd.read_excel(\"sales-funnel.xlsx\")\n",
    "\n",
    "def get_realtime_EUR(price):\n",
    "\n",
    "    import requests\n",
    "    rate = requests.get('https://api.exchangeratesapi.io/latest?base=USD').json()['rates']['EUR']\n",
    "    return round(price * rate, 2)\n",
    "\n",
    "#df_prices = df.copy()\n",
    "#df_prices['EUR_price'] = df_prices.Price.apply(get_realtime_EUR)\n",
    "#df_prices\n",
    "df"
   ]
  },
  {
   "cell_type": "markdown",
   "metadata": {},
   "source": [
    "#### .apply() on a DataFrame:  modify row or column"
   ]
  },
  {
   "cell_type": "code",
   "execution_count": null,
   "metadata": {},
   "outputs": [],
   "source": [
    "dol = {  'a': [1, 2, 3],\n",
    "         'b': [2.9, 3.5, 4.9],\n",
    "         'c': [99, 100, 101]  }\n",
    "\n",
    "df = pd.DataFrame(dol, index=['w', 'x', 'y'])\n",
    "\n",
    "def docol(column):\n",
    "    colsum = column.sum()\n",
    "    column.loc['z'] = colsum\n",
    "    return column\n",
    "\n",
    "#df = df.apply(docol)\n",
    "df"
   ]
  },
  {
   "cell_type": "code",
   "execution_count": null,
   "metadata": {},
   "outputs": [],
   "source": [
    "dol = {  'a': [1, 2, 3],\n",
    "         'b': [2.9, 3.5, 4.9],\n",
    "         'c': [99, 100, 101]  }\n",
    "\n",
    "df = pd.DataFrame(dol, index=['w', 'x', 'y'])\n",
    "\n",
    "def dorow(row):\n",
    "    row['d'] = row.sum()\n",
    "    return row\n",
    "\n",
    "#df = df.apply(dorow, axis=1)\n",
    "df"
   ]
  },
  {
   "cell_type": "markdown",
   "metadata": {},
   "source": [
    "### groupby() review:  single and multi-column aggregation"
   ]
  },
  {
   "cell_type": "code",
   "execution_count": null,
   "metadata": {},
   "outputs": [],
   "source": []
  },
  {
   "cell_type": "markdown",
   "metadata": {},
   "source": [
    "#### after reading data in 'sales-funnel.xlsx', view the dataframe"
   ]
  },
  {
   "cell_type": "code",
   "execution_count": 3,
   "metadata": {},
   "outputs": [],
   "source": [
    "df = pd.read_excel(\"data/sales-funnel.xlsx\")"
   ]
  },
  {
   "cell_type": "markdown",
   "metadata": {},
   "source": [
    "#### perform an aggregation on the 'Name' column"
   ]
  },
  {
   "cell_type": "code",
   "execution_count": 4,
   "metadata": {},
   "outputs": [],
   "source": [
    "# pd.pivot_table(df, index=[]) \n",
    "\n",
    "# df.groupby().mean()"
   ]
  },
  {
   "cell_type": "markdown",
   "metadata": {},
   "source": [
    "#### perform an aggregation on the 'Name', 'Manager' and 'Rep' columns"
   ]
  },
  {
   "cell_type": "code",
   "execution_count": null,
   "metadata": {},
   "outputs": [],
   "source": [
    "#pd.pivot_table(df, index=[])\n",
    "\n",
    "# df.groupby([]).mean()"
   ]
  },
  {
   "cell_type": "markdown",
   "metadata": {},
   "source": [
    "#### perform an aggregation on the 'Manager' and 'Rep' columns"
   ]
  },
  {
   "cell_type": "code",
   "execution_count": 6,
   "metadata": {},
   "outputs": [],
   "source": [
    "# pd.pivot_table(df, index=[])\n",
    "\n",
    "# df.groupby([]).mean()               # [['Account', 'Price', 'Quantity']]"
   ]
  },
  {
   "cell_type": "markdown",
   "metadata": {},
   "source": [
    "#### set the aggregation function (aggfunc=) to 'np.sum' (default is 'np.mean')"
   ]
  },
  {
   "cell_type": "code",
   "execution_count": 7,
   "metadata": {},
   "outputs": [],
   "source": [
    "# pd.pivot_table(df, index=['Manager', 'Rep'], aggfunc=)\n",
    "\n",
    "# df.groupby(['Manager', 'Rep']).sum()    # [['Account', 'Price', 'Quantity']]"
   ]
  },
  {
   "cell_type": "markdown",
   "metadata": {},
   "source": [
    "#### set the 'values=' argument to Price to see Manager and Rep Price values; change aggfunc to np.mean and len"
   ]
  },
  {
   "cell_type": "code",
   "execution_count": 8,
   "metadata": {},
   "outputs": [],
   "source": [
    "# pd.pivot_table(df, index=[\"Manager\",\"Rep\"], \n",
    "#                    values=, \n",
    "#                    aggfunc=[])"
   ]
  },
  {
   "cell_type": "markdown",
   "metadata": {},
   "source": [
    "#### <U>to discuss</U>:  use of np. functions"
   ]
  },
  {
   "cell_type": "markdown",
   "metadata": {},
   "source": [
    "#### add the 'columns=\"Product\"' argument to aggregate sum of prices for each product (by Manager / Rep)"
   ]
  },
  {
   "cell_type": "code",
   "execution_count": 9,
   "metadata": {},
   "outputs": [],
   "source": [
    "# pd.pivot_table(df, index=[\"Manager\",\"Rep\"],\n",
    "#                    values=[\"Price\"],\n",
    "#                    columns= ,\n",
    "#                    aggfunc=np.sum)\n"
   ]
  },
  {
   "cell_type": "markdown",
   "metadata": {},
   "source": [
    "#### set the 'fill_value=' argument to fill NaN's with 0 "
   ]
  },
  {
   "cell_type": "code",
   "execution_count": 10,
   "metadata": {},
   "outputs": [],
   "source": [
    "# df3 = pd.pivot_table(df, index=[\"Manager\",\"Rep\"], \n",
    "#                          values=[\"Price\",\"Quantity\"],\n",
    "#                          columns=[\"Product\"], \n",
    "#                          aggfunc=[np.sum], fill_value= )\n",
    "\n",
    "# df3 = df3.fillna(0)   # same result - fill NaNs with 0 after grouping"
   ]
  },
  {
   "cell_type": "markdown",
   "metadata": {},
   "source": [
    "#### <U>to discuss</U>:  NaN, .fillna(), .dropna() with 'any' or 'all'"
   ]
  },
  {
   "cell_type": "markdown",
   "metadata": {},
   "source": [
    "#### another way to represent the same data (columns=[\"Product\"] has been removed and added to index)"
   ]
  },
  {
   "cell_type": "code",
   "execution_count": 11,
   "metadata": {},
   "outputs": [],
   "source": [
    "pd.pivot_table(df, index=[\"Manager\",\"Rep\",\"Product\"],\n",
    "                   values=[\"Price\",\"Quantity\"],\n",
    "                   aggfunc=[np.sum],\n",
    "                   fill_value=0)\n",
    "\n",
    "# df.groupby(['Manager', 'Rep', 'Product']).sum()[['Price', 'Quantity']]"
   ]
  },
  {
   "cell_type": "markdown",
   "metadata": {},
   "source": [
    "#### add to the aggfuncs list:  'len' for count and 'np.mean' for average"
   ]
  },
  {
   "cell_type": "code",
   "execution_count": 12,
   "metadata": {},
   "outputs": [],
   "source": [
    "pd.pivot_table(df, index=[\"Manager\",\"Rep\",\"Product\"],\n",
    "                   values=[\"Price\",\"Quantity\"],\n",
    "                   aggfunc=[np.sum],\n",
    "                   fill_value=0,\n",
    "                   margins=True)"
   ]
  },
  {
   "cell_type": "markdown",
   "metadata": {},
   "source": [
    "#### create a pivot table showing the sum of Price for Manager at each Status"
   ]
  },
  {
   "cell_type": "code",
   "execution_count": null,
   "metadata": {},
   "outputs": [],
   "source": []
  },
  {
   "cell_type": "markdown",
   "metadata": {},
   "source": [
    "#### aggfunc= can also be populated with a dict, choosing a different agg func for each value in values="
   ]
  },
  {
   "cell_type": "code",
   "execution_count": 13,
   "metadata": {},
   "outputs": [],
   "source": [
    "pd.pivot_table(df, index=[\"Manager\",\"Status\"],\n",
    "                   columns=[\"Product\"],\n",
    "                   values=[\"Quantity\",\"Price\"],\n",
    "                   aggfunc={\"Quantity\":len,\"Price\":np.sum},\n",
    "                   fill_value=0)"
   ]
  },
  {
   "cell_type": "markdown",
   "metadata": {},
   "source": [
    "#### you can even choose a list of agg funcs for a value"
   ]
  },
  {
   "cell_type": "code",
   "execution_count": 14,
   "metadata": {},
   "outputs": [],
   "source": [
    "table = pd.pivot_table(df, index=[\"Manager\",\"Status\"],\n",
    "                           columns=[\"Product\"],\n",
    "                           values=[\"Quantity\",\"Price\"],\n",
    "                           aggfunc={\"Quantity\":len,\"Price\":[np.sum,np.mean]},\n",
    "                           fill_value=0)\n",
    "table"
   ]
  },
  {
   "cell_type": "markdown",
   "metadata": {},
   "source": [
    "## MultiIndex"
   ]
  },
  {
   "cell_type": "code",
   "execution_count": null,
   "metadata": {},
   "outputs": [],
   "source": [
    "table2 = pd.pivot_table(df, index=['Manager', 'Rep'], aggfunc=np.sum)\n",
    "table2"
   ]
  },
  {
   "cell_type": "markdown",
   "metadata": {},
   "source": [
    "#### standard slicing"
   ]
  },
  {
   "cell_type": "code",
   "execution_count": null,
   "metadata": {},
   "outputs": [],
   "source": [
    "table2[['Account', 'Quantity']]\n"
   ]
  },
  {
   "cell_type": "code",
   "execution_count": null,
   "metadata": {},
   "outputs": [],
   "source": [
    "table2.loc['Debra Henley']\n"
   ]
  },
  {
   "cell_type": "markdown",
   "metadata": {},
   "source": [
    "#### 2nd level slicing"
   ]
  },
  {
   "cell_type": "code",
   "execution_count": null,
   "metadata": {},
   "outputs": [],
   "source": [
    "table2.loc[('Debra Henley', 'Craig Booker')]\n"
   ]
  },
  {
   "cell_type": "markdown",
   "metadata": {},
   "source": [
    "#### .xs slicing"
   ]
  },
  {
   "cell_type": "code",
   "execution_count": null,
   "metadata": {},
   "outputs": [],
   "source": [
    "table2.xs('Craig Booker', level=1)\n"
   ]
  },
  {
   "cell_type": "markdown",
   "metadata": {},
   "source": [
    "#### 'query' on a DataFrame (especially useful for MultiIndex)"
   ]
  },
  {
   "cell_type": "code",
   "execution_count": 15,
   "metadata": {},
   "outputs": [],
   "source": [
    "table.query('Manager == \"Debra Henley\"')\n"
   ]
  },
  {
   "cell_type": "markdown",
   "metadata": {},
   "source": [
    "#### same using .loc.  The tuple is used to access MultiIndex"
   ]
  },
  {
   "cell_type": "code",
   "execution_count": 16,
   "metadata": {},
   "outputs": [],
   "source": [
    "table.loc[('Debra Henley',)]\n"
   ]
  },
  {
   "cell_type": "code",
   "execution_count": null,
   "metadata": {},
   "outputs": [],
   "source": [
    "table3 = pd.pivot_table(df, index=[\"Manager\",\"Status\"],\n",
    "                           columns=[\"Product\"],\n",
    "                           values=[\"Quantity\",\"Price\"],\n",
    "                           aggfunc={\"Quantity\":len,\"Price\":[np.sum,np.mean]},\n",
    "                           fill_value=0)\n",
    "table3"
   ]
  },
  {
   "cell_type": "markdown",
   "metadata": {},
   "source": [
    "#### selecting 2nd row in a MultiIndex"
   ]
  },
  {
   "cell_type": "code",
   "execution_count": 17,
   "metadata": {},
   "outputs": [],
   "source": [
    "table.query('Status == \"declined\"')"
   ]
  },
  {
   "cell_type": "markdown",
   "metadata": {},
   "source": [
    "#### same using 'xs' (cross-section)"
   ]
  },
  {
   "cell_type": "code",
   "execution_count": 18,
   "metadata": {},
   "outputs": [],
   "source": [
    "table.xs('declined', level='Status')"
   ]
  },
  {
   "cell_type": "markdown",
   "metadata": {},
   "source": [
    "#### querying for multiple values (can also use 'in')"
   ]
  },
  {
   "cell_type": "code",
   "execution_count": 19,
   "metadata": {},
   "outputs": [],
   "source": [
    "table.query('Status == [\"pending\", \"won\"]')"
   ]
  }
 ],
 "metadata": {
  "kernelspec": {
   "display_name": "Python 3",
   "language": "python",
   "name": "python3"
  },
  "language_info": {
   "codemirror_mode": {
    "name": "ipython",
    "version": 3
   },
   "file_extension": ".py",
   "mimetype": "text/x-python",
   "name": "python",
   "nbconvert_exporter": "python",
   "pygments_lexer": "ipython3",
   "version": "3.7.7"
  }
 },
 "nbformat": 4,
 "nbformat_minor": 2
}
