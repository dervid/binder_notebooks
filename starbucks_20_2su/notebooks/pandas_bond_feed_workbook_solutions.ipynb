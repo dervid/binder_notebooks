{
 "cells": [
  {
   "cell_type": "markdown",
   "metadata": {},
   "source": [
    "# Advanced Python\n",
    "## Pandas Homework 1 SOLUTIONS\n",
    "\n",
    "<B><U>Please pull up your homework solutions</U>, and when you see a solution here that is not the same is yours, please enter it into the Chat window so we can compare.</B><br><br>\n",
    "\n",
    "\n",
    "<I><B>Please note</B> that when cells are executed individually they include variables from prior cell executions, <B>but changes to a prior cell will not reflect below it until that cell is executed.</B></I><br>\n",
    "<br>\n",
    "<B><I>To reset your worksheet</I></B>, choose <B>Kernal > Restart</B> or <B>Kernel > Restart and Clear Output</B>.  "
   ]
  },
  {
   "cell_type": "markdown",
   "metadata": {},
   "source": [
    "<U>Notes if you are using Jupyter Notebook</U>:  to call <B>exit()</B> from a notebook, please use <B>sys.exit()</B> (requires <B>import sys</B>); if a strange error occurs, it may be because Jupyter retains variables from all executed cells.  To reset the notebook's variables, click 'Restart Kernel' (the circular arrow) -- this will not undo any text changes.  "
   ]
  },
  {
   "cell_type": "code",
   "execution_count": null,
   "metadata": {},
   "outputs": [],
   "source": [
    "# 8.1:  execute this cell once so subsequent cells can make use of the import\n",
    "import pandas as pd"
   ]
  },
  {
   "cell_type": "code",
   "execution_count": null,
   "metadata": {},
   "outputs": [],
   "source": [
    "# 8.2:  read sheet \"Aggregate\" in bond_feed_tiny.xls\n",
    "#       assign to a variable 'df1' (we'll be referring back to it later on)\n",
    "#       if the file cannot be read, see note in instructions above\n",
    "\n",
    "df1 = pd.read_excel('bond_feed_tiny.xls', sheet_name='Aggregate')\n",
    "print(df1)"
   ]
  },
  {
   "cell_type": "markdown",
   "metadata": {},
   "source": [
    "<U>expected output</U>:\n",
    "<PRE>CRNCY Country Code Eurozone?   AMT_ISSUED  AMT_OUTSTANDING\n",
    "0   USD           UA       Non   1500000000       1500000000\n",
    "1   EUR           FR  Eurozone  10160000000      10160000000\n",
    "2   DKK           DE       Non  17040000000      16040000000\n",
    "3   EUR           FR  Eurozone  20195000000      19095000000\n",
    "4   EUR           GO       Non      7000000          7000000</PRE>"
   ]
  },
  {
   "cell_type": "code",
   "execution_count": null,
   "metadata": {},
   "outputs": [],
   "source": [
    "# 8.3:  rename \"Country Code\" to CTRY_CODE and \"Eurozone?\" to EUROZONE\n",
    "df1 = df1.rename(columns={'Country Code': 'CTRY_CODE', 'Eurozone?': 'EUROZONE'})\n",
    "\n",
    "#df1.columns = ['CRNCY', 'CTRY_CODE', 'EUROZONE', 'AMT_ISSUED', 'AMT_OUTSTANDING']\n",
    "print(df1)"
   ]
  },
  {
   "cell_type": "markdown",
   "metadata": {},
   "source": [
    "#### To be discussed:  inplace=True"
   ]
  },
  {
   "cell_type": "markdown",
   "metadata": {},
   "source": [
    "<U>expected output</U>:\n",
    "<PRE>  CRNCY CTRY_CODE  EUROZONE   AMT_ISSUED  AMT_OUTSTANDING\n",
    "0   USD        UA       Non   1500000000       1500000000\n",
    "1   EUR        FR  Eurozone  10160000000      10160000000\n",
    "2   DKK        DE       Non  17040000000      16040000000\n",
    "3   EUR        FR  Eurozone  20195000000      19095000000\n",
    "4   EUR        GO       Non      7000000          7000000</PRE>"
   ]
  },
  {
   "cell_type": "code",
   "execution_count": null,
   "metadata": {},
   "outputs": [],
   "source": [
    "# 8.4:  create a slice of just CTRY_CODE, AMT_ISSUED and AMT_OUTSTANDING\n",
    "#       Note:  please assign this to a new dataframe df2\n",
    "\n",
    "df2 = df1.loc[:, ['CTRY_CODE', 'AMT_ISSUED', 'AMT_OUTSTANDING']]\n",
    "print(df2)"
   ]
  },
  {
   "cell_type": "markdown",
   "metadata": {},
   "source": [
    "##### to be discussed:  'Copy of a Slice' warning"
   ]
  },
  {
   "cell_type": "markdown",
   "metadata": {},
   "source": [
    "<U>expected output</U>:\n",
    "<PRE>  CTRY_CODE   AMT_ISSUED  AMT_OUTSTANDING\n",
    "0        UA   1500000000       1500000000\n",
    "1        FR  10160000000      10160000000\n",
    "2        DE  17040000000      16040000000\n",
    "3        FR  20195000000      19095000000\n",
    "4        GO      7000000          7000000</PRE>"
   ]
  },
  {
   "cell_type": "code",
   "execution_count": null,
   "metadata": {},
   "outputs": [],
   "source": [
    "# 8.5:  for the next questions, please use dataframe df2\n",
    "#       create a new column AMT_COMPLETED that subtracts AMT_OUTSTANDING from AMT_ISSUED across all columns\n",
    "df2['AMT_COMPLETED'] = df2['AMT_ISSUED'] - df2['AMT_OUTSTANDING']\n",
    "print(df2)"
   ]
  },
  {
   "cell_type": "markdown",
   "metadata": {},
   "source": [
    "<U>expected output</U>:\n",
    "<PRE>  CTRY_CODE   AMT_ISSUED  AMT_OUTSTANDING  AMT_COMPLETED\n",
    "0        UA   1500000000       1500000000              0\n",
    "1        FR  10160000000      10160000000              0\n",
    "2        DE  17040000000      16040000000     1000000000\n",
    "3        FR  20195000000      19095000000     1100000000\n",
    "4        GO      7000000          7000000              0</PRE>"
   ]
  },
  {
   "cell_type": "code",
   "execution_count": null,
   "metadata": {},
   "outputs": [],
   "source": [
    "# 8.6:  sum up each of AMT_ISSUED, AMT_OUTSTANDING and AMT_COMPLETED\n",
    "df2.loc[:, ['AMT_ISSUED', 'AMT_OUTSTANDING', 'AMT_COMPLETED']].sum()"
   ]
  },
  {
   "cell_type": "markdown",
   "metadata": {},
   "source": [
    "<U>expected output</U>:\n",
    "<PRE>CTRY_CODE           UAFRDEFRGO\n",
    "AMT_ISSUED         48902000000\n",
    "AMT_OUTSTANDING    46802000000\n",
    "AMT_COMPLETED       2100000000\n",
    "dtype: object</PRE>"
   ]
  },
  {
   "cell_type": "code",
   "execution_count": null,
   "metadata": {},
   "outputs": [],
   "source": [
    "# 8.7:  show average AMT_ISSUED\n",
    "avg = df2['AMT_ISSUED'].sum() / len(df2.index)\n",
    "print('average amount issued: {}'.format(avg))"
   ]
  },
  {
   "cell_type": "markdown",
   "metadata": {},
   "source": [
    "<U>expected output</U>:\n",
    "<PRE>average amount issued:  9780400000.0</PRE>"
   ]
  },
  {
   "cell_type": "code",
   "execution_count": null,
   "metadata": {},
   "outputs": [],
   "source": [
    "# 8.8:  going back to original df1 (all 5 columns), slice rows for EUR issues only\n",
    "#       note:  please show the results, but don't assign back to df1\n",
    "x = df1.loc[df1.CRNCY == 'EUR']\n",
    "print(x)"
   ]
  },
  {
   "cell_type": "markdown",
   "metadata": {},
   "source": [
    "<U>expected output</U>:\n",
    "<PRE>  CRNCY CTRY_CODE  EUROZONE   AMT_ISSUED  AMT_OUTSTANDING\n",
    "1   EUR        FR  Eurozone  10160000000      10160000000\n",
    "3   EUR        FR  Eurozone  20195000000      19095000000\n",
    "4   EUR        GO       Non      7000000          7000000</PRE>"
   ]
  },
  {
   "cell_type": "code",
   "execution_count": null,
   "metadata": {},
   "outputs": [],
   "source": [
    "# 8.9:  again using the original df1, slice rows for EUR issues that are also EUROZONE\n",
    "#       note:  please show the results, but don't assign back to df1\n",
    "x = df1.loc[(df1.CRNCY == 'EUR') & (df1.EUROZONE == 'Eurozone')]\n",
    "print(x)"
   ]
  },
  {
   "cell_type": "markdown",
   "metadata": {},
   "source": [
    "<U>expected output</U>:\n",
    "<PRE>  CRNCY CTRY_CODE  EUROZONE   AMT_ISSUED  AMT_OUTSTANDING\n",
    "1   EUR        FR  Eurozone  10160000000      10160000000\n",
    "3   EUR        FR  Eurozone  20195000000      19095000000</PRE>"
   ]
  },
  {
   "cell_type": "code",
   "execution_count": null,
   "metadata": {},
   "outputs": [],
   "source": [
    "# 8.10: in one statement, show average/mean of AMT_ISSUED and AMT_OUTSTANDING for all non-EUR countries\n",
    "\n",
    "s = df1.loc[df1.CRNCY != 'EUR'].mean()\n",
    "print(s)"
   ]
  },
  {
   "cell_type": "markdown",
   "metadata": {},
   "source": [
    "<U>expected output</U>:\n",
    "<PRE>AMT_ISSUED         9.270000e+09\n",
    "AMT_OUTSTANDING    8.770000e+09\n",
    "dtype: float64</PRE>"
   ]
  },
  {
   "cell_type": "code",
   "execution_count": null,
   "metadata": {},
   "outputs": [],
   "source": [
    "# 8.11: in the EUROZONE column, replace 'Eurozone' with 'Y' and 'Non' with 'N'\n",
    "#       attempt to accomplish this with .loc referencing\n",
    "df1.loc[df1['EUROZONE'] == 'Eurozone', 'EUROZONE'] = 'Y'\n",
    "df1.loc[df1['EUROZONE'] == 'Non', 'EUROZONE'] = 'N'\n",
    "print(df1)"
   ]
  },
  {
   "cell_type": "markdown",
   "metadata": {},
   "source": [
    "<U>expected output</U>:\n",
    "<PRE>  CRNCY CTRY_CODE EUROZONE   AMT_ISSUED  AMT_OUTSTANDING\n",
    "0   USD        UA        N   1500000000       1500000000\n",
    "1   EUR        FR        Y  10160000000      10160000000\n",
    "2   DKK        DE        N  17040000000      16040000000\n",
    "3   EUR        FR        Y  20195000000      19095000000\n",
    "4   EUR        GO        N      7000000          7000000</PRE>"
   ]
  },
  {
   "cell_type": "code",
   "execution_count": null,
   "metadata": {},
   "outputs": [],
   "source": [
    "# 8.12: create a groupby() aggregation that sums AMT_ISSUED and AMT_OUTSTANDING by currency\n",
    "df2 = df1.groupby('CRNCY').sum()\n",
    "\n",
    "print(df2)"
   ]
  },
  {
   "cell_type": "markdown",
   "metadata": {},
   "source": [
    "<U>expected output</U>:\n",
    "<PRE>        AMT_ISSUED  AMT_OUTSTANDING\n",
    "CRNCY                              \n",
    "DKK    17040000000      16040000000\n",
    "EUR    30362000000      29262000000\n",
    "USD     1500000000       1500000000</PRE>"
   ]
  },
  {
   "cell_type": "code",
   "execution_count": null,
   "metadata": {},
   "outputs": [],
   "source": [
    "# 8.13: from the 'country_lookup' tab in the bond_feed_tiny.xlsx Excel workbook, create a DataFrame with CTRY_CODE index and name FULL_NAME.\n",
    "ctry_lookup = pd.read_excel('bond_feed_tiny.xls', \n",
    "                            sheet_name='country_lookup')[['CTRY_CODE', 'FULL_NAME']]\n",
    "ctry_lookup = ctry_lookup.set_index('CTRY_CODE')\n",
    "print(type(ctry_lookup))\n",
    "\n",
    "\n",
    "# as Series however, subscript with list to get df\n",
    "#ctry_lookup = pd.read_excel('bond_feed_tiny.xls', \n",
    "#                            sheet_name='country_lookup',\n",
    "#                            index_col='CTRY_CODE')['FULL_NAME']"
   ]
  },
  {
   "cell_type": "markdown",
   "metadata": {},
   "source": [
    "<U>expected output</U>:\n",
    "<PRE>           FULL_NAME\n",
    "CTRY_CODE\n",
    "UA         United Arab Emirates\n",
    "FR         France\n",
    "DE         Denmark\n",
    "GO         Gabon</PRE>"
   ]
  },
  {
   "cell_type": "code",
   "execution_count": null,
   "metadata": {},
   "outputs": [],
   "source": [
    "# 8.14: join the df (pre-groupby) to the country lookup Series created above, to create \n",
    "#       a df with a new column df['FULL_NAME'] that is the full name of the country\n",
    "dfj = pd.merge(df1, ctry_lookup, left_on='CTRY_CODE', right_on='CTRY_CODE', how='left')\n",
    "print(dfj)"
   ]
  },
  {
   "cell_type": "markdown",
   "metadata": {
    "collapsed": true
   },
   "source": [
    "<U>expected output</U>:\n",
    "<PRE>  CRNCY CTRY_CODE EUROZONE   AMT_ISSUED  AMT_OUTSTANDING             FULL_NAME\n",
    "0   USD        UA        N   1500000000       1500000000  United Arab Emirates\n",
    "1   EUR        FR        Y  10160000000      10160000000                France\n",
    "2   DKK        DE        N  17040000000      16040000000               Denmark\n",
    "3   EUR        FR        Y  20195000000      19095000000                France\n",
    "4   EUR        GO        N      7000000          7000000                 Gabon</PRE>"
   ]
  }
 ],
 "metadata": {
  "kernelspec": {
   "display_name": "Python 3",
   "language": "python",
   "name": "python3"
  },
  "language_info": {
   "codemirror_mode": {
    "name": "ipython",
    "version": 3
   },
   "file_extension": ".py",
   "mimetype": "text/x-python",
   "name": "python",
   "nbconvert_exporter": "python",
   "pygments_lexer": "ipython3",
   "version": "3.7.7"
  }
 },
 "nbformat": 4,
 "nbformat_minor": 2
}
