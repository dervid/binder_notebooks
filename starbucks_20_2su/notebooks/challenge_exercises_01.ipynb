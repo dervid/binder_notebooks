{
 "cells": [
  {
   "cell_type": "markdown",
   "metadata": {},
   "source": [
    "# Challenge Exercises Session 1"
   ]
  },
  {
   "cell_type": "markdown",
   "metadata": {},
   "source": [
    "GETTING SET UP"
   ]
  },
  {
   "cell_type": "markdown",
   "metadata": {},
   "source": [
    "<B>1.1:  Open a Anaconda Prompt (Windows) or a Terminal window (Mac).  (To reach the Anaconda prompt, do a search for <B>Anaconda</B> and click <B>Anaconad Prompt</B>.)"
   ]
  },
  {
   "cell_type": "markdown",
   "metadata": {},
   "source": [
    "<UL>\n",
    "  <LI> (Unix only) Use <B>pwd</B> to see the \"present working directory\"</LI>\n",
    "  <LI> Use <B>ls</B> (Mac) or <B>dir</B> (Windows) to see a listing of the files and directories in this directory</LI>\n",
    "  <LI> Use <B>cd</B> to move into a directory you see listed in the present working directory (for example <B>cd Downloads</B>)</LI>\n",
    "  <LI> Use <B>cd ..</B> to move into the \"parent\" directory of the one you are in (this will take you back to the parent of <B>Downlaods</B></LI>\n",
    "  <LI> Use <B>cd /Users/[yourhomedir]/Desktop</B> to move into the <B>Desktop</B> directory</LI>\n",
    "  <LI> Use <B>cd ../Downloads</B> to move from the <B>Desktop</B> directory to the <B>Downloads</B> directory</LI>\n",
    "  <LI> Use <B>cd</B> (Mac) or <B>cd %HOMEPATH%</B> (Windows) to move back into the home directory</LI>\n",
    "</UL>"
   ]
  },
  {
   "cell_type": "markdown",
   "metadata": {},
   "source": [
    " "
   ]
  },
  {
   "cell_type": "markdown",
   "metadata": {},
   "source": [
    "<B>1.2:  Download the project zip for this week to the <B>Downloads</B> directory.  Unzip the <B>.zip</B> file so that it loads the files into a directory.  "
   ]
  },
  {
   "cell_type": "markdown",
   "metadata": {},
   "source": [
    "<U>Mac</U>:  in the <B>Downloads</B> directory, find and double-click the <B>.zip</B> file\n",
    "\n",
    "<U>Windows</U>:  in the <B>Downloads</B> directory, right-click the <B>.zip</B> file and choose <B>Extract All</B>."
   ]
  },
  {
   "cell_type": "markdown",
   "metadata": {},
   "source": [
    " "
   ]
  },
  {
   "cell_type": "markdown",
   "metadata": {},
   "source": [
    "FILE PARSING"
   ]
  },
  {
   "cell_type": "markdown",
   "metadata": {},
   "source": [
    "NOTE THAT the data files read from these exercises is located in the \"parent\" directory.  Thus any filename in these exercises should be preceded with <B>../</B>.  (If you create a script in the same directory as the data file, this would not be necessary.)"
   ]
  },
  {
   "cell_type": "markdown",
   "metadata": {},
   "source": [
    " "
   ]
  },
  {
   "cell_type": "markdown",
   "metadata": {},
   "source": [
    "<B>1.3:  <U>Loop through a file and count lines</U>.  Loop through the file <B>pyku.txt</B> (located in the parent directory) and print each line.  Now add an integer counter to count the lines, reporting the count at the end (3)."
   ]
  },
  {
   "cell_type": "code",
   "execution_count": null,
   "metadata": {},
   "outputs": [],
   "source": [
    "fname = '../pyku.txt'\n",
    "\n"
   ]
  },
  {
   "cell_type": "markdown",
   "metadata": {},
   "source": [
    " "
   ]
  },
  {
   "cell_type": "markdown",
   "metadata": {},
   "source": [
    "<B>1.4:  <U>Loop through a file, split out a column and add to a sum</U>.  Sum up the 'revenue' column in <B>revenue.csv</B> (662.0100000000001 -- remainder may be slightly different).  "
   ]
  },
  {
   "cell_type": "code",
   "execution_count": null,
   "metadata": {},
   "outputs": [],
   "source": [
    "fname = '../revenue.csv'\n",
    "\n",
    "fh = open(fname)\n",
    "\n",
    "for line in fh:\n",
    "    line = line.rstrip()\n",
    "    # your loop code here\n",
    "\n"
   ]
  },
  {
   "cell_type": "markdown",
   "metadata": {},
   "source": [
    "(Note:  use the <B>next()</B> function with the filehandle to advance the file pointer past the first row, which are headers)"
   ]
  },
  {
   "cell_type": "markdown",
   "metadata": {},
   "source": [
    " "
   ]
  },
  {
   "cell_type": "markdown",
   "metadata": {},
   "source": [
    "<B>1.5:  <U>Loop through a file, split out a column and append to a list</U>.  Use a <B>list</B> to collect ids found in <B>student\\_db.txt</B>.  "
   ]
  },
  {
   "cell_type": "code",
   "execution_count": null,
   "metadata": {},
   "outputs": [],
   "source": [
    "fname = '../student_db.txt'\n",
    "\n",
    "fh = open(fname)\n",
    "headers = next(fh)\n",
    "\n",
    "for line in fh:\n",
    "    line = line.rstrip()\n",
    "    items = line.split(':')\n",
    "\n"
   ]
  },
  {
   "cell_type": "markdown",
   "metadata": {},
   "source": [
    " "
   ]
  },
  {
   "cell_type": "markdown",
   "metadata": {},
   "source": [
    "<B>1.6:  <U>Loop through a file, split out a column and add to a set</U>.  Use a <B>set</B> to collect a unique collection of states found in <B>revenue.csv</B>"
   ]
  },
  {
   "cell_type": "code",
   "execution_count": null,
   "metadata": {},
   "outputs": [],
   "source": [
    "fname = '../revenue.csv'\n",
    "\n",
    "fh = open(fname)\n",
    "\n",
    "for line in fh:\n",
    "    line = line.rstrip()\n",
    "    items = line.split(',')\n",
    "\n"
   ]
  },
  {
   "cell_type": "markdown",
   "metadata": {},
   "source": [
    " "
   ]
  },
  {
   "cell_type": "markdown",
   "metadata": {},
   "source": [
    "<B>1.7:  <U>Use csv module to parse a file</U>.  Opening and reading the <B>revenue.csv</B> file and passing the filehandle to <B>csv.reader()</B>, loop through and collect revenue values.  "
   ]
  },
  {
   "cell_type": "code",
   "execution_count": null,
   "metadata": {},
   "outputs": [],
   "source": [
    "import csv\n",
    "\n",
    "fh = open('../revenue.csv')\n"
   ]
  },
  {
   "cell_type": "markdown",
   "metadata": {},
   "source": [
    " "
   ]
  },
  {
   "cell_type": "markdown",
   "metadata": {},
   "source": [
    "<B>1.8:  <U>Derive statistical information from a list of values</U>.  Given the list of revenue values, use functions to calculate count (7), sum of values (662.01), maximum and minimum values (239.5, 5.98) in the list.  "
   ]
  },
  {
   "cell_type": "code",
   "execution_count": null,
   "metadata": {},
   "outputs": [],
   "source": [
    "vals = [239.5, 53.9, 211.5, 11.98, 5.98, 23.95, 115.2]\n",
    "\n"
   ]
  },
  {
   "cell_type": "markdown",
   "metadata": {},
   "source": [
    " "
   ]
  },
  {
   "cell_type": "markdown",
   "metadata": {},
   "source": [
    "<B>1.9:  <U>Sort and slice a list to derive a ranking</U>.  Given the list of temperature values, use <B>sorted()</B> to put them in order and list slicing to determine top 3 and bottom 2 values in the list.  "
   ]
  },
  {
   "cell_type": "code",
   "execution_count": null,
   "metadata": {},
   "outputs": [],
   "source": [
    "temps = [38, 52, 46, 70, 48, 75, 73, 75, 74, 59, 49, 48]\n",
    "\n"
   ]
  },
  {
   "cell_type": "markdown",
   "metadata": {},
   "source": [
    " "
   ]
  },
  {
   "cell_type": "markdown",
   "metadata": {},
   "source": [
    "<B>1.10:  <U>Sort a dict by value</U>.  Given the below dict, sort the keys by value, highest to lowest, and then loop through the sorted keys, printing each value as you go.  (Hint:  use <B>key=valdict.get</B> to sort a key by value.)  "
   ]
  },
  {
   "cell_type": "code",
   "execution_count": null,
   "metadata": {},
   "outputs": [],
   "source": [
    "valdict = {'Acme': 0.09, 'Beta': 1.13, 'Gamma': 4.07, 'Delta': 2.7}\n"
   ]
  },
  {
   "cell_type": "markdown",
   "metadata": {},
   "source": [
    " "
   ]
  },
  {
   "cell_type": "markdown",
   "metadata": {},
   "source": [
    "<B>1.11:  <U>Use a dict to build a lookup table</U>.  Use a dict to create a lookup of student id to state name from <B>student\\_db.txt</B>.  Once the loop is complete, query the dict (get the value for the key) for id <B>ap172</B>.  "
   ]
  },
  {
   "cell_type": "code",
   "execution_count": null,
   "metadata": {},
   "outputs": [],
   "source": [
    "import csv\n",
    "\n",
    "fh = open('../student_db.txt')\n",
    "reader = csv.reader(fh)\n",
    "next(reader)\n",
    "\n",
    "for row in reader:\n",
    "    print(row)\n"
   ]
  },
  {
   "cell_type": "markdown",
   "metadata": {},
   "source": [
    " "
   ]
  },
  {
   "cell_type": "markdown",
   "metadata": {},
   "source": [
    "<B>1.12:  <U>Use a dict to build an aggregation (count or sum)</U>.  Use a dict to count the number of occurrences of each state in <B>revenue.csv</B>.  "
   ]
  },
  {
   "cell_type": "code",
   "execution_count": null,
   "metadata": {},
   "outputs": [],
   "source": [
    "import csv\n",
    "\n",
    "fh = open('../revenue.csv')\n",
    "reader = csv.reader(fh)\n",
    "\n",
    "for row in reader:\n",
    "    print(row)\n",
    "\n"
   ]
  },
  {
   "cell_type": "markdown",
   "metadata": {},
   "source": [
    " "
   ]
  },
  {
   "cell_type": "markdown",
   "metadata": {},
   "source": [
    "<B>1.13:  <U>Process individual words from a file</U>.  Read the file as a whole and divide into words.  Lowercase each word and strip of punctuation, building a list of \"cleaned\" words.  Next, use a set() to build a set of unique words.  "
   ]
  },
  {
   "cell_type": "code",
   "execution_count": null,
   "metadata": {},
   "outputs": [],
   "source": [
    "fh = open('../pyku.txt')\n",
    "\n"
   ]
  },
  {
   "cell_type": "markdown",
   "metadata": {},
   "source": [
    " "
   ]
  },
  {
   "cell_type": "markdown",
   "metadata": {},
   "source": [
    "CSV"
   ]
  },
  {
   "cell_type": "markdown",
   "metadata": {},
   "source": [
    "<B>1.14:  <U>Write individual rows to a CSV file</U>.  Open a file for writing and pass the filehandle to <B>csv.writer()</B>.  Use <B>.writerow()</B> on the writer object to write each list to the file.  Close the file, then look for <B>newfile.csv</B> in the session directory.  "
   ]
  },
  {
   "cell_type": "code",
   "execution_count": null,
   "metadata": {},
   "outputs": [],
   "source": [
    "import csv\n",
    "\n",
    "header = ['name', 'address', 'state', 'zip']\n",
    "\n",
    "row1 = ['Joe', '123 Main', 'CA', '91603']\n",
    "row2 = ['Marie', '234 Camarino', 'NJ', '92325']\n",
    "\n",
    "fname = '../newfile.csv'     # a new file, or replacing old if exists\n",
    "\n",
    "wfh = open(fname, 'w')\n"
   ]
  },
  {
   "cell_type": "markdown",
   "metadata": {},
   "source": [
    " "
   ]
  },
  {
   "cell_type": "markdown",
   "metadata": {},
   "source": [
    "<B>1.15:  <U>Write multiple rows to a CSV file</U>.  Open a file for writing and pass the filehandle to <B>csv.writer()</B>.  Use <B>.writerows()</B> to write the list of lists to the file.  Close the file, then look for <B>newfile2.csv</B> in the session directory.  "
   ]
  },
  {
   "cell_type": "code",
   "execution_count": null,
   "metadata": {},
   "outputs": [],
   "source": [
    "rows = [\n",
    "         [ 'date', 'temp', 'wind' ],\n",
    "         [ '2020-06-13', '78.3', '6' ],\n",
    "         [ '2020-06-14', '77.0', '8' ],\n",
    "       ]\n",
    "\n",
    "fname = '../newfile2.csv'\n",
    "\n",
    "wfh = open(fname, 'w')\n",
    "\n",
    "writer = csv.writer(wfh)\n",
    "\n"
   ]
  },
  {
   "cell_type": "markdown",
   "metadata": {},
   "source": [
    " "
   ]
  },
  {
   "cell_type": "markdown",
   "metadata": {},
   "source": [
    "<B>1.16:  <U>Selectively write rows to a CSV</U>.  Loop through the list of lists and write only the <B>US</B> rows to the file.  Also write the header as the first row.  Close the file, then look for <B>newfile3.csv</B> in the session directory.  "
   ]
  },
  {
   "cell_type": "code",
   "execution_count": null,
   "metadata": {},
   "outputs": [],
   "source": [
    "rows = [\n",
    "         [ 'company', 'state/province', 'country' ],\n",
    "         [ 'Acme', 'Caliornia', 'US' ],\n",
    "         [ 'Bento', 'Toledo', 'SP' ],\n",
    "         [ 'OuiOui', 'Bourges', 'FR' ],\n",
    "         [ 'Beta', 'New York', 'US' ]\n",
    "       ]\n",
    "\n",
    "fname = '../newfile3.csv'\n",
    "\n",
    "wfh = open(fname, 'w')\n",
    "writer = csv.writer(wfh)\n",
    "\n"
   ]
  },
  {
   "cell_type": "markdown",
   "metadata": {},
   "source": [
    " "
   ]
  },
  {
   "cell_type": "markdown",
   "metadata": {},
   "source": [
    "<B>1.17:  <U>Selectively write columns to a CSV</U>.  Loop through the list of lists and write only the <B>company</B> and <B>country</B> columns to the file.  Include the header.  Close the file, then look for <B>newfile4.csv</B> in the session directory.  "
   ]
  },
  {
   "cell_type": "code",
   "execution_count": null,
   "metadata": {},
   "outputs": [],
   "source": [
    "rows = [\n",
    "         [ 'company', 'state/province', 'country' ],\n",
    "         [ 'Acme', 'Caliornia', 'US' ],\n",
    "         [ 'Bento', 'Toledo', 'SP' ],\n",
    "         [ 'OuiOui', 'Bourges', 'FR' ],\n",
    "         [ 'Beta', 'New York', 'US' ]\n",
    "       ]\n",
    "\n",
    "fname = '../newfile4.csv'\n",
    "\n",
    "wfh = open(fname, 'w')\n",
    "writer = csv.writer(wfh)\n",
    "\n",
    "\n",
    "\n"
   ]
  },
  {
   "cell_type": "markdown",
   "metadata": {},
   "source": [
    " "
   ]
  },
  {
   "cell_type": "markdown",
   "metadata": {},
   "source": [
    "DATABASE ACCESS FROM PYTHON"
   ]
  },
  {
   "cell_type": "markdown",
   "metadata": {},
   "source": [
    "NOTE THAT when opening data files from the exercise files or notebooks, any filename referenced from those exercises should be preceded with <B>../</B>.  (If you create a script in the same directory as the data file, you would not include this.)\n",
    "\n",
    "NOTE ALSO THAT if you are using Jupyter Notebook, if you wish to call <B>exit()</B> from a notebook, please use <B>sys.exit()</B> (requires <B>import sys</B>); if a strange error occurs, it may be because Jupyter retains variables from all executed cells.  To reset the notebook, click 'Restart Kernel' (the circular arrow) -- this will not undo any changes made."
   ]
  },
  {
   "cell_type": "markdown",
   "metadata": {},
   "source": [
    " "
   ]
  },
  {
   "cell_type": "markdown",
   "metadata": {},
   "source": [
    "<B>1.18:  <U>Database connect and <B>cursor()</B></U>.  In a Python program, connect to <B>../session\\_2.db</B> (returning a <B>connection</B> object) and call <B>.cursor()</B> on it to get a <B>cursor</B> object we will use for querying.  (Note the <B>../</B> assumes that we are in a directory above the <B>session\\_2.db</B> file.)"
   ]
  },
  {
   "cell_type": "code",
   "execution_count": null,
   "metadata": {},
   "outputs": [],
   "source": [
    "import sqlite3\n",
    "\n",
    "db_filename = '../session_2.db'"
   ]
  },
  {
   "cell_type": "markdown",
   "metadata": {},
   "source": [
    " "
   ]
  },
  {
   "cell_type": "markdown",
   "metadata": {},
   "source": [
    "<B>1.19:  <U>Result set:  <B>for</B> looping</U>.  Use the <B>cursor</B> object to <B>.execute()</B> a <B>SELECT</B> query for all columns in the <B>revenue</B> table, and loop through the <B>result set</B> object with a <b>for</B> loop, printing each row.  "
   ]
  },
  {
   "cell_type": "code",
   "execution_count": null,
   "metadata": {},
   "outputs": [],
   "source": [
    "import sqlite3\n",
    "\n",
    "db_filename = '../session_2.db'\n",
    "\n",
    "conn = sqlite3.connect(db_filename)\n",
    "\n",
    "c = conn.cursor()\n"
   ]
  },
  {
   "cell_type": "markdown",
   "metadata": {},
   "source": [
    " "
   ]
  },
  {
   "cell_type": "markdown",
   "metadata": {},
   "source": [
    "<B>1.20:  <U>Result set:  <B>.fetchone()</B></U>.  Use the <B>cursor</B> object to <B>.execute()</B> a <B>SELECT</B> query for all columns in the <B>revenue</B> table <B>WHERE company = 'Westfield'</B>, and use <B>.fetchone()</B> to retrieve the single result row (tuple) of values. "
   ]
  },
  {
   "cell_type": "code",
   "execution_count": null,
   "metadata": {},
   "outputs": [],
   "source": [
    "import sqlite3\n",
    "\n",
    "db_filename = '../session_2.db'\n",
    "\n",
    "conn = sqlite3.connect(db_filename)\n",
    "\n",
    "c = conn.cursor()\n",
    "\n",
    "c.execute(\"SELECT * FROM revenue WHERE company = 'Westfield'\")\n"
   ]
  },
  {
   "cell_type": "markdown",
   "metadata": {},
   "source": [
    " "
   ]
  },
  {
   "cell_type": "markdown",
   "metadata": {},
   "source": [
    "<B>1.21:  <U>Result set:  <B>.fetchmany()</b></U>.  Use the <B>cursor</B> object to <B>.execute()</B> a <B>SELECT</B> query for all columns in the <B>revenue</B> table.  Use <B>.fetchmany(3)</B> to retrieve just 3 rows, then use <B>.fetchmany(4)</B> again to retrieve the remaining 4 rows."
   ]
  },
  {
   "cell_type": "code",
   "execution_count": null,
   "metadata": {},
   "outputs": [],
   "source": [
    "import sqlite3\n",
    "\n",
    "db_filename = '../session_2.db'\n",
    "\n",
    "conn = sqlite3.connect(db_filename)\n",
    "\n",
    "c = conn.cursor()\n",
    "\n",
    "c.execute('SELECT * FROM revenue')\n"
   ]
  },
  {
   "cell_type": "markdown",
   "metadata": {},
   "source": [
    " "
   ]
  },
  {
   "cell_type": "markdown",
   "metadata": {},
   "source": [
    "<B>1.22:  <U>Result set:  <B>.fetchall()</B></U>.  Use the <B>cursor</B> object to <B>.execute()</B> a <B>SELECT</B> query for all columns in the <B>revenue</B> table.  Use <B>.fetchall()</B> to retrieve all rows in the result set as a list of tuples."
   ]
  },
  {
   "cell_type": "code",
   "execution_count": null,
   "metadata": {},
   "outputs": [],
   "source": [
    "import sqlite3\n",
    "\n",
    "db_filename = '../session_2.db'\n",
    "\n",
    "conn = sqlite3.connect(db_filename)\n",
    "\n",
    "c = conn.cursor()\n",
    "\n",
    "c.execute(\"SELECT * FROM revenue\")\n",
    "\n",
    "rows = c.fetchall()\n",
    "\n",
    "print(rows)"
   ]
  },
  {
   "cell_type": "markdown",
   "metadata": {},
   "source": [
    " "
   ]
  },
  {
   "cell_type": "markdown",
   "metadata": {},
   "source": [
    "<B>1.23:  <U>Show table columns</U>.  After doing a <B>select *</B> query, use the cursor <B>.description</B> attribute to see the names of columns in a table, which are nested in a list of tuples.  Then pull out just the first item in each tuple to get a list of columns.  "
   ]
  },
  {
   "cell_type": "code",
   "execution_count": null,
   "metadata": {},
   "outputs": [],
   "source": [
    "import sqlite3\n",
    "\n",
    "db_filename = '../session_2.db'\n",
    "\n",
    "conn = sqlite3.connect(db_filename)\n",
    "\n",
    "c = conn.cursor()\n",
    "\n",
    "c.execute('SELECT * FROM revenue LIMIT 1')\n"
   ]
  },
  {
   "cell_type": "markdown",
   "metadata": {},
   "source": [
    "We're using a LIMIT 1 to pull just one row from the table, which will have all columns."
   ]
  },
  {
   "cell_type": "markdown",
   "metadata": {},
   "source": [
    " "
   ]
  },
  {
   "cell_type": "markdown",
   "metadata": {},
   "source": [
    "<B>1.24:  <U>INSERT query</U>.  Use the <B>cursor</B> object to <B>.execute()</B> an <B>INSERT</B> query, inserting a name, state and cost value into the <B>revenue</B> table.  Use parameterized arguments (?) to perform the insertions without having to worry about enquoting or escaping values in the query.  "
   ]
  },
  {
   "cell_type": "markdown",
   "metadata": {},
   "source": [
    "Make sure to call <B>conn.commit()</B> (where <B>conn</B> is the connection object) to see results.\n",
    "\n",
    "After running, return to your SQLite3 session and perform a <B>SELECT *</B> query so you can see the new row.\n"
   ]
  },
  {
   "cell_type": "code",
   "execution_count": null,
   "metadata": {},
   "outputs": [],
   "source": [
    "import sqlite3\n",
    "\n",
    "db_filename = '../session_2.db'\n",
    "\n",
    "conn = sqlite3.connect(db_filename)\n",
    "\n",
    "c = conn.cursor()\n",
    "\n",
    "query = 'INSERT INTO revenue VALUES (?, ?, ?)'\n"
   ]
  },
  {
   "cell_type": "markdown",
   "metadata": {},
   "source": [
    "If you don't see the change, make sure you executed <B>conn.commit()</B> after executing the insert."
   ]
  },
  {
   "cell_type": "markdown",
   "metadata": {},
   "source": [
    " "
   ]
  },
  {
   "cell_type": "markdown",
   "metadata": {},
   "source": [
    "JSON / MULTIDIMENSIONAL STRUCTURES"
   ]
  },
  {
   "cell_type": "markdown",
   "metadata": {},
   "source": [
    "<B>1.25:  <U>View and loop through list of dicts</U>.  Open <B>weather\\_newyork\\_lod.json</B> in a text editor or PyCharm.  This is a <I>list of dicts</I> -- a list where each item in the list is a dict."
   ]
  },
  {
   "cell_type": "markdown",
   "metadata": {},
   "source": [
    "Now open this file in Python and load the JSON into a Python object with <B>json.load()</B>.\n",
    "\n",
    "Loop through the list of dicts and print each dict.\n"
   ]
  },
  {
   "cell_type": "code",
   "execution_count": null,
   "metadata": {},
   "outputs": [],
   "source": [
    "import json\n",
    "\n",
    "fh = open('../weather_newyork_lod.json')\n",
    "lod = json.load(fh)\n"
   ]
  },
  {
   "cell_type": "markdown",
   "metadata": {},
   "source": [
    " "
   ]
  },
  {
   "cell_type": "markdown",
   "metadata": {},
   "source": [
    "<B>1.26:  <U>Print value from list of dicts</U>.  Again open the file <B>weather\\_newyork\\_lod.json</B> in Python and load the JSON into a Python object with <B>json.load()</B>.  "
   ]
  },
  {
   "cell_type": "markdown",
   "metadata": {},
   "source": [
    "Loop through each dict in the list of dicts and print just the 'date' column.\n"
   ]
  },
  {
   "cell_type": "code",
   "execution_count": null,
   "metadata": {},
   "outputs": [],
   "source": [
    "import json\n",
    "\n",
    "fh = open('../weather_newyork_lod.json')\n",
    "lod = json.load(fh)\n"
   ]
  },
  {
   "cell_type": "markdown",
   "metadata": {},
   "source": [
    " "
   ]
  },
  {
   "cell_type": "markdown",
   "metadata": {},
   "source": [
    "<B>1.27:  <U>View and loop through a dict of dicts</U>.  Open <B>weather\\_newyork\\_dod.json</B> in a text editor or PyCharm.  This is a <I>dict of dicts</I> -- a dict where each key in the dict is a string, and each value in the dict is a dict."
   ]
  },
  {
   "cell_type": "markdown",
   "metadata": {},
   "source": [
    "Now open this file in Python and load the JSON into a Python object with <B>json.load()</B>.\n",
    "\n",
    "Loop through the dict of dicts and print each key and associated value in the dict.\n"
   ]
  },
  {
   "cell_type": "code",
   "execution_count": null,
   "metadata": {},
   "outputs": [],
   "source": [
    "import json\n",
    "\n",
    "fh = open('../weather_newyork_dod.json')\n",
    "dod = json.load(fh)\n"
   ]
  },
  {
   "cell_type": "markdown",
   "metadata": {},
   "source": [
    " "
   ]
  },
  {
   "cell_type": "markdown",
   "metadata": {},
   "source": [
    "<B>1.28:  <U>Loop through a dict of dicts and print a value from each</U>.  Again open the file <B>weather\\_newyork\\_dod.json</B> in Python and load the JSON into a Python object with <B>json.load()</B>.  "
   ]
  },
  {
   "cell_type": "markdown",
   "metadata": {},
   "source": [
    "Loop through each key and value in the dict of dicts and from each dict value print the 'mean\\_temp' value.\n"
   ]
  },
  {
   "cell_type": "code",
   "execution_count": null,
   "metadata": {},
   "outputs": [],
   "source": [
    "import json\n",
    "\n",
    "fh = open('../weather_newyork_dod.json')\n",
    "dod = json.load(fh)\n"
   ]
  },
  {
   "cell_type": "markdown",
   "metadata": {},
   "source": [
    " "
   ]
  },
  {
   "cell_type": "markdown",
   "metadata": {},
   "source": [
    "<B>1.29:  <U>Travel to an inner structure</U>.  Open the file <B>ip\\_routes.json</B> in a text editor and examine the structure.  Scroll down until you see a repeating dict of dicts nested within the structure.  "
   ]
  },
  {
   "cell_type": "markdown",
   "metadata": {},
   "source": [
    "Now open the file in your Python code and load it into an object with <B>json.load()</b>.  See if you can reach the repeating dict of dicts using a <I>single statement</I> of chained dict and/or list subscripts.\n",
    "Print this 'inner' structure (dict of dicts) using json.dumps() with the <B>indent=4</B> parameter argument.\n"
   ]
  },
  {
   "cell_type": "code",
   "execution_count": null,
   "metadata": {},
   "outputs": [],
   "source": [
    "import json\n",
    "\n",
    "fh = open('../ip_routes.json')\n",
    "struct = json.load(fh)\n"
   ]
  },
  {
   "cell_type": "markdown",
   "metadata": {},
   "source": [
    " "
   ]
  },
  {
   "cell_type": "markdown",
   "metadata": {},
   "source": [
    "<B>1.30:  <U>Build a dict from a CSV file with CSV header keys</U>.  Use csv to open <B>revenue.csv</B> in a Python file and select out:  the header row and the first data row (hint:  use <B>next()</B> on the <B>reader</B> object to get one line at a time from the file).  "
   ]
  },
  {
   "cell_type": "markdown",
   "metadata": {},
   "source": [
    "Now build a dict from the header row and first data row with keys that match the header line.\n",
    "\n",
    "<U>Tip</u>:  use <B>dict(zip(headers, data\\_row))</B> to build the dict:  <B>zip()</B> takes two lists and \"zips\" them together like a zipper to pair up the first items in each list, the second items in each list, etc.  <B>zip(headers, data\\_row)</b> will pair up the column heads with data from the row, and passing this to <B>dict()</B> will transform to a dictionary.\n"
   ]
  },
  {
   "cell_type": "code",
   "execution_count": null,
   "metadata": {},
   "outputs": [],
   "source": [
    "import csv\n",
    "\n",
    "fh = open('../revenue.csv')\n",
    "reader = csv.reader(fh)\n"
   ]
  },
  {
   "cell_type": "markdown",
   "metadata": {},
   "source": [
    " "
   ]
  },
  {
   "cell_type": "markdown",
   "metadata": {},
   "source": [
    "<B>1.31:  <U>Build a list of dicts</U>.  Incorporating what you did in the previous assignment, now loop through the file and build a dict of header keys and row values <I>for each data row</I> in the <B>revenue.csv</B> file.  Print each of the dicts as you build them.  "
   ]
  },
  {
   "cell_type": "markdown",
   "metadata": {},
   "source": [
    "Now initialize a new empty list before the loop begins.  As you build each dict, append the dict to the list.\n",
    "\n",
    "Print the resulting structure once completed.\n",
    "\n",
    "Finally, use <B>print(json.dumps(lod, indent=4))<B> to print the structure in a friendly format.\n"
   ]
  },
  {
   "cell_type": "code",
   "execution_count": null,
   "metadata": {},
   "outputs": [],
   "source": [
    "import csv\n",
    "import json\n",
    "\n",
    "fh = open('../revenue.csv')\n",
    "reader = csv.reader(fh)\n",
    "\n",
    "lod = []\n",
    "\n",
    "header = next(reader)\n"
   ]
  },
  {
   "cell_type": "markdown",
   "metadata": {},
   "source": [
    " "
   ]
  },
  {
   "cell_type": "markdown",
   "metadata": {},
   "source": [
    "<B>1.32:  <U>Build a dict of dicts</U>.  Adapting what you did in the prior solution, now loop through the file and build a dict of header keys and row values <I>for each data row</I> in the <B>revenue.csv</B> file.  Print each of the dicts as you build them.  "
   ]
  },
  {
   "cell_type": "markdown",
   "metadata": {},
   "source": [
    "Now initialize a new empty dict before the loop begins.  As you build each dict, add the \"inner\" dict to the \"outer\" dict:  make the company name the key in the \"outer\" dict, and the value the \"inner\" dict.\n",
    "\n",
    "Print the resulting structure once completed.\n",
    "\n",
    "Finally, use <B>print(json.dumps(dod, indent=4))</B> to print the structure in a friendly (\"pretty\") format.\n"
   ]
  },
  {
   "cell_type": "code",
   "execution_count": null,
   "metadata": {},
   "outputs": [],
   "source": [
    "import csv\n",
    "import json\n",
    "\n",
    "fh = open('../revenue.csv')\n",
    "reader = csv.reader(fh)\n",
    "\n",
    "dod = {}\n",
    "\n",
    "header = next(reader)\n"
   ]
  },
  {
   "cell_type": "markdown",
   "metadata": {},
   "source": [
    " "
   ]
  }
 ],
 "metadata": {},
 "nbformat": 4,
 "nbformat_minor": 4
}
