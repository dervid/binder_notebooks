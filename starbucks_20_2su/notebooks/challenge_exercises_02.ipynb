{
 "cells": [
  {
   "cell_type": "markdown",
   "metadata": {},
   "source": [
    "# Challenge Exercises Session 2"
   ]
  },
  {
   "cell_type": "markdown",
   "metadata": {},
   "source": [
    "REQUESTS:  VIEWING RESPONSE"
   ]
  },
  {
   "cell_type": "markdown",
   "metadata": {},
   "source": [
    "<B>2.1:  <U>Issue a web request, view decoded response body with .text</U>.  Use <B>requests.get()</B> with a url to retrieve a response from the weather service.  Print the <B>.text</B> attribute to see the body of the response.  "
   ]
  },
  {
   "cell_type": "code",
   "execution_count": null,
   "metadata": {},
   "outputs": [],
   "source": [
    "import requests\n",
    "\n",
    "url = 'https://forecast.weather.gov/product.php?site=NWS&issuedby=CTP&product=AFD'\n",
    "\n",
    "response = requests.get()\n"
   ]
  },
  {
   "cell_type": "markdown",
   "metadata": {},
   "source": [
    " "
   ]
  },
  {
   "cell_type": "markdown",
   "metadata": {},
   "source": [
    "<B>2.2:  <U>Issue a web request, view headers</U>.  Print the <B>.headers</B> attribute of the response to see the headers sent back by the weather server.  "
   ]
  },
  {
   "cell_type": "markdown",
   "metadata": {},
   "source": [
    "You can also loop through the dict-like <B>response.headers</B> to see each key/value pair clearly."
   ]
  },
  {
   "cell_type": "code",
   "execution_count": null,
   "metadata": {},
   "outputs": [],
   "source": [
    "import requests\n",
    "\n",
    "url = 'https://forecast.weather.gov/product.php?site=NWS&issuedby=CTP&product=AFD'\n",
    "\n",
    "response = requests.get(url)\n"
   ]
  },
  {
   "cell_type": "markdown",
   "metadata": {},
   "source": [
    " "
   ]
  },
  {
   "cell_type": "markdown",
   "metadata": {},
   "source": [
    "<B>2.3:  <U>Issue a web request, view status code</U>.  Print the <B>.status\\_code</B> attribute from the response, "
   ]
  },
  {
   "cell_type": "markdown",
   "metadata": {},
   "source": [
    "Next, change one of the parameters to see how the code changes; also, change the spelling of the word 'product'.\n",
    "\n",
    "In addition, use <B>requests.status\\_codes.\\_codes[response.status\\_code]</B> with the status code to see the meaning of the response code.\n"
   ]
  },
  {
   "cell_type": "code",
   "execution_count": null,
   "metadata": {},
   "outputs": [],
   "source": [
    "import requests\n",
    "\n",
    "url = 'https://forecast.weather.gov/product.php?site=NWS&issuedby=CTP&product=AFD'\n",
    "\n",
    "response = requests.get(url)\n",
    "\n",
    "\n",
    "# print(response.status_codes._codes[])"
   ]
  },
  {
   "cell_type": "markdown",
   "metadata": {},
   "source": [
    " "
   ]
  },
  {
   "cell_type": "markdown",
   "metadata": {},
   "source": [
    "REQUESTS:  DECODING BYTES"
   ]
  },
  {
   "cell_type": "markdown",
   "metadata": {},
   "source": [
    "<B>2.4:  <U>Issue a web request, view response.text (decoded) and response.content (undecoded)</U>."
   ]
  },
  {
   "cell_type": "markdown",
   "metadata": {},
   "source": [
    "With the first URL, check the type of <B>response.text</B> and the type of <B>response.content</B>.  Each contains the response content, but one is decoded as a string and the other is encoded as bytes.\n",
    "\n",
    "Next, check the value of <B>response.encoding</B> to see what encoding the google page uses.  The check the same with the Microsoft English page and the Microsoft French page."
   ]
  },
  {
   "cell_type": "code",
   "execution_count": null,
   "metadata": {},
   "outputs": [],
   "source": [
    "import requests\n",
    "\n",
    "url = 'http://www.google.com'\n",
    "\n",
    "# url = 'https://www.microsoft.com/en-us/'      # Microsoft in English\n",
    "# url = 'https://www.microsoft.com/fr-fr/'      # Microsoft in French\n",
    "\n",
    "response = requests.get(url)\n",
    "\n"
   ]
  },
  {
   "cell_type": "markdown",
   "metadata": {},
   "source": [
    " "
   ]
  },
  {
   "cell_type": "markdown",
   "metadata": {},
   "source": [
    "<B>2.5:  <U>Saving an image, sound, zip file (demonstration):  here we issue a web request to download bytes, open a local file with 'wb' and write response.content (the bytes) to it</U>."
   ]
  },
  {
   "cell_type": "code",
   "execution_count": null,
   "metadata": {},
   "outputs": [],
   "source": [
    "import requests\n",
    "\n",
    "url = 'https://davidbpython.com/advanced_python/supplementary/python.png'   # a URL to an image\n",
    "\n",
    "response = requests.get(url)\n",
    "\n",
    "image_bytes = response.content         # bytes from response\n",
    "print(f'{len(image_bytes)} bytes')\n",
    "\n",
    "wfh = open('python_strip.png', 'wb')         # preparing a file to receive bytes\n",
    "wfh.write(image_bytes)\n",
    "wfh.close()"
   ]
  },
  {
   "cell_type": "markdown",
   "metadata": {},
   "source": [
    "Check the folder where this script or notebook is located; you should see the <B>python\\_strip.png</B> image there."
   ]
  },
  {
   "cell_type": "markdown",
   "metadata": {},
   "source": [
    " "
   ]
  },
  {
   "cell_type": "markdown",
   "metadata": {},
   "source": [
    "REQUESTS:  CONFIGURING THE REQUEST"
   ]
  },
  {
   "cell_type": "markdown",
   "metadata": {},
   "source": [
    "<B>2.6:  <U>Issue a request and view elements of the request</U>."
   ]
  },
  {
   "cell_type": "markdown",
   "metadata": {},
   "source": [
    "First, issue the following request and view the headers reflected back.\n",
    "\n",
    "Next, uncomment the 'headers' lines to see how http\\_reflect \"sees\" you (i.e., what browser and platform it thinks you are requesting from).\n",
    "\n",
    "Finally, change 'text/html' to 'text/html' and see http\\_reflect respond with HTML instead of plain text."
   ]
  },
  {
   "cell_type": "code",
   "execution_count": null,
   "metadata": {},
   "outputs": [],
   "source": [
    "import requests\n",
    "\n",
    "spoof_android = \"Mozilla/5.0 (Linux; U; Android 2.3.5; en-in; HTC_DesireS_S510e Build/GRJ90)  AppleWebKit/533.1 (KHTML, like Gecko) Version/4.0 Mobile Safari/533.1\"\n",
    "\n",
    "response = requests.get('http://davidbpython.com/cgi-bin/http_reflect'\n",
    "                        #, headers={\n",
    "                        #         'User-Agent':  spoof_android,\n",
    "                        #         'Accept':      'text/plain',\n",
    "                        #         }\n",
    "                        )\n",
    "\n",
    "print(response.text)"
   ]
  },
  {
   "cell_type": "markdown",
   "metadata": {},
   "source": [
    " "
   ]
  },
  {
   "cell_type": "markdown",
   "metadata": {},
   "source": [
    "<B>2.7:  <U>Issue a request and send parameters with .get()</U>."
   ]
  },
  {
   "cell_type": "markdown",
   "metadata": {},
   "source": [
    "In the below program, add the <B>params=</B> argument with the dict 'my\\_params' to send key/value pairs to the <B>http\\_reflect</B> service as part of the query string.  In the response, find the parameters you sent.\n"
   ]
  },
  {
   "cell_type": "code",
   "execution_count": null,
   "metadata": {},
   "outputs": [],
   "source": [
    "import requests\n",
    "\n",
    "my_params = {'a': 1, 'b': 'hello'}\n",
    "\n",
    "response = requests.get('http://davidbpython.com/cgi-bin/http_reflect')\n",
    "\n",
    "print(response.text)"
   ]
  },
  {
   "cell_type": "markdown",
   "metadata": {},
   "source": [
    " "
   ]
  },
  {
   "cell_type": "markdown",
   "metadata": {},
   "source": [
    "<B>2.8:  <U>Issue a request and send parameters with .post()</U>."
   ]
  },
  {
   "cell_type": "markdown",
   "metadata": {},
   "source": [
    "In the below program, add the <B>data=</B> argument with the dict 'my\\_data' to send key/value pairs to the <B>http\\_reflect</B> service as part of the body of the request.  In the response, find the parameters you sent.\n"
   ]
  },
  {
   "cell_type": "code",
   "execution_count": null,
   "metadata": {},
   "outputs": [],
   "source": [
    "import requests\n",
    "\n",
    "my_data = {'a': 1, 'b': 'hello'}\n",
    "\n",
    "response = requests.post('http://davidbpython.com/cgi-bin/http_reflect')\n",
    "\n",
    "print(response.text)"
   ]
  },
  {
   "cell_type": "markdown",
   "metadata": {},
   "source": [
    " "
   ]
  },
  {
   "cell_type": "markdown",
   "metadata": {},
   "source": [
    "REQUESTS:  UPLOADING A FILE"
   ]
  },
  {
   "cell_type": "markdown",
   "metadata": {},
   "source": [
    "<B>2.9:  <U>Upload a file to a server program</U>.  Add the <B>files=</B> parameter to <B>.post()</B> to upload the below file."
   ]
  },
  {
   "cell_type": "markdown",
   "metadata": {},
   "source": [
    "Note that the file has been opened with 'rb', which stands for 'read binary':  we are uploading encoded bytes."
   ]
  },
  {
   "cell_type": "code",
   "execution_count": null,
   "metadata": {},
   "outputs": [],
   "source": [
    "import requests\n",
    "\n",
    "# open file for reading without decoding (returns a bytestring)\n",
    "file_bytes = open('../test_file.txt', 'rb')\n",
    "\n",
    "file_dict = { 'file':  ('test_file.txt', file_bytes,\n",
    "                        'text/plain') }\n",
    "\n",
    "response = requests.post('https://davidbpython.com/cgi-bin/http_reflect')\n",
    "\n",
    "print(response.text)"
   ]
  },
  {
   "cell_type": "markdown",
   "metadata": {},
   "source": [
    " "
   ]
  },
  {
   "cell_type": "markdown",
   "metadata": {},
   "source": [
    "WEB SCRAPING"
   ]
  },
  {
   "cell_type": "markdown",
   "metadata": {},
   "source": [
    "<B>2.10:  <U>BeautifulSoup object</U>:  the below code reads a string read from an html file and parses the file and its tags into a <B>BeautifulSoup</B> object.  "
   ]
  },
  {
   "cell_type": "markdown",
   "metadata": {},
   "source": [
    "Explore the following attributes of the object named 'soup':\n",
    "<LI> print the type of the object\n",
    "<LI> print the object itself\n",
    "<LI> print the <B>.text</B> attribute\n"
   ]
  },
  {
   "cell_type": "code",
   "execution_count": null,
   "metadata": {},
   "outputs": [],
   "source": [
    "from bs4 import BeautifulSoup\n",
    "\n",
    "scrapee = 'dormouse.html'\n",
    "\n",
    "text = open(scrapee).read()\n",
    "soup = BeautifulSoup(text, 'html.parser')\n"
   ]
  },
  {
   "cell_type": "markdown",
   "metadata": {},
   "source": [
    "Note that you may occasionally encounter a <B>UnicodeDecodeError</B> when you attempt to read a file from the internet.  In these cases you should tell Python which encoding to use:"
   ]
  },
  {
   "cell_type": "code",
   "execution_count": null,
   "metadata": {},
   "outputs": [],
   "source": [
    "text = open(scrapee, encoding='utf-8')"
   ]
  },
  {
   "cell_type": "markdown",
   "metadata": {},
   "source": [
    " "
   ]
  },
  {
   "cell_type": "markdown",
   "metadata": {},
   "source": [
    "<B>2.11:  <U>\"first tag\" attribute access; <B>.text</B> attribute</U>:  access the object for <B>soup.title</B>, <B>soup.body</B>, <B>soup.p</B>, <B>soup.meta</B>.  "
   ]
  },
  {
   "cell_type": "markdown",
   "metadata": {},
   "source": [
    "Print the type of 1 of these objects.\n",
    "\n",
    "Print the .text attribute of each of these objects.\n"
   ]
  },
  {
   "cell_type": "code",
   "execution_count": null,
   "metadata": {},
   "outputs": [],
   "source": [
    "from bs4 import BeautifulSoup\n",
    "\n",
    "scrapee = 'dormouse.html'\n",
    "\n",
    "text = open(scrapee).read()\n",
    "\n",
    "soup = BeautifulSoup(text, 'html.parser')"
   ]
  },
  {
   "cell_type": "markdown",
   "metadata": {},
   "source": [
    " "
   ]
  },
  {
   "cell_type": "markdown",
   "metadata": {},
   "source": [
    "<B>2.12:  <U>Access a tag by parameter</U>.  Use the <B>.find()</b> method to access a tag by name.  Then use a parameter argument to access by name and parameter (e.g. <B>a href=\"http://example.com/elsie\"</B>).  )"
   ]
  },
  {
   "cell_type": "code",
   "execution_count": null,
   "metadata": {},
   "outputs": [],
   "source": [
    "from bs4 import BeautifulSoup\n",
    "\n",
    "scrapee = 'dormouse.html'\n",
    "\n",
    "text = open(scrapee).read()\n",
    "\n",
    "soup = BeautifulSoup(text, 'html.parser')"
   ]
  },
  {
   "cell_type": "markdown",
   "metadata": {},
   "source": [
    " "
   ]
  },
  {
   "cell_type": "markdown",
   "metadata": {},
   "source": [
    "<B>2.13:  <U>Access tag by 'class' parameter</U>.  You can't use a paremeter argument to specify a 'class' parameter (because 'class' is a reserved word).  Use a dict with <B>.find()</B> to specify a 'class' parameter value (e.g. <B>{'class': 'story\\_title'}</B>)"
   ]
  },
  {
   "cell_type": "code",
   "execution_count": null,
   "metadata": {},
   "outputs": [],
   "source": [
    "from bs4 import BeautifulSoup\n",
    "\n",
    "scrapee = 'dormouse.html'\n",
    "\n",
    "text = open(scrapee).read()\n",
    "\n",
    "soup = BeautifulSoup(text, 'html.parser')"
   ]
  },
  {
   "cell_type": "markdown",
   "metadata": {},
   "source": [
    " "
   ]
  },
  {
   "cell_type": "markdown",
   "metadata": {},
   "source": [
    "<B>2.14:  <U>individual parameter values</U>:  for a tag that has them, use a subscript to access parameter values of a tag (e.g. <B>tag['value']</b> for the first meta tag)"
   ]
  },
  {
   "cell_type": "code",
   "execution_count": null,
   "metadata": {},
   "outputs": [],
   "source": [
    "from bs4 import BeautifulSoup\n",
    "\n",
    "scrapee = 'dormouse.html'\n",
    "\n",
    "text = open(scrapee).read()\n",
    "\n",
    "soup = BeautifulSoup(text, 'html.parser')"
   ]
  },
  {
   "cell_type": "markdown",
   "metadata": {},
   "source": [
    " "
   ]
  },
  {
   "cell_type": "markdown",
   "metadata": {},
   "source": [
    "<B>2.15:  <U>all parameter values</U>:  for those tags that have them, use <B>.find\\_all()</B> to access multiple tags with the same criteria.  "
   ]
  },
  {
   "cell_type": "code",
   "execution_count": null,
   "metadata": {},
   "outputs": [],
   "source": [
    "from bs4 import BeautifulSoup\n",
    "\n",
    "scrapee = 'dormouse.html'\n",
    "\n",
    "text = open(scrapee).read()\n",
    "\n",
    "soup = BeautifulSoup(text, 'html.parser')"
   ]
  },
  {
   "cell_type": "markdown",
   "metadata": {},
   "source": [
    " "
   ]
  },
  {
   "cell_type": "markdown",
   "metadata": {},
   "source": [
    "The following exercises will parse the <B>test\\_scrape.html</B> page in this week's session folder.\n"
   ]
  },
  {
   "cell_type": "code",
   "execution_count": null,
   "metadata": {},
   "outputs": [],
   "source": [
    "&lt;html&gt;\n",
    "  &lt;head&gt;\n",
    "    &lt;title&gt;This is a page title.&lt;/title&gt;\n",
    "  &lt;/head&gt;\n",
    "  &lt;body&gt;\n",
    "    &lt;h3 class=\"heading\"&gt;This is a page heading.&lt;/h3&gt;\n",
    "    &lt;p&gt;This is some text.&lt;/p&gt;\n",
    "    &lt;p&gt;This is some more text.&lt;/p&gt;\n",
    "    &lt;h3 class=\"midpage\"&gt;This is a midpage heading.&lt;/h3&gt;\n",
    "    &lt;p&gt;This is even more text.&lt;/p&gt;\n",
    "    &lt;div content=\"Some div parameter content we want!\"&gt;\n",
    "    Some div text!\n",
    "    &lt;/div&gt;\n",
    "  &lt;/body&gt;\n",
    "&lt;/html&gt;"
   ]
  },
  {
   "cell_type": "markdown",
   "metadata": {},
   "source": [
    " "
   ]
  },
  {
   "cell_type": "markdown",
   "metadata": {},
   "source": [
    "<B>2.16:  In <B>test\\_scrape.html</B>, scrape the page title (the title within the &lt;title&gt; tags) and print it."
   ]
  },
  {
   "cell_type": "code",
   "execution_count": null,
   "metadata": {},
   "outputs": [],
   "source": [
    "from bs4 import BeautifulSoup\n",
    "\n",
    "fh = open('test_scrape.html')\n",
    "text = fh.read()\n",
    "\n",
    "tsoup = BeautifulSoup(text, 'html.parser')"
   ]
  },
  {
   "cell_type": "markdown",
   "metadata": {},
   "source": [
    "<U>Expected output</U>:"
   ]
  },
  {
   "cell_type": "code",
   "execution_count": null,
   "metadata": {},
   "outputs": [],
   "source": [
    "This is a page title."
   ]
  },
  {
   "cell_type": "markdown",
   "metadata": {},
   "source": [
    "Note that you may occasionally encounter a <B>UnicodeDecodeError</B> when you attempt to read a file from the internet.  In these cases you should tell Python which encoding to use:"
   ]
  },
  {
   "cell_type": "code",
   "execution_count": null,
   "metadata": {},
   "outputs": [],
   "source": [
    "text = open(scrapee, encoding='utf-8')"
   ]
  },
  {
   "cell_type": "markdown",
   "metadata": {},
   "source": [
    " "
   ]
  },
  {
   "cell_type": "markdown",
   "metadata": {},
   "source": [
    "<B>2.17:  Scrape and print the &lt;h3&gt; tag in the nmiddle of the page (not the first <B>&lt;h3&gt;</B> tag)"
   ]
  },
  {
   "cell_type": "code",
   "execution_count": null,
   "metadata": {},
   "outputs": [],
   "source": [
    "from bs4 import BeautifulSoup\n",
    "\n",
    "fh = open('test_scrape.html')\n",
    "text = fh.read()\n",
    "\n",
    "tsoup = BeautifulSoup(text, 'html.parser')"
   ]
  },
  {
   "cell_type": "markdown",
   "metadata": {},
   "source": [
    "<U>Expected Output</U>:"
   ]
  },
  {
   "cell_type": "code",
   "execution_count": null,
   "metadata": {},
   "outputs": [],
   "source": [
    "This is a midpage heading."
   ]
  },
  {
   "cell_type": "markdown",
   "metadata": {},
   "source": [
    " "
   ]
  },
  {
   "cell_type": "markdown",
   "metadata": {},
   "source": [
    "<B>2.18:  Scrape and print the div text as well as the <B>\"class\"</B> parameter value.  "
   ]
  },
  {
   "cell_type": "code",
   "execution_count": null,
   "metadata": {},
   "outputs": [],
   "source": [
    "from bs4 import BeautifulSoup\n",
    "\n",
    "fh = open('test_scrape.html')\n",
    "text = fh.read()\n",
    "\n",
    "tsoup = BeautifulSoup(text, 'html.parser')"
   ]
  },
  {
   "cell_type": "markdown",
   "metadata": {},
   "source": [
    "<U>Expected Output</U>:"
   ]
  },
  {
   "cell_type": "code",
   "execution_count": null,
   "metadata": {},
   "outputs": [],
   "source": [
    "Some div parameter content we want!\n",
    "\n",
    "    Some div text!\n"
   ]
  },
  {
   "cell_type": "markdown",
   "metadata": {},
   "source": [
    " "
   ]
  },
  {
   "cell_type": "markdown",
   "metadata": {},
   "source": [
    "<B>2.19:  Scrape and print each of the &lt;p&gt; tag texts.  "
   ]
  },
  {
   "cell_type": "code",
   "execution_count": null,
   "metadata": {},
   "outputs": [],
   "source": [
    "from bs4 import BeautifulSoup\n",
    "\n",
    "fh = open('test_scrape.html')\n",
    "text = fh.read()\n",
    "\n",
    "tsoup = BeautifulSoup(text, 'html.parser')"
   ]
  },
  {
   "cell_type": "markdown",
   "metadata": {},
   "source": [
    "<U>Expected Output</U>:"
   ]
  },
  {
   "cell_type": "code",
   "execution_count": null,
   "metadata": {},
   "outputs": [],
   "source": [
    "This is some text.\n",
    "This is some more text.\n",
    "This is even more text."
   ]
  },
  {
   "cell_type": "markdown",
   "metadata": {},
   "source": [
    " "
   ]
  },
  {
   "cell_type": "markdown",
   "metadata": {},
   "source": [
    "FLASK Exercises\n",
    "\n",
    "In this exercise, we'll re-create a Flask application that takes form input and displays an image.\n",
    "\n",
    "You can supplement these instructions with your own application idea -- one that uses user input to choose and display images."
   ]
  },
  {
   "cell_type": "markdown",
   "metadata": {},
   "source": [
    " "
   ]
  },
  {
   "cell_type": "markdown",
   "metadata": {},
   "source": [
    "<B>2.20:  Write a function addme() that takes two arguments, adds them together and returns the two arguments added / concatenated.  Call it thusly:"
   ]
  },
  {
   "cell_type": "code",
   "execution_count": null,
   "metadata": {},
   "outputs": [],
   "source": [
    "# your code here\n",
    "\n",
    "x = addme(4, 5)\n",
    "print x\n",
    "\n",
    "y = addme('hey', 'you')\n",
    "print y"
   ]
  },
  {
   "cell_type": "markdown",
   "metadata": {},
   "source": [
    "<U>Expected Output</U>:  "
   ]
  },
  {
   "cell_type": "markdown",
   "metadata": {},
   "source": [
    "<pre style=\"margin: 0; padding=0\"><DIV style=\"font-family: Courier; border: 1px solid #dbdbdb; padding: 7px\">9\n",
    "heyyou</DIV></pre>"
   ]
  },
  {
   "cell_type": "markdown",
   "metadata": {},
   "source": [
    " "
   ]
  },
  {
   "cell_type": "markdown",
   "metadata": {},
   "source": [
    "<B>2.21:  Write a function greet() with one positional argument (a first name) and one keyword argment (an optional last name).  Make the default for <B>last=</B> the value <B>None</B>.  Call as shown.  "
   ]
  },
  {
   "cell_type": "code",
   "execution_count": null,
   "metadata": {},
   "outputs": [],
   "source": [
    "# your code here\n",
    "\n",
    "\n",
    "x = greet('Joe')\n",
    "print(x)                 # Hi, Joe!\n",
    "\n",
    "y = greet('Joe', last='Wilson')\n",
    "print(y)                 # Hi, Joe Wilson!"
   ]
  },
  {
   "cell_type": "markdown",
   "metadata": {},
   "source": [
    " "
   ]
  },
  {
   "cell_type": "markdown",
   "metadata": {},
   "source": [
    "REFERENCES"
   ]
  },
  {
   "cell_type": "markdown",
   "metadata": {},
   "source": [
    "<B>2.22:  One list or two?  How can we test?  "
   ]
  },
  {
   "cell_type": "code",
   "execution_count": null,
   "metadata": {},
   "outputs": [],
   "source": [
    "x = ['a', 'b', 'c']\n",
    "\n",
    "y = x"
   ]
  },
  {
   "cell_type": "markdown",
   "metadata": {},
   "source": [
    " "
   ]
  },
  {
   "cell_type": "markdown",
   "metadata": {},
   "source": [
    "<B>2.23:  Two lists or three?  Is the list in the last item of y a duplicate list?  How can we test?  "
   ]
  },
  {
   "cell_type": "code",
   "execution_count": null,
   "metadata": {},
   "outputs": [],
   "source": [
    "x = ['a', 'b', 'c']\n",
    "\n",
    "y = [1, 2, 3, x]"
   ]
  },
  {
   "cell_type": "markdown",
   "metadata": {},
   "source": [
    " "
   ]
  },
  {
   "cell_type": "markdown",
   "metadata": {},
   "source": [
    "REFERENCES PASSED TO FUNCTIONS"
   ]
  },
  {
   "cell_type": "markdown",
   "metadata": {},
   "source": [
    "<B>2.24:  One list or two?  Is the list in <B>appendme()</B> a new list?  How can we test?  "
   ]
  },
  {
   "cell_type": "code",
   "execution_count": null,
   "metadata": {},
   "outputs": [],
   "source": [
    "def appendme(arg):\n",
    "    arg.append('d')\n",
    "\n",
    "x = ['a', 'b', 'c']\n",
    "\n",
    "appendme(x)\n"
   ]
  },
  {
   "cell_type": "markdown",
   "metadata": {},
   "source": [
    " "
   ]
  },
  {
   "cell_type": "markdown",
   "metadata": {},
   "source": [
    "<B>2.25:  <B>greet()</B> has been assigned to <B>y</B>.  Call the function through variable <B>y</B>."
   ]
  },
  {
   "cell_type": "code",
   "execution_count": null,
   "metadata": {},
   "outputs": [],
   "source": [
    "def greet():\n",
    "    print('hello, world')\n",
    "\n",
    "y = greet"
   ]
  },
  {
   "cell_type": "markdown",
   "metadata": {},
   "source": [
    " "
   ]
  },
  {
   "cell_type": "markdown",
   "metadata": {},
   "source": [
    "<B>2.26:  Call <B>callit(), passing <B>greet</B> as argument, then inside <B>callit()</B>, call the function through the argument (do not call <B>greet()</B>)."
   ]
  },
  {
   "cell_type": "code",
   "execution_count": null,
   "metadata": {},
   "outputs": [],
   "source": [
    "def callit(func):\n",
    "    # your code here\n",
    "\n",
    "def greet():\n",
    "    print('hello, world!')\n",
    "\n",
    "\n",
    "# your code also here"
   ]
  },
  {
   "cell_type": "markdown",
   "metadata": {},
   "source": [
    " "
   ]
  },
  {
   "cell_type": "markdown",
   "metadata": {},
   "source": [
    "SORTING"
   ]
  },
  {
   "cell_type": "markdown",
   "metadata": {},
   "source": [
    "<B>2.27:  Given the below code, sort the list in reverse numeric order and print it.  "
   ]
  },
  {
   "cell_type": "code",
   "execution_count": null,
   "metadata": {},
   "outputs": [],
   "source": [
    "numlist = [1, 13, 23, 3, 9, 16]\n",
    "\n",
    "# your code here\n"
   ]
  },
  {
   "cell_type": "markdown",
   "metadata": {},
   "source": [
    "<U>Expected Output</U>:  "
   ]
  },
  {
   "cell_type": "code",
   "execution_count": null,
   "metadata": {},
   "outputs": [],
   "source": [
    "[23, 16, 13, 9, 3, 1]"
   ]
  },
  {
   "cell_type": "markdown",
   "metadata": {},
   "source": [
    " "
   ]
  },
  {
   "cell_type": "markdown",
   "metadata": {},
   "source": [
    "<B>2.28:  Given the below code, sort the list in alphabetic order and print it."
   ]
  },
  {
   "cell_type": "code",
   "execution_count": null,
   "metadata": {},
   "outputs": [],
   "source": [
    "charlist = ['a', 'z', 'b', 'c', 'd', 'f']\n",
    "\n",
    "# your code here\n"
   ]
  },
  {
   "cell_type": "markdown",
   "metadata": {},
   "source": [
    "<U>Expected Output</U>:  "
   ]
  },
  {
   "cell_type": "code",
   "execution_count": null,
   "metadata": {},
   "outputs": [],
   "source": [
    "['a', 'b', 'c', 'd', 'f', 'z']"
   ]
  },
  {
   "cell_type": "markdown",
   "metadata": {},
   "source": [
    " "
   ]
  },
  {
   "cell_type": "markdown",
   "metadata": {},
   "source": [
    "<B>2.29:  Given the below code, sort the list using standard sort and print it (note the output below).  "
   ]
  },
  {
   "cell_type": "code",
   "execution_count": null,
   "metadata": {},
   "outputs": [],
   "source": [
    "charList = ['F', 'e', 'c', 'a', 'B', 'D']\n",
    "\n",
    "# your code here\n"
   ]
  },
  {
   "cell_type": "markdown",
   "metadata": {},
   "source": [
    "<U>Expected Output</U>:  "
   ]
  },
  {
   "cell_type": "code",
   "execution_count": null,
   "metadata": {},
   "outputs": [],
   "source": [
    "['B', 'D', 'F', 'a', 'c', 'e']"
   ]
  },
  {
   "cell_type": "markdown",
   "metadata": {},
   "source": [
    " "
   ]
  },
  {
   "cell_type": "markdown",
   "metadata": {},
   "source": [
    "COMPLEX SORTING"
   ]
  },
  {
   "cell_type": "markdown",
   "metadata": {},
   "source": [
    "<B>2.30:  Given your understanding that the key= argument to sorted() will in a sense process each element through whatever function we pass to it, sort the below list in alphabetical order and print it.  "
   ]
  },
  {
   "cell_type": "markdown",
   "metadata": {},
   "source": [
    "(Hint:  this list will not sort alphabetically by default.  We need a key= function that can modify each element in the list, and make them all the same case.  The string upper() method or lower() method can do the job.  To refer to this method, you can say str.upper or str.lower.  However, make sure not to actually call the method (which is done with the parentheses).  Instead, you simply refer to the method, i.e., mention the method without using the parentheses.)\n"
   ]
  },
  {
   "cell_type": "code",
   "execution_count": null,
   "metadata": {},
   "outputs": [],
   "source": [
    "charList = ['F', 'e', 'c', 'a', 'B', 'D']\n",
    "\n",
    "# your code here\n"
   ]
  },
  {
   "cell_type": "markdown",
   "metadata": {},
   "source": [
    "<U>Expected Output</U>:  "
   ]
  },
  {
   "cell_type": "code",
   "execution_count": null,
   "metadata": {},
   "outputs": [],
   "source": [
    "['a', 'B', 'c', 'D', 'e', 'F']"
   ]
  },
  {
   "cell_type": "markdown",
   "metadata": {},
   "source": [
    "If you see this message:\n"
   ]
  },
  {
   "cell_type": "markdown",
   "metadata": {},
   "source": [
    "<pre style=\"margin: 0; padding=0\"><DIV style=\"font-family: Courier; border: 1px solid #dbdbdb; padding: 7px\">TypeError: descriptor 'upper' of 'str' object needs an argument</DIV></pre>"
   ]
  },
  {
   "cell_type": "markdown",
   "metadata": {},
   "source": [
    "it means that you added parentheses and attempted to call the str.upper or str.lower method.  Keep in mind that we don't call this method -- we give it to the sorted() function to call.  We're doing this because sorted() will use whatever function we wish, to modify each element for the purposes of sorting.  If we give it str.upper it will sort 'a' as 'A' and 'B' as 'B' and 'c' as 'C' -- this should indicate to you how we are able to use it for alphabetic sorting with mixed-case strings."
   ]
  },
  {
   "cell_type": "markdown",
   "metadata": {},
   "source": [
    " "
   ]
  },
  {
   "cell_type": "markdown",
   "metadata": {},
   "source": [
    "<B>2.31:  Given your understanding that the key= argument to sorted() will in a sense process each element through whatever function we pass to it, sort these strings by their length, and print the sorted list.  "
   ]
  },
  {
   "cell_type": "code",
   "execution_count": null,
   "metadata": {},
   "outputs": [],
   "source": [
    "mystrs = ['I', 'was', 'hanging', 'on', 'a', 'rock']\n",
    "\n",
    "# your code here\n"
   ]
  },
  {
   "cell_type": "markdown",
   "metadata": {},
   "source": [
    "<U>Expected Output</U>:  "
   ]
  },
  {
   "cell_type": "code",
   "execution_count": null,
   "metadata": {},
   "outputs": [],
   "source": [
    "['I', 'a', 'on', 'was', 'rock', 'hanging']"
   ]
  },
  {
   "cell_type": "markdown",
   "metadata": {},
   "source": [
    "If you see this message:\n"
   ]
  },
  {
   "cell_type": "markdown",
   "metadata": {},
   "source": [
    "<pre style=\"margin: 0; padding=0\"><DIV style=\"font-family: Courier; border: 1px solid #dbdbdb; padding: 7px\">TypeError: len() takes exactly one argument (0 given)</DIV></pre>"
   ]
  },
  {
   "cell_type": "markdown",
   "metadata": {},
   "source": [
    "it means that you added parentheses and thus attempted to call the len function.  Keep in mind that we don't call this method -- we give it to the sorted() function to call.  We're doing this because sorted() will use whatever function we wish, to modify each element for the purposes of sorting.  If we give it len it will sort 'I' as 1, 'was' as 3, 'hanging' as 7, etc -- perfect for our purposes."
   ]
  },
  {
   "cell_type": "markdown",
   "metadata": {},
   "source": [
    " "
   ]
  },
  {
   "cell_type": "markdown",
   "metadata": {},
   "source": [
    "<B>2.32:  Given the following numbers, which were retrieved from a file as strings, sort the strings numerically without creating a new list.  (Hint:  based on your understanding that the key= argument to sorted() will in a sense process each element through whatever function we pass to it, use a function that converts numeric strings to integers.  "
   ]
  },
  {
   "cell_type": "markdown",
   "metadata": {},
   "source": [
    "If you see a message similar to the one mentioned in the previous exercise, it means you've done something similar to the issue mentioned there.  Remember that key= references a function, it does not call it (thus we will not use parentheses).\n"
   ]
  },
  {
   "cell_type": "code",
   "execution_count": null,
   "metadata": {},
   "outputs": [],
   "source": [
    "mynums = ['5', '101', '10', '1', '3']\n",
    "\n",
    "# your code here\n"
   ]
  },
  {
   "cell_type": "markdown",
   "metadata": {},
   "source": [
    "<U>Expected Output</U>:  "
   ]
  },
  {
   "cell_type": "code",
   "execution_count": null,
   "metadata": {},
   "outputs": [],
   "source": [
    "['1', '3', '5', '10', '101']"
   ]
  },
  {
   "cell_type": "markdown",
   "metadata": {},
   "source": [
    " "
   ]
  },
  {
   "cell_type": "markdown",
   "metadata": {},
   "source": [
    "<B>2.33:  Experimental exercise.  Please run the following code:"
   ]
  },
  {
   "cell_type": "code",
   "execution_count": null,
   "metadata": {},
   "outputs": [],
   "source": [
    "def my_element_modifier(arg):\n",
    "    lower_arg = arg.lower()\n",
    "    print(f'sorting element \"{arg}\" by value \"{lower_arg}\"')\n",
    "    return lower_arg\n",
    "\n",
    "sorted_list = sorted(['e', 'c', 'D', 'B', 'a'],\n",
    "                     key=my_element_modifier)\n",
    "print(sorted_list)"
   ]
  },
  {
   "cell_type": "markdown",
   "metadata": {},
   "source": [
    "Note the output:\n"
   ]
  },
  {
   "cell_type": "markdown",
   "metadata": {},
   "source": [
    "<pre style=\"margin: 0; padding=0\"><DIV style=\"font-family: Courier; border: 1px solid #dbdbdb; padding: 7px\">sorting element \"e\" by value \"e\"\n",
    "sorting element \"c\" by value \"c\"\n",
    "sorting element \"D\" by value \"d\"\n",
    "sorting element \"B\" by value \"b\"\n",
    "sorting element \"a\" by value \"a\"\n",
    "\n",
    "['a', 'B', 'c', 'D', 'e']</DIV></pre>"
   ]
  },
  {
   "cell_type": "markdown",
   "metadata": {},
   "source": [
    "This exercise demonstrates that my\\_element\\_modifier() was called once for every element, in this case 5 times.  arg is assigned each element in turn.  And the value returned from my\\_element\\_modifier() is the value by which each element is sorted -- so 'a' is sorted by the value 'a', 'B' is sorted by the value 'b', 'c' by 'c', 'D' by 'd'.  This facilitates the alphabetic sorting of these values.  The values themselves don't change, but Python sorts according to the value returned from the function.\n",
    "\n",
    "If this makes sense to you, please go back to the previous examples and link this understanding to the other functions and methods we've used before -- using int, len, str.upper, etc.  They are all passing a function to be applied to each element, and Python is sorting by the value returned from the function or method."
   ]
  },
  {
   "cell_type": "markdown",
   "metadata": {},
   "source": [
    " "
   ]
  },
  {
   "cell_type": "markdown",
   "metadata": {},
   "source": [
    "<B>2.34:  Given the below list, sort line\\_list by the number at the end of each line.  Loop through and print the sorted list.  (Hint:  call sorted() on line\\_list, and make your key= value the name of a custom function that takes the line as an argument and returns the value of the number at the end of the line.  Your custom function will simply take an arg (that will be a string, the line from the file), split the line into elements, and return the last element as an integer.  "
   ]
  },
  {
   "cell_type": "code",
   "execution_count": null,
   "metadata": {},
   "outputs": [],
   "source": [
    "line_list = [\n",
    "   'the value 3',\n",
    "   'this value 1',\n",
    "   'that value is 4',\n",
    "   'the value here is 2'\n",
    "]\n",
    "\n",
    "# your code here\n"
   ]
  },
  {
   "cell_type": "markdown",
   "metadata": {},
   "source": [
    "<U>Expected Output</U>:  "
   ]
  },
  {
   "cell_type": "markdown",
   "metadata": {},
   "source": [
    "<pre style=\"margin: 0; padding=0\"><DIV style=\"font-family: Courier; border: 1px solid #dbdbdb; padding: 7px\">line_list = [\n",
    "   'this value 1',\n",
    "   'the value here is 2',\n",
    "   'the value 3',\n",
    "   'that value is 4'\n",
    "]</DIV></pre>"
   ]
  },
  {
   "cell_type": "markdown",
   "metadata": {},
   "source": [
    " "
   ]
  },
  {
   "cell_type": "markdown",
   "metadata": {},
   "source": [
    "<B>2.35:  Sort the lines of the file pyku.txt by the number of words on each line.  (Hint:  write a custom sort function that takes a single line of text, splits the line into a list, and returns the length of the list.  Pass the readlines() of the file to the sorted() function.)  Also here I am using rstrip() to strip each line before printing.  "
   ]
  },
  {
   "cell_type": "code",
   "execution_count": null,
   "metadata": {},
   "outputs": [],
   "source": [
    "fh = open('../pyku.txt')\n",
    "\n",
    "lines = fh.readlines()\n",
    "\n",
    "# your code here\n"
   ]
  },
  {
   "cell_type": "markdown",
   "metadata": {},
   "source": [
    "<U>Expected Output</U>:  "
   ]
  },
  {
   "cell_type": "markdown",
   "metadata": {},
   "source": [
    "<pre style=\"margin: 0; padding=0\"><DIV style=\"font-family: Courier; border: 1px solid #dbdbdb; padding: 7px\">We're out of gouda.\n",
    "Spam, spam, spam, spam, spam.\n",
    "This parrot has ceased to be.</DIV></pre>"
   ]
  },
  {
   "cell_type": "markdown",
   "metadata": {},
   "source": [
    " "
   ]
  },
  {
   "cell_type": "markdown",
   "metadata": {},
   "source": [
    "<B>2.36:  Sort the lines of revenue.csv by the numeric value in the last field by passing the list of lines returned from readlines() of the file to sorted() and using a custom sort sub similar to an earlier exercise.  (I am also rstrip()ping each line before printing it.)"
   ]
  },
  {
   "cell_type": "code",
   "execution_count": null,
   "metadata": {},
   "outputs": [],
   "source": [
    "fh = open('../revenue.csv')\n",
    "\n",
    "lines = fh.readlines()\n",
    "\n",
    "\n",
    "# your code here\n"
   ]
  },
  {
   "cell_type": "markdown",
   "metadata": {},
   "source": [
    "<U>Expected Output</U>:  "
   ]
  },
  {
   "cell_type": "markdown",
   "metadata": {},
   "source": [
    "<pre style=\"margin: 0; padding=0\"><DIV style=\"font-family: Courier; border: 1px solid #dbdbdb; padding: 7px\">Dothraki Fashions,NY,5.98\n",
    "Hipster's,NY,11.98\n",
    "Awful's,PA,23.95\n",
    "Westfield,NJ,53.90\n",
    "The Clothiers,NY,115.20\n",
    "The Store,NJ,211.50\n",
    "Haddad's,PA,239.50</DIV></pre>"
   ]
  },
  {
   "cell_type": "markdown",
   "metadata": {},
   "source": [
    " "
   ]
  },
  {
   "cell_type": "markdown",
   "metadata": {},
   "source": [
    "SORTING COMPLEX STRUCTURES"
   ]
  },
  {
   "cell_type": "markdown",
   "metadata": {},
   "source": [
    "<B>2.37:  Given the following list of dicts, sort the dicts by each dict's last name.  Loop through and print each dict.  "
   ]
  },
  {
   "cell_type": "code",
   "execution_count": null,
   "metadata": {},
   "outputs": [],
   "source": [
    "people = [\n",
    "    { 'id':     '12345',\n",
    "      'fname':  'Joe',\n",
    "      'lname':  'Wilson',\n",
    "      'addr':   '12345 Main Street' },\n",
    "\n",
    "    { 'id':     '00355',\n",
    "      'fname':  'Marie',\n",
    "      'lname':  'Adams',\n",
    "      'addr':   '888 Elm Street' },\n",
    "\n",
    "    { 'id':     '98973',\n",
    "      'fname':  'Alex',\n",
    "      'lname':  'Jones',\n",
    "      'addr':   '23 Marsh Avenue' }\n",
    "]\n",
    "\n",
    "# your code here"
   ]
  },
  {
   "cell_type": "markdown",
   "metadata": {},
   "source": [
    " "
   ]
  },
  {
   "cell_type": "markdown",
   "metadata": {},
   "source": [
    "<B>2.38:  Given the following dict of dicts, sort the dict keys by the last name.  Loop through and print each key.  "
   ]
  },
  {
   "cell_type": "code",
   "execution_count": null,
   "metadata": {},
   "outputs": [],
   "source": [
    "people = {  '12345': { 'fname':  'Joe',\n",
    "                       'lname':  'Wilson',\n",
    "                       'addr':   '12345 Main Street' },\n",
    "\n",
    "            '00355': { 'fname':  'Marie',\n",
    "                       'lname':  'Adams',\n",
    "                       'addr':   '888 Elm Street' },\n",
    "\n",
    "            '98973': { 'fname':  'Alex',\n",
    "                       'lname':  'Jones',\n",
    "                       'addr':   '23 Marsh Avenue' }\n",
    "}\n",
    "\n",
    "# your code here"
   ]
  },
  {
   "cell_type": "markdown",
   "metadata": {},
   "source": [
    " "
   ]
  },
  {
   "cell_type": "markdown",
   "metadata": {},
   "source": [
    "WORKING WITH ENCODINGS AND UNICODE"
   ]
  },
  {
   "cell_type": "markdown",
   "metadata": {},
   "source": [
    "<B>2.39:  <U>Use ord() and chr() to encode characters to integers and decode integers to characters</U>."
   ]
  },
  {
   "cell_type": "markdown",
   "metadata": {},
   "source": [
    "Use the <B>ord()</B> function to convert this character to an integer; then use the <B>chr()</B> function to convert back from integer to character."
   ]
  },
  {
   "cell_type": "code",
   "execution_count": null,
   "metadata": {},
   "outputs": [],
   "source": [
    "char = 'A'\n",
    "\n"
   ]
  },
  {
   "cell_type": "markdown",
   "metadata": {},
   "source": [
    " "
   ]
  },
  {
   "cell_type": "markdown",
   "metadata": {},
   "source": [
    "<B>2.40:  <U>Demonstratin:  note how you can use integers to retrieve characters</U>.  "
   ]
  },
  {
   "cell_type": "markdown",
   "metadata": {},
   "source": [
    "You can use integers to retrieve characters.  Run the following program:"
   ]
  },
  {
   "cell_type": "code",
   "execution_count": null,
   "metadata": {},
   "outputs": [],
   "source": [
    "for idx in range(65, 70):\n",
    "    print(chr(idx))\n"
   ]
  },
  {
   "cell_type": "markdown",
   "metadata": {},
   "source": [
    " "
   ]
  },
  {
   "cell_type": "markdown",
   "metadata": {},
   "source": [
    "<B>2.41:  <U>Use str.encode() and bytes.decode() to convert a string to a bytestring and back to string</U>."
   ]
  },
  {
   "cell_type": "markdown",
   "metadata": {},
   "source": [
    "<B>greet.encode()</B> should include an encoding ('ascii', 'latin-1' or 'utf-8'):"
   ]
  },
  {
   "cell_type": "code",
   "execution_count": null,
   "metadata": {},
   "outputs": [],
   "source": [
    "greet = 'Hello, world!'\n",
    "\n",
    "bytestr = greet.encode(# add encoding here)\n",
    "print(bytestr)\n",
    "\n",
    "# subscript the bytestring to see individual characters\n",
    "\n",
    "\n",
    "\n",
    "# now call bytestr.decode() with the same encoding to see the string again\n"
   ]
  },
  {
   "cell_type": "markdown",
   "metadata": {},
   "source": [
    " "
   ]
  },
  {
   "cell_type": "markdown",
   "metadata": {},
   "source": [
    "<B>2.42:  <U>Encode a latin-1 string to bytes and back to string, then try to encode as ascii</U>"
   ]
  },
  {
   "cell_type": "markdown",
   "metadata": {},
   "source": [
    "The below string contains a non-ascii character.  Encode into the following encodings:  'latin-1', 'utf-8' and 'ascii'.\n"
   ]
  },
  {
   "cell_type": "code",
   "execution_count": null,
   "metadata": {},
   "outputs": [],
   "source": [
    "string = 'voilà'\n",
    "\n",
    "bytestr = string.encode(# add encoding here)\n",
    "\n",
    "print(bytestr)"
   ]
  },
  {
   "cell_type": "markdown",
   "metadata": {},
   "source": [
    " "
   ]
  },
  {
   "cell_type": "markdown",
   "metadata": {},
   "source": [
    "<B>2.43:  <U>Open a file in various encodings</U>.  The text of the following file is French, and we are opening it in utf-8 (Python's default).  Try to open the file with <B>encoding='latin-1'</B> and <B>encoding='ascii'</B>.  "
   ]
  },
  {
   "cell_type": "code",
   "execution_count": null,
   "metadata": {},
   "outputs": [],
   "source": [
    "filename = '../la_vie.txt'\n",
    "\n",
    "fh = open(filename, encoding='utf-8')\n",
    "\n",
    "print(fh.read())"
   ]
  },
  {
   "cell_type": "markdown",
   "metadata": {},
   "source": [
    " "
   ]
  },
  {
   "cell_type": "markdown",
   "metadata": {},
   "source": [
    "<B>2.44:  <U>Use the <B>chardet</B> library to \"sniff\" an encoding</U>.  Given the below strings, use <B>chardet.detect()</B> with each of the two bytestring to get Python's best guess as to its encoding.  Print the resulting dict from <B>.detect()</B>.  "
   ]
  },
  {
   "cell_type": "code",
   "execution_count": null,
   "metadata": {},
   "outputs": [],
   "source": [
    "import chardet\n",
    "\n",
    "bytestr1 = 'voilà'.encode('utf-8')\n",
    "\n",
    "bytestr2 = 'hello'.encode('utf-8')\n",
    "\n"
   ]
  },
  {
   "cell_type": "markdown",
   "metadata": {},
   "source": [
    " "
   ]
  },
  {
   "cell_type": "markdown",
   "metadata": {},
   "source": [
    "FLASK Exercises\n",
    "\n",
    "In this exercise, we'll re-create a Flask application that takes form input and displays an image.\n",
    "\n",
    "You can supplement these instructions with your own application idea -- one that uses user input to choose and display images."
   ]
  },
  {
   "cell_type": "markdown",
   "metadata": {},
   "source": [
    " "
   ]
  },
  {
   "cell_type": "markdown",
   "metadata": {},
   "source": [
    "<B>2.45:  Create a simple Flask 'hello world' app that greets the user, and start the application."
   ]
  },
  {
   "cell_type": "markdown",
   "metadata": {},
   "source": [
    "Use the basic <B>hello\\_flask.py</B> example.\n",
    "\n",
    "Start the application by running it from the command line (the Terminal or Command Prompt window).\n",
    "\n",
    "<U>Expected Output</U>:"
   ]
  },
  {
   "cell_type": "code",
   "execution_count": null,
   "metadata": {},
   "outputs": [],
   "source": [
    "$ ./hello.py\n",
    " * Running on http://127.0.0.1:5000/ (Press CTRL+C to quit)\n",
    " * Restarting with stat\n",
    " * Debugger is active!\n",
    " * Debugger PIN: 323-629-461"
   ]
  },
  {
   "cell_type": "markdown",
   "metadata": {},
   "source": [
    " "
   ]
  },
  {
   "cell_type": "markdown",
   "metadata": {},
   "source": [
    "<B>2.46:  Call the application from a browser."
   ]
  },
  {
   "cell_type": "markdown",
   "metadata": {},
   "source": [
    "Call the application from a browser with the following URL; you should see \"Hello, World!\" displayed in the browser.\n"
   ]
  },
  {
   "cell_type": "code",
   "execution_count": null,
   "metadata": {},
   "outputs": [],
   "source": [
    "http://localhost:5000/hello"
   ]
  },
  {
   "cell_type": "markdown",
   "metadata": {},
   "source": [
    "<U>Expected Output</U>:"
   ]
  },
  {
   "cell_type": "code",
   "execution_count": null,
   "metadata": {},
   "outputs": [],
   "source": [
    "Hello, world!"
   ]
  },
  {
   "cell_type": "markdown",
   "metadata": {},
   "source": [
    " "
   ]
  },
  {
   "cell_type": "markdown",
   "metadata": {},
   "source": [
    "<B>2.47:  (Exploratory exercise):  view log messages at command line.  "
   ]
  },
  {
   "cell_type": "markdown",
   "metadata": {},
   "source": [
    "The sample code from the <B>hello world</B> app contains a <B>print()</B> statement.  Look in the Terminal or Command Prompt window to see the print output displayed.\n",
    "\n",
    "Refresh the page several times so you can see that the log message is displayed.\n",
    "<U>Sample program run</U>:"
   ]
  },
  {
   "cell_type": "code",
   "execution_count": null,
   "metadata": {},
   "outputs": [],
   "source": [
    "*** DEBUG:  inside hello_world() ***\n",
    "127.0.0.1 - - [24/Mar/2018 13:45:59] \"GET /hello HTTP/1.1\" 200 -\n",
    "*** DEBUG:  inside hello_world() ***\n",
    "127.0.0.1 - - [24/Mar/2018 13:45:59] \"GET /hello HTTP/1.1\" 200 -\n",
    "*** DEBUG:  inside hello_world() ***\n",
    "127.0.0.1 - - [24/Mar/2018 13:46:00] \"GET /hello HTTP/1.1\" 200 -"
   ]
  },
  {
   "cell_type": "markdown",
   "metadata": {},
   "source": [
    " "
   ]
  },
  {
   "cell_type": "markdown",
   "metadata": {},
   "source": [
    "<B>2.48:  Add another <B>@app.route()</B> function. "
   ]
  },
  {
   "cell_type": "markdown",
   "metadata": {},
   "source": [
    "Add another <B>@app.route()</B> function that says \"Goodbye, now!  Come on back, y'hear?\".  This function should be called when the user adds <B>/goodbye</B> to the URL.\n",
    "\n",
    "Call the new URL:"
   ]
  },
  {
   "cell_type": "code",
   "execution_count": null,
   "metadata": {},
   "outputs": [],
   "source": [
    "http://localhost:5000/goodbye"
   ]
  },
  {
   "cell_type": "markdown",
   "metadata": {},
   "source": [
    "<U>Expected Output</U>:"
   ]
  },
  {
   "cell_type": "code",
   "execution_count": null,
   "metadata": {},
   "outputs": [],
   "source": [
    "Goodbye, now!  Come on back, y'hear?"
   ]
  },
  {
   "cell_type": "markdown",
   "metadata": {},
   "source": [
    " "
   ]
  },
  {
   "cell_type": "markdown",
   "metadata": {},
   "source": [
    "<B>2.49:  Add templates for <B>/hello</B> and <B>/goodbye</B> so that when the user visits, it returns a template rather than a string.  "
   ]
  },
  {
   "cell_type": "markdown",
   "metadata": {},
   "source": [
    "The templates must be placed within a folder called <B>template/</B> that is in the same directory as the script.\n",
    "\n",
    "Here is the template to add for hello (<B>hello.html</B>, included in this session's files):"
   ]
  },
  {
   "cell_type": "code",
   "execution_count": null,
   "metadata": {},
   "outputs": [],
   "source": [
    "&lt;html&gt;\n",
    "  &lt;head&gt;&lt;title&gt;A Greeting&lt;/title&gt;&lt;/head&gt;\n",
    "  &lt;body&gt;\n",
    "      &lt;h1&gt;Hello, Template!&lt;/h1&gt;\n",
    "  &lt;/body&gt;\n",
    "&lt;/html&gt;"
   ]
  },
  {
   "cell_type": "markdown",
   "metadata": {},
   "source": [
    "<U>Expected Output</U>:"
   ]
  },
  {
   "cell_type": "code",
   "execution_count": null,
   "metadata": {},
   "outputs": [],
   "source": [
    "Hello, Template!"
   ]
  },
  {
   "cell_type": "markdown",
   "metadata": {},
   "source": [
    "Here is the template to add for goodbye (<B>goodbye.html</B>, included in this session's files):"
   ]
  },
  {
   "cell_type": "code",
   "execution_count": null,
   "metadata": {},
   "outputs": [],
   "source": [
    "&lt;html&gt;\n",
    "  &lt;head&gt;&lt;title&gt;A Farewell&lt;/title&gt;&lt;/head&gt;\n",
    "  &lt;body&gt;\n",
    "      &lt;h1&gt;Goodbye, now!  Come on back, y'hear?!&lt;/h1&gt;\n",
    "  &lt;/body&gt;\n",
    "&lt;/html&gt;"
   ]
  },
  {
   "cell_type": "markdown",
   "metadata": {},
   "source": [
    "<U>Expected Output</U>:"
   ]
  },
  {
   "cell_type": "code",
   "execution_count": null,
   "metadata": {},
   "outputs": [],
   "source": [
    "Goodbye, now!  Come on back, y'hear?!"
   ]
  },
  {
   "cell_type": "markdown",
   "metadata": {},
   "source": [
    " "
   ]
  },
  {
   "cell_type": "markdown",
   "metadata": {},
   "source": [
    "<B>2.50:  Add a \"static\" HTML page with a link that calls the <B>hello/</B> function, and another link that calls the <B>goodbye/</B> function.  "
   ]
  },
  {
   "cell_type": "markdown",
   "metadata": {},
   "source": [
    "This page has been added as <B>launch.html</B>, also in the <B>templates/</B> directory.\n"
   ]
  },
  {
   "cell_type": "code",
   "execution_count": null,
   "metadata": {},
   "outputs": [],
   "source": [
    "&lt;html&gt;\n",
    "  &lt;head&gt;&lt;title&gt;Launch&lt;/title&gt;&lt;/head&gt;\n",
    "  &lt;body&gt;\n",
    "    &lt;h1&gt;Launch!&lt;/h1&gt;\n",
    "    &lt;A HREF=\"http://localhost:5000/hello\"&gt;say hello&lt;/A&gt;&lt;br&gt;&lt;br&gt;\n",
    "    &lt;A HREF=\"http://localhost:5000/goodbye\"&gt;say goodbye&lt;/A&gt;\n",
    "  &lt;/body&gt;\n",
    "&lt;/html&gt;"
   ]
  },
  {
   "cell_type": "markdown",
   "metadata": {},
   "source": [
    "As you can see, each link points to another place in the app.\n",
    "\n",
    "After saving this page as <B>launch.html</B>, use your browser's <B>File > Open File...</B> to navigate to the page and display it.  You'll see the two links displayed.\n",
    "\n",
    "<U>Expected output</U>:\n",
    "Click on each one to see that the page calls the Flask app and displays the proper template."
   ]
  },
  {
   "cell_type": "markdown",
   "metadata": {},
   "source": [
    " "
   ]
  },
  {
   "cell_type": "markdown",
   "metadata": {},
   "source": [
    "<B>2.51:  Add a link on the <B>hello/</B> page that calls the <B>goodbye/</B> page, and one on the <B>goodbye/</B> page that calls the <B>hello/</B> page."
   ]
  },
  {
   "cell_type": "markdown",
   "metadata": {},
   "source": [
    "However, don't use the <B>&lt;A HREF=</B> URL as was done in the launch page.  Instead, use the <B>flask.url\\_for()</B> function and allow Flask to build the URL for you:"
   ]
  },
  {
   "cell_type": "code",
   "execution_count": null,
   "metadata": {},
   "outputs": [],
   "source": [
    "&lt;A HREF=\"{{ url_for('hello_world') }}\"&gt;say goodbye&lt;/A&gt;"
   ]
  },
  {
   "cell_type": "markdown",
   "metadata": {},
   "source": [
    "Also make special note that the argument to <B>url\\_for()</B> is <I>the name of the function</I>, not the <B>@app.route()</B> URL string.\n",
    "\n",
    "<U>Expected output</U>:\n",
    "You should be able to click back and forth between one page and another by clicking the link on each page."
   ]
  },
  {
   "cell_type": "markdown",
   "metadata": {},
   "source": [
    " "
   ]
  },
  {
   "cell_type": "markdown",
   "metadata": {},
   "source": [
    "<B>2.52:  Add the following form to the <B>hello.html</B> template, which features a <B>&lt;select&gt;</B> dropdown and and an <B>&lt;input&gt;</B> field.  Call the app through the form by submitting the form.  "
   ]
  },
  {
   "cell_type": "code",
   "execution_count": null,
   "metadata": {},
   "outputs": [],
   "source": [
    "    &lt;form action=\"http://localhost:5000/goodbye\"&gt;\n",
    "\n",
    "    Please enter a caption:  &lt;input type=\"text\" name=\"caption\"&gt;\n",
    "    &lt;br&gt;\n",
    "\n",
    "    Please select a mood:\n",
    "    &lt;select name=\"mood\"&gt;\n",
    "        &lt;option&gt;happy&lt;/option&gt;\n",
    "        &lt;option&gt;sad&lt;/option&gt;\n",
    "    &lt;/select&gt;\n",
    "    &lt;br&gt;\n",
    "\n",
    "        &lt;input type=\"submit\"&gt;\n",
    "    &lt;/form&gt;"
   ]
  },
  {
   "cell_type": "markdown",
   "metadata": {},
   "source": [
    " "
   ]
  },
  {
   "cell_type": "markdown",
   "metadata": {},
   "source": [
    "<B>2.53:  Read the <B>caption</B> and <B>mood</B> field values and include them in the <B>goodbye.html</B> template.  "
   ]
  },
  {
   "cell_type": "markdown",
   "metadata": {},
   "source": [
    "The form sends field values for \"caption\" and \"mood\" to the app when it calls the <B>goodbye/</B> URL; retrieve these values using <B>flask.request.args.get('caption')</B> and <B>flask.request.args.get('mood')</B>.\n",
    "\n",
    "For now, test the retrieval of these form parameters by returning one of them from the function (in other words, comment out <B>render\\_template()</B> and just return one of the strings.)\n",
    "\n",
    "<U>Expected Output</U>:"
   ]
  },
  {
   "cell_type": "code",
   "execution_count": null,
   "metadata": {},
   "outputs": [],
   "source": [
    "Goodbye, now!  Come on back, y'hear?\n",
    "happy  [or may be sad]"
   ]
  },
  {
   "cell_type": "markdown",
   "metadata": {},
   "source": [
    " "
   ]
  },
  {
   "cell_type": "markdown",
   "metadata": {},
   "source": [
    "<B>2.54:  Insert the <B>caption</B> and <B>mood</B> values into the template.  "
   ]
  },
  {
   "cell_type": "markdown",
   "metadata": {},
   "source": [
    "Use the <B>{{ [token name] }}</B> token (where <B>[token\\_name]</B> is the token name) to insert a value into the template.  Add parameter arguments (for example <B>caption=[caption variable]</B>, where <B>[caption variable]</B> is whatever variable you used to retrieve the value from the form) to <B>render\\_template()</B> to insert the value.\n",
    "\n",
    "<U>Expected Output</U>:"
   ]
  },
  {
   "cell_type": "code",
   "execution_count": null,
   "metadata": {},
   "outputs": [],
   "source": [
    "Goodbye, now! Come on back, y'hear?!\n",
    "\n",
    "caption: Hi there (or whatever you typed into form)\n",
    "mood: happy (or whichever mood you chose)\n",
    "say hello"
   ]
  },
  {
   "cell_type": "markdown",
   "metadata": {},
   "source": [
    "Note that <B>Hi there</B> and <B>happy</B> are values that I entered into the form when I submitted it."
   ]
  },
  {
   "cell_type": "markdown",
   "metadata": {},
   "source": [
    " "
   ]
  },
  {
   "cell_type": "markdown",
   "metadata": {},
   "source": [
    "<B>2.55:  Add an image to the <B>goodbye</B> page.  "
   ]
  },
  {
   "cell_type": "markdown",
   "metadata": {},
   "source": [
    "Add the <B>happup.jpg</B> image to the <B>goodbye.html</B> template.\n",
    "\n",
    "In order to reference images in an HTML page served by flask, we must put the images in <B>static/images</B> and reference them using <B>&lt;IMG SRC=\"{{ url\\_for('static', filename='images/[name of image file]') }}\"&gt;</B>.\n",
    "\n",
    "<U>Expected Output</U>:\n",
    "You should see the <B>happup.jpg</B> image along with the form input values"
   ]
  },
  {
   "cell_type": "markdown",
   "metadata": {},
   "source": [
    " "
   ]
  },
  {
   "cell_type": "markdown",
   "metadata": {},
   "source": [
    "<B>2.56:  Choose an image based on the user's dropdown choice.  "
   ]
  },
  {
   "cell_type": "markdown",
   "metadata": {},
   "source": [
    "Now add the <B>sadpup.jpg</B> image to the <B>static/images/</B> directory and modify the script so that it sends either image name to the template based on the user's \"mood\" choice.\n",
    "\n",
    "Use the <B>{% if [varname] == [value] %}  {% else %}  {% endif %}</B> construct to have the template show either the <B>happup.jpg</B> or <B>sadpup.jpg</B> image.\n",
    "\n",
    "Also, place the <B>caption</B> string beneath the image.\n",
    "\n",
    "<U>Expected Output</U>:\n",
    "You should see the <B>happup.jpg</B> or <B>sadpup.jpg</B> image displayed along with a caption beneath."
   ]
  },
  {
   "cell_type": "markdown",
   "metadata": {},
   "source": [
    " "
   ]
  }
 ],
 "metadata": {},
 "nbformat": 4,
 "nbformat_minor": 4
}
