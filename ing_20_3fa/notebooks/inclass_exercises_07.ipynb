{
 "cells": [
  {
   "cell_type": "markdown",
   "metadata": {},
   "source": [
    "# In-Class Exercises, Session 7"
   ]
  },
  {
   "cell_type": "markdown",
   "metadata": {},
   "source": [
    "PLEASE REFER to pythonreference.com for syntax to follow in coding these Exercises"
   ]
  },
  {
   "cell_type": "markdown",
   "metadata": {},
   "source": [
    " "
   ]
  },
  {
   "cell_type": "markdown",
   "metadata": {},
   "source": [
    "FUNCTION ARGUMENTS AND RETURN VALUES"
   ]
  },
  {
   "cell_type": "markdown",
   "metadata": {},
   "source": [
    "<B>7.1:  <B><U>Write a function that returns a value</U>.</B>  "
   ]
  },
  {
   "cell_type": "markdown",
   "metadata": {},
   "source": [
    "Define a demonstration function <B>return\\_ten()</B> that returns the value 10.\n"
   ]
  },
  {
   "cell_type": "code",
   "execution_count": null,
   "metadata": {},
   "outputs": [],
   "source": [
    "def return_ten():\n",
    "\n",
    "    # your function code here\n",
    "\n",
    "\n",
    "val = return_ten()\n",
    "\n",
    "print(val)          # 10"
   ]
  },
  {
   "cell_type": "markdown",
   "metadata": {},
   "source": [
    " "
   ]
  },
  {
   "cell_type": "markdown",
   "metadata": {},
   "source": [
    "<B>7.2:  <B><U>Write a function that returns a value</U>.</B>  "
   ]
  },
  {
   "cell_type": "markdown",
   "metadata": {},
   "source": [
    "Define function 'get\\_rand()' that uses the following code to generate a random number between 1 and 10, then returns that number.  <U>Note</U>:  you must not print inside the function -- value must be returned."
   ]
  },
  {
   "cell_type": "code",
   "execution_count": null,
   "metadata": {},
   "outputs": [],
   "source": [
    "# code to place inside your function:\n",
    "# randval = random.randint(1, 10)\n",
    "\n",
    "\n",
    "import random\n",
    "\n",
    "# your function code here\n",
    "\n",
    "\n",
    "\n",
    "num = get_rand()\n",
    "\n",
    "print(num)"
   ]
  },
  {
   "cell_type": "markdown",
   "metadata": {},
   "source": [
    "If you see <B>None</B> printed, then you did not return anything from the function, but are printing the value returned from the function.  Make sure not to print inside the function."
   ]
  },
  {
   "cell_type": "markdown",
   "metadata": {},
   "source": [
    " "
   ]
  },
  {
   "cell_type": "markdown",
   "metadata": {},
   "source": [
    "<B>7.3:  <B><U>Write a function with one argument and one return value</U>.</B>  "
   ]
  },
  {
   "cell_type": "markdown",
   "metadata": {},
   "source": [
    "Define function 'doubleme' that takes one argument, doubles the value, and returns the doubled value.  <U>Note</U>:  you must not use 'a' or 'b' inside the function, and you must not print inside the function -- value must be returned.\n"
   ]
  },
  {
   "cell_type": "code",
   "execution_count": null,
   "metadata": {},
   "outputs": [],
   "source": [
    "# your function code here\n",
    "\n",
    "a = 5\n",
    "x = doubleme(a)\n",
    "print(x)           # 10\n",
    "\n",
    "b = 100\n",
    "y = doubleme(b)\n",
    "print(y)           # 200"
   ]
  },
  {
   "cell_type": "markdown",
   "metadata": {},
   "source": [
    " "
   ]
  },
  {
   "cell_type": "markdown",
   "metadata": {},
   "source": [
    "<B>7.4:  <B><U>Write a function with two arguments and one return value</U>.</B>  "
   ]
  },
  {
   "cell_type": "markdown",
   "metadata": {},
   "source": [
    "Define function 'get\\_sum' that takes two numeric arguments and returns the values summed.  <U>Note</U>:  you must not use 'x' or 'y' inside the function, and you must not print inside the function - value must be returned.\n"
   ]
  },
  {
   "cell_type": "code",
   "execution_count": null,
   "metadata": {},
   "outputs": [],
   "source": [
    "# your function def here\n",
    "\n",
    "x = 50\n",
    "y = 25\n",
    "\n",
    "z = get_sum(x, y)\n",
    "print(z)           # 75"
   ]
  },
  {
   "cell_type": "markdown",
   "metadata": {},
   "source": [
    " "
   ]
  },
  {
   "cell_type": "markdown",
   "metadata": {},
   "source": [
    "<B>7.5:  <B><U>Write a function with two arguments and two return values</U>.</B>  "
   ]
  },
  {
   "cell_type": "markdown",
   "metadata": {},
   "source": [
    "Define function 'doubletwo' that takes two numeric arguments, doubles each of them, and returns the two doubled values.  <U>Note</U>:  you must not use 'a' or 'b' inside the function, and you must not print inside the function - values must be returned.\n"
   ]
  },
  {
   "cell_type": "code",
   "execution_count": null,
   "metadata": {},
   "outputs": [],
   "source": [
    "# your function def here\n",
    "\n",
    "a = 50\n",
    "b = 10\n",
    "\n",
    "c, d = doubletwo(a, b)\n",
    "\n",
    "print(c)                # 100\n",
    "print(d)                # 20"
   ]
  },
  {
   "cell_type": "markdown",
   "metadata": {},
   "source": [
    " "
   ]
  },
  {
   "cell_type": "markdown",
   "metadata": {},
   "source": [
    "EXCEPTIONS:  RAISE STATEMENT"
   ]
  },
  {
   "cell_type": "markdown",
   "metadata": {},
   "source": [
    "<B>7.6:  <B><U>Raise an exception</U>.</B>  Test to see if the user's input matches one of the values in the <B>valid\\_choices</B> list (use <B>if uchoice not in valid\\_choices</B>).  If not, raise a <B>ValueError</B> exception.  "
   ]
  },
  {
   "cell_type": "code",
   "execution_count": null,
   "metadata": {},
   "outputs": [],
   "source": [
    "valid_choices = ['run', 'stop', 'rewind']\n",
    "\n",
    "uchoice = input('please enter an action (\"run\", \"stop\", \"rewind\"): ')\n",
    "\n",
    "if uchoice not in valid_choices:\n",
    "    # raise a ValueError exception here"
   ]
  },
  {
   "cell_type": "markdown",
   "metadata": {},
   "source": [
    " "
   ]
  },
  {
   "cell_type": "markdown",
   "metadata": {},
   "source": [
    "<B>7.7:  <B><U>Detect object type and raise TypeError</U>.</B>  Use the <B>isinstance()</B> function to see if the argument to this function is an integer.  If it isn't, raise your own <B>TypeError</B> exception.  "
   ]
  },
  {
   "cell_type": "code",
   "execution_count": null,
   "metadata": {},
   "outputs": [],
   "source": [
    "def doubleit(arg):\n",
    "    if not isinstance(arg, int):\n",
    "        # your code here\n",
    "    return arg * 2\n",
    "\n",
    "x = doubleit('5')\n"
   ]
  },
  {
   "cell_type": "markdown",
   "metadata": {},
   "source": [
    " "
   ]
  },
  {
   "cell_type": "markdown",
   "metadata": {},
   "source": [
    "SET COMPARISONS"
   ]
  },
  {
   "cell_type": "markdown",
   "metadata": {},
   "source": [
    "<B>7.8:  <B><U>Show items in one set that are not in another set</U>.</B>  Use set.difference().  "
   ]
  },
  {
   "cell_type": "code",
   "execution_count": null,
   "metadata": {},
   "outputs": [],
   "source": [
    "xx = {'a', 'b', 'c', 'd'}\n",
    "yy = {'b', 'd'}\n",
    "\n",
    "# your code here\n"
   ]
  },
  {
   "cell_type": "markdown",
   "metadata": {},
   "source": [
    " "
   ]
  },
  {
   "cell_type": "markdown",
   "metadata": {},
   "source": [
    "<B>7.9:  <B><U>Show items common between two sets</U>.</B>  Use set.intersection().  "
   ]
  },
  {
   "cell_type": "code",
   "execution_count": null,
   "metadata": {},
   "outputs": [],
   "source": [
    "xx = {'a', 'b', 'c', 'd'}\n",
    "yy = {'c', 'd', 'e', 'f'}\n",
    "\n",
    "# your code here\n"
   ]
  },
  {
   "cell_type": "markdown",
   "metadata": {},
   "source": [
    " "
   ]
  },
  {
   "cell_type": "markdown",
   "metadata": {},
   "source": [
    "<B>7.10:  <B><U>Show all items that are in either of two sets</U>.</B>  Use set.union().  "
   ]
  },
  {
   "cell_type": "code",
   "execution_count": null,
   "metadata": {},
   "outputs": [],
   "source": [
    "xx = {'a', 'b', 'c', 'd'}\n",
    "yy = {'c', 'd', 'e', 'f'}\n",
    "\n",
    "# your code here\n"
   ]
  },
  {
   "cell_type": "markdown",
   "metadata": {},
   "source": [
    " "
   ]
  },
  {
   "cell_type": "markdown",
   "metadata": {},
   "source": [
    "LIST COMPREHENSIONS"
   ]
  },
  {
   "cell_type": "markdown",
   "metadata": {},
   "source": [
    "<B>7.11:  <B><U>Use a list comprehension to modify each item from a list</U>.</B>  The new list should have each value from the old list doubled.  "
   ]
  },
  {
   "cell_type": "code",
   "execution_count": null,
   "metadata": {},
   "outputs": [],
   "source": [
    "x = [1, 2, 3, 4]\n",
    "\n",
    "\n",
    "# your code here - printed list should be [2, 4, 6, 8]\n"
   ]
  },
  {
   "cell_type": "markdown",
   "metadata": {},
   "source": [
    " "
   ]
  },
  {
   "cell_type": "markdown",
   "metadata": {},
   "source": [
    "<B>7.12:  <B><U>Use a list comprehension to filter items from a list</U>.</B>  The new list should have only those values that are greater than 100.  "
   ]
  },
  {
   "cell_type": "code",
   "execution_count": null,
   "metadata": {},
   "outputs": [],
   "source": [
    "temps = [86, 89, 93, 101, 92, 107, 90, 110]\n",
    "\n",
    "\n",
    "# your code here - printed list should be [101, 107, 110]\n"
   ]
  },
  {
   "cell_type": "markdown",
   "metadata": {},
   "source": [
    " "
   ]
  },
  {
   "cell_type": "markdown",
   "metadata": {},
   "source": [
    "<B>7.13:  <B><U>Use a list comprehension to both modify and filter items from a list</U>.</B>  The new list should have each value above 0 doubled.  "
   ]
  },
  {
   "cell_type": "code",
   "execution_count": null,
   "metadata": {},
   "outputs": [],
   "source": [
    "aa = [-5, -3, 2, 0, 15, 73, -100]\n",
    "\n",
    "\n",
    "# your code here - printed list should be [4, 30, 146]\n"
   ]
  },
  {
   "cell_type": "markdown",
   "metadata": {},
   "source": [
    " "
   ]
  },
  {
   "cell_type": "markdown",
   "metadata": {},
   "source": [
    "LIST COMPREHENSIONS:  WORKING WITH FILES"
   ]
  },
  {
   "cell_type": "markdown",
   "metadata": {},
   "source": [
    "<B>7.14:  <B><U>Use a list comprehension to strip each line of a file</U>.</B>  Reading 'pyku.txt', use a list comprehension to generate a list of lines, each one stripped of the newline.  Print the list as a whole - do not loop through it.  "
   ]
  },
  {
   "cell_type": "code",
   "execution_count": null,
   "metadata": {},
   "outputs": [],
   "source": [
    "fh = open('../pyku.txt')\n",
    "\n",
    "# your code here - resulting list of strings should be each line in 'pyku.txt' without newlines\n"
   ]
  },
  {
   "cell_type": "markdown",
   "metadata": {},
   "source": [
    " "
   ]
  },
  {
   "cell_type": "markdown",
   "metadata": {},
   "source": [
    "<B>7.15:  <B><U>Use a list comprehension to derive information about each line of a file</U>.</B>  Looping through 'pyku.txt', generate a new list with integers - the string length of each line in the file.  Print the list"
   ]
  },
  {
   "cell_type": "code",
   "execution_count": null,
   "metadata": {},
   "outputs": [],
   "source": [
    "fh = open('../pyku.txt')\n",
    "\n",
    "# your code here\n"
   ]
  },
  {
   "cell_type": "markdown",
   "metadata": {},
   "source": [
    "The resulting list of ints should be [20, 30, 30], assuming the lines have not been stripped or divided with splitlines()"
   ]
  },
  {
   "cell_type": "markdown",
   "metadata": {},
   "source": [
    " "
   ]
  },
  {
   "cell_type": "markdown",
   "metadata": {},
   "source": [
    "<B>7.16:  <B><U>Use a list comprehension to extract a field from each row in a CSV file</U>.</B>  Reading 'revenue.csv', use a list comprehension to generate a list of company names.  Print the list as a whole"
   ]
  },
  {
   "cell_type": "code",
   "execution_count": null,
   "metadata": {},
   "outputs": [],
   "source": [
    "fh = open('../revenue.csv')\n",
    "\n",
    "# your code here\n"
   ]
  },
  {
   "cell_type": "markdown",
   "metadata": {},
   "source": [
    "The resulting list of strings should be each company listed in 'revenue.csv'"
   ]
  },
  {
   "cell_type": "markdown",
   "metadata": {},
   "source": [
    " "
   ]
  }
 ],
 "metadata": {},
 "nbformat": 4,
 "nbformat_minor": 4
}
