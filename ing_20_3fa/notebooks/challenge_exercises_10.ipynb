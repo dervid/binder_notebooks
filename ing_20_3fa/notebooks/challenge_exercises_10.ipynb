{
 "cells": [
  {
   "cell_type": "markdown",
   "metadata": {},
   "source": [
    "# Challenge Exercises, Session 10"
   ]
  },
  {
   "cell_type": "markdown",
   "metadata": {},
   "source": [
    "<B>10.1:  Create a class called <B>ThisClass</B>, with one method, <B>report(self)</B>.  Inside this method, the instance/object (which is labeled self) should call the special id() function to report its own reference id, i.e. print id(self).  Create three instances using the constructor (for example, a = ThisClass()) and then call the report() method on each of them.  "
   ]
  },
  {
   "cell_type": "markdown",
   "metadata": {},
   "source": [
    "Lastly, print id() on each of your objects in the calling code, for example print id(a).  Note that the id numbers are the same as those found when calling report().\n"
   ]
  },
  {
   "cell_type": "code",
   "execution_count": null,
   "metadata": {},
   "outputs": [],
   "source": [
    "# your class here\n",
    "\n",
    "a = ThisClass()\n",
    "b = ThisClass()\n",
    "c = ThisClass()\n",
    "\n",
    "a.report()          # 4299790736  [your ids will of\n",
    "                    #              course differ]\n",
    "b.report()          # 4299790544\n",
    "c.report()          # 4299790800\n",
    "print               # [blank line]\n",
    "\n",
    "print id(a)         # 4299790736   (same as a.report() above)\n",
    "print id(b)         # 4299790544   (same as b.report() above)\n",
    "print id(c)         # 4299790800   (same as c.report() above)"
   ]
  },
  {
   "cell_type": "markdown",
   "metadata": {},
   "source": [
    " "
   ]
  },
  {
   "cell_type": "markdown",
   "metadata": {},
   "source": [
    "<B>10.2:  Create a class, TimeStamp(object):  that can store the current timestamp in an instance attribute.  "
   ]
  },
  {
   "cell_type": "markdown",
   "metadata": {},
   "source": [
    "set\\_time(self): will set the timestamp.  It can do this by setting the attribute in self this way (you will need to import datetime at the top of your script containing class TimeStamp):\n"
   ]
  },
  {
   "cell_type": "markdown",
   "metadata": {},
   "source": [
    "<pre style=\"margin: 0; padding=0\"><DIV style=\"font-family: Courier; border: 1px solid #dbdbdb; padding: 7px\">self.t = str(datetime.datetime.now())</DIV></pre>"
   ]
  },
  {
   "cell_type": "markdown",
   "metadata": {},
   "source": [
    "where t is the attribute label (you could call it whatever you prefer).  (Of course, you'll also need to import datetime at the top of your module.)\n",
    "\n",
    "get\\_time(self):  this returns the timestamp.  It simply returns the object attribute time, i.e. return self.t.\n",
    "\n",
    "Expected calls and output (your timestamp will be different of course, but note when the object time is repeated and when it is different):"
   ]
  },
  {
   "cell_type": "code",
   "execution_count": null,
   "metadata": {},
   "outputs": [],
   "source": [
    "# your class here\n",
    "\n",
    "var1 = TimeStamp()\n",
    "var2 = TimeStamp()\n",
    "var1.set_time()\n",
    "var2.set_time()\n",
    "print var1.get_time()    # 2013-04-07 15:19:31.762220\n",
    "print var2.get_time()    # 2013-04-07 15:19:31.956881\n",
    "print                    # [blank line]\n",
    "var1.set_time()          # change timestamp for var1\n",
    "print var1.get_time()    # 2013-04-07 15:19:31.956941\n",
    "                         # (diff from var1 above)\n",
    "print var2.get_time()    # 2013-04-07 15:19:31.956881\n",
    "                         # (same as var2 above)"
   ]
  },
  {
   "cell_type": "markdown",
   "metadata": {},
   "source": [
    " "
   ]
  },
  {
   "cell_type": "markdown",
   "metadata": {},
   "source": [
    "<B>10.3:  Copy the previous code, and this time replace the set\\_time() method with the constructor, \\_\\_init\\_\\_(self), which does the same work - sets the attribute to the current timestamp.  Now the method has only an \\_\\_init\\_\\_(self) method and a get\\_time(self) method which returns the timestamp.  "
   ]
  },
  {
   "cell_type": "markdown",
   "metadata": {},
   "source": [
    "Expected calls and output (your timestamp will differ of course, but note when the object time is repeated and when it is different):"
   ]
  },
  {
   "cell_type": "code",
   "execution_count": null,
   "metadata": {},
   "outputs": [],
   "source": [
    "# your class here\n",
    "\n",
    "var1 = TimeStamp()\n",
    "var2 = TimeStamp()\n",
    "print var1.get_time()    # 2013-04-07 15:19:31.762220\n",
    "print var2.get_time()    # 2013-04-07 15:19:31.956881\n",
    "print\n",
    "print var1.get_time()    # 2013-04-07 15:19:31.762220\n",
    "                         # (same as previous var1)\n",
    "print var2.get_time()    # 2013-04-07 15:19:31.956881\n",
    "                         # (same as previous var2)"
   ]
  },
  {
   "cell_type": "markdown",
   "metadata": {},
   "source": [
    " "
   ]
  }
 ],
 "metadata": {},
 "nbformat": 4,
 "nbformat_minor": 4
}
