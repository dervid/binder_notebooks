{
 "cells": [
  {
   "cell_type": "markdown",
   "metadata": {},
   "source": [
    "# Challenge Exercises, Session 7"
   ]
  },
  {
   "cell_type": "markdown",
   "metadata": {},
   "source": [
    "FUNCTIONS"
   ]
  },
  {
   "cell_type": "markdown",
   "metadata": {},
   "source": [
    "<B>7.1:  What is the correct way to call this function?"
   ]
  },
  {
   "cell_type": "code",
   "execution_count": null,
   "metadata": {},
   "outputs": [],
   "source": [
    "def do(arg):\n",
    "    darg = arg * 2\n",
    "    return darg\n",
    "\n"
   ]
  },
  {
   "cell_type": "markdown",
   "metadata": {},
   "source": [
    " "
   ]
  },
  {
   "cell_type": "markdown",
   "metadata": {},
   "source": [
    "<B>7.2:  What is the correct way to call this function?"
   ]
  },
  {
   "cell_type": "code",
   "execution_count": null,
   "metadata": {},
   "outputs": [],
   "source": [
    "import random\n",
    "\n",
    "def do():\n",
    "    num = random.randint(1, 10)\n",
    "    return num\n",
    "\n"
   ]
  },
  {
   "cell_type": "markdown",
   "metadata": {},
   "source": [
    " "
   ]
  },
  {
   "cell_type": "markdown",
   "metadata": {},
   "source": [
    "<B>7.3:  What is the correct way to call this function?"
   ]
  },
  {
   "cell_type": "code",
   "execution_count": null,
   "metadata": {},
   "outputs": [],
   "source": [
    "def do(arg, otherarg):\n",
    "    svals = arg + otherarg\n",
    "    return svals\n",
    "\n"
   ]
  },
  {
   "cell_type": "markdown",
   "metadata": {},
   "source": [
    " "
   ]
  },
  {
   "cell_type": "markdown",
   "metadata": {},
   "source": [
    "<B>7.4:  What is the correct way to call this function?"
   ]
  },
  {
   "cell_type": "code",
   "execution_count": null,
   "metadata": {},
   "outputs": [],
   "source": [
    "def do(arg, otherarg):\n",
    "    darg = arg * 2\n",
    "    dotherarg = otherarg * 2\n",
    "    return darg, otherarg\n",
    "\n"
   ]
  },
  {
   "cell_type": "markdown",
   "metadata": {},
   "source": [
    " "
   ]
  },
  {
   "cell_type": "markdown",
   "metadata": {},
   "source": [
    "<B>7.5:  Write a function addme() that takes two arguments, adds them together and returns the two arguments added / concatenated.  Call it thusly:"
   ]
  },
  {
   "cell_type": "code",
   "execution_count": null,
   "metadata": {},
   "outputs": [],
   "source": [
    "# your code here\n",
    "\n",
    "x = addme(4, 5)\n",
    "print(x)\n",
    "\n",
    "y = addme('hey', 'you')\n",
    "print(y)"
   ]
  },
  {
   "cell_type": "markdown",
   "metadata": {},
   "source": [
    "<U>Expected Output</U>:  "
   ]
  },
  {
   "cell_type": "markdown",
   "metadata": {},
   "source": [
    "<pre style=\"margin: 0; padding=0\"><DIV style=\"font-family: Courier; border: 1px solid #dbdbdb; padding: 7px\">9\n",
    "heyyou</DIV></pre>"
   ]
  },
  {
   "cell_type": "markdown",
   "metadata": {},
   "source": [
    " "
   ]
  },
  {
   "cell_type": "markdown",
   "metadata": {},
   "source": [
    "SET COMPARISONS"
   ]
  },
  {
   "cell_type": "markdown",
   "metadata": {},
   "source": [
    "<B>7.6:  Use the set <B>.difference()</B> method to show which of the submitted addresses is not on the whitelist.  "
   ]
  },
  {
   "cell_type": "code",
   "execution_count": null,
   "metadata": {},
   "outputs": [],
   "source": [
    "whitelist = {'joe@me.com', 'marie@there.com'}\n",
    "submitted = {'joe@me.com', 'dark@lord.au', 'marie@there.com'}"
   ]
  },
  {
   "cell_type": "markdown",
   "metadata": {},
   "source": [
    " "
   ]
  },
  {
   "cell_type": "markdown",
   "metadata": {},
   "source": [
    "<B>7.7:  Use the set <B>.intersection()</B> method to show which of the submitted addresses is on the blacklist.  "
   ]
  },
  {
   "cell_type": "code",
   "execution_count": null,
   "metadata": {},
   "outputs": [],
   "source": [
    "blacklist = ['dark@lord.au', 'skeevy@guy.ny, 'bad@news.eu']\n",
    "submitted = ['joe@me.com', 'dark@lord.au', 'marie@there.com']"
   ]
  },
  {
   "cell_type": "markdown",
   "metadata": {},
   "source": [
    " "
   ]
  },
  {
   "cell_type": "markdown",
   "metadata": {},
   "source": [
    "<B>7.8:  Use the set <B>.union()</B> method to show the complete set of clients between the <B>NE\\_clients</B> and <B>NW\\_clients</B> list.  "
   ]
  },
  {
   "cell_type": "code",
   "execution_count": null,
   "metadata": {},
   "outputs": [],
   "source": [
    "NE_clients = {'Alpha Industries', 'Beta Engrams, Inc.',\n",
    "              'Gamma Products, Ltd.'}\n",
    "\n",
    "NW_clients = {'Alpha Industries',  'Gamma Products, Ltd.',\n",
    "              'Epsilon Publications'}"
   ]
  },
  {
   "cell_type": "markdown",
   "metadata": {},
   "source": [
    " "
   ]
  },
  {
   "cell_type": "markdown",
   "metadata": {},
   "source": [
    "LIST COMPREHENSIONS"
   ]
  },
  {
   "cell_type": "markdown",
   "metadata": {},
   "source": [
    "<B>7.9:  Run the below code to see that the list comprehension returns a list of the items from the 'source list'.  "
   ]
  },
  {
   "cell_type": "code",
   "execution_count": null,
   "metadata": {},
   "outputs": [],
   "source": [
    "x = [1, 2, 3, 4]\n",
    "\n",
    "y = [ item for item in x ]"
   ]
  },
  {
   "cell_type": "markdown",
   "metadata": {},
   "source": [
    " "
   ]
  },
  {
   "cell_type": "markdown",
   "metadata": {},
   "source": [
    "<B>7.10:  Modify the list comprehension to double each value in the source list.  "
   ]
  },
  {
   "cell_type": "code",
   "execution_count": null,
   "metadata": {},
   "outputs": [],
   "source": [
    "x = [1, 2, 3, 4]\n",
    "\n",
    "y = [ item for item in x ]"
   ]
  },
  {
   "cell_type": "markdown",
   "metadata": {},
   "source": [
    " "
   ]
  },
  {
   "cell_type": "markdown",
   "metadata": {},
   "source": [
    "<B>7.11:  Write a list comprehension that halves each value in the source list.  "
   ]
  },
  {
   "cell_type": "code",
   "execution_count": null,
   "metadata": {},
   "outputs": [],
   "source": [
    "x = [1, 2, 3, 4]\n"
   ]
  },
  {
   "cell_type": "markdown",
   "metadata": {},
   "source": [
    " "
   ]
  },
  {
   "cell_type": "markdown",
   "metadata": {},
   "source": [
    "<B>7.12:  Write a list comprehension that uppercases each string in the source list.  "
   ]
  },
  {
   "cell_type": "code",
   "execution_count": null,
   "metadata": {},
   "outputs": [],
   "source": [
    "x = ['hi', 'there', 'pythonistas']"
   ]
  },
  {
   "cell_type": "markdown",
   "metadata": {},
   "source": [
    " "
   ]
  },
  {
   "cell_type": "markdown",
   "metadata": {},
   "source": [
    "<B>7.13:  Write a list comprehension that builds a list of only positive values (greater than 0).  "
   ]
  },
  {
   "cell_type": "code",
   "execution_count": null,
   "metadata": {},
   "outputs": [],
   "source": [
    "x = [7, -2, 9, -1, 0, 1, -3, 9, 3]\n",
    "\n"
   ]
  },
  {
   "cell_type": "markdown",
   "metadata": {},
   "source": [
    " "
   ]
  },
  {
   "cell_type": "markdown",
   "metadata": {},
   "source": [
    "<B>7.14:  Write a list comprehension that builds a list of only names starting with underscore ('\\_').    "
   ]
  },
  {
   "cell_type": "code",
   "execution_count": null,
   "metadata": {},
   "outputs": [],
   "source": [
    "dirlist = [ '__str__', '__repr__', 'upper', 'lower' ]\n"
   ]
  },
  {
   "cell_type": "markdown",
   "metadata": {},
   "source": [
    " "
   ]
  },
  {
   "cell_type": "markdown",
   "metadata": {},
   "source": [
    "<B>7.15:  This list comprehension iterates over each line in the file (<B>line for line in fh</B>).  Apply <B>.rstrip()</B> to each line to produce a list of stripped lines.  "
   ]
  },
  {
   "cell_type": "code",
   "execution_count": null,
   "metadata": {},
   "outputs": [],
   "source": [
    "fh = open('revenue.csv')\n",
    "\n",
    "lines = [ line for line in fh ]\n",
    "\n",
    "\n",
    "fh.close()"
   ]
  },
  {
   "cell_type": "markdown",
   "metadata": {},
   "source": [
    " "
   ]
  },
  {
   "cell_type": "markdown",
   "metadata": {},
   "source": [
    "<B>7.16:  Write a list comprehension that iterates over each line in the <B>FF\\_tiny.txt</B> file and slices out the year from each line.  "
   ]
  },
  {
   "cell_type": "code",
   "execution_count": null,
   "metadata": {},
   "outputs": [],
   "source": [
    "fh = open('FF_tiny.txt')\n",
    "\n",
    "\n",
    "fh.close()"
   ]
  },
  {
   "cell_type": "markdown",
   "metadata": {},
   "source": [
    " "
   ]
  },
  {
   "cell_type": "markdown",
   "metadata": {},
   "source": [
    "<B>7.17:  Write a list comprehension that splits each line, producing a list for each line in the file.  "
   ]
  },
  {
   "cell_type": "code",
   "execution_count": null,
   "metadata": {},
   "outputs": [],
   "source": [
    "fh = open('FF_tiny.txt')\n",
    "\n",
    "\n",
    "fh.close()"
   ]
  },
  {
   "cell_type": "markdown",
   "metadata": {},
   "source": [
    " "
   ]
  },
  {
   "cell_type": "markdown",
   "metadata": {},
   "source": [
    "<B>7.18:  Continuing with the solution from previous exercise, subscript the <B>split()</B> so that only one item from each list is passed to the resulting list.  "
   ]
  },
  {
   "cell_type": "code",
   "execution_count": null,
   "metadata": {},
   "outputs": [],
   "source": []
  },
  {
   "cell_type": "markdown",
   "metadata": {},
   "source": [
    " "
   ]
  },
  {
   "cell_type": "markdown",
   "metadata": {},
   "source": [
    "<B>7.19:  Given the code below, write a list comprehension that only returns words longer than 3 letters - print the resulting list."
   ]
  },
  {
   "cell_type": "code",
   "execution_count": null,
   "metadata": {},
   "outputs": [],
   "source": [
    "words = [ 'Hello', 'my', 'dear', 'the', 'heart', 'is',\n",
    "          'a', 'child.' ]"
   ]
  },
  {
   "cell_type": "markdown",
   "metadata": {},
   "source": [
    "<U>Expected Output</U>:  "
   ]
  },
  {
   "cell_type": "markdown",
   "metadata": {},
   "source": [
    "<pre style=\"margin: 0; padding=0\"><DIV style=\"font-family: Courier; border: 1px solid #dbdbdb; padding: 7px\">['Hello', 'dear', 'heart', 'child']</DIV></pre>"
   ]
  },
  {
   "cell_type": "markdown",
   "metadata": {},
   "source": [
    " "
   ]
  },
  {
   "cell_type": "markdown",
   "metadata": {},
   "source": [
    "<B>7.20:  Build on the previous exercise - modify the list comprehension so that the returned words are uppercased."
   ]
  },
  {
   "cell_type": "code",
   "execution_count": null,
   "metadata": {},
   "outputs": [],
   "source": []
  },
  {
   "cell_type": "markdown",
   "metadata": {},
   "source": [
    "<U>Expected Output</U>:  "
   ]
  },
  {
   "cell_type": "markdown",
   "metadata": {},
   "source": [
    "<pre style=\"margin: 0; padding=0\"><DIV style=\"font-family: Courier; border: 1px solid #dbdbdb; padding: 7px\">['HELLO', 'DEAR', 'HEART', 'CHILD.']</DIV></pre>"
   ]
  },
  {
   "cell_type": "markdown",
   "metadata": {},
   "source": [
    " "
   ]
  },
  {
   "cell_type": "markdown",
   "metadata": {},
   "source": [
    "<B>7.21:  Open <B>../student\\_db.txt</B>.  Use a list comprehension to open the file and load it into a list as we did in previous exercises.  Print the resulting list.  (Hint:  a list comprehension loops through any iterable (object that can be looped or iterated through), so you can place the call to open() right in the list comprehension and it will loop over that (or rather, the file object returned from it.)  "
   ]
  },
  {
   "cell_type": "code",
   "execution_count": null,
   "metadata": {},
   "outputs": [],
   "source": []
  },
  {
   "cell_type": "markdown",
   "metadata": {},
   "source": [
    "<U>Expected Output</U>:  "
   ]
  },
  {
   "cell_type": "markdown",
   "metadata": {},
   "source": [
    "<pre style=\"margin: 0; padding=0\"><DIV style=\"font-family: Courier; border: 1px solid #dbdbdb; padding: 7px\">['id:address:city:state:zip\\n',\n",
    " 'jk43:23 Marfield Lane:Plainview:NY:10023\\n',\n",
    " 'ZXE99:315 W. 115th Street, Apt. 11B:New York:NY:10027\\n',\n",
    " 'jab44:23 Rivington Street, Apt. 3R:New York:NY:10002\\n',\n",
    " 'ak9:234 Main Street:Philadelphia:PA:08990\\n',\n",
    " 'ap172:19 Boxer Rd.:New York:NY:10005\\n',\n",
    " 'JB23:115 Karas Dr.:Jersey City:NJ:07127\\n',\n",
    " 'jb29:119 Xylon Dr.:Jersey City:NJ:07127\\n']</DIV></pre>"
   ]
  },
  {
   "cell_type": "markdown",
   "metadata": {},
   "source": [
    " "
   ]
  },
  {
   "cell_type": "markdown",
   "metadata": {},
   "source": [
    "<B>7.22:  Continuing the previous exercise, use the list comprehension to remove the newline from each line in the file.  Print the resulting list - you should see each line of the file as before, but without the newline.  "
   ]
  },
  {
   "cell_type": "code",
   "execution_count": null,
   "metadata": {},
   "outputs": [],
   "source": []
  },
  {
   "cell_type": "markdown",
   "metadata": {},
   "source": [
    "<U>Expected Output</U>:  "
   ]
  },
  {
   "cell_type": "markdown",
   "metadata": {},
   "source": [
    "<pre style=\"margin: 0; padding=0\"><DIV style=\"font-family: Courier; border: 1px solid #dbdbdb; padding: 7px\">['id:address:city:state:zip',\n",
    " 'jk43:23 Marfield Lane:Plainview:NY:10023',\n",
    " 'ZXE99:315 W. 115th Street, Apt. 11B:New York:NY:10027',\n",
    " 'jab44:23 Rivington Street, Apt. 3R:New York:NY:10002',\n",
    " 'ak9:234 Main Street:Philadelphia:PA:08990',\n",
    " 'ap172:19 Boxer Rd.:New York:NY:10005',\n",
    " 'JB23:115 Karas Dr.:Jersey City:NJ:07127',\n",
    " 'jb29:119 Xylon Dr.:Jersey City:NJ:07127']</DIV></pre>"
   ]
  },
  {
   "cell_type": "markdown",
   "metadata": {},
   "source": [
    " "
   ]
  },
  {
   "cell_type": "markdown",
   "metadata": {},
   "source": [
    "<B>7.23:  Continuing the previous exercise, exclude the 1st line (the header line) from the output.  (Hint:  file.readlines() returns a list of lines, and you can slice that list.  But since we can't assign open() to a filehandle, we can simply treat open() as if it were the filehandle (because it returns it); thus we can call the readlines() method on open(), and we can slice any list returned form a method, so we can attach a slice directly to the call to readlines().  "
   ]
  },
  {
   "cell_type": "code",
   "execution_count": null,
   "metadata": {},
   "outputs": [],
   "source": []
  },
  {
   "cell_type": "markdown",
   "metadata": {},
   "source": [
    "<U>Expected Output</U>:  "
   ]
  },
  {
   "cell_type": "markdown",
   "metadata": {},
   "source": [
    "<pre style=\"margin: 0; padding=0\"><DIV style=\"font-family: Courier; border: 1px solid #dbdbdb; padding: 7px\">['jk43:23 Marfield Lane:Plainview:NY:10023',\n",
    " 'ZXE99:315 W. 115th Street, Apt. 11B:New York:NY:10027',\n",
    " 'jab44:23 Rivington Street, Apt. 3R:New York:NY:10002',\n",
    " 'ak9:234 Main Street:Philadelphia:PA:08990',\n",
    " 'ap172:19 Boxer Rd.:New York:NY:10005',\n",
    " 'JB23:115 Karas Dr.:Jersey City:NJ:07127',\n",
    " 'jb29:119 Xylon Dr.:Jersey City:NJ:07127']</DIV></pre>"
   ]
  },
  {
   "cell_type": "markdown",
   "metadata": {},
   "source": [
    " "
   ]
  }
 ],
 "metadata": {},
 "nbformat": 4,
 "nbformat_minor": 4
}
