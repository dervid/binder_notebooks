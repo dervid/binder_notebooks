{
 "cells": [
  {
   "cell_type": "markdown",
   "metadata": {},
   "source": [
    "# In-Class Exercises, Session 10"
   ]
  },
  {
   "cell_type": "markdown",
   "metadata": {},
   "source": [
    "CLASSES"
   ]
  },
  {
   "cell_type": "markdown",
   "metadata": {},
   "source": [
    "<B>10.1:  <B><U>Create a class named 'Me' using the 'class' statement and construct an object</U>.</B>  "
   ]
  },
  {
   "cell_type": "markdown",
   "metadata": {},
   "source": [
    "We are constructing a 'Me' object by calling the class as if it were a function, and assigning the call to a new variable.\n"
   ]
  },
  {
   "cell_type": "code",
   "execution_count": null,
   "metadata": {},
   "outputs": [],
   "source": [
    "# your class statement here\n",
    "\n",
    "\n",
    "obj = Me()\n",
    "\n",
    "print(type(obj))   # should be <clas 'main.Me'>"
   ]
  },
  {
   "cell_type": "markdown",
   "metadata": {},
   "source": [
    " "
   ]
  },
  {
   "cell_type": "markdown",
   "metadata": {},
   "source": [
    "<B>10.2:  <B><U>Create a method inside a class</U>.</B>  "
   ]
  },
  {
   "cell_type": "markdown",
   "metadata": {},
   "source": [
    "Create a class 'Hello' with a method 'greet()' that accepts a string argument and returns a string greeting as shown.  A method is simply a function that is defined inside the class.\n"
   ]
  },
  {
   "cell_type": "code",
   "execution_count": null,
   "metadata": {},
   "outputs": [],
   "source": [
    "# your class statement here\n",
    "\n",
    "\n",
    "obj = Hello()\n",
    "\n",
    "val = obj.greet('Guido')\n",
    "print(val)                 # Hello, Guido!"
   ]
  },
  {
   "cell_type": "markdown",
   "metadata": {},
   "source": [
    " "
   ]
  },
  {
   "cell_type": "markdown",
   "metadata": {},
   "source": [
    "<B>10.3:  <B><U>Use \\_\\_init\\_\\_() to set an attribute in 'self'</U>.</B>  "
   ]
  },
  {
   "cell_type": "markdown",
   "metadata": {},
   "source": [
    "Re-create your <B>Hello</B> class, but add a method called <b>\\_\\_init\\_\\_(self, name)</B> that accepts an argument and uses <I>attribute setting</I> to set the value in <B>self</B>.  Then, modify <B>greet()</B> so that it no longer accept an additional argument, but uses the attribute set in <B>self</B> to complete and return the greeting.  The result will be the same, but the name value is set when first constructing the Hello object.\n"
   ]
  },
  {
   "cell_type": "code",
   "execution_count": null,
   "metadata": {},
   "outputs": [],
   "source": [
    "# your class statement here\n",
    "\n",
    "\n",
    "\n",
    "obj = Hello('Guido')\n",
    "\n",
    "val = obj.greet()\n",
    "print(val)             # Hello, Guido!"
   ]
  },
  {
   "cell_type": "markdown",
   "metadata": {},
   "source": [
    " "
   ]
  },
  {
   "cell_type": "markdown",
   "metadata": {},
   "source": [
    "<B>10.4:  <B><U>Validate input inside the constructor</U>.</B>  "
   ]
  },
  {
   "cell_type": "markdown",
   "metadata": {},
   "source": [
    "Recreate the above solution and add an <B>if isinstance()</B> test in <B>\\_\\_init\\_\\_()</B> to verify that the initial value is specified as a string.  If it is not a string, <B>raise</B> a <B>TypeError</B> exception.\n"
   ]
  },
  {
   "cell_type": "code",
   "execution_count": null,
   "metadata": {},
   "outputs": [],
   "source": [
    "obj = Hello('Guido')\n",
    "\n",
    "val = obj.greet()\n",
    "print(val)             # Hello, Guido!\n",
    "\n",
    "obj = Hello(5)         # raises a TypeError exception"
   ]
  },
  {
   "cell_type": "markdown",
   "metadata": {},
   "source": [
    " "
   ]
  },
  {
   "cell_type": "markdown",
   "metadata": {},
   "source": [
    "USEFUL MODULES"
   ]
  },
  {
   "cell_type": "markdown",
   "metadata": {},
   "source": [
    "<B>10.5:  <B><U>Exploring documentation:  math</U>.</B>  "
   ]
  },
  {
   "cell_type": "markdown",
   "metadata": {},
   "source": [
    "Do a google search for <B>python documentation</B>.  At the documentation page, choose <B>Library Reference</b>.  Note all the many modules listed on this page -- these are the modules that are included in the Python standard distribution -- the Python install provided by <B>python.org</b>.\n",
    "\n",
    "Find the <B>math</B> module.  Below, see if you can <B>import math</B> and then make use of one of the functions in the module."
   ]
  },
  {
   "cell_type": "markdown",
   "metadata": {},
   "source": [
    " "
   ]
  },
  {
   "cell_type": "markdown",
   "metadata": {},
   "source": [
    "<B>10.6:  <B><U>Featured module:  zipfile</U>.</B>  "
   ]
  },
  {
   "cell_type": "code",
   "execution_count": null,
   "metadata": {},
   "outputs": [],
   "source": [
    "import zipfile as zp\n",
    "\n",
    "myzip = zp.ZipFile('myzip.zip', 'w')\n",
    "\n",
    "# add names of files in the current directory\n",
    "myzip.write()      # write 1st filename here\n",
    "myzip.write()      # write 2nd filename here\n",
    "\n",
    "myzip.close()\n",
    "\n",
    "print('done')"
   ]
  },
  {
   "cell_type": "markdown",
   "metadata": {},
   "source": [
    "After running the above, check the session files directory -- you should see a new <B>.zip</B> file added."
   ]
  },
  {
   "cell_type": "markdown",
   "metadata": {},
   "source": [
    " "
   ]
  },
  {
   "cell_type": "markdown",
   "metadata": {},
   "source": [
    "<B>10.7:  <B><U>Featured module:  time</U>.</B>  "
   ]
  },
  {
   "cell_type": "code",
   "execution_count": null,
   "metadata": {},
   "outputs": [],
   "source": [
    "import time\n",
    "\n",
    "secs = time.time()\n",
    "\n",
    "# print(time.ctime(secs))\n",
    "\n",
    "# print(time.localtime(secs))\n",
    "\n",
    "# time.sleep(5)\n"
   ]
  },
  {
   "cell_type": "markdown",
   "metadata": {},
   "source": [
    " "
   ]
  },
  {
   "cell_type": "markdown",
   "metadata": {},
   "source": [
    "<B>10.8:  <B><U>Featured module:  datetime</U>.</B>  "
   ]
  },
  {
   "cell_type": "code",
   "execution_count": null,
   "metadata": {},
   "outputs": [],
   "source": [
    "import datetime as dt\n",
    "\n",
    "# mydate = dt.date(2019, 9, 3)\n",
    "\n",
    "# mydate = dt.date.today()\n",
    "\n",
    "# mydatetime = dt.datetime(2019, 9, 3, 12, 5, 30)\n",
    "\n",
    "# mydatetime = dt.datetime.now()\n",
    "\n",
    "\n",
    "#secs = time.time()\n",
    "#time_elements = time.localtime(secs)\n",
    "#print(time_elements)\n",
    "\n",
    "\n",
    "# myinterval = dt.timedelta(days=3, seconds=120)\n",
    "\n",
    "# newdate = mydate + myinterval\n",
    "\n",
    "# print(newdate)\n",
    "\n",
    "# print(newdate.strftime('%Y-%m-%d'))\n",
    "\n",
    "# dt.datetime.strptime('2019-03-03', '%Y-%m-%d')"
   ]
  },
  {
   "cell_type": "markdown",
   "metadata": {},
   "source": [
    " "
   ]
  },
  {
   "cell_type": "markdown",
   "metadata": {},
   "source": [
    "<B>10.9:  <B><U>Featured module:  random</U>.</B>  "
   ]
  },
  {
   "cell_type": "code",
   "execution_count": null,
   "metadata": {},
   "outputs": [],
   "source": [
    "import random\n",
    "\n",
    "myfloat = random.random()\n",
    "\n",
    "# num = random.randint(10)\n",
    "\n",
    "# num = random.randint(3,5)\n",
    "\n",
    "# x = ['a', 'b', 'c']\n",
    "\n",
    "# choice = random.choice(x)"
   ]
  },
  {
   "cell_type": "markdown",
   "metadata": {},
   "source": [
    " "
   ]
  },
  {
   "cell_type": "markdown",
   "metadata": {},
   "source": [
    "<B>10.10:  <B><U>Featured module:  csv</U>.</B>  "
   ]
  },
  {
   "cell_type": "code",
   "execution_count": null,
   "metadata": {},
   "outputs": [],
   "source": [
    "import csv\n",
    "\n",
    "fh = open('../dated_file.csv')\n",
    "reader = csv.reader(fh)\n",
    "\n",
    "for row in reader:\n",
    "    print(row)\n",
    "\n",
    "fh.close()\n",
    "\n",
    "\n",
    "# wfh = open('../newfile.csv', 'w', newline='')\n",
    "# writer = csv.writer(wfh)\n",
    "\n",
    "# writer.writerow(['a', 'b', 'c'])\n",
    "\n",
    "# wfh.close()\n",
    "\n",
    "# Again, please be advised that you will not see writes to a file\n",
    "# until you close the file with fh.close() or until the program\n",
    "# ends execution.  This is particularly critical with Jupyter as\n",
    "# it is basically a running program."
   ]
  },
  {
   "cell_type": "markdown",
   "metadata": {},
   "source": [
    " "
   ]
  },
  {
   "cell_type": "markdown",
   "metadata": {},
   "source": [
    "<B>10.11:  <B><U>Featured module:  openpyxl</U>.</B>  "
   ]
  },
  {
   "cell_type": "markdown",
   "metadata": {},
   "source": [
    "(Note:  if not using Anaconda Python, this module must be installed separately.)\n"
   ]
  },
  {
   "cell_type": "code",
   "execution_count": null,
   "metadata": {},
   "outputs": [],
   "source": [
    "import openpyxl as ox\n",
    "\n",
    "\n",
    "# read an Excel workbook from a file\n",
    "# read_only=True will limit your actions to reading\n",
    "wb = ox.load_workbook('../revenue.xlsx', read_only=True)\n",
    "\n",
    "\n",
    "# show list of sheets within the workbook\n",
    "print(wb.sheetnames)\n",
    "  # ['transactions']\n",
    "\n",
    "\n",
    "# access a single sheet within the workbook\n",
    "ws = wb['transactions']\n",
    "\n",
    "\n",
    "# loop through the entire worksheet and look at each row\n",
    "for row in ws.iter_rows():\n",
    "\n",
    "    # subscript out two fields from the row\n",
    "    col1 = row[0].value\n",
    "    col2 = row[1].value\n",
    "\n",
    "\n",
    "# to skip rows (for example, headers) you can use min_row= argument:\n",
    "for row in ws.iter_rows(min_row=2):\n",
    "\n",
    "    # subscript out two fields from the row\n",
    "    col1 = row[0].value\n",
    "    col2 = row[1].value\n",
    "\n",
    "# note that older versions of openpyxl may use the skip_rows= argument instead of min_row=.\n",
    "\n",
    "\n",
    "# access one cell by Excel cellname\n",
    "c = ws['A2']           # 'cell' object\n",
    "print(c.value)          # the value in the cell\n",
    "\n",
    "print(ws['B2'].value)   # access value in one statement\n"
   ]
  },
  {
   "cell_type": "markdown",
   "metadata": {},
   "source": [
    " "
   ]
  },
  {
   "cell_type": "markdown",
   "metadata": {},
   "source": [
    "<B>10.12:  <B><U>Featured module:  sqlite3</U>.</B>  "
   ]
  },
  {
   "cell_type": "code",
   "execution_count": null,
   "metadata": {},
   "outputs": [],
   "source": [
    "import sqlite3\n",
    "\n",
    "conn = sqlite3.connect('../mydatabase.db')\n",
    "\n",
    "cur = conn.cursor()\n",
    "\n",
    "cur.execute(\"CREATE TABLE mytable (name TEXT, years INT, balance FLOAT)\")\n",
    "\n",
    "cur.execute(\"INSERT INTO mytable VALUES ('Joe', 23, 23.9)\")\n",
    "cur.execute(\"INSERT INTO mytable VALUES ('Marie', 19, 7.95)\")\n",
    "cur.execute(\"INSERT INTO mytable VALUES ('Zoe', 29, 17.5)\")\n",
    "\n",
    "cur.commit()\n",
    "\n",
    "\n",
    "cur = conn.cursor()\n",
    "\n",
    "rs = cur.execute('SELECT * FROM mytable')\n",
    "\n",
    "for row in rs:\n",
    "    print(row)\n"
   ]
  },
  {
   "cell_type": "markdown",
   "metadata": {},
   "source": [
    " "
   ]
  },
  {
   "cell_type": "markdown",
   "metadata": {},
   "source": [
    "<B>10.13:  <B><U>Featured module:  pandas data acquisition</U>.</B>  "
   ]
  },
  {
   "cell_type": "markdown",
   "metadata": {},
   "source": [
    "(Note:  if not using Anaconda Python, this module must be installed separately.)\n"
   ]
  },
  {
   "cell_type": "code",
   "execution_count": null,
   "metadata": {},
   "outputs": [],
   "source": [
    "import pandas as pd\n",
    "import sqlite3\n",
    "\n",
    "df = pd.read_csv('../dated_file.csv')\n",
    "\n",
    "# write DataFrame to excel\n",
    "#df.to_excel('../dated_file.xls')\n",
    "\n",
    "# read from database through query\n",
    "# conn = sqlite3.connect('../testdb.db')\n",
    "# df = pd.read_sql('SELECT * FROM test', conn)"
   ]
  },
  {
   "cell_type": "markdown",
   "metadata": {},
   "source": [
    " "
   ]
  },
  {
   "cell_type": "markdown",
   "metadata": {},
   "source": [
    "<B>10.14:  <B><U>pandas data management</U>.</B>  "
   ]
  },
  {
   "cell_type": "code",
   "execution_count": null,
   "metadata": {},
   "outputs": [],
   "source": [
    "df = pd.read_csv('../dated_file.csv')\n",
    "\n",
    "\n",
    "# sum, average, etc. a column\n",
    "\n",
    "\n",
    "\n",
    "# create a new column\n",
    "\n",
    "# select rows thru a filter\n",
    "\n",
    "# groupby aggregation\n",
    "\n",
    "\n"
   ]
  },
  {
   "cell_type": "markdown",
   "metadata": {},
   "source": [
    " "
   ]
  },
  {
   "cell_type": "markdown",
   "metadata": {},
   "source": [
    "<B>10.15:  <B><U>pandas visualization</U>.</B>  "
   ]
  },
  {
   "cell_type": "code",
   "execution_count": null,
   "metadata": {},
   "outputs": [],
   "source": [
    "# groupby bar chart\n",
    "\n",
    "\n",
    "# weather temp line chart\n",
    "\n"
   ]
  },
  {
   "cell_type": "markdown",
   "metadata": {},
   "source": [
    " "
   ]
  },
  {
   "cell_type": "markdown",
   "metadata": {},
   "source": [
    "<B>10.16:  <B><U>Featured module: bs4</U>.</B>  "
   ]
  },
  {
   "cell_type": "markdown",
   "metadata": {},
   "source": [
    "(Note:  if not using Anaconda Python, this module must be installed separately.)\n"
   ]
  },
  {
   "cell_type": "code",
   "execution_count": null,
   "metadata": {},
   "outputs": [],
   "source": [
    "import bs4\n",
    "\n",
    "fh = open('../dormouse.html')\n",
    "\n",
    "text = fh.read()\n",
    "\n",
    "page = bs4.BeautifulSoup(text, 'html.parser')\n",
    "\n",
    "print(page.title)\n",
    "\n",
    "fh.close()"
   ]
  },
  {
   "cell_type": "markdown",
   "metadata": {},
   "source": [
    " "
   ]
  },
  {
   "cell_type": "markdown",
   "metadata": {},
   "source": [
    "<B>10.17:  <B><U>Featured module:  requests</U>.</B>  "
   ]
  },
  {
   "cell_type": "markdown",
   "metadata": {},
   "source": [
    "(Note:  if not using Anaconda Python, bs4 must be installed separately.)"
   ]
  },
  {
   "cell_type": "code",
   "execution_count": null,
   "metadata": {},
   "outputs": [],
   "source": [
    "import requests\n",
    "import bs4\n",
    "\n",
    "response = requests.get('http://www.nytimes.com')\n",
    "\n",
    "page = bs4.BeautifulSoup(response.text, 'html.parser')\n",
    "\n",
    "print(page.title)"
   ]
  },
  {
   "cell_type": "markdown",
   "metadata": {},
   "source": [
    " "
   ]
  },
  {
   "cell_type": "markdown",
   "metadata": {},
   "source": [
    "<B>10.18:  <B><U>Featured module:  re</U>.</B>  "
   ]
  },
  {
   "cell_type": "code",
   "execution_count": null,
   "metadata": {},
   "outputs": [],
   "source": [
    "import re\n",
    "\n",
    "line = 'a phone number:  213-298-1990'\n",
    "\n",
    "matchobj = re.search(r'(\\d\\d\\d)\\-(\\d\\d\\d)\\-(\\d\\d\\d\\d)')\n",
    "\n",
    "print(matchobj.group(1))"
   ]
  },
  {
   "cell_type": "markdown",
   "metadata": {},
   "source": [
    " "
   ]
  },
  {
   "cell_type": "markdown",
   "metadata": {},
   "source": [
    "<B>10.19:  <B><U>Featured module:  subprocess</U>.</B>  "
   ]
  },
  {
   "cell_type": "code",
   "execution_count": null,
   "metadata": {},
   "outputs": [],
   "source": [
    "import subprocess\n",
    "\n",
    "subprocess.call(['python', 'hello.py'])\n",
    "\n",
    "# out = subprocess.check_output(['python', 'hello.py')"
   ]
  },
  {
   "cell_type": "markdown",
   "metadata": {},
   "source": [
    " "
   ]
  },
  {
   "cell_type": "markdown",
   "metadata": {},
   "source": [
    "<B>10.20:  <B><U>Featured module:  textwrap</U>.</B>  "
   ]
  },
  {
   "cell_type": "code",
   "execution_count": null,
   "metadata": {},
   "outputs": [],
   "source": [
    "import textwrap\n",
    "\n",
    "text = \"This is some really long text that we would like to wrap.  Wouldn't you know it, there's a module for that!  \"\n",
    "\n",
    "\n",
    "items = textwrap.wrap(text, 10)\n",
    "\n",
    "print('\\n'.join(items))"
   ]
  },
  {
   "cell_type": "markdown",
   "metadata": {},
   "source": [
    " "
   ]
  }
 ],
 "metadata": {},
 "nbformat": 4,
 "nbformat_minor": 4
}
