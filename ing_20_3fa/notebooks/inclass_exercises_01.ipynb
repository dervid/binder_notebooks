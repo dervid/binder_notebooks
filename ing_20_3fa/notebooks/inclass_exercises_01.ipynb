{
 "cells": [
  {
   "cell_type": "markdown",
   "metadata": {},
   "source": [
    "# In-Class Exercises, Session 1"
   ]
  },
  {
   "cell_type": "markdown",
   "metadata": {},
   "source": [
    "PLEASE REFER to pythonreference.com for syntax to follow in coding these Exercises"
   ]
  },
  {
   "cell_type": "markdown",
   "metadata": {},
   "source": [
    " "
   ]
  },
  {
   "cell_type": "markdown",
   "metadata": {},
   "source": [
    "VARIABLES AND ASSIGNMENT; IDENTIFYING OBJECT TYPE"
   ]
  },
  {
   "cell_type": "markdown",
   "metadata": {},
   "source": [
    "<B>1.1:  <B><U>Numeric and string assignment, and type() function</U>.</B>  "
   ]
  },
  {
   "cell_type": "markdown",
   "metadata": {},
   "source": [
    "Assign an integer to new variable 'vari', a float to 'varf' and a string to 'vars'.  Print each, then use the type() function to print the type of each.\n"
   ]
  },
  {
   "cell_type": "code",
   "execution_count": null,
   "metadata": {},
   "outputs": [],
   "source": [
    "\n",
    "\n"
   ]
  },
  {
   "cell_type": "markdown",
   "metadata": {},
   "source": [
    " "
   ]
  },
  {
   "cell_type": "markdown",
   "metadata": {},
   "source": [
    "REPLICATING CODE EXAMPLES"
   ]
  },
  {
   "cell_type": "markdown",
   "metadata": {},
   "source": [
    "<B>1.2:  <B><U>Replicating code examples</U> (1/2).</B>  "
   ]
  },
  {
   "cell_type": "markdown",
   "metadata": {},
   "source": [
    "Review <B>pythonreference.com</B> for the function <B>len()</B>.  Use <B>len()</b> to check the length of the variable <B>sentence</b> (length should be 3).  Next, use <B>len()</B> to check the length of the literal string value <B>'sentence'</B> (length should be 8)."
   ]
  },
  {
   "cell_type": "code",
   "execution_count": null,
   "metadata": {},
   "outputs": [],
   "source": [
    "sentence = 'hi!'\n"
   ]
  },
  {
   "cell_type": "markdown",
   "metadata": {},
   "source": [
    "Please note that variable <B>sentence</B> (no quotes) is entirely different from string <B>'sentence'</B> (with quotes).  A word without quotes is a variable (a value assigned to a name).  A word with quotes around it is a string literal (a literal string value)."
   ]
  },
  {
   "cell_type": "markdown",
   "metadata": {},
   "source": [
    " "
   ]
  },
  {
   "cell_type": "markdown",
   "metadata": {},
   "source": [
    "<B>1.3:  <B><U>Replicating code examples</U> (2/2).</b>  "
   ]
  },
  {
   "cell_type": "markdown",
   "metadata": {},
   "source": [
    "Review <B>pythonreference.com</B> for the function <B>round()</B>.  Perform operations listed below:\n"
   ]
  },
  {
   "cell_type": "code",
   "execution_count": null,
   "metadata": {},
   "outputs": [],
   "source": [
    "myfloat = 3.927\n",
    "\n",
    "\n",
    "# round myfloat to 2 decimal places (should be 3.93).\n",
    "\n",
    "\n",
    "\n",
    "# round myfloat to 0 places (i.e., to produce an integer - should be 4)\n",
    "\n",
    "\n"
   ]
  },
  {
   "cell_type": "markdown",
   "metadata": {},
   "source": [
    " "
   ]
  },
  {
   "cell_type": "markdown",
   "metadata": {},
   "source": [
    "MATH AND STRING OPERATORS"
   ]
  },
  {
   "cell_type": "markdown",
   "metadata": {},
   "source": [
    "<B>1.4:  <B><U>Math operators</U>.</b>  "
   ]
  },
  {
   "cell_type": "markdown",
   "metadata": {},
   "source": [
    "Multiply 'a' by 'b' and divide by 'c' (result should be 25.0).\n"
   ]
  },
  {
   "cell_type": "code",
   "execution_count": null,
   "metadata": {},
   "outputs": [],
   "source": [
    "a = 5\n",
    "b = 10\n",
    "c = 2\n"
   ]
  },
  {
   "cell_type": "markdown",
   "metadata": {},
   "source": [
    " "
   ]
  },
  {
   "cell_type": "markdown",
   "metadata": {},
   "source": [
    "<B>1.5:  <B><U>Exponentiation operator</U>.</B>  "
   ]
  },
  {
   "cell_type": "markdown",
   "metadata": {},
   "source": [
    "Use '**' to raise <B>a</B> to the power of <B>b</B> (result should be <B>125</B>).\n"
   ]
  },
  {
   "cell_type": "code",
   "execution_count": null,
   "metadata": {},
   "outputs": [],
   "source": [
    "a = 5\n",
    "b = 3\n"
   ]
  },
  {
   "cell_type": "markdown",
   "metadata": {},
   "source": [
    " "
   ]
  },
  {
   "cell_type": "markdown",
   "metadata": {},
   "source": [
    "<B>1.6:  <B><U>Concatenation operator</U>.</B>  "
   ]
  },
  {
   "cell_type": "markdown",
   "metadata": {},
   "source": [
    "Use '+' to concatenate <B>xvar</B>, <B>yvar</B> and <B>zvar</B> together.\n"
   ]
  },
  {
   "cell_type": "code",
   "execution_count": null,
   "metadata": {},
   "outputs": [],
   "source": [
    "xvar = 'supercali'\n",
    "yvar = 'fragilistic'\n",
    "zvar = 'expialidocious'\n"
   ]
  },
  {
   "cell_type": "markdown",
   "metadata": {},
   "source": [
    " "
   ]
  },
  {
   "cell_type": "markdown",
   "metadata": {},
   "source": [
    "<B>1.7:  <B><U>String repetition operator</U>.</B>  "
   ]
  },
  {
   "cell_type": "markdown",
   "metadata": {},
   "source": [
    "Use '*' to repeat the string in <B>greet</B> 3 times to return a new str value <B>yoyoyo</B>.\n"
   ]
  },
  {
   "cell_type": "code",
   "execution_count": null,
   "metadata": {},
   "outputs": [],
   "source": [
    "greet = 'yo'\n"
   ]
  },
  {
   "cell_type": "markdown",
   "metadata": {},
   "source": [
    " "
   ]
  },
  {
   "cell_type": "markdown",
   "metadata": {},
   "source": [
    "\"ACTION\" FUNCTIONS INPUT, PRINT, SYS.EXIT"
   ]
  },
  {
   "cell_type": "markdown",
   "metadata": {},
   "source": [
    "<B>1.8:  <B><U>input(), print() and sys.exit() functions</U>.</B>  "
   ]
  },
  {
   "cell_type": "markdown",
   "metadata": {},
   "source": [
    "Take user input with <B>input()</B>.  Print the result.  Then call <B>sys.exit()</B> to signal an exit.\n"
   ]
  },
  {
   "cell_type": "code",
   "execution_count": null,
   "metadata": {},
   "outputs": [],
   "source": [
    "import sys\n",
    "\n",
    "\n"
   ]
  },
  {
   "cell_type": "markdown",
   "metadata": {},
   "source": [
    "Note that in Jupyter Notebook, the notebook will not exit, but will show that <B>sys.exit()</B> has been called.  <B>sys.exit()</B> is more appropriate for standalone programs."
   ]
  },
  {
   "cell_type": "markdown",
   "metadata": {},
   "source": [
    " "
   ]
  },
  {
   "cell_type": "markdown",
   "metadata": {},
   "source": [
    "\"TRANSFORMING\" FUNCTIONS INT, FLOAT, STR"
   ]
  },
  {
   "cell_type": "markdown",
   "metadata": {},
   "source": [
    "<B>1.9:  <B><U>int(), float() and str() functions</U>.</B>  "
   ]
  },
  {
   "cell_type": "markdown",
   "metadata": {},
   "source": [
    "Convert the below string to an integer, then double the value (to 106).  Convert this value to a float (106.0) and convert that value to a string.  Retrieve and print the length of this string (should be 5).\n"
   ]
  },
  {
   "cell_type": "code",
   "execution_count": null,
   "metadata": {},
   "outputs": [],
   "source": [
    "zzy = '53'\n"
   ]
  },
  {
   "cell_type": "markdown",
   "metadata": {},
   "source": [
    " "
   ]
  }
 ],
 "metadata": {},
 "nbformat": 4,
 "nbformat_minor": 4
}
