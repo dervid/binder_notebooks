{
 "cells": [
  {
   "cell_type": "markdown",
   "metadata": {},
   "source": [
    "# In-Class Exercises, Session 5"
   ]
  },
  {
   "cell_type": "markdown",
   "metadata": {},
   "source": [
    "PLEASE REFER to pythonreference.com for syntax to follow in coding these Exercises"
   ]
  },
  {
   "cell_type": "markdown",
   "metadata": {},
   "source": [
    " "
   ]
  },
  {
   "cell_type": "markdown",
   "metadata": {},
   "source": [
    "DICTIONARIES:  INITIALIZING, ADDING/READING PAIRS, CHECKING FOR MEMBERSHIP"
   ]
  },
  {
   "cell_type": "markdown",
   "metadata": {},
   "source": [
    "<B>5.1:  <B><U>Initialize a dict and perform basic operations</U></B>.  "
   ]
  },
  {
   "cell_type": "markdown",
   "metadata": {},
   "source": [
    "The dict should have string keys and numeric (<i>float</i> or <i>int</i>) values - you can choose whatever values you please.\n"
   ]
  },
  {
   "cell_type": "code",
   "execution_count": null,
   "metadata": {},
   "outputs": [],
   "source": [
    "# initialize the dict\n",
    "\n",
    "\n",
    "\n",
    "# add a key/value pair (use dict subscript with key and value)\n",
    "\n",
    "\n",
    "\n",
    "# add a duplicate key with a new value\n",
    "\n",
    "\n",
    "\n",
    "# print the dict and print its type\n",
    "\n",
    "\n",
    "\n",
    "# access a single value in the dict (use dict subscript with key)\n",
    "\n",
    "\n",
    "\n"
   ]
  },
  {
   "cell_type": "markdown",
   "metadata": {},
   "source": [
    " "
   ]
  },
  {
   "cell_type": "markdown",
   "metadata": {},
   "source": [
    "DICTIONARIES:  LOOPING THROUGH"
   ]
  },
  {
   "cell_type": "markdown",
   "metadata": {},
   "source": [
    "<B>5.2:  <B><U>Loop through dict keys, then modify the loop to print keys as well as values</U>.</B>"
   ]
  },
  {
   "cell_type": "code",
   "execution_count": null,
   "metadata": {},
   "outputs": [],
   "source": [
    "pdist = { 'Mercury': 57.9,\n",
    "          'Venus': 108.2,\n",
    "          'Earth': 149.6,\n",
    "          'Mars': 227.9}\n",
    "\n",
    "\n",
    "# loop through the dict keys\n",
    "\n",
    "\n",
    "    # print the key and the value for that key\n"
   ]
  },
  {
   "cell_type": "markdown",
   "metadata": {},
   "source": [
    " "
   ]
  },
  {
   "cell_type": "markdown",
   "metadata": {},
   "source": [
    "DICTIONARIES:  SORTING KEYS"
   ]
  },
  {
   "cell_type": "markdown",
   "metadata": {},
   "source": [
    "<B>5.3:  <B><U>Sort dict keys</U>.</B>  "
   ]
  },
  {
   "cell_type": "markdown",
   "metadata": {},
   "source": [
    "Sort the keys in this dict.  Print the list of sorted keys.  Then loop through and print sorted keys and values.\n"
   ]
  },
  {
   "cell_type": "code",
   "execution_count": null,
   "metadata": {},
   "outputs": [],
   "source": [
    "uscitypop = { 'New York': 8.4,\n",
    "              'Los Angeles': 4.0,\n",
    "              'Chicago': 2.7,\n",
    "              'Houston': 2.3}\n",
    "\n",
    "\n",
    "# sort the dict keys\n",
    "\n",
    "\n",
    "\n",
    "# loop through the sorted keys\n",
    "\n",
    "\n",
    "\n",
    "    # print each sorted key and the value for that key in the dict\n",
    "\n",
    "\n"
   ]
  },
  {
   "cell_type": "markdown",
   "metadata": {},
   "source": [
    " "
   ]
  },
  {
   "cell_type": "markdown",
   "metadata": {},
   "source": [
    "DICTIONARIES:  BUILDING FROM FILE"
   ]
  },
  {
   "cell_type": "markdown",
   "metadata": {},
   "source": [
    "<B>5.4:  <B><U>Build a \"lookup\" dict from row values in a CSV file</U>.</B>  "
   ]
  },
  {
   "cell_type": "markdown",
   "metadata": {},
   "source": [
    "Looping through <I>revenue.csv</I>, build a dict with the company name as string key and the revenue number as float value.\n"
   ]
  },
  {
   "cell_type": "code",
   "execution_count": null,
   "metadata": {},
   "outputs": [],
   "source": [
    "corevcount = {}\n",
    "\n",
    "fh = open('../revenue.csv')\n",
    "\n",
    "for line in fh:\n",
    "    company, state, rev = line.split(',')     # multi-target assignment\n",
    "\n",
    "\n",
    "fh.close()"
   ]
  },
  {
   "cell_type": "markdown",
   "metadata": {},
   "source": [
    "<B>Multi-target assignment</B> allows us to assign multiple values from a list at one time.  The above code depends on each line having 3 items; otherwise the variables on the left would not match the number of items from the <B>split()</B> on the right."
   ]
  },
  {
   "cell_type": "markdown",
   "metadata": {},
   "source": [
    " "
   ]
  },
  {
   "cell_type": "markdown",
   "metadata": {},
   "source": [
    "<B>5.5:  <B><U>Build a \"counting\" dict from a file</U>.</B>  "
   ]
  },
  {
   "cell_type": "markdown",
   "metadata": {},
   "source": [
    "Again looping through <I>revenue.csv</I>, build a dict that counts how many states are in the 2nd column.\n"
   ]
  },
  {
   "cell_type": "code",
   "execution_count": null,
   "metadata": {},
   "outputs": [],
   "source": [
    "corevsum = {}\n",
    "\n",
    "fh = open('../revenue.csv')\n",
    "\n",
    "for line in fh:\n",
    "    company, state, rev = line.split(',')     # multi-target assignment\n",
    "\n",
    "\n",
    "fh.close()"
   ]
  },
  {
   "cell_type": "markdown",
   "metadata": {},
   "source": [
    " "
   ]
  },
  {
   "cell_type": "markdown",
   "metadata": {},
   "source": [
    "DICTIONARIES:  KEYS, VALUES, ITEMS"
   ]
  },
  {
   "cell_type": "markdown",
   "metadata": {},
   "source": [
    "<B>5.6:  <B><U>Show keys, values and items in a dict</U>.</B>  "
   ]
  },
  {
   "cell_type": "markdown",
   "metadata": {},
   "source": [
    "Use the so-named dict methods to retrieve keys, values and items from the dict.\n"
   ]
  },
  {
   "cell_type": "code",
   "execution_count": null,
   "metadata": {},
   "outputs": [],
   "source": [
    "tvshows = { 'The Twilight Zone': 1959,\n",
    "            'Star Trek': 1966,\n",
    "            'I Love Lucy': 1951,\n",
    "            'Lost': 2004 }\n",
    "\n",
    "\n",
    "# print list of keys (use list() with dict, or list with .keys())\n",
    "\n",
    "\n",
    "# print list of values (use list with .values())\n",
    "\n",
    "\n",
    "# print list of items (use list with .items())\n",
    "\n"
   ]
  },
  {
   "cell_type": "markdown",
   "metadata": {},
   "source": [
    " "
   ]
  },
  {
   "cell_type": "markdown",
   "metadata": {},
   "source": [
    "TRAPPING EXCEPTIONS:  TRY/EXCEPT"
   ]
  },
  {
   "cell_type": "markdown",
   "metadata": {},
   "source": [
    "<B>5.7:  <B><U>Trap a \"bad dict key\" error</U>.</B>  If the user's key can't be found in the dict, an error occurs -- test this by inputting a key of 'XXX'.  Once you have observed the exception and exception type, use a 'try/except' statement to trap the exception and instead print 'key does not exist'.  Make sure to put your 'try' block around just one line of code.  "
   ]
  },
  {
   "cell_type": "code",
   "execution_count": null,
   "metadata": {},
   "outputs": [],
   "source": [
    "z = {'a': 1, 'b': 2, 'c': 3}\n",
    "\n",
    "ukey = input('please enter a key:  ')\n",
    "\n",
    "print(z[ukey])"
   ]
  },
  {
   "cell_type": "markdown",
   "metadata": {},
   "source": [
    " "
   ]
  },
  {
   "cell_type": "markdown",
   "metadata": {},
   "source": [
    "<B>5.8:  <B><U>Trap a \"bad list index\" error</U>.</B>   If the user's index can't be found in the list, an error occurs -- test this by inputting an index of 9.  Once you have observed the exception and exception type, use a 'try/except' statement to trap the exception and instead print 'no value at that index'.  Make sure to put your 'try' block around just one line of code."
   ]
  },
  {
   "cell_type": "code",
   "execution_count": null,
   "metadata": {},
   "outputs": [],
   "source": [
    "x = ['a', 'b', 'c', 'd']\n",
    "\n",
    "uidx = int(input('please enter an index:  '))\n",
    "\n",
    "print(x[uidx])"
   ]
  },
  {
   "cell_type": "markdown",
   "metadata": {},
   "source": [
    " "
   ]
  },
  {
   "cell_type": "markdown",
   "metadata": {},
   "source": [
    "<B>5.9:  <B><U>Trap a \"bad int value\" error</U>.</B>  Add another <B>except:</B> block to the one below that will trap the exception that occurs is the user doesn't type a number.  "
   ]
  },
  {
   "cell_type": "code",
   "execution_count": null,
   "metadata": {},
   "outputs": [],
   "source": [
    "x = ['a', 'b', 'c', 'd']\n",
    "\n",
    "try:\n",
    "    uidx = int(input('please enter an index:  '))\n",
    "    print(x[uidx])\n",
    "except IndexError:\n",
    "    print('no value at that index')"
   ]
  },
  {
   "cell_type": "markdown",
   "metadata": {},
   "source": [
    " "
   ]
  }
 ],
 "metadata": {},
 "nbformat": 4,
 "nbformat_minor": 4
}
