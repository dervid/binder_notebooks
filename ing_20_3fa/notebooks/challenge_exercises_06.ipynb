{
 "cells": [
  {
   "cell_type": "markdown",
   "metadata": {},
   "source": [
    "# Challenge Exercises, Session 6"
   ]
  },
  {
   "cell_type": "markdown",
   "metadata": {},
   "source": [
    "PLEASE NOTE that many of the \"inclass\" exercises are repeated here."
   ]
  },
  {
   "cell_type": "markdown",
   "metadata": {},
   "source": [
    " "
   ]
  },
  {
   "cell_type": "markdown",
   "metadata": {},
   "source": [
    "<B>6.1:  Given the below two structures, print the values 'c' (from the list) and 2 (from the dict)"
   ]
  },
  {
   "cell_type": "code",
   "execution_count": null,
   "metadata": {},
   "outputs": [],
   "source": [
    "mylist = ['a', 'b', 'c', 'd']\n",
    "\n",
    "mydict = {'a': 1, 'b': 2, 'c': 3}\n",
    "\n",
    "# your code here"
   ]
  },
  {
   "cell_type": "markdown",
   "metadata": {},
   "source": [
    " "
   ]
  },
  {
   "cell_type": "markdown",
   "metadata": {},
   "source": [
    "<B>6.2:  Given the below list, loop through and print each item.  "
   ]
  },
  {
   "cell_type": "code",
   "execution_count": null,
   "metadata": {},
   "outputs": [],
   "source": [
    "mylist = ['a', 'b', 'c', 'd']\n",
    "\n",
    "# your code here"
   ]
  },
  {
   "cell_type": "markdown",
   "metadata": {},
   "source": [
    " "
   ]
  },
  {
   "cell_type": "markdown",
   "metadata": {},
   "source": [
    "<B>6.3:  Given the below dict, loop through and print each key/value pair"
   ]
  },
  {
   "cell_type": "code",
   "execution_count": null,
   "metadata": {},
   "outputs": [],
   "source": [
    "mydict = {'a': 1, 'b': 2, 'c': 3}\n",
    "\n",
    "# your code here"
   ]
  },
  {
   "cell_type": "markdown",
   "metadata": {},
   "source": [
    " "
   ]
  },
  {
   "cell_type": "markdown",
   "metadata": {},
   "source": [
    "For the next few exercises start with this structure:"
   ]
  },
  {
   "cell_type": "markdown",
   "metadata": {},
   "source": [
    "<pre style=\"margin: 0; padding=0\"><DIV style=\"font-family: Courier; border: 1px solid #dbdbdb; padding: 7px\">mylist = [\n",
    "  [ 'a', 'b', 'c', 'd' ],\n",
    "  [ 1, 2, 3, 4 ],\n",
    "  [ 'alpha', 'beta', 'gamma', 'delta' ],\n",
    "  [ 'Torchy', 'Thing', 'Girl', 'Fantastic' ]\n",
    "]\n",
    "\n",
    "# your code here\n",
    "</DIV></pre>"
   ]
  },
  {
   "cell_type": "markdown",
   "metadata": {},
   "source": [
    " "
   ]
  },
  {
   "cell_type": "markdown",
   "metadata": {},
   "source": [
    "<B>6.4:  Print the values 'd', 1, 'gamma' and 'Thing'."
   ]
  },
  {
   "cell_type": "code",
   "execution_count": null,
   "metadata": {},
   "outputs": [],
   "source": [
    "mylist = [\n",
    "  [ 'a', 'b', 'c', 'd' ],\n",
    "  [ 1, 2, 3, 4 ],\n",
    "  [ 'alpha', 'beta', 'gamma', 'delta' ],\n",
    "  [ 'Torchy', 'Thing', 'Girl', 'Fantastic' ]\n",
    "]\n",
    "\n",
    "# your code here\n"
   ]
  },
  {
   "cell_type": "markdown",
   "metadata": {},
   "source": [
    " "
   ]
  },
  {
   "cell_type": "markdown",
   "metadata": {},
   "source": [
    "<B>6.5:  Loop through and print each row (i.e., each list) as a whole."
   ]
  },
  {
   "cell_type": "code",
   "execution_count": null,
   "metadata": {},
   "outputs": [],
   "source": [
    "mylist = [\n",
    "  [ 'a', 'b', 'c', 'd' ],\n",
    "  [ 1, 2, 3, 4 ],\n",
    "  [ 'alpha', 'beta', 'gamma', 'delta' ],\n",
    "  [ 'Torchy', 'Thing', 'Girl', 'Fantastic' ]\n",
    "]\n",
    "\n",
    "# your code here\n"
   ]
  },
  {
   "cell_type": "markdown",
   "metadata": {},
   "source": [
    "<U>Expected Output</U>:  "
   ]
  },
  {
   "cell_type": "markdown",
   "metadata": {},
   "source": [
    "<pre style=\"margin: 0; padding=0\"><DIV style=\"font-family: Courier; border: 1px solid #dbdbdb; padding: 7px\">['a', 'b', 'c', 'd']\n",
    "[1, 2, 3, 4]\n",
    "['alpha', 'beta', 'gamma', 'delta']\n",
    "['Torchy', 'Thing', 'Girl', 'Fantastic']</DIV></pre>"
   ]
  },
  {
   "cell_type": "markdown",
   "metadata": {},
   "source": [
    " "
   ]
  },
  {
   "cell_type": "markdown",
   "metadata": {},
   "source": [
    "<B>6.6:  Loop through mylist and print only the 2nd element of each list."
   ]
  },
  {
   "cell_type": "code",
   "execution_count": null,
   "metadata": {},
   "outputs": [],
   "source": [
    "mylist = [\n",
    "  [ 'a', 'b', 'c', 'd' ],\n",
    "  [ 1, 2, 3, 4 ],\n",
    "  [ 'alpha', 'beta', 'gamma', 'delta' ],\n",
    "  [ 'Torchy', 'Thing', 'Girl', 'Fantastic' ]\n",
    "]\n",
    "\n",
    "# your code here\n"
   ]
  },
  {
   "cell_type": "markdown",
   "metadata": {},
   "source": [
    "<U>Expected Output</U>:  "
   ]
  },
  {
   "cell_type": "markdown",
   "metadata": {},
   "source": [
    "<pre style=\"margin: 0; padding=0\"><DIV style=\"font-family: Courier; border: 1px solid #dbdbdb; padding: 7px\">b\n",
    "2\n",
    "beta\n",
    "Thing</DIV></pre>"
   ]
  },
  {
   "cell_type": "markdown",
   "metadata": {},
   "source": [
    " "
   ]
  },
  {
   "cell_type": "markdown",
   "metadata": {},
   "source": [
    "<B>6.7:  Print out the word 'beta' from mylist in one simple statement (do not use a loop)."
   ]
  },
  {
   "cell_type": "code",
   "execution_count": null,
   "metadata": {},
   "outputs": [],
   "source": [
    "mylist = [\n",
    "  [ 'a', 'b', 'c', 'd' ],\n",
    "  [ 1, 2, 3, 4 ],\n",
    "  [ 'alpha', 'beta', 'gamma', 'delta' ],\n",
    "  [ 'Torchy', 'Thing', 'Girl', 'Fantastic' ]\n",
    "]\n",
    "\n",
    "# your code here\n"
   ]
  },
  {
   "cell_type": "markdown",
   "metadata": {},
   "source": [
    "<U>Expected Output</U>:  "
   ]
  },
  {
   "cell_type": "markdown",
   "metadata": {},
   "source": [
    "<pre style=\"margin: 0; padding=0\"><DIV style=\"font-family: Courier; border: 1px solid #dbdbdb; padding: 7px\">beta</DIV></pre>"
   ]
  },
  {
   "cell_type": "markdown",
   "metadata": {},
   "source": [
    " "
   ]
  },
  {
   "cell_type": "markdown",
   "metadata": {},
   "source": [
    "For the next few exercises, start with this structure:"
   ]
  },
  {
   "cell_type": "markdown",
   "metadata": {},
   "source": [
    "<pre style=\"margin: 0; padding=0\"><DIV style=\"font-family: Courier; border: 1px solid #dbdbdb; padding: 7px\">lod = [\n",
    "   {\n",
    "      'name': 'Apex Pharma',\n",
    "      'city': 'Louisville',\n",
    "      'state': 'KY',\n",
    "   },\n",
    "   {\n",
    "      'name': 'Beta IT',\n",
    "      'city': 'New York',\n",
    "      'state': 'NY',\n",
    "   },\n",
    "   {\n",
    "      'name': 'Gamma Husbandry',\n",
    "      'city': 'Lancaster',\n",
    "      'state': 'PA',\n",
    "   },\n",
    "]</DIV></pre>"
   ]
  },
  {
   "cell_type": "markdown",
   "metadata": {},
   "source": [
    " "
   ]
  },
  {
   "cell_type": "markdown",
   "metadata": {},
   "source": [
    "<B>6.8:  Loop through the list of dicts, printing each one on a separate line."
   ]
  },
  {
   "cell_type": "code",
   "execution_count": null,
   "metadata": {},
   "outputs": [],
   "source": [
    "lod = [\n",
    "   {\n",
    "      'name': 'Apex Pharma',\n",
    "      'city': 'Louisville',\n",
    "      'state': 'KY',\n",
    "   },\n",
    "   {\n",
    "      'name': 'Beta IT',\n",
    "      'city': 'New York',\n",
    "      'state': 'NY',\n",
    "   },\n",
    "   {\n",
    "      'name': 'Gamma Husbandry',\n",
    "      'city': 'Lancaster',\n",
    "      'state': 'PA',\n",
    "   },\n",
    "]\n",
    "\n",
    "# your code here\n"
   ]
  },
  {
   "cell_type": "markdown",
   "metadata": {},
   "source": [
    "<U>Expected Output</U>:  "
   ]
  },
  {
   "cell_type": "markdown",
   "metadata": {},
   "source": [
    "<pre style=\"margin: 0; padding=0\"><DIV style=\"font-family: Courier; border: 1px solid #dbdbdb; padding: 7px\">{'name': 'Apex Pharma', 'city': 'Louisville', 'state': 'KY'}\n",
    "{'name': 'Beta IT', 'city': 'New York', 'state': 'NY'}\n",
    "{'name': 'Gamma Husbandry', 'city': 'Lancaster', 'state': 'PA'}</DIV></pre>"
   ]
  },
  {
   "cell_type": "markdown",
   "metadata": {},
   "source": [
    " "
   ]
  },
  {
   "cell_type": "markdown",
   "metadata": {},
   "source": [
    "<B>6.9:  Loop through the list of dicts, printing just the company name from each dict:"
   ]
  },
  {
   "cell_type": "code",
   "execution_count": null,
   "metadata": {},
   "outputs": [],
   "source": [
    "lod = [\n",
    "   {\n",
    "      'name': 'Apex Pharma',\n",
    "      'city': 'Louisville',\n",
    "      'state': 'KY',\n",
    "   },\n",
    "   {\n",
    "      'name': 'Beta IT',\n",
    "      'city': 'New York',\n",
    "      'state': 'NY',\n",
    "   },\n",
    "   {\n",
    "      'name': 'Gamma Husbandry',\n",
    "      'city': 'Lancaster',\n",
    "      'state': 'PA',\n",
    "   },\n",
    "]\n",
    "\n",
    "# your code here\n"
   ]
  },
  {
   "cell_type": "markdown",
   "metadata": {},
   "source": [
    "<U>Expected Output</U>:  "
   ]
  },
  {
   "cell_type": "markdown",
   "metadata": {},
   "source": [
    "<pre style=\"margin: 0; padding=0\"><DIV style=\"font-family: Courier; border: 1px solid #dbdbdb; padding: 7px\">Apex Pharma\n",
    "Beta IT\n",
    "Gamma Husbandry</DIV></pre>"
   ]
  },
  {
   "cell_type": "markdown",
   "metadata": {},
   "source": [
    " "
   ]
  },
  {
   "cell_type": "markdown",
   "metadata": {},
   "source": [
    "<B>6.10:  Loop through the list of dicts, printing the info in a formatted form.  (I've added an extra blank print statement to separate records.):"
   ]
  },
  {
   "cell_type": "code",
   "execution_count": null,
   "metadata": {},
   "outputs": [],
   "source": [
    "lod = [\n",
    "   {\n",
    "      'name': 'Apex Pharma',\n",
    "      'city': 'Louisville',\n",
    "      'state': 'KY',\n",
    "   },\n",
    "   {\n",
    "      'name': 'Beta IT',\n",
    "      'city': 'New York',\n",
    "      'state': 'NY',\n",
    "   },\n",
    "   {\n",
    "      'name': 'Gamma Husbandry',\n",
    "      'city': 'Lancaster',\n",
    "      'state': 'PA',\n",
    "   },\n",
    "]\n",
    "\n",
    "# your code here\n"
   ]
  },
  {
   "cell_type": "markdown",
   "metadata": {},
   "source": [
    "<U>Expected Output</U>:  "
   ]
  },
  {
   "cell_type": "markdown",
   "metadata": {},
   "source": [
    "<pre style=\"margin: 0; padding=0\"><DIV style=\"font-family: Courier; border: 1px solid #dbdbdb; padding: 7px\">Apex Pharma\n",
    "Louisville, KY\n",
    "\n",
    "Beta IT\n",
    "New York, NY\n",
    "\n",
    "Gamma Husbandry\n",
    "Lancaster, PA</DIV></pre>"
   ]
  },
  {
   "cell_type": "markdown",
   "metadata": {},
   "source": [
    " "
   ]
  },
  {
   "cell_type": "markdown",
   "metadata": {},
   "source": [
    "For the next few exercises, start with this structure:"
   ]
  },
  {
   "cell_type": "markdown",
   "metadata": {},
   "source": [
    "<pre style=\"margin: 0; padding=0\"><DIV style=\"font-family: Courier; border: 1px solid #dbdbdb; padding: 7px\">sites_pages = {\n",
    "   'example.com':   [\n",
    "                      'index.html',\n",
    "                      'about_us.html',\n",
    "                      'contact_us.html'\n",
    "                    ],\n",
    "   'something.com': [\n",
    "                      'index2.html',\n",
    "                      'prizes.html',\n",
    "                      'puppies.html',\n",
    "                    ],\n",
    "   'whateva.com':   [\n",
    "                      'main.html',\n",
    "                      'getting.html',\n",
    "                      'setting.html',\n",
    "                    ],\n",
    "}</DIV></pre>"
   ]
  },
  {
   "cell_type": "markdown",
   "metadata": {},
   "source": [
    " "
   ]
  },
  {
   "cell_type": "markdown",
   "metadata": {},
   "source": [
    "<B>6.11:  Loop through the pages for whateva.com"
   ]
  },
  {
   "cell_type": "code",
   "execution_count": null,
   "metadata": {},
   "outputs": [],
   "source": [
    "sites_pages = {\n",
    "   'example.com':   [\n",
    "                      'index.html',\n",
    "                      'about_us.html',\n",
    "                      'contact_us.html'\n",
    "                    ],\n",
    "   'something.com': [\n",
    "                      'index2.html',\n",
    "                      'prizes.html',\n",
    "                      'puppies.html',\n",
    "                    ],\n",
    "   'whateva.com':   [\n",
    "                      'main.html',\n",
    "                      'getting.html',\n",
    "                      'setting.html',\n",
    "                    ],\n",
    "}\n",
    "\n",
    "# your code here\n"
   ]
  },
  {
   "cell_type": "markdown",
   "metadata": {},
   "source": [
    "<U>Expected Output</U>:  "
   ]
  },
  {
   "cell_type": "markdown",
   "metadata": {},
   "source": [
    "<pre style=\"margin: 0; padding=0\"><DIV style=\"font-family: Courier; border: 1px solid #dbdbdb; padding: 7px\">main.html\n",
    "getting.html\n",
    "setting.html</DIV></pre>"
   ]
  },
  {
   "cell_type": "markdown",
   "metadata": {},
   "source": [
    " "
   ]
  },
  {
   "cell_type": "markdown",
   "metadata": {},
   "source": [
    "<B>6.12:  In one statement and without looping, print just the name puppies.html"
   ]
  },
  {
   "cell_type": "code",
   "execution_count": null,
   "metadata": {},
   "outputs": [],
   "source": [
    "sites_pages = {\n",
    "   'example.com':   [\n",
    "                      'index.html',\n",
    "                      'about_us.html',\n",
    "                      'contact_us.html'\n",
    "                    ],\n",
    "   'something.com': [\n",
    "                      'index2.html',\n",
    "                      'prizes.html',\n",
    "                      'puppies.html',\n",
    "                    ],\n",
    "   'whateva.com':   [\n",
    "                      'main.html',\n",
    "                      'getting.html',\n",
    "                      'setting.html',\n",
    "                    ],\n",
    "}\n",
    "\n",
    "# your code here\n"
   ]
  },
  {
   "cell_type": "markdown",
   "metadata": {},
   "source": [
    "<U>Expected Output</U>:  "
   ]
  },
  {
   "cell_type": "markdown",
   "metadata": {},
   "source": [
    "<pre style=\"margin: 0; padding=0\"><DIV style=\"font-family: Courier; border: 1px solid #dbdbdb; padding: 7px\">puppies.html</DIV></pre>"
   ]
  },
  {
   "cell_type": "markdown",
   "metadata": {},
   "source": [
    " "
   ]
  },
  {
   "cell_type": "markdown",
   "metadata": {},
   "source": [
    "<B>6.13:  Loop through the entire sites\\_pages dict of lists, and print each site and page.  Use spaces and empty print statements to enhance formatting.  "
   ]
  },
  {
   "cell_type": "code",
   "execution_count": null,
   "metadata": {},
   "outputs": [],
   "source": [
    "sites_pages = {\n",
    "   'example.com':   [\n",
    "                      'index.html',\n",
    "                      'about_us.html',\n",
    "                      'contact_us.html'\n",
    "                    ],\n",
    "   'something.com': [\n",
    "                      'index2.html',\n",
    "                      'prizes.html',\n",
    "                      'puppies.html',\n",
    "                    ],\n",
    "   'whateva.com':   [\n",
    "                      'main.html',\n",
    "                      'getting.html',\n",
    "                      'setting.html',\n",
    "                    ],\n",
    "}\n",
    "\n",
    "# your code here\n"
   ]
  },
  {
   "cell_type": "markdown",
   "metadata": {},
   "source": [
    "<U>Expected Output</U>:  "
   ]
  },
  {
   "cell_type": "markdown",
   "metadata": {},
   "source": [
    "<pre style=\"margin: 0; padding=0\"><DIV style=\"font-family: Courier; border: 1px solid #dbdbdb; padding: 7px\">example.com\n",
    "  index.html\n",
    "  about_us.html\n",
    "  contact_us.html\n",
    "\n",
    "something.com\n",
    "  index2.html\n",
    "  prizes.html\n",
    "  puppies.html\n",
    "\n",
    "whateva.com\n",
    "  main.html\n",
    "  getting.html\n",
    "  setting.html</DIV></pre>"
   ]
  },
  {
   "cell_type": "markdown",
   "metadata": {},
   "source": [
    " "
   ]
  },
  {
   "cell_type": "markdown",
   "metadata": {},
   "source": [
    "For the next few exercises, start with this structure:"
   ]
  },
  {
   "cell_type": "markdown",
   "metadata": {},
   "source": [
    "<pre style=\"margin: 0; padding=0\"><DIV style=\"font-family: Courier; border: 1px solid #dbdbdb; padding: 7px\">dod = {\n",
    "   'a': {\n",
    "      'name': 'Apex Pharma',\n",
    "      'city': 'Louisville',\n",
    "      'state': 'KY',\n",
    "   },\n",
    "   'b': {\n",
    "      'name': 'Beta IT',\n",
    "      'city': 'New York',\n",
    "      'state': 'NY',\n",
    "   },\n",
    "   'c': {\n",
    "      'name': 'Gamma Husbandry',\n",
    "      'city': 'Lancaster',\n",
    "      'state': 'PA',\n",
    "   }\n",
    "}</DIV></pre>"
   ]
  },
  {
   "cell_type": "markdown",
   "metadata": {},
   "source": [
    " "
   ]
  },
  {
   "cell_type": "markdown",
   "metadata": {},
   "source": [
    "<B>6.14:  Print the name 'Apex Pharma'"
   ]
  },
  {
   "cell_type": "code",
   "execution_count": null,
   "metadata": {},
   "outputs": [],
   "source": [
    "dod = {\n",
    "   'a': {\n",
    "      'name': 'Apex Pharma',\n",
    "      'city': 'Louisville',\n",
    "      'state': 'KY',\n",
    "   },\n",
    "   'b': {\n",
    "      'name': 'Beta IT',\n",
    "      'city': 'New York',\n",
    "      'state': 'NY',\n",
    "   },\n",
    "   'c': {\n",
    "      'name': 'Gamma Husbandry',\n",
    "      'city': 'Lancaster',\n",
    "      'state': 'PA',\n",
    "   }\n",
    "}"
   ]
  },
  {
   "cell_type": "markdown",
   "metadata": {},
   "source": [
    " "
   ]
  },
  {
   "cell_type": "markdown",
   "metadata": {},
   "source": [
    "<B>6.15:  Print the state 'NY'"
   ]
  },
  {
   "cell_type": "code",
   "execution_count": null,
   "metadata": {},
   "outputs": [],
   "source": [
    "dod = {\n",
    "   'a': {\n",
    "      'name': 'Apex Pharma',\n",
    "      'city': 'Louisville',\n",
    "      'state': 'KY',\n",
    "   },\n",
    "   'b': {\n",
    "      'name': 'Beta IT',\n",
    "      'city': 'New York',\n",
    "      'state': 'NY',\n",
    "   },\n",
    "   'c': {\n",
    "      'name': 'Gamma Husbandry',\n",
    "      'city': 'Lancaster',\n",
    "      'state': 'PA',\n",
    "   }\n",
    "}"
   ]
  },
  {
   "cell_type": "markdown",
   "metadata": {},
   "source": [
    " "
   ]
  },
  {
   "cell_type": "markdown",
   "metadata": {},
   "source": [
    "<B>6.16:  Loop through and print each key/value pair in the dict"
   ]
  },
  {
   "cell_type": "code",
   "execution_count": null,
   "metadata": {},
   "outputs": [],
   "source": [
    "dod = {\n",
    "   'a': {\n",
    "      'name': 'Apex Pharma',\n",
    "      'city': 'Louisville',\n",
    "      'state': 'KY',\n",
    "   },\n",
    "   'b': {\n",
    "      'name': 'Beta IT',\n",
    "      'city': 'New York',\n",
    "      'state': 'NY',\n",
    "   },\n",
    "   'c': {\n",
    "      'name': 'Gamma Husbandry',\n",
    "      'city': 'Lancaster',\n",
    "      'state': 'PA',\n",
    "   }\n",
    "}"
   ]
  },
  {
   "cell_type": "markdown",
   "metadata": {},
   "source": [
    " "
   ]
  },
  {
   "cell_type": "markdown",
   "metadata": {},
   "source": [
    "<B>6.17:  Building on the previous solution, print out each key and then the company name associated with that key.  "
   ]
  },
  {
   "cell_type": "code",
   "execution_count": null,
   "metadata": {},
   "outputs": [],
   "source": [
    "dod = {\n",
    "   'a': {\n",
    "      'name': 'Apex Pharma',\n",
    "      'city': 'Louisville',\n",
    "      'state': 'KY',\n",
    "   },\n",
    "   'b': {\n",
    "      'name': 'Beta IT',\n",
    "      'city': 'New York',\n",
    "      'state': 'NY',\n",
    "   },\n",
    "   'c': {\n",
    "      'name': 'Gamma Husbandry',\n",
    "      'city': 'Lancaster',\n",
    "      'state': 'PA',\n",
    "   }\n",
    "}"
   ]
  },
  {
   "cell_type": "markdown",
   "metadata": {},
   "source": [
    " "
   ]
  },
  {
   "cell_type": "markdown",
   "metadata": {},
   "source": [
    "READING FROM .json FILE"
   ]
  },
  {
   "cell_type": "markdown",
   "metadata": {},
   "source": [
    " "
   ]
  },
  {
   "cell_type": "markdown",
   "metadata": {},
   "source": [
    "<B>6.18:  Open the <B>config.json</B> file and load into a Python data structure.  Print the type of the resulting object.  "
   ]
  },
  {
   "cell_type": "code",
   "execution_count": null,
   "metadata": {},
   "outputs": [],
   "source": []
  },
  {
   "cell_type": "markdown",
   "metadata": {},
   "source": [
    " "
   ]
  },
  {
   "cell_type": "markdown",
   "metadata": {},
   "source": [
    "BUILDING MULTIDIMENSIONAL STRUCTURES"
   ]
  },
  {
   "cell_type": "markdown",
   "metadata": {},
   "source": [
    "For the next group of exercises, we'll start with standard containers (lists, dicts) and build them out to multi-dimensional containers (lists of lists, dicts of dicts, etc.)  I strongly recommend reading through the discussion after each solution, which can help draw your attention to the similarities between all of the structures we build here, whether a simple dictionary or list to a dict of dicts, a list of dicts, etc.\n",
    "\n",
    "If you compare each structure built, you'll see that each simply varies in the structure type used (list or dict) and the corresponding methods of adding an item or key/value (i.e., list append() or dict subscript adding).\n"
   ]
  },
  {
   "cell_type": "markdown",
   "metadata": {},
   "source": [
    "<B>Building a list of lists or lists of dicts</B>:  begin with the following:"
   ]
  },
  {
   "cell_type": "markdown",
   "metadata": {},
   "source": [
    "<pre style=\"margin: 0; padding=0\"><DIV style=\"font-family: Courier; border: 1px solid #dbdbdb; padding: 7px\">import pprint\n",
    "\n",
    "outer_list = []\n",
    "fh = open('student_db_names.txt')\n",
    "lines = fh.readlines()[1:]\n",
    "\n",
    "for line in lines:\n",
    "    id, fname, lname, street, city, state, zip = line.split(':')\n",
    "\n",
    "fh.close()</DIV></pre>"
   ]
  },
  {
   "cell_type": "markdown",
   "metadata": {},
   "source": [
    " "
   ]
  },
  {
   "cell_type": "markdown",
   "metadata": {},
   "source": [
    "<B>6.19:  Build a list of ids:  inside a loop through <B>revenue.csv</B>, split the line and append each id to outer\\_list.  After the loop ends, print the list.  Then print the first element in the list.  "
   ]
  },
  {
   "cell_type": "code",
   "execution_count": null,
   "metadata": {},
   "outputs": [],
   "source": [
    "import pprint\n",
    "\n",
    "outer_list = []\n",
    "fh = open('student_db_names.txt')\n",
    "lines = fh.readlines()[1:]\n",
    "\n",
    "for line in lines:\n",
    "    id, fname, lname, street, city, state, zip = line.split(':')\n",
    "\n",
    "    # your code here\n",
    "\n",
    "\n",
    "fh.close()"
   ]
  },
  {
   "cell_type": "markdown",
   "metadata": {},
   "source": [
    "<U>Expected Output</U>:  "
   ]
  },
  {
   "cell_type": "markdown",
   "metadata": {},
   "source": [
    "<pre style=\"margin: 0; padding=0\"><DIV style=\"font-family: Courier; border: 1px solid #dbdbdb; padding: 7px\">['jk43', 'ZXE99', 'jab44', 'ak9', 'ap172', 'JB23', 'jb29']\n",
    "\n",
    "jk43</DIV></pre>"
   ]
  },
  {
   "cell_type": "markdown",
   "metadata": {},
   "source": [
    " "
   ]
  },
  {
   "cell_type": "markdown",
   "metadata": {},
   "source": [
    "<B>6.20:  Build a list of lists:  continuing from the previous solution, inside the loop create an \"inner list\" of just the id, city and state, and instead of appending the id, append this 3-element list to outer\\_list.  After the loop ends, pretty-print the resulting list of lists (i.e. pprint.pprint(outer\\_list)).  Element access:  access the city of the first row (i.e., the 2nd element of 1st list) using a double subscript.  "
   ]
  },
  {
   "cell_type": "code",
   "execution_count": null,
   "metadata": {},
   "outputs": [],
   "source": [
    "import pprint\n",
    "\n",
    "outer_list = []\n",
    "fh = open('student_db_names.txt')\n",
    "lines = fh.readlines()[1:]\n",
    "\n",
    "for line in lines:\n",
    "    id, fname, lname, street, city, state, zip = line.split(':')\n",
    "\n",
    "    # your code here\n",
    "\n",
    "\n",
    "fh.close()"
   ]
  },
  {
   "cell_type": "markdown",
   "metadata": {},
   "source": [
    "<U>Expected Output</U>:  "
   ]
  },
  {
   "cell_type": "markdown",
   "metadata": {},
   "source": [
    "<pre style=\"margin: 0; padding=0\"><DIV style=\"font-family: Courier; border: 1px solid #dbdbdb; padding: 7px\">[['jk43', 'Plainview', 'NY'],\n",
    " ['ZXE99', 'New York', 'NY'],\n",
    " ['jab44', 'New York', 'NY'],\n",
    " ['ak9', 'Philadelphia', 'PA'],\n",
    " ['ap172', 'New York', 'NY'],\n",
    " ['JB23', 'Jersey City', 'NJ'],\n",
    " ['jb29', 'Jersey City', 'NJ']]\n",
    "\n",
    "Plainview</DIV></pre>"
   ]
  },
  {
   "cell_type": "markdown",
   "metadata": {},
   "source": [
    " "
   ]
  },
  {
   "cell_type": "markdown",
   "metadata": {},
   "source": [
    "<B>6.21:  Build a list of dicts:  modifying the previous solution, instead of an inner list, inside the loop create an \"inner dict\" of the id, city and state, keyed to string keys 'id', 'city' and 'state'.  Your \"inner dict\" should look like this:"
   ]
  },
  {
   "cell_type": "markdown",
   "metadata": {},
   "source": [
    "<pre style=\"margin: 0; padding=0\"><DIV style=\"font-family: Courier; border: 1px solid #dbdbdb; padding: 7px\">inner_dict = {'id': id, 'city': city, 'state': state }</DIV></pre>"
   ]
  },
  {
   "cell_type": "markdown",
   "metadata": {},
   "source": [
    "Now append inner\\_dict to the outer list.  Once the loop is done, pretty-print the resulting list of dicts.  Element access: print Philadelphia from the 4th row.\n"
   ]
  },
  {
   "cell_type": "code",
   "execution_count": null,
   "metadata": {},
   "outputs": [],
   "source": [
    "import pprint\n",
    "\n",
    "outer_list = []\n",
    "fh = open('student_db_names.txt')\n",
    "lines = fh.readlines()[1:]\n",
    "\n",
    "for line in lines:\n",
    "    id, fname, lname, street, city, state, zip = line.split(':')\n",
    "\n",
    "    # your code here\n",
    "\n",
    "\n",
    "fh.close()"
   ]
  },
  {
   "cell_type": "markdown",
   "metadata": {},
   "source": [
    "<U>Expected Output</U>:  "
   ]
  },
  {
   "cell_type": "markdown",
   "metadata": {},
   "source": [
    "<pre style=\"margin: 0; padding=0\"><DIV style=\"font-family: Courier; border: 1px solid #dbdbdb; padding: 7px\">[{'city': 'Plainview', 'id': 'jk43', 'state': 'NY'},\n",
    " {'city': 'New York', 'id': 'ZXE99', 'state': 'NY'},\n",
    " {'city': 'New York', 'id': 'jab44', 'state': 'NY'},\n",
    " {'city': 'Philadelphia', 'id': 'ak9', 'state': 'PA'},\n",
    " {'city': 'New York', 'id': 'ap172', 'state': 'NY'},\n",
    " {'city': 'Jersey City', 'id': 'JB23', 'state': 'NJ'},\n",
    " {'city': 'Jersey City', 'id': 'jb29', 'state': 'NJ'}]\n",
    "\n",
    "Plainview</DIV></pre>"
   ]
  },
  {
   "cell_type": "markdown",
   "metadata": {},
   "source": [
    " "
   ]
  },
  {
   "cell_type": "markdown",
   "metadata": {},
   "source": [
    "<B>Building a dict of lists or dict of dicts</B> -- begin with the following starter code (same as previous, but starting with an empty dict):\n"
   ]
  },
  {
   "cell_type": "markdown",
   "metadata": {},
   "source": [
    "<pre style=\"margin: 0; padding=0\"><DIV style=\"font-family: Courier; border: 1px solid #dbdbdb; padding: 7px\">outer_dict = {}\n",
    "fh = open('student_db.txt')\n",
    "lines = fh.readlines()[1:]\n",
    "\n",
    "for line in lines:\n",
    "    id, street, city, state, zip = line.split(':')\n",
    "\n",
    "\n",
    "fh.close()</DIV></pre>"
   ]
  },
  {
   "cell_type": "markdown",
   "metadata": {},
   "source": [
    " "
   ]
  },
  {
   "cell_type": "markdown",
   "metadata": {},
   "source": [
    "<B>6.22:  Build a dict of ids paired to states: inside the loop, add a key/value pair to outer\\_dict:  the id paired with the state.  Once the loop is done, print the dict.  Then print the value for key ak9.  "
   ]
  },
  {
   "cell_type": "code",
   "execution_count": null,
   "metadata": {},
   "outputs": [],
   "source": [
    "outer_dict = {}\n",
    "fh = open('student_db.txt')\n",
    "lines = fh.readlines()[1:]\n",
    "\n",
    "for line in lines:\n",
    "    id, street, city, state, zip = line.split(':')\n",
    "\n",
    "\n",
    "fh.close()"
   ]
  },
  {
   "cell_type": "markdown",
   "metadata": {},
   "source": [
    "<U>Expected Output</U>:  "
   ]
  },
  {
   "cell_type": "markdown",
   "metadata": {},
   "source": [
    "<pre style=\"margin: 0; padding=0\"><DIV style=\"font-family: Courier; border: 1px solid #dbdbdb; padding: 7px\">{'ak9': 'PA',\n",
    " 'ap172': 'NY',\n",
    " 'ZXE99': 'NY',\n",
    " 'jab44': 'NY',\n",
    " 'JB23': 'NJ',\n",
    " 'jb29': 'NJ',\n",
    " 'jk43': 'NY'}\n",
    "\n",
    "PA</DIV></pre>"
   ]
  },
  {
   "cell_type": "markdown",
   "metadata": {},
   "source": [
    " "
   ]
  },
  {
   "cell_type": "markdown",
   "metadata": {},
   "source": [
    "<B>6.23:  Build a dict of dicts:  inside the loop, create an \"inner dict\" of street, city, state and zip.  Your \"inner dict\" should look like this:"
   ]
  },
  {
   "cell_type": "markdown",
   "metadata": {},
   "source": [
    "<pre style=\"margin: 0; padding=0\"><DIV style=\"font-family: Courier; border: 1px solid #dbdbdb; padding: 7px\">inner_dict = { 'street': street, 'city': city,\n",
    "               'state': state, 'zip': zip }</DIV></pre>"
   ]
  },
  {
   "cell_type": "markdown",
   "metadata": {},
   "source": [
    "Then, still inside the loop, add a key/value pair to outer\\_dict:  the id paired with the inner\\_dict.  Once the loop is done, pretty-print the resulting dict of dicts.  Element access:  print the state for ak9.\n"
   ]
  },
  {
   "cell_type": "code",
   "execution_count": null,
   "metadata": {},
   "outputs": [],
   "source": [
    "outer_dict = {}\n",
    "fh = open('student_db.txt')\n",
    "lines = fh.readlines()[1:]\n",
    "\n",
    "for line in lines:\n",
    "    id, street, city, state, zip = line.split(':')\n",
    "\n",
    "\n",
    "fh.close()"
   ]
  },
  {
   "cell_type": "markdown",
   "metadata": {},
   "source": [
    "<U>Expected Output</U>:  "
   ]
  },
  {
   "cell_type": "markdown",
   "metadata": {},
   "source": [
    "<pre style=\"margin: 0; padding=0\"><DIV style=\"font-family: Courier; border: 1px solid #dbdbdb; padding: 7px\">{'JB23': {'city': 'Jersey City',\n",
    "          'state': 'NJ',\n",
    "          'street': '115 Karas Dr.',\n",
    "          'zip': '07127\\n'},\n",
    " 'ZXE99': {'city': 'New York',\n",
    "           'state': 'NY',\n",
    "           'street': '315 W. 115th Street, Apt. 11B',\n",
    "           'zip': '10027\\n'},\n",
    " 'ak9': {'city': 'Philadelphia',\n",
    "         'state': 'PA',\n",
    "         'street': '234 Main Street',\n",
    "         'zip': '08990\\n'},\n",
    " 'ap172': {'city': 'New York',\n",
    "           'state': 'NY',\n",
    "           'street': '19 Boxer Rd.',\n",
    "           'zip': '10005\\n'},\n",
    " 'jab44': {'city': 'New York',\n",
    "           'state': 'NY',\n",
    "           'street': '23 Rivington Street, Apt. 3R',\n",
    "           'zip': '10002\\n'},\n",
    " 'jb29': {'city': 'Jersey City',\n",
    "          'state': 'NJ',\n",
    "          'street': '119 Xylon Dr.',\n",
    "          'zip': '07127\\n'},\n",
    " 'jk43': {'city': 'Plainview',\n",
    "          'state': 'NY',\n",
    "          'street': '23 Marfield Lane',\n",
    "          'zip': '10023\\n'}}\n",
    "\n",
    "PA</DIV></pre>"
   ]
  },
  {
   "cell_type": "markdown",
   "metadata": {},
   "source": [
    " "
   ]
  },
  {
   "cell_type": "markdown",
   "metadata": {},
   "source": [
    "<B>6.24:  Build a \"counting\" dictionary, a dict of ints:  as a review, create a counting dictionary that counts the number of occurrences of each state -- a dictionary with unique state keys paired with an integer count reflecting the number of states in the file.  As we did with counting or summing dictionaries, remember that as your loop encounters each state, it must check to see if the state key already exists in the dictionary.  If it is new to the dict, it should be added with a value of 0.  Then the dict should add 1 to the value associated with that state in the dict.  Element access:  print the number of students who are from New York.  "
   ]
  },
  {
   "cell_type": "code",
   "execution_count": null,
   "metadata": {},
   "outputs": [],
   "source": [
    "outer_dict = {}\n",
    "fh = open('student_db.txt')\n",
    "lines = fh.readlines()[1:]\n",
    "\n",
    "for line in lines:\n",
    "    id, street, city, state, zip = line.split(':')\n",
    "\n",
    "\n",
    "fh.close()"
   ]
  },
  {
   "cell_type": "markdown",
   "metadata": {},
   "source": [
    "<U>Expected Output</U>:  "
   ]
  },
  {
   "cell_type": "markdown",
   "metadata": {},
   "source": [
    "<pre style=\"margin: 0; padding=0\"><DIV style=\"font-family: Courier; border: 1px solid #dbdbdb; padding: 7px\">{'NY': 4, 'NJ': 2, 'PA': 1}\n",
    "\n",
    "4</DIV></pre>"
   ]
  },
  {
   "cell_type": "markdown",
   "metadata": {},
   "source": [
    " "
   ]
  },
  {
   "cell_type": "markdown",
   "metadata": {},
   "source": [
    "<B>6.25:  Build a dict of lists (states):  modify the previous solution so that each state is associated with a list of ids for that state -- so you are building a dict that pairs each state with a list of ids.  You can do this very simply by replacing the integer 0 with an empty list, and the integer incrementing with a list append().  Element access:  loop through and print all the student ids for the students from New Jersey.  "
   ]
  },
  {
   "cell_type": "code",
   "execution_count": null,
   "metadata": {},
   "outputs": [],
   "source": [
    "outer_dict = {}\n",
    "fh = open('student_db.txt')\n",
    "lines = fh.readlines()[1:]\n",
    "\n",
    "for line in lines:\n",
    "    id, street, city, state, zip = line.split(':')\n",
    "\n",
    "\n",
    "fh.close()"
   ]
  },
  {
   "cell_type": "markdown",
   "metadata": {},
   "source": [
    "<U>Expected Output</U>:  "
   ]
  },
  {
   "cell_type": "markdown",
   "metadata": {},
   "source": [
    "<pre style=\"margin: 0; padding=0\"><DIV style=\"font-family: Courier; border: 1px solid #dbdbdb; padding: 7px\">{ 'NJ': ['JB23', 'jb29'],\n",
    "  'NY': ['jk43', 'ZXE99', 'jab44', 'ap172'],\n",
    "  'PA': ['ak9'] }\n",
    "\n",
    "JB23\n",
    "jb29</DIV></pre>"
   ]
  },
  {
   "cell_type": "markdown",
   "metadata": {},
   "source": [
    " "
   ]
  },
  {
   "cell_type": "markdown",
   "metadata": {},
   "source": [
    "<B>For the next exercises, please begin by glancing at revenue.csv, and then start with the following starter code:</B>"
   ]
  },
  {
   "cell_type": "markdown",
   "metadata": {},
   "source": [
    "<pre style=\"margin: 0; padding=0\"><DIV style=\"font-family: Courier; border: 1px solid #dbdbdb; padding: 7px\">outer_dict = {}\n",
    "fh = open('revenue.csv')\n",
    "\n",
    "for line in fh:\n",
    "    company, state, revenue = line.split(',')\n",
    "\n",
    "\n",
    "fh.close()</DIV></pre>"
   ]
  },
  {
   "cell_type": "markdown",
   "metadata": {},
   "source": [
    " "
   ]
  },
  {
   "cell_type": "markdown",
   "metadata": {},
   "source": [
    "<B>6.26:  Using the file \"revenue.csv\", build a \"summing\" dictionary, a dict of floats -- in this review, you can begin by creating a dictionary that sums up the amount of revenue garnered from each state -- a dictionary with unique state keys paired with a float sum reflecting the sum of float values for that state in the file.  As we did with counting or summing dictionaries, remember that as your loop encounters each state, it must check to see if the state key already exists in the dictionary.  If it is new to the dict, it should be added with a value of 0.0.  Then the dict should add the float value to the value associated with that state in the dict.  Element access:  print the revenue found for New Jersey.  "
   ]
  },
  {
   "cell_type": "code",
   "execution_count": null,
   "metadata": {},
   "outputs": [],
   "source": [
    "outer_dict = {}\n",
    "fh = open('revenue.csv')\n",
    "\n",
    "for line in fh:\n",
    "    company, state, revenue = line.split(',')\n",
    "\n",
    "    # your code here\n",
    "\n",
    "\n",
    "fh.close()"
   ]
  },
  {
   "cell_type": "markdown",
   "metadata": {},
   "source": [
    "<U>Expected Output</U>:  "
   ]
  },
  {
   "cell_type": "markdown",
   "metadata": {},
   "source": [
    "<pre style=\"margin: 0; padding=0\"><DIV style=\"font-family: Courier; border: 1px solid #dbdbdb; padding: 7px\">{'NY': 133.16, 'NJ': 265.4, 'PA': 263.45}\n",
    "\n",
    "265.4</DIV></pre>"
   ]
  },
  {
   "cell_type": "markdown",
   "metadata": {},
   "source": [
    " "
   ]
  },
  {
   "cell_type": "markdown",
   "metadata": {},
   "source": [
    "<B>6.27:  Build a dict of lists (floats):  modify the previous solution so that each state is associated with a list of revenue floats for that state -- so you are building a dict that pairs each state with a list of revenue values for the state.  You can do this very simply by replacing the float 0.0 with an empty list, and the float summing with a list append().  Element access:  provide the average company revenue for New York.  "
   ]
  },
  {
   "cell_type": "code",
   "execution_count": null,
   "metadata": {},
   "outputs": [],
   "source": [
    "outer_dict = {}\n",
    "fh = open('revenue.csv')\n",
    "\n",
    "for line in fh:\n",
    "    company, state, revenue = line.split(',')\n",
    "\n",
    "    # your code here\n",
    "\n",
    "\n",
    "fh.close()"
   ]
  },
  {
   "cell_type": "markdown",
   "metadata": {},
   "source": [
    "<U>Expected Output</U>:  "
   ]
  },
  {
   "cell_type": "markdown",
   "metadata": {},
   "source": [
    "<pre style=\"margin: 0; padding=0\"><DIV style=\"font-family: Courier; border: 1px solid #dbdbdb; padding: 7px\">{ 'NJ': [53.9, 211.5],\n",
    "  'NY': [11.98, 5.98, 115.2],\n",
    "  'PA': [239.5, 23.95] }\n",
    "\n",
    "44.3866666667</DIV></pre>"
   ]
  },
  {
   "cell_type": "markdown",
   "metadata": {},
   "source": [
    " "
   ]
  }
 ],
 "metadata": {},
 "nbformat": 4,
 "nbformat_minor": 4
}
