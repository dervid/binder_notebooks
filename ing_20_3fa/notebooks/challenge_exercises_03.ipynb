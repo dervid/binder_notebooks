{
 "cells": [
  {
   "cell_type": "markdown",
   "metadata": {},
   "source": [
    "# Challenge Exercises, Session 3"
   ]
  },
  {
   "cell_type": "markdown",
   "metadata": {},
   "source": [
    "NOTE THAT the data files read from these exercises is located in the \"parent\" directory.  Thus any filename in these exercises should be preceded with <B>../</B>.  (If you create a script in the same directory as the data file, this would not be necessary.)"
   ]
  },
  {
   "cell_type": "markdown",
   "metadata": {},
   "source": [
    " "
   ]
  },
  {
   "cell_type": "markdown",
   "metadata": {},
   "source": [
    "EXERCISES RELATED TO Average Calculation from File"
   ]
  },
  {
   "cell_type": "markdown",
   "metadata": {},
   "source": [
    " "
   ]
  },
  {
   "cell_type": "markdown",
   "metadata": {},
   "source": [
    "<B>3.1:  open the FF\\_abbreviated.txt file, reading it line-by-line.  print each line"
   ]
  },
  {
   "cell_type": "code",
   "execution_count": null,
   "metadata": {},
   "outputs": [],
   "source": []
  },
  {
   "cell_type": "markdown",
   "metadata": {},
   "source": [
    "<U>Expected Output</U>:  "
   ]
  },
  {
   "cell_type": "markdown",
   "metadata": {},
   "source": [
    "<pre style=\"margin: 0; padding=0\"><DIV style=\"font-family: Courier; border: 1px solid #dbdbdb; padding: 7px\">19260701    0.09    0.22    0.30   0.009\n",
    "\n",
    "19260702    0.44    0.35    0.08   0.009\n",
    "\n",
    "19260706    0.17    0.26    0.37   0.009\n",
    "\n",
    "...intermediate output omitted...\n",
    "\n",
    "19280301    0.23    0.04    0.12   0.011\n",
    "\n",
    "19280302    0.07    0.01    0.66   0.011\n",
    "\n",
    "19280303    0.49    0.01    0.64   0.011</DIV></pre>"
   ]
  },
  {
   "cell_type": "markdown",
   "metadata": {},
   "source": [
    " "
   ]
  },
  {
   "cell_type": "markdown",
   "metadata": {},
   "source": [
    "<B>3.2:  building on the previous program, set up a counter that is set to 0 before the loop begins, and counts 1 for each line in the file.  print each line in the file, and at the end report the count."
   ]
  },
  {
   "cell_type": "code",
   "execution_count": null,
   "metadata": {},
   "outputs": [],
   "source": []
  },
  {
   "cell_type": "markdown",
   "metadata": {},
   "source": [
    "<U>Expected Output</U>:  "
   ]
  },
  {
   "cell_type": "markdown",
   "metadata": {},
   "source": [
    "<pre style=\"margin: 0; padding=0\"><DIV style=\"font-family: Courier; border: 1px solid #dbdbdb; padding: 7px\">\n",
    "19260701    0.09    0.22    0.30   0.009\n",
    "\n",
    "19260702    0.44    0.35    0.08   0.009\n",
    "\n",
    "19260706    0.17    0.26    0.37   0.009\n",
    "\n",
    "...intermediate output omitted...\n",
    "\n",
    "19280301    0.23    0.04    0.12   0.011\n",
    "\n",
    "19280302    0.07    0.01    0.66   0.011\n",
    "\n",
    "19280303    0.49    0.01    0.64   0.011\n",
    "\n",
    "26</DIV></pre>"
   ]
  },
  {
   "cell_type": "markdown",
   "metadata": {},
   "source": [
    " "
   ]
  },
  {
   "cell_type": "markdown",
   "metadata": {},
   "source": [
    "<B>3.3:  building on the previous program, print the value of the counter in front of each line, so that each line is printed with its line number.  (To print the number alongside of the line, you can use a format string, concatenation with str(), or a comma, as in"
   ]
  },
  {
   "cell_type": "markdown",
   "metadata": {},
   "source": [
    "<pre style=\"margin: 0; padding=0\"><DIV style=\"font-family: Courier; border: 1px solid #dbdbdb; padding: 7px\">print(count, line)</DIV></pre>"
   ]
  },
  {
   "cell_type": "code",
   "execution_count": null,
   "metadata": {},
   "outputs": [],
   "source": []
  },
  {
   "cell_type": "markdown",
   "metadata": {},
   "source": [
    "<U>Expected Output</U>:  "
   ]
  },
  {
   "cell_type": "markdown",
   "metadata": {},
   "source": [
    "<pre style=\"margin: 0; padding=0\"><DIV style=\"font-family: Courier; border: 1px solid #dbdbdb; padding: 7px\">1 19260701    0.09    0.22    0.30   0.009\n",
    "\n",
    "2 19260702    0.44    0.35    0.08   0.009\n",
    "\n",
    "3 19260706    0.17    0.26    0.37   0.009\n",
    "\n",
    "...intermediate output omitted...\n",
    "\n",
    "24 19280301    0.23    0.04    0.12   0.011\n",
    "\n",
    "25 19280302    0.07    0.01    0.66   0.011\n",
    "\n",
    "26 19280303    0.49    0.01    0.64   0.011\n",
    "\n",
    "26</DIV></pre>"
   ]
  },
  {
   "cell_type": "markdown",
   "metadata": {},
   "source": [
    " "
   ]
  },
  {
   "cell_type": "markdown",
   "metadata": {},
   "source": [
    "<B>3.4:  new program:  open the FF\\_abbreviated file, loop through it line-by-line and print just the year from each line, so you see just a 4-digit year from each line.  (hint:  take a 4-digit slice of each line and instead of printing the line, print the slice)"
   ]
  },
  {
   "cell_type": "code",
   "execution_count": null,
   "metadata": {},
   "outputs": [],
   "source": []
  },
  {
   "cell_type": "markdown",
   "metadata": {},
   "source": [
    "<U>Expected Output</U>:  "
   ]
  },
  {
   "cell_type": "markdown",
   "metadata": {},
   "source": [
    "<pre style=\"margin: 0; padding=0\"><DIV style=\"font-family: Courier; border: 1px solid #dbdbdb; padding: 7px\">1926\n",
    "1926\n",
    "1926\n",
    "1926\n",
    "1926\n",
    "1926\n",
    "1926\n",
    "1926\n",
    "1926\n",
    "1927\n",
    "1927\n",
    "1927\n",
    "1927\n",
    "1927\n",
    "1927\n",
    "1927\n",
    "1927\n",
    "1928\n",
    "1928\n",
    "1928\n",
    "1928\n",
    "1928\n",
    "1928\n",
    "1928\n",
    "1928\n",
    "1928</DIV></pre>"
   ]
  },
  {
   "cell_type": "markdown",
   "metadata": {},
   "source": [
    " "
   ]
  },
  {
   "cell_type": "markdown",
   "metadata": {},
   "source": [
    "<B>3.5:  building on the previous program, before the 'for' loop set a string variable to '1928'.  Inside the loop, comparing the string to the slice, print out only those lines where the strings are equivalent (i.e., the year for the line is '1928').  Keep in mind that the == operator works with numbers as well as strings"
   ]
  },
  {
   "cell_type": "code",
   "execution_count": null,
   "metadata": {},
   "outputs": [],
   "source": []
  },
  {
   "cell_type": "markdown",
   "metadata": {},
   "source": [
    "<U>Expected Output</U>:  "
   ]
  },
  {
   "cell_type": "markdown",
   "metadata": {},
   "source": [
    "<pre style=\"margin: 0; padding=0\"><DIV style=\"font-family: Courier; border: 1px solid #dbdbdb; padding: 7px\">19280103    0.43    0.90    0.20   0.010\n",
    "\n",
    "19280104    0.14    0.47    0.01   0.010\n",
    "\n",
    "19280105    0.71    0.14    0.15   0.010\n",
    "\n",
    "19280201    0.25    0.56    0.71   0.014\n",
    "\n",
    "19280202    0.44    0.15    0.18   0.014\n",
    "\n",
    "19280203    1.12    0.48    0.42   0.014\n",
    "\n",
    "19280301    0.23    0.04    0.12   0.011\n",
    "\n",
    "19280302    0.07    0.01    0.66   0.011\n",
    "\n",
    "19280303    0.49    0.01    0.64   0.011</DIV></pre>"
   ]
  },
  {
   "cell_type": "markdown",
   "metadata": {},
   "source": [
    " "
   ]
  },
  {
   "cell_type": "markdown",
   "metadata": {},
   "source": [
    "<B>3.6:  building on the previous program, add the counter from one of the earlier programs and this time count just the lines that match the year '1928'.  print the total count at the end.  (Hint:  make sure that the counter is incremented inside the if block, i.e., only if the year matches.)  "
   ]
  },
  {
   "cell_type": "code",
   "execution_count": null,
   "metadata": {},
   "outputs": [],
   "source": []
  },
  {
   "cell_type": "markdown",
   "metadata": {},
   "source": [
    "<U>Expected Output</U>:  "
   ]
  },
  {
   "cell_type": "markdown",
   "metadata": {},
   "source": [
    "<pre style=\"margin: 0; padding=0\"><DIV style=\"font-family: Courier; border: 1px solid #dbdbdb; padding: 7px\">19280103    0.43    0.90    0.20   0.010\n",
    "\n",
    "19280104    0.14    0.47    0.01   0.010\n",
    "\n",
    "19280105    0.71    0.14    0.15   0.010\n",
    "\n",
    "19280201    0.25    0.56    0.71   0.014\n",
    "\n",
    "19280202    0.44    0.15    0.18   0.014\n",
    "\n",
    "19280203    1.12    0.48    0.42   0.014\n",
    "\n",
    "19280301    0.23    0.04    0.12   0.011\n",
    "\n",
    "19280302    0.07    0.01    0.66   0.011\n",
    "\n",
    "19280303    0.49    0.01    0.64   0.011\n",
    "\n",
    "9</DIV></pre>"
   ]
  },
  {
   "cell_type": "markdown",
   "metadata": {},
   "source": [
    " "
   ]
  },
  {
   "cell_type": "markdown",
   "metadata": {},
   "source": [
    "<B>3.7:  new program:  open the FF\\_abbreviated file and looping line-by-line, split each line so the individual columns are separated into a list. print the list from each line.  (Hint:  the string split() method without any argument splits on whitespace.)  "
   ]
  },
  {
   "cell_type": "code",
   "execution_count": null,
   "metadata": {},
   "outputs": [],
   "source": []
  },
  {
   "cell_type": "markdown",
   "metadata": {},
   "source": [
    "<U>Expected Output</U>:  "
   ]
  },
  {
   "cell_type": "markdown",
   "metadata": {},
   "source": [
    "<pre style=\"margin: 0; padding=0\"><DIV style=\"font-family: Courier; border: 1px solid #dbdbdb; padding: 7px\">['19260701', '0.09', '0.22', '0.30', '0.009']\n",
    "['19260702', '0.44', '0.35', '0.08', '0.009']\n",
    "['19260706', '0.17', '0.26', '0.37', '0.009']\n",
    "['19260802', '0.82', '0.21', '0.01', '0.010']\n",
    "['19260803', '0.46', '0.39', '0.38', '0.010']\n",
    "['19260804', '0.35', '0.15', '0.32', '0.010']\n",
    "['19260901', '0.54', '0.41', '0.08', '0.010']\n",
    "['19260902', '0.04', '0.06', '0.23', '0.010']\n",
    "['19260903', '0.48', '0.34', '0.09', '0.010']\n",
    "['19270103', '0.97', '0.21', '0.24', '0.010']\n",
    "['19270104', '0.30', '0.15', '0.73', '0.010']\n",
    "['19270201', '0.00', '0.56', '1.09', '0.012']\n",
    "['19270202', '0.72', '0.23', '0.18', '0.012']\n",
    "['19270203', '0.17', '0.22', '0.08', '0.012']\n",
    "['19270301', '0.38', '0.07', '0.57', '0.011']\n",
    "['19270302', '1.12', '0.10', '0.22', '0.011']\n",
    "['19270303', '1.01', '0.11', '0.04', '0.011']\n",
    "['19280103', '0.43', '0.90', '0.20', '0.010']\n",
    "['19280104', '0.14', '0.47', '0.01', '0.010']\n",
    "['19280105', '0.71', '0.14', '0.15', '0.010']\n",
    "['19280201', '0.25', '0.56', '0.71', '0.014']\n",
    "['19280202', '0.44', '0.15', '0.18', '0.014']\n",
    "['19280203', '1.12', '0.48', '0.42', '0.014']\n",
    "['19280301', '0.23', '0.04', '0.12', '0.011']\n",
    "['19280302', '0.07', '0.01', '0.66', '0.011']\n",
    "['19280303', '0.49', '0.01', '0.64', '0.011']</DIV></pre>"
   ]
  },
  {
   "cell_type": "markdown",
   "metadata": {},
   "source": [
    " "
   ]
  },
  {
   "cell_type": "markdown",
   "metadata": {},
   "source": [
    "<B>3.8:  building on the previous program, instead of printing the entire list from each line, print just the 1st column (the year-month-day) of each line.  (Hint:  since the string split() method returns a list, you can easily print just one column from that list by using a subscript (i.e., index number inside square brackets after the list name).  "
   ]
  },
  {
   "cell_type": "code",
   "execution_count": null,
   "metadata": {},
   "outputs": [],
   "source": []
  },
  {
   "cell_type": "markdown",
   "metadata": {},
   "source": [
    "<U>Expected Output</U>:  "
   ]
  },
  {
   "cell_type": "markdown",
   "metadata": {},
   "source": [
    "<pre style=\"margin: 0; padding=0\"><DIV style=\"font-family: Courier; border: 1px solid #dbdbdb; padding: 7px\">19260701\n",
    "19260702\n",
    "19260706\n",
    "19260802\n",
    "19260803\n",
    "19260804\n",
    "19260901\n",
    "19260902\n",
    "19260903\n",
    "19270103\n",
    "19270104\n",
    "19270201\n",
    "19270202\n",
    "19270203\n",
    "19270301\n",
    "19270302\n",
    "19270303\n",
    "19280103\n",
    "19280104\n",
    "19280105\n",
    "19280201\n",
    "19280202\n",
    "19280203\n",
    "19280301\n",
    "19280302\n",
    "19280303</DIV></pre>"
   ]
  },
  {
   "cell_type": "markdown",
   "metadata": {},
   "source": [
    " "
   ]
  },
  {
   "cell_type": "markdown",
   "metadata": {},
   "source": [
    "<B>3.9:  adjusting the previous program, print the 2nd column from each line instead of the 1st column.  This should print the leftmost column of floats.  "
   ]
  },
  {
   "cell_type": "code",
   "execution_count": null,
   "metadata": {},
   "outputs": [],
   "source": []
  },
  {
   "cell_type": "markdown",
   "metadata": {},
   "source": [
    "<U>Expected Output</U>:  "
   ]
  },
  {
   "cell_type": "markdown",
   "metadata": {},
   "source": [
    "<pre style=\"margin: 0; padding=0\"><DIV style=\"font-family: Courier; border: 1px solid #dbdbdb; padding: 7px\">0.09\n",
    "0.44\n",
    "0.17\n",
    "0.82\n",
    "0.46\n",
    "0.35\n",
    "0.54\n",
    "0.04\n",
    "0.48\n",
    "0.97\n",
    "0.30\n",
    "0.00\n",
    "0.72\n",
    "0.17\n",
    "0.38\n",
    "1.12\n",
    "1.01\n",
    "0.43\n",
    "0.14\n",
    "0.71\n",
    "0.25\n",
    "0.44\n",
    "1.12\n",
    "0.23\n",
    "0.07\n",
    "0.49</DIV></pre>"
   ]
  },
  {
   "cell_type": "markdown",
   "metadata": {},
   "source": [
    " "
   ]
  },
  {
   "cell_type": "markdown",
   "metadata": {},
   "source": [
    "<B>3.10:  building on the previous program, now add the 'year selection' functionality from earlier and print only the 2nd column values whose lines match the year '1928'.  "
   ]
  },
  {
   "cell_type": "markdown",
   "metadata": {},
   "source": [
    "Note on efficiency:  when adding in this functionality, you should make the line splitting and column selecting happen only if the year from the line is 1928.  This means that the loop block will start with the slicing, then the 'if' test asking if the slice is equal to 1928, then inside that 'if', splitting the line, selecting the 2nd column, and printing the 2nd column value.  The reason we want to follow this order is because we want the program to do as little work as possible:  there's no point in splitting the line or selecting the value if the year doesn't match -- we'll be ignoring those lines anyway.\n"
   ]
  },
  {
   "cell_type": "code",
   "execution_count": null,
   "metadata": {},
   "outputs": [],
   "source": []
  },
  {
   "cell_type": "markdown",
   "metadata": {},
   "source": [
    "<U>Expected Output</U>:  "
   ]
  },
  {
   "cell_type": "markdown",
   "metadata": {},
   "source": [
    "<pre style=\"margin: 0; padding=0\"><DIV style=\"font-family: Courier; border: 1px solid #dbdbdb; padding: 7px\">0.43\n",
    "0.14\n",
    "0.71\n",
    "0.25\n",
    "0.44\n",
    "1.12\n",
    "0.23\n",
    "0.07\n",
    "0.49</DIV></pre>"
   ]
  },
  {
   "cell_type": "markdown",
   "metadata": {},
   "source": [
    " "
   ]
  },
  {
   "cell_type": "markdown",
   "metadata": {},
   "source": [
    "<B>3.11:  building on the previous program, convert each of the Mkt-RF (2nd column) values to a float, and multiply that value * 2.  Print the column value and then the doubled value on the same line (using a comma between them in a print statement is probably the easiest way to print a number and string together)."
   ]
  },
  {
   "cell_type": "code",
   "execution_count": null,
   "metadata": {},
   "outputs": [],
   "source": []
  },
  {
   "cell_type": "markdown",
   "metadata": {},
   "source": [
    "<U>Expected Output</U>:  "
   ]
  },
  {
   "cell_type": "markdown",
   "metadata": {},
   "source": [
    "<pre style=\"margin: 0; padding=0\"><DIV style=\"font-family: Courier; border: 1px solid #dbdbdb; padding: 7px\">0.43 0.86\n",
    "0.14 0.28\n",
    "0.71 1.42\n",
    "0.25 0.5\n",
    "0.44 0.88\n",
    "1.12 2.24\n",
    "0.23 0.46\n",
    "0.07 0.14\n",
    "0.49 0.98</DIV></pre>"
   ]
  },
  {
   "cell_type": "markdown",
   "metadata": {},
   "source": [
    " "
   ]
  },
  {
   "cell_type": "markdown",
   "metadata": {},
   "source": [
    "<B>3.12:  building on the previous program, add in the counter, but increment the counter only if the year is 1928, so you're only counting the 1928 lines.  print each count number, the float value, and the doubled float value on the same line."
   ]
  },
  {
   "cell_type": "code",
   "execution_count": null,
   "metadata": {},
   "outputs": [],
   "source": []
  },
  {
   "cell_type": "markdown",
   "metadata": {},
   "source": [
    "<U>Expected Output</U>:  "
   ]
  },
  {
   "cell_type": "markdown",
   "metadata": {},
   "source": [
    "<pre style=\"margin: 0; padding=0\"><DIV style=\"font-family: Courier; border: 1px solid #dbdbdb; padding: 7px\">1 0.43 0.86\n",
    "2 0.14 0.28\n",
    "3 0.71 1.42\n",
    "4 0.25 0.5\n",
    "5 0.44 0.88\n",
    "6 1.12 2.24\n",
    "7 0.23 0.46\n",
    "8 0.07 0.14\n",
    "9 0.49 0.98</DIV></pre>"
   ]
  },
  {
   "cell_type": "markdown",
   "metadata": {},
   "source": [
    " "
   ]
  },
  {
   "cell_type": "markdown",
   "metadata": {},
   "source": [
    "<B>3.13:  start a new program based on the logic of the previous one, to build a sum of values:  before the loop begins, initialize a \"floatsum\" variable to 0.  then looping through the data, if the year is 1928, select out the 2nd column (the 1st column of float values), convert it to a float, and add it to the floatsum variable.  report the sum at the end."
   ]
  },
  {
   "cell_type": "code",
   "execution_count": null,
   "metadata": {},
   "outputs": [],
   "source": []
  },
  {
   "cell_type": "markdown",
   "metadata": {},
   "source": [
    "<U>Expected Output</U>:  "
   ]
  },
  {
   "cell_type": "markdown",
   "metadata": {},
   "source": [
    "<pre style=\"margin: 0; padding=0\"><DIV style=\"font-family: Courier; border: 1px solid #dbdbdb; padding: 7px\">3.88</DIV></pre>"
   ]
  },
  {
   "cell_type": "markdown",
   "metadata": {},
   "source": [
    " "
   ]
  }
 ],
 "metadata": {},
 "nbformat": 4,
 "nbformat_minor": 4
}
