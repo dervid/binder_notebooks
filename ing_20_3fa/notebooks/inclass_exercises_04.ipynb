{
 "cells": [
  {
   "cell_type": "markdown",
   "metadata": {},
   "source": [
    "# In-Class Exercises, Session 4"
   ]
  },
  {
   "cell_type": "markdown",
   "metadata": {},
   "source": [
    "PLEASE REFER to pythonreference.com for syntax to follow in coding these Exercises"
   ]
  },
  {
   "cell_type": "markdown",
   "metadata": {},
   "source": [
    " "
   ]
  },
  {
   "cell_type": "markdown",
   "metadata": {},
   "source": [
    "NOTE THAT the data files read from these exercises is located in the \"parent\" directory.  Thus any filename in these exercises should be preceded with <B>../</B>.  (If you create a script in the same directory as the data file, this would not be necessary.)"
   ]
  },
  {
   "cell_type": "markdown",
   "metadata": {},
   "source": [
    " "
   ]
  },
  {
   "cell_type": "markdown",
   "metadata": {},
   "source": [
    "COMMAND LINE; FILES AND DIRECTORIES"
   ]
  },
  {
   "cell_type": "markdown",
   "metadata": {},
   "source": [
    "<B>4.1:  Open a Anaconda Prompt (Windows) or a Terminal window (Mac).  (To reach the Anaconda prompt, do a search for <B>Anaconda</B> and click <B>Anaconda Prompt</B>.)"
   ]
  },
  {
   "cell_type": "markdown",
   "metadata": {},
   "source": [
    "<UL>\n",
    "  <LI> (Mac only) Use <B>pwd</B> to see the \"present working directory\"</LI>\n",
    "  <LI> Use <B>ls</B> (Mac) or <B>dir</B> (Windows) to see a listing of the files and directories in this directory</LI>\n",
    "  <LI> Use <B>cd</B> to move into a directory you see listed in the present working directory (for example <B>cd Downloads</B>).  Use <B>pwd</B> (Mac only) to see your changed location (Windows prompt shows the location automatically).</LI>\n",
    "  <LI> Use <B>cd ..</B> to move into the \"parent\" directory of the one you are in (this will take you back to the parent of <B>Downlaods</B>.  Use <B>pwd</B> (Mac only) to see your changed location.</LI>\n",
    "  <LI> Use <B>cd /Users/[yourhomedir]/Desktop</B> to move into the <B>Desktop</B> directory.  Use <B>pwd</B> (Mac only) to see your changed location.</LI>\n",
    "  <LI> Use <B>cd ../Downloads</B> to move from the <B>Desktop</B> directory to the <B>Downloads</B> directory.  Use <B>pwd</B> (Mac only) to see your changed location.</LI>\n",
    "  <LI> Use <B>cd</B> (Mac) or <B>cd %HOMEPATH%</B> (Windows) to move back into the home directory.  Use <B>pwd</B> (Mac only) to see your changed location.</LI>\n",
    "</UL>"
   ]
  },
  {
   "cell_type": "markdown",
   "metadata": {},
   "source": [
    " "
   ]
  },
  {
   "cell_type": "markdown",
   "metadata": {},
   "source": [
    "LISTS"
   ]
  },
  {
   "cell_type": "markdown",
   "metadata": {},
   "source": [
    "<B>4.2:  <B><U>List operations</U>.</B>  "
   ]
  },
  {
   "cell_type": "markdown",
   "metadata": {},
   "source": [
    "Initialize a list of 5 strings.  Then perform the below operations.\n"
   ]
  },
  {
   "cell_type": "code",
   "execution_count": null,
   "metadata": {},
   "outputs": [],
   "source": [
    "# initialize your list of 5 items\n",
    "\n",
    "\n",
    "\n",
    "# access and print the 2nd item (use list subscript)\n",
    "\n",
    "\n",
    "\n",
    "# access and print the last item (use negative subscript)\n",
    "\n",
    "\n",
    "\n",
    "# slice the fist 3 items from the list (use list slice)\n",
    "\n",
    "\n",
    "\n",
    "# slice the last 3 items from the list (leave off the 'upper bound')\n",
    "\n",
    "\n",
    "\n",
    "print()\n",
    "\n",
    "# loop through the list and print each item individually (use 'for')\n",
    "\n",
    "\n"
   ]
  },
  {
   "cell_type": "markdown",
   "metadata": {},
   "source": [
    " "
   ]
  },
  {
   "cell_type": "markdown",
   "metadata": {},
   "source": [
    "<B>4.3:  <B><U>List with summary functions</U>.</B>  "
   ]
  },
  {
   "cell_type": "code",
   "execution_count": null,
   "metadata": {},
   "outputs": [],
   "source": [
    "x = [3.3, 1.1, 4.4, 2.2]\n",
    "\n",
    "\n",
    "# in one statement, show count of items in a list (use len())\n",
    "\n",
    "\n",
    "\n",
    "# sum up values in the list without looping (use sum())\n",
    "\n",
    "\n",
    "\n",
    "# show maximum value in the list (use max())\n",
    "\n",
    "\n",
    "\n",
    "# show minimum value in the list (use min())\n",
    "\n",
    "\n",
    "\n",
    "# show list items sorted lowest to highest (use sorted())\n",
    "\n",
    "\n",
    "\n",
    "# show list items sorted highest to lowest (add reverse=True)\n",
    "\n",
    "\n",
    "print()\n",
    "# in two statements, append two items to your list, then print the entire list to show that the two items have been added.\n"
   ]
  },
  {
   "cell_type": "markdown",
   "metadata": {},
   "source": [
    " "
   ]
  },
  {
   "cell_type": "markdown",
   "metadata": {},
   "source": [
    "LISTS - BUILDING FROM FILE"
   ]
  },
  {
   "cell_type": "markdown",
   "metadata": {},
   "source": [
    "<B>4.4:  <B><U>Build a list of items from a CSV file</U>.</B>  "
   ]
  },
  {
   "cell_type": "markdown",
   "metadata": {},
   "source": [
    "Reading the file <B>revenue.csv</B>, and recalling how we isolated an item from each line, build up a list of the float values in that file.\n"
   ]
  },
  {
   "cell_type": "code",
   "execution_count": null,
   "metadata": {},
   "outputs": [],
   "source": [
    "fh = open('../revenue.csv')\n",
    "\n",
    "fvals = []\n",
    "\n",
    "for line in fh:\n",
    "    items = line.split(',')\n",
    "    print(items)\n",
    "\n",
    "\n",
    "fh.close()"
   ]
  },
  {
   "cell_type": "markdown",
   "metadata": {},
   "source": [
    " "
   ]
  },
  {
   "cell_type": "markdown",
   "metadata": {},
   "source": [
    "TUPLES - LIKE A LIST BUT READ-ONLY"
   ]
  },
  {
   "cell_type": "markdown",
   "metadata": {},
   "source": [
    "<B>4.5:  <B><U>Compare a tuple to a list</U>.</B>  "
   ]
  },
  {
   "cell_type": "markdown",
   "metadata": {},
   "source": [
    "Go back through the previous list exercises and change the list to a tuple (use parentheses instead of square brackets).  See what works and what doesn't"
   ]
  },
  {
   "cell_type": "markdown",
   "metadata": {},
   "source": [
    " "
   ]
  },
  {
   "cell_type": "markdown",
   "metadata": {},
   "source": [
    "SETS - BUILDING AND READING"
   ]
  },
  {
   "cell_type": "markdown",
   "metadata": {},
   "source": [
    "<B>4.6:  <B><U>Initialize a set</U>.</B>  "
   ]
  },
  {
   "cell_type": "markdown",
   "metadata": {},
   "source": [
    "Initialize a new set of at least 5 string and numbers.  Use .add() to add one new, and one duplicated value to the set.  Print the set to see its contents.\n"
   ]
  },
  {
   "cell_type": "code",
   "execution_count": null,
   "metadata": {},
   "outputs": [],
   "source": []
  },
  {
   "cell_type": "markdown",
   "metadata": {},
   "source": [
    "After executing, execute several more times, making note if the output changes."
   ]
  },
  {
   "cell_type": "markdown",
   "metadata": {},
   "source": [
    " "
   ]
  },
  {
   "cell_type": "markdown",
   "metadata": {},
   "source": [
    "<B>4.7:  <B><U>Check for item membership in a set</U>.</B>  "
   ]
  },
  {
   "cell_type": "markdown",
   "metadata": {},
   "source": [
    "Check to see if the user's input value is in the set.  If it is print 'found it', otherwise print 'not found'\n"
   ]
  },
  {
   "cell_type": "code",
   "execution_count": null,
   "metadata": {},
   "outputs": [],
   "source": [
    "# set of 4 items\n",
    "x = {'a', 'b', 'c', 'd'}\n",
    "\n",
    "\n",
    "item = input('check for an item:  ')\n",
    "\n",
    "# your code here"
   ]
  },
  {
   "cell_type": "markdown",
   "metadata": {},
   "source": [
    " "
   ]
  },
  {
   "cell_type": "markdown",
   "metadata": {},
   "source": [
    "SETS - BUILDING FROM FILE"
   ]
  },
  {
   "cell_type": "markdown",
   "metadata": {},
   "source": [
    "<B>4.8:  <B><U>Build a set of items from a CSV file</U>.</B>  "
   ]
  },
  {
   "cell_type": "markdown",
   "metadata": {},
   "source": [
    "Loop through the file revenue.csv and create a set of states drawn from the 2nd column of the file.\n"
   ]
  },
  {
   "cell_type": "code",
   "execution_count": null,
   "metadata": {},
   "outputs": [],
   "source": [
    "fh = open('../revenue.csv')\n",
    "\n",
    "states = set()       # the only way to initialize an empty set\n",
    "\n",
    "for line in fh:\n",
    "    items = line.split(',')\n",
    "\n",
    "\n",
    "\n",
    "fh.close()\n",
    "\n",
    "print(states)"
   ]
  },
  {
   "cell_type": "markdown",
   "metadata": {},
   "source": [
    " "
   ]
  },
  {
   "cell_type": "markdown",
   "metadata": {},
   "source": [
    "\"WHOLE FILE\" PARSING"
   ]
  },
  {
   "cell_type": "markdown",
   "metadata": {},
   "source": [
    "<B>4.9:  <B><U>Splitting a string into lines with .splitlines()</U></B>.  "
   ]
  },
  {
   "cell_type": "markdown",
   "metadata": {},
   "source": [
    "Perform the operations below.\n",
    "\n"
   ]
  },
  {
   "cell_type": "code",
   "execution_count": null,
   "metadata": {},
   "outputs": [],
   "source": [
    "# create a multiline string using triple quotes\n",
    "# split the string into a list of string lines (use .splitlines())\n",
    "\n",
    "\n",
    "\n",
    "\n",
    "\n",
    "print()\n",
    "\n",
    "# read file 'pyku.txt' as a single string\n",
    "# split the string into a list of strings lines as in previous\n",
    "filename = '../pyku.txt'\n",
    "\n",
    "fh = open(filename)\n",
    "\n"
   ]
  },
  {
   "cell_type": "markdown",
   "metadata": {},
   "source": [
    " "
   ]
  },
  {
   "cell_type": "markdown",
   "metadata": {},
   "source": [
    "<B>4.10:  <B><U>Split a file as a list of words</U>.</B>  "
   ]
  },
  {
   "cell_type": "markdown",
   "metadata": {},
   "source": [
    "Read 'pyku.txt' as a single string; use .split() to split into words.\n",
    "\n"
   ]
  },
  {
   "cell_type": "code",
   "execution_count": null,
   "metadata": {},
   "outputs": [],
   "source": [
    "filename = '../pyku.txt'\n",
    "\n",
    "fh = open(filename)\n",
    "\n"
   ]
  },
  {
   "cell_type": "markdown",
   "metadata": {},
   "source": [
    " "
   ]
  },
  {
   "cell_type": "markdown",
   "metadata": {},
   "source": [
    "<B>4.11:  <B><U>Read a file as a list of string lines</U>.</B>  "
   ]
  },
  {
   "cell_type": "markdown",
   "metadata": {},
   "source": [
    "Read 'student\\_db.txt' as a list of strings (use .readlines()); print the list.  Then use a list slice to select only the data lines (2nd through last lines) of the file.\n"
   ]
  },
  {
   "cell_type": "code",
   "execution_count": null,
   "metadata": {},
   "outputs": [],
   "source": [
    "filename = '../revenue.csv'\n",
    "\n",
    "fh = open(filename)\n",
    "\n"
   ]
  },
  {
   "cell_type": "markdown",
   "metadata": {},
   "source": [
    " "
   ]
  }
 ],
 "metadata": {},
 "nbformat": 4,
 "nbformat_minor": 4
}
